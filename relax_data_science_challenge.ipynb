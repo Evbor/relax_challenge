{
 "cells": [
  {
   "cell_type": "markdown",
   "metadata": {},
   "source": [
    "# Understanding User Adoption Trends"
   ]
  },
  {
   "cell_type": "markdown",
   "metadata": {},
   "source": [
    "The goal of this project is investigate what types of factors are help predict user adoption for Relax's software product. User adoption is defined as a user who as logged into the product on three seperate days in at least one seven-day period, and we are give all user login timestamps, as well as a some quantities that Relax records about their users to investigate."
   ]
  },
  {
   "cell_type": "markdown",
   "metadata": {},
   "source": [
    "## Exploratory Data Analysis"
   ]
  },
  {
   "cell_type": "code",
   "execution_count": 1,
   "metadata": {},
   "outputs": [],
   "source": [
    "import pickle\n",
    "import numpy as np\n",
    "import pandas as pd\n",
    "import matplotlib.pyplot as plt"
   ]
  },
  {
   "cell_type": "code",
   "execution_count": 2,
   "metadata": {},
   "outputs": [],
   "source": [
    "df = pd.read_csv('takehome_users.csv', encoding='cp1252', parse_dates=['creation_time'])"
   ]
  },
  {
   "cell_type": "code",
   "execution_count": 3,
   "metadata": {
    "scrolled": true
   },
   "outputs": [
    {
     "data": {
      "text/html": [
       "<div>\n",
       "<style scoped>\n",
       "    .dataframe tbody tr th:only-of-type {\n",
       "        vertical-align: middle;\n",
       "    }\n",
       "\n",
       "    .dataframe tbody tr th {\n",
       "        vertical-align: top;\n",
       "    }\n",
       "\n",
       "    .dataframe thead th {\n",
       "        text-align: right;\n",
       "    }\n",
       "</style>\n",
       "<table border=\"1\" class=\"dataframe\">\n",
       "  <thead>\n",
       "    <tr style=\"text-align: right;\">\n",
       "      <th></th>\n",
       "      <th>object_id</th>\n",
       "      <th>creation_time</th>\n",
       "      <th>name</th>\n",
       "      <th>email</th>\n",
       "      <th>creation_source</th>\n",
       "      <th>last_session_creation_time</th>\n",
       "      <th>opted_in_to_mailing_list</th>\n",
       "      <th>enabled_for_marketing_drip</th>\n",
       "      <th>org_id</th>\n",
       "      <th>invited_by_user_id</th>\n",
       "    </tr>\n",
       "  </thead>\n",
       "  <tbody>\n",
       "    <tr>\n",
       "      <th>0</th>\n",
       "      <td>1</td>\n",
       "      <td>2014-04-22 03:53:30</td>\n",
       "      <td>Clausen August</td>\n",
       "      <td>AugustCClausen@yahoo.com</td>\n",
       "      <td>GUEST_INVITE</td>\n",
       "      <td>1.398139e+09</td>\n",
       "      <td>1</td>\n",
       "      <td>0</td>\n",
       "      <td>11</td>\n",
       "      <td>10803.0</td>\n",
       "    </tr>\n",
       "    <tr>\n",
       "      <th>1</th>\n",
       "      <td>2</td>\n",
       "      <td>2013-11-15 03:45:04</td>\n",
       "      <td>Poole Matthew</td>\n",
       "      <td>MatthewPoole@gustr.com</td>\n",
       "      <td>ORG_INVITE</td>\n",
       "      <td>1.396238e+09</td>\n",
       "      <td>0</td>\n",
       "      <td>0</td>\n",
       "      <td>1</td>\n",
       "      <td>316.0</td>\n",
       "    </tr>\n",
       "    <tr>\n",
       "      <th>2</th>\n",
       "      <td>3</td>\n",
       "      <td>2013-03-19 23:14:52</td>\n",
       "      <td>Bottrill Mitchell</td>\n",
       "      <td>MitchellBottrill@gustr.com</td>\n",
       "      <td>ORG_INVITE</td>\n",
       "      <td>1.363735e+09</td>\n",
       "      <td>0</td>\n",
       "      <td>0</td>\n",
       "      <td>94</td>\n",
       "      <td>1525.0</td>\n",
       "    </tr>\n",
       "    <tr>\n",
       "      <th>3</th>\n",
       "      <td>4</td>\n",
       "      <td>2013-05-21 08:09:28</td>\n",
       "      <td>Clausen Nicklas</td>\n",
       "      <td>NicklasSClausen@yahoo.com</td>\n",
       "      <td>GUEST_INVITE</td>\n",
       "      <td>1.369210e+09</td>\n",
       "      <td>0</td>\n",
       "      <td>0</td>\n",
       "      <td>1</td>\n",
       "      <td>5151.0</td>\n",
       "    </tr>\n",
       "    <tr>\n",
       "      <th>4</th>\n",
       "      <td>5</td>\n",
       "      <td>2013-01-17 10:14:20</td>\n",
       "      <td>Raw Grace</td>\n",
       "      <td>GraceRaw@yahoo.com</td>\n",
       "      <td>GUEST_INVITE</td>\n",
       "      <td>1.358850e+09</td>\n",
       "      <td>0</td>\n",
       "      <td>0</td>\n",
       "      <td>193</td>\n",
       "      <td>5240.0</td>\n",
       "    </tr>\n",
       "  </tbody>\n",
       "</table>\n",
       "</div>"
      ],
      "text/plain": [
       "   object_id       creation_time               name  \\\n",
       "0          1 2014-04-22 03:53:30     Clausen August   \n",
       "1          2 2013-11-15 03:45:04      Poole Matthew   \n",
       "2          3 2013-03-19 23:14:52  Bottrill Mitchell   \n",
       "3          4 2013-05-21 08:09:28    Clausen Nicklas   \n",
       "4          5 2013-01-17 10:14:20          Raw Grace   \n",
       "\n",
       "                        email creation_source  last_session_creation_time  \\\n",
       "0    AugustCClausen@yahoo.com    GUEST_INVITE                1.398139e+09   \n",
       "1      MatthewPoole@gustr.com      ORG_INVITE                1.396238e+09   \n",
       "2  MitchellBottrill@gustr.com      ORG_INVITE                1.363735e+09   \n",
       "3   NicklasSClausen@yahoo.com    GUEST_INVITE                1.369210e+09   \n",
       "4          GraceRaw@yahoo.com    GUEST_INVITE                1.358850e+09   \n",
       "\n",
       "   opted_in_to_mailing_list  enabled_for_marketing_drip  org_id  \\\n",
       "0                         1                           0      11   \n",
       "1                         0                           0       1   \n",
       "2                         0                           0      94   \n",
       "3                         0                           0       1   \n",
       "4                         0                           0     193   \n",
       "\n",
       "   invited_by_user_id  \n",
       "0             10803.0  \n",
       "1               316.0  \n",
       "2              1525.0  \n",
       "3              5151.0  \n",
       "4              5240.0  "
      ]
     },
     "execution_count": 3,
     "metadata": {},
     "output_type": "execute_result"
    }
   ],
   "source": [
    "df.head()"
   ]
  },
  {
   "cell_type": "code",
   "execution_count": 4,
   "metadata": {
    "scrolled": false
   },
   "outputs": [
    {
     "name": "stdout",
     "output_type": "stream",
     "text": [
      "<class 'pandas.core.frame.DataFrame'>\n",
      "RangeIndex: 12000 entries, 0 to 11999\n",
      "Data columns (total 10 columns):\n",
      "object_id                     12000 non-null int64\n",
      "creation_time                 12000 non-null datetime64[ns]\n",
      "name                          12000 non-null object\n",
      "email                         12000 non-null object\n",
      "creation_source               12000 non-null object\n",
      "last_session_creation_time    8823 non-null float64\n",
      "opted_in_to_mailing_list      12000 non-null int64\n",
      "enabled_for_marketing_drip    12000 non-null int64\n",
      "org_id                        12000 non-null int64\n",
      "invited_by_user_id            6417 non-null float64\n",
      "dtypes: datetime64[ns](1), float64(2), int64(4), object(3)\n",
      "memory usage: 937.6+ KB\n"
     ]
    }
   ],
   "source": [
    "df.info()"
   ]
  },
  {
   "cell_type": "code",
   "execution_count": 5,
   "metadata": {},
   "outputs": [],
   "source": [
    "df_logins = pd.read_csv('takehome_user_engagement.csv', parse_dates=['time_stamp'])"
   ]
  },
  {
   "cell_type": "code",
   "execution_count": 6,
   "metadata": {
    "scrolled": true
   },
   "outputs": [
    {
     "data": {
      "text/html": [
       "<div>\n",
       "<style scoped>\n",
       "    .dataframe tbody tr th:only-of-type {\n",
       "        vertical-align: middle;\n",
       "    }\n",
       "\n",
       "    .dataframe tbody tr th {\n",
       "        vertical-align: top;\n",
       "    }\n",
       "\n",
       "    .dataframe thead th {\n",
       "        text-align: right;\n",
       "    }\n",
       "</style>\n",
       "<table border=\"1\" class=\"dataframe\">\n",
       "  <thead>\n",
       "    <tr style=\"text-align: right;\">\n",
       "      <th></th>\n",
       "      <th>time_stamp</th>\n",
       "      <th>user_id</th>\n",
       "      <th>visited</th>\n",
       "    </tr>\n",
       "  </thead>\n",
       "  <tbody>\n",
       "    <tr>\n",
       "      <th>0</th>\n",
       "      <td>2014-04-22 03:53:30</td>\n",
       "      <td>1</td>\n",
       "      <td>1</td>\n",
       "    </tr>\n",
       "    <tr>\n",
       "      <th>1</th>\n",
       "      <td>2013-11-15 03:45:04</td>\n",
       "      <td>2</td>\n",
       "      <td>1</td>\n",
       "    </tr>\n",
       "    <tr>\n",
       "      <th>2</th>\n",
       "      <td>2013-11-29 03:45:04</td>\n",
       "      <td>2</td>\n",
       "      <td>1</td>\n",
       "    </tr>\n",
       "    <tr>\n",
       "      <th>3</th>\n",
       "      <td>2013-12-09 03:45:04</td>\n",
       "      <td>2</td>\n",
       "      <td>1</td>\n",
       "    </tr>\n",
       "    <tr>\n",
       "      <th>4</th>\n",
       "      <td>2013-12-25 03:45:04</td>\n",
       "      <td>2</td>\n",
       "      <td>1</td>\n",
       "    </tr>\n",
       "  </tbody>\n",
       "</table>\n",
       "</div>"
      ],
      "text/plain": [
       "           time_stamp  user_id  visited\n",
       "0 2014-04-22 03:53:30        1        1\n",
       "1 2013-11-15 03:45:04        2        1\n",
       "2 2013-11-29 03:45:04        2        1\n",
       "3 2013-12-09 03:45:04        2        1\n",
       "4 2013-12-25 03:45:04        2        1"
      ]
     },
     "execution_count": 6,
     "metadata": {},
     "output_type": "execute_result"
    }
   ],
   "source": [
    "df_logins.head()"
   ]
  },
  {
   "cell_type": "code",
   "execution_count": 7,
   "metadata": {
    "scrolled": true
   },
   "outputs": [
    {
     "name": "stdout",
     "output_type": "stream",
     "text": [
      "<class 'pandas.core.frame.DataFrame'>\n",
      "RangeIndex: 207917 entries, 0 to 207916\n",
      "Data columns (total 3 columns):\n",
      "time_stamp    207917 non-null datetime64[ns]\n",
      "user_id       207917 non-null int64\n",
      "visited       207917 non-null int64\n",
      "dtypes: datetime64[ns](1), int64(2)\n",
      "memory usage: 4.8 MB\n"
     ]
    }
   ],
   "source": [
    "df_logins.info()"
   ]
  },
  {
   "cell_type": "markdown",
   "metadata": {},
   "source": [
    "### Labeling Data"
   ]
  },
  {
   "cell_type": "markdown",
   "metadata": {},
   "source": [
    "A user is considered to be labeled as adopted if the user with the specifc user id has logged into the product on three seperate days in at least one seven-day period. Adopted users have have a value of 1 for the variable  \"adopted_user\" and 0 otherwise."
   ]
  },
  {
   "cell_type": "code",
   "execution_count": 8,
   "metadata": {},
   "outputs": [],
   "source": [
    "def label_user(user_logins):\n",
    "    \n",
    "    label = 0\n",
    "    \n",
    "    for login_ts in user_logins:\n",
    "        cutoff_ts = login_ts + pd.DateOffset(days=7)\n",
    "        week_slice = user_logins[(login_ts <= user_logins) & (user_logins <= cutoff_ts)]\n",
    "        # Dropping duplicate days\n",
    "        week_slice = week_slice.dt.date.drop_duplicates()\n",
    "        if 3 <= week_slice.count():\n",
    "            label = 1\n",
    "            break\n",
    "            \n",
    "    return label\n",
    "\n",
    "def label_df(df, df_logins):\n",
    "    \n",
    "    df_labeled = df.copy(deep=True)\n",
    "    \n",
    "    def label_user_id(user_id):\n",
    "        user_logins = df_logins[df_logins.user_id == user_id].time_stamp\n",
    "        return label_user(user_logins)\n",
    "    \n",
    "    df_labeled['adopted_user'] = df['object_id'].map(label_user_id)\n",
    "    \n",
    "    return df_labeled"
   ]
  },
  {
   "cell_type": "code",
   "execution_count": 9,
   "metadata": {},
   "outputs": [],
   "source": [
    "df = label_df(df, df_logins)"
   ]
  },
  {
   "cell_type": "markdown",
   "metadata": {},
   "source": [
    "### Analysis"
   ]
  },
  {
   "cell_type": "markdown",
   "metadata": {},
   "source": [
    "Plotting sampling distribution for Adopted User"
   ]
  },
  {
   "cell_type": "code",
   "execution_count": 10,
   "metadata": {},
   "outputs": [
    {
     "data": {
      "image/png": "[encoded data removed]",
      "text/plain": [
       "<Figure size 432x288 with 1 Axes>"
      ]
     },
     "metadata": {
      "needs_background": "light"
     },
     "output_type": "display_data"
    },
    {
     "name": "stdout",
     "output_type": "stream",
     "text": [
      "Number of Users Adopted: 1656\n",
      "Probability of Adopting a User: 0.138\n",
      "Number of Users Not Adopted: 10344\n",
      "Probability of Not Adopting a User: 0.862\n"
     ]
    }
   ],
   "source": [
    "counts = df['adopted_user'].value_counts()\n",
    "distr = df['adopted_user'].value_counts(normalize=True)\n",
    "\n",
    "fig, ax = plt.subplots()\n",
    "ax.bar(distr.index.map(lambda l: 'adopted' if l == 1 else 'not_adopted'), distr)\n",
    "ax.set_title('Sample Distribution for Adopted User')\n",
    "ax.set_ylabel('Probability')\n",
    "plt.show()\n",
    "\n",
    "print('Number of Users Adopted: {}'.format(counts[1]))\n",
    "print('Probability of Adopting a User: {}'.format(distr[1]))\n",
    "print('Number of Users Not Adopted: {}'.format(counts[0]))\n",
    "print('Probability of Not Adopting a User: {}'.format(distr[0]))"
   ]
  },
  {
   "cell_type": "markdown",
   "metadata": {},
   "source": [
    "Exploring time like variables."
   ]
  },
  {
   "cell_type": "code",
   "execution_count": 11,
   "metadata": {},
   "outputs": [
    {
     "name": "stdout",
     "output_type": "stream",
     "text": [
      "Number of unique end session times: 8822\n",
      "\n",
      "Value Counts:\n",
      "1.401917e+09    2\n",
      "1.401868e+09    2\n",
      "1.354310e+09    1\n",
      "1.380393e+09    1\n",
      "1.354303e+09    1\n",
      "               ..\n",
      "1.365709e+09    1\n",
      "1.399264e+09    1\n",
      "1.399266e+09    1\n",
      "1.399271e+09    1\n",
      "1.393658e+09    1\n",
      "Name: last_session_creation_time, Length: 8821, dtype: int64\n"
     ]
    }
   ],
   "source": [
    "print('Number of unique end session times: {}'.format(len(df.last_session_creation_time.unique())))\n",
    "print()\n",
    "print('Value Counts:')\n",
    "print(df.last_session_creation_time.value_counts())"
   ]
  },
  {
   "cell_type": "code",
   "execution_count": 12,
   "metadata": {},
   "outputs": [
    {
     "name": "stdout",
     "output_type": "stream",
     "text": [
      "Number of unique account start dates: 11996\n",
      "\n",
      "Value Counts:\n",
      "2014-02-11 17:57:53    2\n",
      "2012-09-14 21:35:03    2\n",
      "2012-09-01 07:22:09    2\n",
      "2013-05-25 04:35:52    2\n",
      "2013-09-13 08:15:45    1\n",
      "                      ..\n",
      "2014-03-16 13:52:40    1\n",
      "2013-10-01 17:38:38    1\n",
      "2013-06-08 20:18:35    1\n",
      "2013-04-11 00:02:39    1\n",
      "2013-06-25 00:29:04    1\n",
      "Name: creation_time, Length: 11996, dtype: int64\n"
     ]
    }
   ],
   "source": [
    "print('Number of unique account start dates: {}'.format(len(df.creation_time.unique())))\n",
    "print()\n",
    "print('Value Counts:')\n",
    "print(df.creation_time.value_counts())"
   ]
  },
  {
   "cell_type": "code",
   "execution_count": 13,
   "metadata": {},
   "outputs": [
    {
     "name": "stdout",
     "output_type": "stream",
     "text": [
      "Value Counts for start date months:\n",
      "5     1455\n",
      "3     1177\n",
      "4     1169\n",
      "1     1029\n",
      "11     936\n",
      "2      934\n",
      "12     930\n",
      "10     924\n",
      "9      901\n",
      "7      852\n",
      "8      852\n",
      "6      841\n",
      "Name: creation_time, dtype: int64\n"
     ]
    }
   ],
   "source": [
    "print('Value Counts for start date months:')\n",
    "print(df.creation_time.dt.month.value_counts())"
   ]
  },
  {
   "cell_type": "markdown",
   "metadata": {},
   "source": [
    "Plotting sampling distributions for Adopted Users given a specific starting month."
   ]
  },
  {
   "cell_type": "code",
   "execution_count": 14,
   "metadata": {
    "scrolled": true
   },
   "outputs": [
    {
     "data": {
      "image/png": "[encoded data removed]",
      "text/plain": [
       "<Figure size 432x288 with 1 Axes>"
      ]
     },
     "metadata": {
      "needs_background": "light"
     },
     "output_type": "display_data"
    },
    {
     "name": "stdout",
     "output_type": "stream",
     "text": [
      "Number of Users Adopted: 150\n",
      "Probability of Adopting a User: 0.1457725947521866\n",
      "Number of Users Not Adopted: 879\n",
      "Probability of Not Adopting a User: 0.8542274052478134\n"
     ]
    },
    {
     "data": {
      "image/png": "[encoded data removed]",
      "text/plain": [
       "<Figure size 432x288 with 1 Axes>"
      ]
     },
     "metadata": {
      "needs_background": "light"
     },
     "output_type": "display_data"
    },
    {
     "name": "stdout",
     "output_type": "stream",
     "text": [
      "Number of Users Adopted: 137\n",
      "Probability of Adopting a User: 0.14668094218415417\n",
      "Number of Users Not Adopted: 797\n",
      "Probability of Not Adopting a User: 0.8533190578158458\n"
     ]
    },
    {
     "data": {
      "image/png": "[encoded data removed]",
      "text/plain": [
       "<Figure size 432x288 with 1 Axes>"
      ]
     },
     "metadata": {
      "needs_background": "light"
     },
     "output_type": "display_data"
    },
    {
     "name": "stdout",
     "output_type": "stream",
     "text": [
      "Number of Users Adopted: 164\n",
      "Probability of Adopting a User: 0.1393372982158029\n",
      "Number of Users Not Adopted: 1013\n",
      "Probability of Not Adopting a User: 0.8606627017841971\n"
     ]
    },
    {
     "data": {
      "image/png": "[encoded data removed]",
      "text/plain": [
       "<Figure size 432x288 with 1 Axes>"
      ]
     },
     "metadata": {
      "needs_background": "light"
     },
     "output_type": "display_data"
    },
    {
     "name": "stdout",
     "output_type": "stream",
     "text": [
      "Number of Users Adopted: 115\n",
      "Probability of Adopting a User: 0.09837467921300257\n",
      "Number of Users Not Adopted: 1054\n",
      "Probability of Not Adopting a User: 0.9016253207869974\n"
     ]
    },
    {
     "data": {
      "image/png": "[encoded data removed]",
      "text/plain": [
       "<Figure size 432x288 with 1 Axes>"
      ]
     },
     "metadata": {
      "needs_background": "light"
     },
     "output_type": "display_data"
    },
    {
     "name": "stdout",
     "output_type": "stream",
     "text": [
      "Number of Users Adopted: 78\n",
      "Probability of Adopting a User: 0.05360824742268041\n",
      "Number of Users Not Adopted: 1377\n",
      "Probability of Not Adopting a User: 0.9463917525773196\n"
     ]
    },
    {
     "data": {
      "image/png": "[encoded data removed]",
      "text/plain": [
       "<Figure size 432x288 with 1 Axes>"
      ]
     },
     "metadata": {
      "needs_background": "light"
     },
     "output_type": "display_data"
    },
    {
     "name": "stdout",
     "output_type": "stream",
     "text": [
      "Number of Users Adopted: 153\n",
      "Probability of Adopting a User: 0.18192627824019025\n",
      "Number of Users Not Adopted: 688\n",
      "Probability of Not Adopting a User: 0.8180737217598097\n"
     ]
    },
    {
     "data": {
      "image/png": "[encoded data removed]",
      "text/plain": [
       "<Figure size 432x288 with 1 Axes>"
      ]
     },
     "metadata": {
      "needs_background": "light"
     },
     "output_type": "display_data"
    },
    {
     "name": "stdout",
     "output_type": "stream",
     "text": [
      "Number of Users Adopted: 123\n",
      "Probability of Adopting a User: 0.1443661971830986\n",
      "Number of Users Not Adopted: 729\n",
      "Probability of Not Adopting a User: 0.8556338028169014\n"
     ]
    },
    {
     "data": {
      "image/png": "[encoded data removed]",
      "text/plain": [
       "<Figure size 432x288 with 1 Axes>"
      ]
     },
     "metadata": {
      "needs_background": "light"
     },
     "output_type": "display_data"
    },
    {
     "name": "stdout",
     "output_type": "stream",
     "text": [
      "Number of Users Adopted: 145\n",
      "Probability of Adopting a User: 0.17018779342723006\n",
      "Number of Users Not Adopted: 707\n",
      "Probability of Not Adopting a User: 0.82981220657277\n"
     ]
    },
    {
     "data": {
      "image/png": "[encoded data removed]",
      "text/plain": [
       "<Figure size 432x288 with 1 Axes>"
      ]
     },
     "metadata": {
      "needs_background": "light"
     },
     "output_type": "display_data"
    },
    {
     "name": "stdout",
     "output_type": "stream",
     "text": [
      "Number of Users Adopted: 142\n",
      "Probability of Adopting a User: 0.15760266370699222\n",
      "Number of Users Not Adopted: 759\n",
      "Probability of Not Adopting a User: 0.8423973362930077\n"
     ]
    },
    {
     "data": {
      "image/png": "[encoded data removed]",
      "text/plain": [
       "<Figure size 432x288 with 1 Axes>"
      ]
     },
     "metadata": {
      "needs_background": "light"
     },
     "output_type": "display_data"
    },
    {
     "name": "stdout",
     "output_type": "stream",
     "text": [
      "Number of Users Adopted: 162\n",
      "Probability of Adopting a User: 0.17532467532467533\n",
      "Number of Users Not Adopted: 762\n",
      "Probability of Not Adopting a User: 0.8246753246753247\n"
     ]
    },
    {
     "data": {
      "image/png": "[encoded data removed]",
      "text/plain": [
       "<Figure size 432x288 with 1 Axes>"
      ]
     },
     "metadata": {
      "needs_background": "light"
     },
     "output_type": "display_data"
    },
    {
     "name": "stdout",
     "output_type": "stream",
     "text": [
      "Number of Users Adopted: 151\n",
      "Probability of Adopting a User: 0.16132478632478633\n",
      "Number of Users Not Adopted: 785\n",
      "Probability of Not Adopting a User: 0.8386752136752137\n"
     ]
    },
    {
     "data": {
      "image/png": "[encoded data removed]",
      "text/plain": [
       "<Figure size 432x288 with 1 Axes>"
      ]
     },
     "metadata": {
      "needs_background": "light"
     },
     "output_type": "display_data"
    },
    {
     "name": "stdout",
     "output_type": "stream",
     "text": [
      "Number of Users Adopted: 136\n",
      "Probability of Adopting a User: 0.14623655913978495\n",
      "Number of Users Not Adopted: 794\n",
      "Probability of Not Adopting a User: 0.853763440860215\n"
     ]
    }
   ],
   "source": [
    "for i in df.creation_time.dt.month.sort_values().unique():\n",
    "    counts = df[df.creation_time.dt.month == i]['adopted_user'].value_counts()\n",
    "    distr = df[df.creation_time.dt.month == i]['adopted_user'].value_counts(normalize=True)\n",
    "\n",
    "    fig, ax = plt.subplots()\n",
    "    ax.bar(distr.index.map(lambda l: 'adopted' if l == 1 else 'not_adopted'), distr)\n",
    "    ax.set_title('Sample Distribution for Adopted Users with start month: {}'.format(i))\n",
    "    ax.set_ylabel('Probability')\n",
    "    plt.show()\n",
    "\n",
    "    print('Number of Users Adopted: {}'.format(counts[1]))\n",
    "    print('Probability of Adopting a User: {}'.format(distr[1]))\n",
    "    print('Number of Users Not Adopted: {}'.format(counts[0]))\n",
    "    print('Probability of Not Adopting a User: {}'.format(distr[0]))"
   ]
  },
  {
   "cell_type": "markdown",
   "metadata": {},
   "source": [
    "It appears there is some seasonal variance of the Adopted User distribution throughout the months."
   ]
  },
  {
   "cell_type": "markdown",
   "metadata": {},
   "source": [
    "Exploring email variable."
   ]
  },
  {
   "cell_type": "code",
   "execution_count": 15,
   "metadata": {},
   "outputs": [
    {
     "name": "stdout",
     "output_type": "stream",
     "text": [
      "Number of unique emails: 1184\n",
      "\n",
      "Value Counts:\n",
      "gmail.com         3562\n",
      "yahoo.com         2447\n",
      "jourrapide.com    1259\n",
      "cuvox.de          1202\n",
      "gustr.com         1179\n",
      "                  ... \n",
      "yeyhm.com            1\n",
      "mrxqj.com            1\n",
      "skuvv.com            1\n",
      "swhrr.com            1\n",
      "fwtem.com            1\n",
      "Name: email, Length: 1184, dtype: int64\n"
     ]
    }
   ],
   "source": [
    "emails = df.email.map(lambda email: email.split('@', 1)[1])\n",
    "print('Number of unique emails: {}'.format(len(emails.unique())))\n",
    "print()\n",
    "print('Value Counts:')\n",
    "print(emails.value_counts())"
   ]
  },
  {
   "cell_type": "code",
   "execution_count": 16,
   "metadata": {},
   "outputs": [
    {
     "name": "stdout",
     "output_type": "stream",
     "text": [
      "Number of unique emails with more than 1000 samples: 6\n",
      "\n",
      "Value Counts for emails with more than 1000 samples:\n",
      "gmail.com         3562\n",
      "yahoo.com         2447\n",
      "jourrapide.com    1259\n",
      "cuvox.de          1202\n",
      "gustr.com         1179\n",
      "hotmail.com       1165\n",
      "Name: email, dtype: int64\n"
     ]
    }
   ],
   "source": [
    "print('Number of unique emails with more than 1000 samples: {}'.format(emails.value_counts()[(emails.value_counts() >= 1000)].count()))\n",
    "print()\n",
    "print('Value Counts for emails with more than 1000 samples:')\n",
    "print(emails.value_counts()[(emails.value_counts() > 1000)])"
   ]
  },
  {
   "cell_type": "code",
   "execution_count": 17,
   "metadata": {},
   "outputs": [
    {
     "name": "stdout",
     "output_type": "stream",
     "text": [
      "Number of unique emails with more than 1000 samples: 1178\n",
      "\n",
      "Value Counts for emails with more than 1000 samples:\n",
      "dqwln.com    2\n",
      "oqpze.com    2\n",
      "qgjbc.com    2\n",
      "mumdc.com    2\n",
      "xybhi.com    2\n",
      "            ..\n",
      "yeyhm.com    1\n",
      "mrxqj.com    1\n",
      "skuvv.com    1\n",
      "swhrr.com    1\n",
      "fwtem.com    1\n",
      "Name: email, Length: 1178, dtype: int64\n"
     ]
    }
   ],
   "source": [
    "print('Number of unique emails with more than 1000 samples: {}'.format(emails.value_counts()[(emails.value_counts() < 1000)].count()))\n",
    "print()\n",
    "print('Value Counts for emails with more than 1000 samples:')\n",
    "print(emails.value_counts()[(emails.value_counts() < 1000)])"
   ]
  },
  {
   "cell_type": "markdown",
   "metadata": {},
   "source": [
    "It appears most of the users belong to the big 6 emails: gmail.com, yahoo.com, jourrapide.com, cuvox.com, gustr.com, and hotmail, and any email outside the big six either contains 2 users or 1 user which is not enough samples to generate a faithful representation of our Adopted User Distribution."
   ]
  },
  {
   "cell_type": "markdown",
   "metadata": {},
   "source": [
    "Plotting sampling distributions for Adopted Users across the big six emails: gmail.com, yahoo.com, jourrapide.com, cuvox.com, gustr.com, and hotmail.com."
   ]
  },
  {
   "cell_type": "code",
   "execution_count": 18,
   "metadata": {
    "scrolled": true
   },
   "outputs": [
    {
     "data": {
      "image/png": "[encoded data removed]",
      "text/plain": [
       "<Figure size 432x288 with 1 Axes>"
      ]
     },
     "metadata": {
      "needs_background": "light"
     },
     "output_type": "display_data"
    },
    {
     "name": "stdout",
     "output_type": "stream",
     "text": [
      "Number of Users Adopted: 557\n",
      "Probability of Adopting a User: 0.15637282425603594\n",
      "Number of Users Not Adopted: 3005\n",
      "Probability of Not Adopting a User: 0.8436271757439641\n"
     ]
    },
    {
     "data": {
      "image/png": "[encoded data removed]",
      "text/plain": [
       "<Figure size 432x288 with 1 Axes>"
      ]
     },
     "metadata": {
      "needs_background": "light"
     },
     "output_type": "display_data"
    },
    {
     "name": "stdout",
     "output_type": "stream",
     "text": [
      "Number of Users Adopted: 267\n",
      "Probability of Adopting a User: 0.10911319983653453\n",
      "Number of Users Not Adopted: 2180\n",
      "Probability of Not Adopting a User: 0.8908868001634654\n"
     ]
    },
    {
     "data": {
      "image/png": "[encoded data removed]",
      "text/plain": [
       "<Figure size 432x288 with 1 Axes>"
      ]
     },
     "metadata": {
      "needs_background": "light"
     },
     "output_type": "display_data"
    },
    {
     "name": "stdout",
     "output_type": "stream",
     "text": [
      "Number of Users Adopted: 170\n",
      "Probability of Adopting a User: 0.13502779984114377\n",
      "Number of Users Not Adopted: 1089\n",
      "Probability of Not Adopting a User: 0.8649722001588562\n"
     ]
    },
    {
     "data": {
      "image/png": "[encoded data removed]",
      "text/plain": [
       "<Figure size 432x288 with 1 Axes>"
      ]
     },
     "metadata": {
      "needs_background": "light"
     },
     "output_type": "display_data"
    },
    {
     "name": "stdout",
     "output_type": "stream",
     "text": [
      "Number of Users Adopted: 144\n",
      "Probability of Adopting a User: 0.11980033277870217\n",
      "Number of Users Not Adopted: 1058\n",
      "Probability of Not Adopting a User: 0.8801996672212978\n"
     ]
    },
    {
     "data": {
      "image/png": "[encoded data removed]",
      "text/plain": [
       "<Figure size 432x288 with 1 Axes>"
      ]
     },
     "metadata": {
      "needs_background": "light"
     },
     "output_type": "display_data"
    },
    {
     "name": "stdout",
     "output_type": "stream",
     "text": [
      "Number of Users Adopted: 150\n",
      "Probability of Adopting a User: 0.1272264631043257\n",
      "Number of Users Not Adopted: 1029\n",
      "Probability of Not Adopting a User: 0.8727735368956743\n"
     ]
    },
    {
     "data": {
      "image/png": "[encoded data removed]",
      "text/plain": [
       "<Figure size 432x288 with 1 Axes>"
      ]
     },
     "metadata": {
      "needs_background": "light"
     },
     "output_type": "display_data"
    },
    {
     "name": "stdout",
     "output_type": "stream",
     "text": [
      "Number of Users Adopted: 205\n",
      "Probability of Adopting a User: 0.1759656652360515\n",
      "Number of Users Not Adopted: 960\n",
      "Probability of Not Adopting a User: 0.8240343347639485\n"
     ]
    }
   ],
   "source": [
    "for i in emails.value_counts()[(emails.value_counts() > 100)].index:\n",
    "    counts = df[emails == i]['adopted_user'].value_counts()\n",
    "    distr = df[emails == i]['adopted_user'].value_counts(normalize=True)\n",
    "\n",
    "    fig, ax = plt.subplots()\n",
    "    ax.bar(distr.index.map(lambda l: 'adopted' if l == 1 else 'not_adopted'), distr)\n",
    "    ax.set_title('Sample Distribution for Adopted Users with email provider: {}'.format(i))\n",
    "    ax.set_ylabel('Probability')\n",
    "    plt.show()\n",
    "\n",
    "    print('Number of Users Adopted: {}'.format(counts[1]))\n",
    "    print('Probability of Adopting a User: {}'.format(distr[1]))\n",
    "    print('Number of Users Not Adopted: {}'.format(counts[0]))\n",
    "    print('Probability of Not Adopting a User: {}'.format(distr[0]))"
   ]
  },
  {
   "cell_type": "markdown",
   "metadata": {},
   "source": [
    "Plotting the sampling distribution for Adopted Users which do not belong to the big six email providers."
   ]
  },
  {
   "cell_type": "code",
   "execution_count": 19,
   "metadata": {},
   "outputs": [
    {
     "data": {
      "image/png": "[encoded data removed]",
      "text/plain": [
       "<Figure size 432x288 with 1 Axes>"
      ]
     },
     "metadata": {
      "needs_background": "light"
     },
     "output_type": "display_data"
    },
    {
     "name": "stdout",
     "output_type": "stream",
     "text": [
      "Number of Users Adopted: 163\n",
      "Probability of Adopting a User: 0.13743676222596965\n",
      "Number of Users Not Adopted: 1023\n",
      "Probability of Not Adopting a User: 0.8625632377740303\n"
     ]
    }
   ],
   "source": [
    "idxs = (emails != 'gmail.com') & (emails != 'yahoo.com') & (emails != 'jourrapide.com') & (emails != 'cuvox.de') & (emails != 'gustr.com') & (emails != 'hotmail.com')\n",
    "counts = df[idxs]['adopted_user'].value_counts()\n",
    "distr = df[idxs]['adopted_user'].value_counts(normalize=True)\n",
    "\n",
    "fig, ax = plt.subplots()\n",
    "ax.bar(distr.index.map(lambda l: 'adopted' if l == 1 else 'not_adopted'), distr)\n",
    "ax.set_title('Sample Distribution for Adopted Users with email providers not of the big six')\n",
    "ax.set_ylabel('Probability')\n",
    "plt.show()\n",
    "\n",
    "print('Number of Users Adopted: {}'.format(counts[1]))\n",
    "print('Probability of Adopting a User: {}'.format(distr[1]))\n",
    "print('Number of Users Not Adopted: {}'.format(counts[0]))\n",
    "print('Probability of Not Adopting a User: {}'.format(distr[0]))"
   ]
  },
  {
   "cell_type": "markdown",
   "metadata": {},
   "source": [
    "Plotting the sampling distribution for Adopted Users which do belong to the big six email providers."
   ]
  },
  {
   "cell_type": "code",
   "execution_count": 20,
   "metadata": {},
   "outputs": [
    {
     "data": {
      "image/png": "[encoded data removed]",
      "text/plain": [
       "<Figure size 432x288 with 1 Axes>"
      ]
     },
     "metadata": {
      "needs_background": "light"
     },
     "output_type": "display_data"
    },
    {
     "name": "stdout",
     "output_type": "stream",
     "text": [
      "Number of Users Adopted: 1493\n",
      "Probability of Adopting a User: 0.13806177177732568\n",
      "Number of Users Not Adopted: 9321\n",
      "Probability of Not Adopting a User: 0.8619382282226743\n"
     ]
    }
   ],
   "source": [
    "idxs = ~((emails != 'gmail.com') & (emails != 'yahoo.com') & (emails != 'jourrapide.com') & (emails != 'cuvox.de') & (emails != 'gustr.com') & (emails != 'hotmail.com'))\n",
    "counts = df[idxs]['adopted_user'].value_counts()\n",
    "distr = df[idxs]['adopted_user'].value_counts(normalize=True)\n",
    "\n",
    "fig, ax = plt.subplots()\n",
    "ax.bar(distr.index.map(lambda l: 'adopted' if l == 1 else 'not_adopted'), distr)\n",
    "ax.set_title('Sample Distribution for Adopted Users with email providers of the big six')\n",
    "ax.set_ylabel('Probability')\n",
    "plt.show()\n",
    "\n",
    "print('Number of Users Adopted: {}'.format(counts[1]))\n",
    "print('Probability of Adopting a User: {}'.format(distr[1]))\n",
    "print('Number of Users Not Adopted: {}'.format(counts[0]))\n",
    "print('Probability of Not Adopting a User: {}'.format(distr[0]))"
   ]
  },
  {
   "cell_type": "markdown",
   "metadata": {},
   "source": [
    "From the above plots it appears the distribution for adopted users does not change much if at all, when varying if the users belonged to one of the big 6 email providers or not. It also did not seem to change much when varying if the users belonged to any of the big 6 email providers. This implies that the email provider does not seem to effect if a user is adopted or not."
   ]
  },
  {
   "cell_type": "markdown",
   "metadata": {},
   "source": [
    "Exploring the invited by user id variable."
   ]
  },
  {
   "cell_type": "code",
   "execution_count": 21,
   "metadata": {},
   "outputs": [
    {
     "name": "stdout",
     "output_type": "stream",
     "text": [
      "Number of unique users who invited other users: 2565\n",
      "\n",
      "Value Counts:\n",
      "10741.0    13\n",
      "2527.0     12\n",
      "2308.0     11\n",
      "1525.0     11\n",
      "11770.0    11\n",
      "           ..\n",
      "2746.0      1\n",
      "10456.0     1\n",
      "8371.0      1\n",
      "6266.0      1\n",
      "3572.0      1\n",
      "Name: invited_by_user_id, Length: 2564, dtype: int64\n"
     ]
    }
   ],
   "source": [
    "print('Number of unique users who invited other users: {}'.format(len(df.invited_by_user_id.unique())))\n",
    "print()\n",
    "print('Value Counts:')\n",
    "print(df.invited_by_user_id.value_counts())"
   ]
  },
  {
   "cell_type": "markdown",
   "metadata": {},
   "source": [
    "It appears no one user has invited enough users to generate a sample size that is big enough to faithfully represent the Adopted User Distribution. Therefore if we continue our investigation, into whether if being invited by **a specific user** seems to effect Adoption status or not, our conclusions will be dubious at best."
   ]
  },
  {
   "cell_type": "code",
   "execution_count": 22,
   "metadata": {
    "scrolled": true
   },
   "outputs": [
    {
     "name": "stdout",
     "output_type": "stream",
     "text": [
      "Value Counts for Users Invited:\n",
      "1    6417\n",
      "0    5583\n",
      "Name: invited_by_user_id, dtype: int64\n"
     ]
    }
   ],
   "source": [
    "users_invited = df.invited_by_user_id.astype('Int64').fillna(0).map(lambda x: 1 if x > 0 else 0)\n",
    "print('Value Counts for Users Invited:')\n",
    "print(users_invited.value_counts())"
   ]
  },
  {
   "cell_type": "code",
   "execution_count": 23,
   "metadata": {},
   "outputs": [
    {
     "data": {
      "image/png": "[encoded data removed]",
      "text/plain": [
       "<Figure size 432x288 with 1 Axes>"
      ]
     },
     "metadata": {
      "needs_background": "light"
     },
     "output_type": "display_data"
    },
    {
     "name": "stdout",
     "output_type": "stream",
     "text": [
      "Number of Users Adopted: 943\n",
      "Probability of Adopting a User: 0.14695340501792115\n",
      "Number of Users Not Adopted: 5474\n",
      "Probability of Not Adopting a User: 0.8530465949820788\n"
     ]
    },
    {
     "data": {
      "image/png": "[encoded data removed]",
      "text/plain": [
       "<Figure size 432x288 with 1 Axes>"
      ]
     },
     "metadata": {
      "needs_background": "light"
     },
     "output_type": "display_data"
    },
    {
     "name": "stdout",
     "output_type": "stream",
     "text": [
      "Number of Users Adopted: 713\n",
      "Probability of Adopting a User: 0.1277091169622067\n",
      "Number of Users Not Adopted: 4870\n",
      "Probability of Not Adopting a User: 0.8722908830377933\n"
     ]
    }
   ],
   "source": [
    "for i in users_invited.unique():\n",
    "    counts = df[users_invited == i]['adopted_user'].value_counts()\n",
    "    distr = df[users_invited == i]['adopted_user'].value_counts(normalize=True)\n",
    "\n",
    "    fig, ax = plt.subplots()\n",
    "    ax.bar(distr.index.map(lambda l: 'adopted' if l == 1 else 'not_adopted'), distr)\n",
    "    if i == 1:\n",
    "        ax.set_title('Sample Distribution for Adopted User for invited users')\n",
    "    else: \n",
    "        ax.set_title('Sample Distribution for Adopted User for users that were not invited')\n",
    "    ax.set_ylabel('Probability')\n",
    "    plt.show()\n",
    "\n",
    "    print('Number of Users Adopted: {}'.format(counts[1]))\n",
    "    print('Probability of Adopting a User: {}'.format(distr[1]))\n",
    "    print('Number of Users Not Adopted: {}'.format(counts[0]))\n",
    "    print('Probability of Not Adopting a User: {}'.format(distr[0]))"
   ]
  },
  {
   "cell_type": "markdown",
   "metadata": {},
   "source": [
    "Although we have not determined whether being invited by **a specific user** effects the probabilities of being an adopted user or not, we can determine whether being invited by **a user** effects the probability distribution of Adopted status. It appears from the above plots that varying the invited status seems to slightly effect the distribution of Adopted status."
   ]
  },
  {
   "cell_type": "markdown",
   "metadata": {},
   "source": [
    "Investigating organization id variable."
   ]
  },
  {
   "cell_type": "code",
   "execution_count": 24,
   "metadata": {},
   "outputs": [
    {
     "name": "stdout",
     "output_type": "stream",
     "text": [
      "Number of unique organizations: 417\n",
      "\n",
      "Value Counts:\n",
      "0      319\n",
      "1      233\n",
      "2      201\n",
      "3      168\n",
      "4      159\n",
      "      ... \n",
      "396      9\n",
      "400      8\n",
      "397      8\n",
      "386      7\n",
      "416      2\n",
      "Name: org_id, Length: 417, dtype: int64\n"
     ]
    }
   ],
   "source": [
    "print('Number of unique organizations: {}'.format(len(df.org_id.unique())))\n",
    "print()\n",
    "print('Value Counts:')\n",
    "print(df.org_id.value_counts())"
   ]
  },
  {
   "cell_type": "markdown",
   "metadata": {},
   "source": [
    "Most of the unique organizations do not contain enough user samples to faithfully represent the Adopted status distribution, also there appears to be alot unique of classes to one hot encode. "
   ]
  },
  {
   "cell_type": "markdown",
   "metadata": {},
   "source": [
    "#### Conclusions:"
   ]
  },
  {
   "cell_type": "markdown",
   "metadata": {},
   "source": [
    "The approach to this analysis was to first investigate the generally distribution of our target variable, then investigate all the variables that will most likely be dropped from further analysis based on either not containing enough samples, the specific format of the variable, etcetera. We attempt to show if any of these variables could still provide some valuable information to be included in the model. \n",
    "\n",
    "Firstly, we checked the distribution of adopted user status. From the distribution of adopted user status we can tell that our dataset is unbalanced with the minority class being adopted. This implies that the metrics that will be the most useful in measuring the success of a model design to give us a better understanding of the factors that predict user adoption would probably be Precision and Recall of the minority class. \n",
    "\n",
    "Secondly we investigated the temporal variables of our dataset, creation date, the date the user created their account, and last session creation time, the timestamp of the users most recent usage. Since the creation date's and the last session creation time's most populous class contains only two users (with most classes containing only one user), there can be no way that we can correlate these variables with our target variable adopted status because each class contains too few samples. Also, it doesn't make sense that the exact date a user makes an account should have any bearing over whether they use the account 3 or more times in some future week. Likewise, the same applies with the variable last session creation time. If what drives adoption status is some sort of seasonal phenomena then the month attribute of creation date could still have some use. In order to check this we plotted the distributions for adopted status while varying account creation month. From these plots, it appears that there could be a correlation between the month the account is created in and the future adoption status of the user. Thus from this analysis, I feel we are safe to drop variables creation date, and last session creation time from further analysis, and create a new variable to represent the month the users account was created in. \n",
    "\n",
    "Thirdly, we explored the email variable of our users. We found that most of our users belonged to six email providers: gmail.com, yahoo.com, jourrapide.com, cuvox.de, gustr.com, and hotmail.com, with the rest of the users being evenly distributed across many less popular email service providers, most containing only one or two users. From this initial analysis, it is easy to dismiss the email variable because it contains too many unique classes to one hot encode. To alleviate this we tried two partitioning schemes: 1) splitting the email variable into 7 partitions for each one of the big six email providers plus not belonging to one of the big six, and 2) splitting the email variable into 2 partitions one for belonging to a big six email provider and another for not. When varying through both partitioning schemes it became apparent that the distribution for Adopted status did not change much at all, thus I feel we are safe to assume that the email variable does not contribute much to adopted user status and can be dropped from further analysis.\n",
    "\n",
    "Fourthly we investigated the invited by user id variable. None of the unique classes (user id's that invited other current users) contained enough samples to faithfully represent the adopted users distribution, as well as there being too many unique classes to one hot encode. In order to fix these issues we converted the variable into a binary one that represented if the user was invited to the service by any other previous user or not. When plotting the distribution of Adopted status across this new variable it was clear that this variable had a small effect in changing the distribution. Although the effect of this new variable is small we think it will still be useful to include in further analysis because it would be interesting to see the specific effect it has on the target variable if any at all. From this investigation we can conclude that although the invited by user id variable is not fit for further analysis, the new variable, invited by a user, will be interesting to include in further analysis.\n",
    "\n",
    "Finally we checked the org id variable. There appeared to be alot of unique classes a few of which contianed a small amount of samples. Although the above reasons are strong enough to not include this variable in further analysis, it still is an interesting question to ask: whether a specific organization correlates more with adopted users. Thus I feel there is reason enough to include this variable in the modeling phase.\n",
    "\n",
    "From the above analysis we can conclude that variables that will be used as features in our modeling phase will be: the month the user created their account, creation source, opted in to mailing list, enabled for marketing drip, org id, and if they were invited by a user. "
   ]
  },
  {
   "cell_type": "markdown",
   "metadata": {},
   "source": [
    "### Preprocessing Data"
   ]
  },
  {
   "cell_type": "markdown",
   "metadata": {},
   "source": [
    "To preprocess the data we will first create new variables creation month to represent the month the user created their account, and invited to represent if they were invited by another user or not. Since the only NaN values exist in the invited by user id variable, these NaN values will be filled with zeros in the process of creating the invited variable, thus none of our features will contain any missing values to be dealt with. The data we will then be encoded. We will numerically encode the creation month variable, since months are ordinal in nature. We will one hot encode the categorical variables: creation source, and org id, and binary encode the binary variables: opted in to mailing list, enabled for marketing drip, and invited. Finally we will write the dataset to disk."
   ]
  },
  {
   "cell_type": "code",
   "execution_count": 25,
   "metadata": {},
   "outputs": [],
   "source": [
    "def preprocess(df):\n",
    "    df_p = df.copy(deep=True)\n",
    "    df_p['creation_month'] = df_p.creation_time.dt.month\n",
    "    df_p['invited'] = df_p.invited_by_user_id.astype('Int64').fillna(0).map(lambda x: 1 if x > 0 else 0)\n",
    "    one_hot_creation_source = pd.get_dummies(df_p['creation_source'], prefix='cs', drop_first=True)\n",
    "    df_p = pd.concat([df_p, one_hot_creation_source], axis=1)\n",
    "    one_hot_org_id = pd.get_dummies(df_p['org_id'], prefix='org_id', drop_first=True)\n",
    "    df_p = pd.concat([df_p, one_hot_org_id], axis=1)\n",
    "    df_p = df_p.drop(columns=['object_id', 'creation_time', 'name', 'email',\n",
    "                              'creation_source', 'last_session_creation_time',\n",
    "                              'org_id', 'invited_by_user_id'])\n",
    "    label_name = 'adopted_user'\n",
    "    labels = df_p[label_name].values\n",
    "    df_features = df_p.drop(columns=['adopted_user'])\n",
    "    features = df_features.values\n",
    "    feature_names = list(df_features.columns)\n",
    "    return features, labels, feature_names, label_name"
   ]
  },
  {
   "cell_type": "code",
   "execution_count": 26,
   "metadata": {},
   "outputs": [],
   "source": [
    "X, y, feature_names, label_name = preprocess(df)"
   ]
  },
  {
   "cell_type": "markdown",
   "metadata": {},
   "source": [
    "Writing train and test datasets to disk."
   ]
  },
  {
   "cell_type": "code",
   "execution_count": 27,
   "metadata": {},
   "outputs": [],
   "source": [
    "with open('dataset.pickle', 'wb') as f:\n",
    "    dataset = (X, y, feature_names, label_name)\n",
    "    pickle.dump(dataset, f)"
   ]
  },
  {
   "cell_type": "markdown",
   "metadata": {},
   "source": [
    "### Analysis on Preprocessed Data"
   ]
  },
  {
   "cell_type": "markdown",
   "metadata": {},
   "source": [
    "Plotting sampling distribution for Adopted User"
   ]
  },
  {
   "cell_type": "code",
   "execution_count": 28,
   "metadata": {},
   "outputs": [
    {
     "data": {
      "image/png": "[encoded data removed]",
      "text/plain": [
       "<Figure size 432x288 with 1 Axes>"
      ]
     },
     "metadata": {
      "needs_background": "light"
     },
     "output_type": "display_data"
    },
    {
     "name": "stdout",
     "output_type": "stream",
     "text": [
      "Number of Users Adopted: 1656\n",
      "Probability of Adopting a User: 0.138\n",
      "Number of Users Not Adopted: 10344\n",
      "Probability of Not Adopting a User: 0.862\n"
     ]
    }
   ],
   "source": [
    "data = pd.Series(y)\n",
    "counts = data.value_counts()\n",
    "distr = data.value_counts(normalize=True)\n",
    "\n",
    "fig, ax = plt.subplots()\n",
    "ax.bar(distr.index.map(lambda l: 'adopted' if l == 1 else 'not_adopted'), distr)\n",
    "ax.set_title('Sample Distribution for Adopted User')\n",
    "ax.set_ylabel('Probability')\n",
    "plt.show()\n",
    "\n",
    "print('Number of Users Adopted: {}'.format(counts[1]))\n",
    "print('Probability of Adopting a User: {}'.format(distr[1]))\n",
    "print('Number of Users Not Adopted: {}'.format(counts[0]))\n",
    "print('Probability of Not Adopting a User: {}'.format(distr[0]))"
   ]
  },
  {
   "cell_type": "markdown",
   "metadata": {},
   "source": [
    "Our target variable distribution has been unchanged throughout the preprocessing. This is no surprise because we did not drop any samples in our dataset throughout the preprocessing."
   ]
  },
  {
   "cell_type": "markdown",
   "metadata": {},
   "source": [
    "## Modeling"
   ]
  },
  {
   "cell_type": "markdown",
   "metadata": {},
   "source": [
    "After exploring our dataset and selecting the features we will build our models on, we now begin to attempt to model our dataset. Within this section will be multiple subsections one of which will be dedicated to evaluating our baseline model for the dataset, with the others being dedicated to the analysis of alternative models for our dataset. Since the ultimate use of our model is to gain a greater understand of the mechanisms behind the generation of adopted users for Relax's software platform, we require that the models we select to be easily interpretable. Some examples of models that fit this requirement are decision trees and logistic regression models."
   ]
  },
  {
   "cell_type": "markdown",
   "metadata": {},
   "source": [
    "### Baseline Model"
   ]
  },
  {
   "cell_type": "markdown",
   "metadata": {},
   "source": [
    "The baseline model is the bare minimum model we can manually construct from just our Exploratory Data Analysis. This model will give us a baseline that hopefully our trained models will beat. From our exploratory data analysis we have determined the probability of a random user being adopted is about 0.138. From this we can describe our baseline model as a model that predicts a 0.138 chance that the user will be adopted for any user sample that is fed to it."
   ]
  },
  {
   "cell_type": "markdown",
   "metadata": {},
   "source": [
    "Thus we can represent our baseline model as: \n",
    "$$P(adopted|X)= 0.138$$\n",
    "for all $X$"
   ]
  },
  {
   "cell_type": "code",
   "execution_count": 29,
   "metadata": {},
   "outputs": [],
   "source": [
    "import pickle\n",
    "import sklearn\n",
    "import numpy as np\n",
    "import matplotlib.pyplot as plt\n",
    "from sklearn.dummy import DummyClassifier\n",
    "from sklearn.model_selection import cross_validate\n",
    "from sklearn.model_selection import train_test_split\n",
    "\n",
    "# Random Seed\n",
    "seed = 42\n",
    "# Number of folds to use in k-fold cross-validation\n",
    "k_folds = 10"
   ]
  },
  {
   "cell_type": "code",
   "execution_count": 31,
   "metadata": {},
   "outputs": [],
   "source": [
    "with open('dataset.pickle', 'rb') as f:\n",
    "    X, y, _, _ = pickle.load(f)"
   ]
  },
  {
   "cell_type": "code",
   "execution_count": 32,
   "metadata": {},
   "outputs": [],
   "source": [
    "def display_results(results, hist_bins=None):\n",
    "    \n",
    "    metric_names = [name for name in results.keys() if 'test' in name]\n",
    "    \n",
    "    for metric_name in metric_names:\n",
    "        \n",
    "        metric_values = results[metric_name]\n",
    "        name = metric_name.split('test_', 1)[1]\n",
    "        \n",
    "        fig, ax = plt.subplots()\n",
    "        ax.hist(metric_values, bins=hist_bins)\n",
    "        ax.set_ylabel('Counts')\n",
    "        ax.set_xlabel(name)\n",
    "        ax.set_title('Histogram for metric {}'.format(name))\n",
    "        plt.show()\n",
    "        \n",
    "        print('Mean of {}: {}'.format(name, metric_values.mean()))\n",
    "        print('Variance of {}: {}'.format(name, metric_values.var()))\n",
    "        print('Standard Deviation of {}: {}'.format(name, metric_values.std()))\n",
    "        \n",
    "    return None"
   ]
  },
  {
   "cell_type": "markdown",
   "metadata": {},
   "source": [
    "Splitting train dataset into train and test datasets."
   ]
  },
  {
   "cell_type": "code",
   "execution_count": 33,
   "metadata": {},
   "outputs": [
    {
     "name": "stdout",
     "output_type": "stream",
     "text": [
      "Train dataset size: 10800\n",
      "Test dataset size: 1200\n"
     ]
    }
   ],
   "source": [
    "X_train, X_test, y_train, y_test = train_test_split(X, y, train_size=0.9, stratify=y, random_state=seed)\n",
    "print('Train dataset size: {}'.format(len(y_train)))\n",
    "print('Test dataset size: {}'.format(len(y_test)))"
   ]
  },
  {
   "cell_type": "markdown",
   "metadata": {},
   "source": [
    "Building baseline model."
   ]
  },
  {
   "cell_type": "code",
   "execution_count": 34,
   "metadata": {},
   "outputs": [],
   "source": [
    "# Defining Hyperparameters\n",
    "hyperparameters = {'strategy': 'prior', 'random_state': seed}\n",
    "\n",
    "# Defining Metrics\n",
    "def tn(y_true, y_pred):\n",
    "    return sklearn.metrics.confusion_matrix(y_true, y_pred)[0, 0]\n",
    "def fp(y_true, y_pred):\n",
    "    return sklearn.metrics.confusion_matrix(y_true, y_pred)[0, 1]\n",
    "def fn(y_true, y_pred):\n",
    "    return sklearn.metrics.confusion_matrix(y_true, y_pred)[1, 0]\n",
    "def tp(y_true, y_pred):\n",
    "    return sklearn.metrics.confusion_matrix(y_true, y_pred)[1, 1]\n",
    "\n",
    "metrics = {'Accuracy': 'accuracy', 'Precision': 'precision', 'Recall': 'recall',\n",
    "           'PR_AUC': 'average_precision', 'F1-score': 'f1',\n",
    "           'TN': sklearn.metrics.make_scorer(tn), 'TP': sklearn.metrics.make_scorer(tp),\n",
    "           'FN': sklearn.metrics.make_scorer(fn), 'FP': sklearn.metrics.make_scorer(fp)}"
   ]
  },
  {
   "cell_type": "code",
   "execution_count": 35,
   "metadata": {},
   "outputs": [],
   "source": [
    "baseline_model = DummyClassifier(**hyperparameters)"
   ]
  },
  {
   "cell_type": "markdown",
   "metadata": {},
   "source": [
    "Training and evaluating model, estimating metrics using k-fold cross-validation."
   ]
  },
  {
   "cell_type": "code",
   "execution_count": 37,
   "metadata": {},
   "outputs": [
    {
     "name": "stderr",
     "output_type": "stream",
     "text": [
      "/media/Data/Programs/relax_challenge/env/lib/python3.7/site-packages/sklearn/metrics/_classification.py:1268: UndefinedMetricWarning: Precision is ill-defined and being set to 0.0 due to no predicted samples. Use `zero_division` parameter to control this behavior.\n",
      "  _warn_prf(average, modifier, msg_start, len(result))\n"
     ]
    }
   ],
   "source": [
    "baseline_cv_results = cross_validate(baseline_model, X_train, y_train, cv=k_folds, scoring=metrics)"
   ]
  },
  {
   "cell_type": "code",
   "execution_count": 38,
   "metadata": {},
   "outputs": [
    {
     "data": {
      "image/png": "[encoded data removed]",
      "text/plain": [
       "<Figure size 432x288 with 1 Axes>"
      ]
     },
     "metadata": {
      "needs_background": "light"
     },
     "output_type": "display_data"
    },
    {
     "name": "stdout",
     "output_type": "stream",
     "text": [
      "Mean of Accuracy: 0.862037037037037\n",
      "Variance of Accuracy: 0.0\n",
      "Standard Deviation of Accuracy: 0.0\n"
     ]
    },
    {
     "data": {
      "image/png": "[encoded data removed]",
      "text/plain": [
       "<Figure size 432x288 with 1 Axes>"
      ]
     },
     "metadata": {
      "needs_background": "light"
     },
     "output_type": "display_data"
    },
    {
     "name": "stdout",
     "output_type": "stream",
     "text": [
      "Mean of Precision: 0.0\n",
      "Variance of Precision: 0.0\n",
      "Standard Deviation of Precision: 0.0\n"
     ]
    },
    {
     "data": {
      "image/png": "[encoded data removed]",
      "text/plain": [
       "<Figure size 432x288 with 1 Axes>"
      ]
     },
     "metadata": {
      "needs_background": "light"
     },
     "output_type": "display_data"
    },
    {
     "name": "stdout",
     "output_type": "stream",
     "text": [
      "Mean of Recall: 0.0\n",
      "Variance of Recall: 0.0\n",
      "Standard Deviation of Recall: 0.0\n"
     ]
    },
    {
     "data": {
      "image/png": "[encoded data removed]",
      "text/plain": [
       "<Figure size 432x288 with 1 Axes>"
      ]
     },
     "metadata": {
      "needs_background": "light"
     },
     "output_type": "display_data"
    },
    {
     "name": "stdout",
     "output_type": "stream",
     "text": [
      "Mean of PR_AUC: 0.13796296296296298\n",
      "Variance of PR_AUC: 7.703719777548943e-34\n",
      "Standard Deviation of PR_AUC: 2.7755575615628914e-17\n"
     ]
    },
    {
     "data": {
      "image/png": "[encoded data removed]",
      "text/plain": [
       "<Figure size 432x288 with 1 Axes>"
      ]
     },
     "metadata": {
      "needs_background": "light"
     },
     "output_type": "display_data"
    },
    {
     "name": "stdout",
     "output_type": "stream",
     "text": [
      "Mean of F1-score: 0.0\n",
      "Variance of F1-score: 0.0\n",
      "Standard Deviation of F1-score: 0.0\n"
     ]
    },
    {
     "data": {
      "image/png": "[encoded data removed]",
      "text/plain": [
       "<Figure size 432x288 with 1 Axes>"
      ]
     },
     "metadata": {
      "needs_background": "light"
     },
     "output_type": "display_data"
    },
    {
     "name": "stdout",
     "output_type": "stream",
     "text": [
      "Mean of TN: 931.0\n",
      "Variance of TN: 0.0\n",
      "Standard Deviation of TN: 0.0\n"
     ]
    },
    {
     "data": {
      "image/png": "[encoded data removed]",
      "text/plain": [
       "<Figure size 432x288 with 1 Axes>"
      ]
     },
     "metadata": {
      "needs_background": "light"
     },
     "output_type": "display_data"
    },
    {
     "name": "stdout",
     "output_type": "stream",
     "text": [
      "Mean of TP: 0.0\n",
      "Variance of TP: 0.0\n",
      "Standard Deviation of TP: 0.0\n"
     ]
    },
    {
     "data": {
      "image/png": "[encoded data removed]",
      "text/plain": [
       "<Figure size 432x288 with 1 Axes>"
      ]
     },
     "metadata": {
      "needs_background": "light"
     },
     "output_type": "display_data"
    },
    {
     "name": "stdout",
     "output_type": "stream",
     "text": [
      "Mean of FN: 149.0\n",
      "Variance of FN: 0.0\n",
      "Standard Deviation of FN: 0.0\n"
     ]
    },
    {
     "data": {
      "image/png": "[encoded data removed]",
      "text/plain": [
       "<Figure size 432x288 with 1 Axes>"
      ]
     },
     "metadata": {
      "needs_background": "light"
     },
     "output_type": "display_data"
    },
    {
     "name": "stdout",
     "output_type": "stream",
     "text": [
      "Mean of FP: 0.0\n",
      "Variance of FP: 0.0\n",
      "Standard Deviation of FP: 0.0\n"
     ]
    }
   ],
   "source": [
    "display_results(baseline_cv_results, 10)"
   ]
  },
  {
   "cell_type": "markdown",
   "metadata": {},
   "source": [
    "### Decision Tree Model"
   ]
  },
  {
   "cell_type": "markdown",
   "metadata": {},
   "source": [
    "The decision tree was chosen as a model to use because it is part of a class of ML models that tend to be more interpretable to humans than others. The decision tree is a model that classifies samples using a set of decision rules that act upon the features of each sample. This set of rules can be organized into a binary tree of decision rules where each sample traces a path from root to leaf where it is assigned a probability for classification. This characteristic of decision trees makes them much easier to interpret than other machine learning models."
   ]
  },
  {
   "cell_type": "code",
   "execution_count": 39,
   "metadata": {},
   "outputs": [],
   "source": [
    "import pickle\n",
    "import sklearn\n",
    "import matplotlib.pyplot as plt\n",
    "from sklearn.tree import DecisionTreeClassifier\n",
    "from sklearn.model_selection import cross_validate\n",
    "from sklearn.model_selection import train_test_split\n",
    "\n",
    "# Random Seed\n",
    "seed = 42\n",
    "# Number of folds to use in k-fold cross-validation\n",
    "k_folds = 10"
   ]
  },
  {
   "cell_type": "code",
   "execution_count": 40,
   "metadata": {},
   "outputs": [],
   "source": [
    "with open('dataset.pickle', 'rb') as f:\n",
    "    X, y, _, _ = pickle.load(f)"
   ]
  },
  {
   "cell_type": "code",
   "execution_count": 41,
   "metadata": {},
   "outputs": [],
   "source": [
    "def display_results(results, hist_bins=None):\n",
    "    \n",
    "    metric_names = [name for name in results.keys() if 'test' in name]\n",
    "    \n",
    "    for metric_name in metric_names:\n",
    "        \n",
    "        metric_values = results[metric_name]\n",
    "        name = metric_name.split('test_', 1)[1]\n",
    "        \n",
    "        fig, ax = plt.subplots()\n",
    "        ax.hist(metric_values, bins=hist_bins)\n",
    "        ax.set_ylabel('Counts')\n",
    "        ax.set_xlabel(name)\n",
    "        ax.set_title('Histogram for metric {}'.format(name))\n",
    "        plt.show()\n",
    "        \n",
    "        print('Mean of {}: {}'.format(name, metric_values.mean()))\n",
    "        print('Variance of {}: {}'.format(name, metric_values.var()))\n",
    "        print('Standard Deviation of {}: {}'.format(name, metric_values.std()))\n",
    "        \n",
    "    return None"
   ]
  },
  {
   "cell_type": "markdown",
   "metadata": {},
   "source": [
    "Splitting train dataset into train and test datasets."
   ]
  },
  {
   "cell_type": "code",
   "execution_count": 42,
   "metadata": {},
   "outputs": [
    {
     "name": "stdout",
     "output_type": "stream",
     "text": [
      "Train dataset size: 10800\n",
      "Test dataset size: 1200\n"
     ]
    }
   ],
   "source": [
    "X_train, X_test, y_train, y_test = train_test_split(X, y, train_size=0.9, stratify=y, random_state=seed)\n",
    "print('Train dataset size: {}'.format(len(y_train)))\n",
    "print('Test dataset size: {}'.format(len(y_test)))"
   ]
  },
  {
   "cell_type": "markdown",
   "metadata": {},
   "source": [
    "Building model. "
   ]
  },
  {
   "cell_type": "code",
   "execution_count": 43,
   "metadata": {},
   "outputs": [],
   "source": [
    "# Defining Hyperparameters\n",
    "hyperparameters = {'random_state': seed}\n",
    "\n",
    "# Defining Metrics\n",
    "def tn(y_true, y_pred):\n",
    "    return sklearn.metrics.confusion_matrix(y_true, y_pred)[0, 0]\n",
    "def fp(y_true, y_pred):\n",
    "    return sklearn.metrics.confusion_matrix(y_true, y_pred)[0, 1]\n",
    "def fn(y_true, y_pred):\n",
    "    return sklearn.metrics.confusion_matrix(y_true, y_pred)[1, 0]\n",
    "def tp(y_true, y_pred):\n",
    "    return sklearn.metrics.confusion_matrix(y_true, y_pred)[1, 1]\n",
    "\n",
    "metrics = {'Accuracy': 'accuracy', 'Precision': 'precision', 'Recall': 'recall',\n",
    "           'PR_AUC': 'average_precision', 'F1-score': 'f1',\n",
    "           'TN': sklearn.metrics.make_scorer(tn), 'TP': sklearn.metrics.make_scorer(tp),\n",
    "           'FN': sklearn.metrics.make_scorer(fn), 'FP': sklearn.metrics.make_scorer(fp)}"
   ]
  },
  {
   "cell_type": "code",
   "execution_count": 44,
   "metadata": {},
   "outputs": [],
   "source": [
    "tree_model = DecisionTreeClassifier(**hyperparameters)"
   ]
  },
  {
   "cell_type": "markdown",
   "metadata": {},
   "source": [
    "Training and evaluating model, estimating metrics using k-fold cross-validation."
   ]
  },
  {
   "cell_type": "code",
   "execution_count": 45,
   "metadata": {},
   "outputs": [],
   "source": [
    "tree_cv_results = cross_validate(tree_model, X_train, y_train, cv=k_folds, scoring=metrics)"
   ]
  },
  {
   "cell_type": "code",
   "execution_count": 46,
   "metadata": {},
   "outputs": [
    {
     "data": {
      "image/png": "[encoded data removed]",
      "text/plain": [
       "<Figure size 432x288 with 1 Axes>"
      ]
     },
     "metadata": {
      "needs_background": "light"
     },
     "output_type": "display_data"
    },
    {
     "name": "stdout",
     "output_type": "stream",
     "text": [
      "Mean of Accuracy: 0.7878703703703703\n",
      "Variance of Accuracy: 0.0001235339506172837\n",
      "Standard Deviation of Accuracy: 0.011114582790968075\n"
     ]
    },
    {
     "data": {
      "image/png": "[encoded data removed]",
      "text/plain": [
       "<Figure size 432x288 with 1 Axes>"
      ]
     },
     "metadata": {
      "needs_background": "light"
     },
     "output_type": "display_data"
    },
    {
     "name": "stdout",
     "output_type": "stream",
     "text": [
      "Mean of Precision: 0.16375808332161035\n",
      "Variance of Precision: 0.0007416245047534282\n",
      "Standard Deviation of Precision: 0.027232783639456106\n"
     ]
    },
    {
     "data": {
      "image/png": "[encoded data removed]",
      "text/plain": [
       "<Figure size 432x288 with 1 Axes>"
      ]
     },
     "metadata": {
      "needs_background": "light"
     },
     "output_type": "display_data"
    },
    {
     "name": "stdout",
     "output_type": "stream",
     "text": [
      "Mean of Recall: 0.13154362416107382\n",
      "Variance of Recall: 0.0008936534390342777\n",
      "Standard Deviation of Recall: 0.029894036847409513\n"
     ]
    },
    {
     "data": {
      "image/png": "[encoded data removed]",
      "text/plain": [
       "<Figure size 432x288 with 1 Axes>"
      ]
     },
     "metadata": {
      "needs_background": "light"
     },
     "output_type": "display_data"
    },
    {
     "name": "stdout",
     "output_type": "stream",
     "text": [
      "Mean of PR_AUC: 0.14351332390625496\n",
      "Variance of PR_AUC: 3.659271115559866e-05\n",
      "Standard Deviation of PR_AUC: 0.006049190950498972\n"
     ]
    },
    {
     "data": {
      "image/png": "[encoded data removed]",
      "text/plain": [
       "<Figure size 432x288 with 1 Axes>"
      ]
     },
     "metadata": {
      "needs_background": "light"
     },
     "output_type": "display_data"
    },
    {
     "name": "stdout",
     "output_type": "stream",
     "text": [
      "Mean of F1-score: 0.14523305252361898\n",
      "Variance of F1-score: 0.0007585955406849516\n",
      "Standard Deviation of F1-score: 0.02754261317821807\n"
     ]
    },
    {
     "data": {
      "image/png": "[encoded data removed]",
      "text/plain": [
       "<Figure size 432x288 with 1 Axes>"
      ]
     },
     "metadata": {
      "needs_background": "light"
     },
     "output_type": "display_data"
    },
    {
     "name": "stdout",
     "output_type": "stream",
     "text": [
      "Mean of TN: 831.3\n",
      "Variance of TN: 189.20999999999998\n",
      "Standard Deviation of TN: 13.755362590640786\n"
     ]
    },
    {
     "data": {
      "image/png": "[encoded data removed]",
      "text/plain": [
       "<Figure size 432x288 with 1 Axes>"
      ]
     },
     "metadata": {
      "needs_background": "light"
     },
     "output_type": "display_data"
    },
    {
     "name": "stdout",
     "output_type": "stream",
     "text": [
      "Mean of TP: 19.6\n",
      "Variance of TP: 19.84\n",
      "Standard Deviation of TP: 4.454211490264018\n"
     ]
    },
    {
     "data": {
      "image/png": "[encoded data removed]",
      "text/plain": [
       "<Figure size 432x288 with 1 Axes>"
      ]
     },
     "metadata": {
      "needs_background": "light"
     },
     "output_type": "display_data"
    },
    {
     "name": "stdout",
     "output_type": "stream",
     "text": [
      "Mean of FN: 129.4\n",
      "Variance of FN: 19.84\n",
      "Standard Deviation of FN: 4.454211490264018\n"
     ]
    },
    {
     "data": {
      "image/png": "[encoded data removed]",
      "text/plain": [
       "<Figure size 432x288 with 1 Axes>"
      ]
     },
     "metadata": {
      "needs_background": "light"
     },
     "output_type": "display_data"
    },
    {
     "name": "stdout",
     "output_type": "stream",
     "text": [
      "Mean of FP: 99.7\n",
      "Variance of FP: 189.20999999999998\n",
      "Standard Deviation of FP: 13.755362590640786\n"
     ]
    }
   ],
   "source": [
    "display_results(tree_cv_results, 10)"
   ]
  },
  {
   "cell_type": "markdown",
   "metadata": {},
   "source": [
    "From the above results it appears our basic decision tree model is performing better than the baseline on all metrics except accuracy, this is a good sign. From our exploratory data analysis we know our dataset is unbalanced with a minority class of adopted (represented as 1). We also are more interested in understanding what factors lead to a user being labeled as adopted as opposed to not adopted. Therefore accuracy is not the best metric to judge our model, and we should be focusing on maximizing precision, recall, F1-score, or PR_AUC (area under precision recall curve). Since PR_AUC can be interpretted as the precision averaged over all values of recall, and all values of recall can be spanned by varying the classification threshold, PR_AUC gives a good summarization of the models precision and recall capabilities irrespective of the models current classification threshold. Therefore the metric we will choose to maximize is PR_AUC."
   ]
  },
  {
   "cell_type": "markdown",
   "metadata": {},
   "source": [
    "#### Hyperparameter Tuning "
   ]
  },
  {
   "cell_type": "code",
   "execution_count": 6,
   "metadata": {},
   "outputs": [],
   "source": [
    "import pickle\n",
    "from sklearn.tree import DecisionTreeClassifier\n",
    "from sklearn.model_selection import GridSearchCV\n",
    "from sklearn.model_selection import train_test_split\n",
    "\n",
    "# Random Seed\n",
    "seed = 42\n",
    "# Number of folds to use in k-fold cross-validation\n",
    "k_folds = 10"
   ]
  },
  {
   "cell_type": "code",
   "execution_count": 7,
   "metadata": {},
   "outputs": [],
   "source": [
    "with open('dataset.pickle', 'rb') as f:\n",
    "    X, y, _, _ = pickle.load(f)"
   ]
  },
  {
   "cell_type": "markdown",
   "metadata": {},
   "source": [
    "Splitting train dataset into train and test datasets."
   ]
  },
  {
   "cell_type": "code",
   "execution_count": 8,
   "metadata": {},
   "outputs": [
    {
     "name": "stdout",
     "output_type": "stream",
     "text": [
      "Train dataset size: 10800\n",
      "Test dataset size: 1200\n"
     ]
    }
   ],
   "source": [
    "X_train, X_test, y_train, y_test = train_test_split(X, y, train_size=0.9, stratify=y, random_state=seed)\n",
    "print('Train dataset size: {}'.format(len(y_train)))\n",
    "print('Test dataset size: {}'.format(len(y_test)))"
   ]
  },
  {
   "cell_type": "markdown",
   "metadata": {},
   "source": [
    "Building grid search model."
   ]
  },
  {
   "cell_type": "code",
   "execution_count": 9,
   "metadata": {},
   "outputs": [],
   "source": [
    "param_grid = {'criterion': ['gini', 'entropy'], 'max_depth': [i for i in range(2, 15)] + [None],\n",
    "              'random_state': [seed], }\n",
    "metric = 'average_precision'"
   ]
  },
  {
   "cell_type": "code",
   "execution_count": 10,
   "metadata": {},
   "outputs": [],
   "source": [
    "gs_model = GridSearchCV(DecisionTreeClassifier(), param_grid=param_grid,\n",
    "                        scoring=metric, n_jobs=-1, cv=k_folds, refit=False)"
   ]
  },
  {
   "cell_type": "markdown",
   "metadata": {},
   "source": [
    "Training and evaluating grid search model using k-fold cross validation."
   ]
  },
  {
   "cell_type": "code",
   "execution_count": 11,
   "metadata": {},
   "outputs": [],
   "source": [
    "gs_model = gs_model.fit(X_train, y_train)"
   ]
  },
  {
   "cell_type": "code",
   "execution_count": 12,
   "metadata": {},
   "outputs": [
    {
     "name": "stdout",
     "output_type": "stream",
     "text": [
      "Best PR_AUC: 0.1778658613798485\n",
      "Best Hyperparameters: {'criterion': 'entropy', 'max_depth': 8, 'random_state': 42}\n"
     ]
    }
   ],
   "source": [
    "print('Best PR_AUC: {}'.format(gs_model.best_score_))\n",
    "print('Best Hyperparameters: {}'.format(gs_model.best_params_))"
   ]
  },
  {
   "cell_type": "markdown",
   "metadata": {},
   "source": [
    "Writing tuned hyperparameters to disk."
   ]
  },
  {
   "cell_type": "code",
   "execution_count": 13,
   "metadata": {},
   "outputs": [],
   "source": [
    "with open('hyperparameters_tree.pickle', 'wb') as f:\n",
    "    pickle.dump(gs_model.best_params_, f)"
   ]
  },
  {
   "cell_type": "markdown",
   "metadata": {},
   "source": [
    "#### Evaluating Model"
   ]
  },
  {
   "cell_type": "code",
   "execution_count": 1,
   "metadata": {},
   "outputs": [],
   "source": [
    "import pickle\n",
    "import sklearn\n",
    "import matplotlib.pyplot as plt\n",
    "from sklearn.tree import DecisionTreeClassifier\n",
    "from sklearn.model_selection import cross_validate\n",
    "from sklearn.model_selection import train_test_split\n",
    "\n",
    "# Random Seed\n",
    "seed = 42\n",
    "# Number of folds to use in k-fold cross-validation\n",
    "k_folds = 10"
   ]
  },
  {
   "cell_type": "code",
   "execution_count": 2,
   "metadata": {},
   "outputs": [],
   "source": [
    "with open('dataset.pickle', 'rb') as f:\n",
    "    X, y, _, _ = pickle.load(f)"
   ]
  },
  {
   "cell_type": "code",
   "execution_count": 3,
   "metadata": {},
   "outputs": [],
   "source": [
    "def display_results(results, hist_bins=None):\n",
    "    \n",
    "    metric_names = [name for name in results.keys() if 'test' in name]\n",
    "    \n",
    "    for metric_name in metric_names:\n",
    "        \n",
    "        metric_values = results[metric_name]\n",
    "        name = metric_name.split('test_', 1)[1]\n",
    "        \n",
    "        fig, ax = plt.subplots()\n",
    "        ax.hist(metric_values, bins=hist_bins)\n",
    "        ax.set_ylabel('Counts')\n",
    "        ax.set_xlabel(name)\n",
    "        ax.set_title('Histogram for metric {}'.format(name))\n",
    "        plt.show()\n",
    "        \n",
    "        print('Mean of {}: {}'.format(name, metric_values.mean()))\n",
    "        print('Variance of {}: {}'.format(name, metric_values.var()))\n",
    "        print('Standard Deviation of {}: {}'.format(name, metric_values.std()))\n",
    "        \n",
    "    return None"
   ]
  },
  {
   "cell_type": "markdown",
   "metadata": {},
   "source": [
    "Splitting train dataset into train and test datasets."
   ]
  },
  {
   "cell_type": "code",
   "execution_count": 4,
   "metadata": {},
   "outputs": [
    {
     "name": "stdout",
     "output_type": "stream",
     "text": [
      "Train dataset size: 10800\n",
      "Test dataset size: 1200\n"
     ]
    }
   ],
   "source": [
    "X_train, X_test, y_train, y_test = train_test_split(X, y, train_size=0.9, stratify=y, random_state=seed)\n",
    "print('Train dataset size: {}'.format(len(y_train)))\n",
    "print('Test dataset size: {}'.format(len(y_test)))"
   ]
  },
  {
   "cell_type": "markdown",
   "metadata": {},
   "source": [
    "Building model. "
   ]
  },
  {
   "cell_type": "code",
   "execution_count": 5,
   "metadata": {},
   "outputs": [],
   "source": [
    "# Defining Hyperparameters\n",
    "with open('hyperparameters_tree.pickle', 'rb') as f:\n",
    "    hyperparameters = pickle.load(f)\n",
    "\n",
    "# Defining Metrics\n",
    "def tn(y_true, y_pred):\n",
    "    return sklearn.metrics.confusion_matrix(y_true, y_pred)[0, 0]\n",
    "def fp(y_true, y_pred):\n",
    "    return sklearn.metrics.confusion_matrix(y_true, y_pred)[0, 1]\n",
    "def fn(y_true, y_pred):\n",
    "    return sklearn.metrics.confusion_matrix(y_true, y_pred)[1, 0]\n",
    "def tp(y_true, y_pred):\n",
    "    return sklearn.metrics.confusion_matrix(y_true, y_pred)[1, 1]\n",
    "\n",
    "metrics = {'Accuracy': 'accuracy', 'Precision': 'precision', 'Recall': 'recall',\n",
    "           'PR_AUC': 'average_precision', 'F1-score': 'f1',\n",
    "           'TN': sklearn.metrics.make_scorer(tn), 'TP': sklearn.metrics.make_scorer(tp),\n",
    "           'FN': sklearn.metrics.make_scorer(fn), 'FP': sklearn.metrics.make_scorer(fp)}"
   ]
  },
  {
   "cell_type": "code",
   "execution_count": 6,
   "metadata": {},
   "outputs": [],
   "source": [
    "tree_model = DecisionTreeClassifier(**hyperparameters)"
   ]
  },
  {
   "cell_type": "markdown",
   "metadata": {},
   "source": [
    "Training and evaluating model, estimating metrics using k-fold cross-validation."
   ]
  },
  {
   "cell_type": "code",
   "execution_count": 7,
   "metadata": {},
   "outputs": [],
   "source": [
    "tree_cv_results = cross_validate(tree_model, X_train, y_train, cv=k_folds, scoring=metrics)"
   ]
  },
  {
   "cell_type": "code",
   "execution_count": 8,
   "metadata": {},
   "outputs": [
    {
     "data": {
      "image/png": "[encoded data removed]",
      "text/plain": [
       "<Figure size 432x288 with 1 Axes>"
      ]
     },
     "metadata": {
      "needs_background": "light"
     },
     "output_type": "display_data"
    },
    {
     "name": "stdout",
     "output_type": "stream",
     "text": [
      "Mean of Accuracy: 0.8547222222222223\n",
      "Variance of Accuracy: 9.336419753086322e-06\n",
      "Standard Deviation of Accuracy: 0.0030555555555555397\n"
     ]
    },
    {
     "data": {
      "image/png": "[encoded data removed]",
      "text/plain": [
       "<Figure size 432x288 with 1 Axes>"
      ]
     },
     "metadata": {
      "needs_background": "light"
     },
     "output_type": "display_data"
    },
    {
     "name": "stdout",
     "output_type": "stream",
     "text": [
      "Mean of Precision: 0.10846320346320346\n",
      "Variance of Precision: 0.009760201270590881\n",
      "Standard Deviation of Precision: 0.09879373092757901\n"
     ]
    },
    {
     "data": {
      "image/png": "[encoded data removed]",
      "text/plain": [
       "<Figure size 432x288 with 1 Axes>"
      ]
     },
     "metadata": {
      "needs_background": "light"
     },
     "output_type": "display_data"
    },
    {
     "name": "stdout",
     "output_type": "stream",
     "text": [
      "Mean of Recall: 0.007382550335570469\n",
      "Variance of Recall: 4.008828431151749e-05\n",
      "Standard Deviation of Recall: 0.006331530961111814\n"
     ]
    },
    {
     "data": {
      "image/png": "[encoded data removed]",
      "text/plain": [
       "<Figure size 432x288 with 1 Axes>"
      ]
     },
     "metadata": {
      "needs_background": "light"
     },
     "output_type": "display_data"
    },
    {
     "name": "stdout",
     "output_type": "stream",
     "text": [
      "Mean of PR_AUC: 0.17650198624020824\n",
      "Variance of PR_AUC: 7.42029482620332e-05\n",
      "Standard Deviation of PR_AUC: 0.008614113318388213\n"
     ]
    },
    {
     "data": {
      "image/png": "[encoded data removed]",
      "text/plain": [
       "<Figure size 432x288 with 1 Axes>"
      ]
     },
     "metadata": {
      "needs_background": "light"
     },
     "output_type": "display_data"
    },
    {
     "name": "stdout",
     "output_type": "stream",
     "text": [
      "Mean of F1-score: 0.013754885385044758\n",
      "Variance of F1-score: 0.0001392287040102805\n",
      "Standard Deviation of F1-score: 0.011799521346659809\n"
     ]
    },
    {
     "data": {
      "image/png": "[encoded data removed]",
      "text/plain": [
       "<Figure size 432x288 with 1 Axes>"
      ]
     },
     "metadata": {
      "needs_background": "light"
     },
     "output_type": "display_data"
    },
    {
     "name": "stdout",
     "output_type": "stream",
     "text": [
      "Mean of TN: 922.0\n",
      "Variance of TN: 10.2\n",
      "Standard Deviation of TN: 3.1937438845342623\n"
     ]
    },
    {
     "data": {
      "image/png": "[encoded data removed]",
      "text/plain": [
       "<Figure size 432x288 with 1 Axes>"
      ]
     },
     "metadata": {
      "needs_background": "light"
     },
     "output_type": "display_data"
    },
    {
     "name": "stdout",
     "output_type": "stream",
     "text": [
      "Mean of TP: 1.1\n",
      "Variance of TP: 0.8900000000000002\n",
      "Standard Deviation of TP: 0.9433981132056605\n"
     ]
    },
    {
     "data": {
      "image/png": "[encoded data removed]",
      "text/plain": [
       "<Figure size 432x288 with 1 Axes>"
      ]
     },
     "metadata": {
      "needs_background": "light"
     },
     "output_type": "display_data"
    },
    {
     "name": "stdout",
     "output_type": "stream",
     "text": [
      "Mean of FN: 147.9\n",
      "Variance of FN: 0.8899999999999999\n",
      "Standard Deviation of FN: 0.9433981132056604\n"
     ]
    },
    {
     "data": {
      "image/png": "[encoded data removed]",
      "text/plain": [
       "<Figure size 432x288 with 1 Axes>"
      ]
     },
     "metadata": {
      "needs_background": "light"
     },
     "output_type": "display_data"
    },
    {
     "name": "stdout",
     "output_type": "stream",
     "text": [
      "Mean of FP: 9.0\n",
      "Variance of FP: 10.2\n",
      "Standard Deviation of FP: 3.1937438845342623\n"
     ]
    }
   ],
   "source": [
    "display_results(tree_cv_results, 10)"
   ]
  },
  {
   "cell_type": "markdown",
   "metadata": {},
   "source": [
    "### Conclusions"
   ]
  },
  {
   "cell_type": "markdown",
   "metadata": {},
   "source": [
    "Initially the goal was to identify which factors predict future user adoption. This implies that prediction of the positive class is more valuable which means we should be focusing on the PR_AUC, precision, recall, and F1-score metrics of the models we are considering. It is clear from the above analysis that the model that performs best on our metrics is the best performing Decision Tree model, thus we will k-fold evaluate this model on our test dataset to get a better gauge on this model's true performance."
   ]
  },
  {
   "cell_type": "markdown",
   "metadata": {},
   "source": [
    "#### Evaluating Model"
   ]
  },
  {
   "cell_type": "code",
   "execution_count": 1,
   "metadata": {},
   "outputs": [],
   "source": [
    "import pickle\n",
    "import sklearn\n",
    "import matplotlib.pyplot as plt\n",
    "from sklearn.tree import DecisionTreeClassifier\n",
    "from sklearn.model_selection import cross_validate\n",
    "\n",
    "# Random Seed\n",
    "seed = 42\n",
    "# Number of folds to use in k-fold cross-validation\n",
    "k_folds = 10"
   ]
  },
  {
   "cell_type": "code",
   "execution_count": 3,
   "metadata": {},
   "outputs": [],
   "source": [
    "with open('dataset.pickle', 'rb') as f:\n",
    "    X, y, _, _ = pickle.load(f)"
   ]
  },
  {
   "cell_type": "code",
   "execution_count": 4,
   "metadata": {},
   "outputs": [],
   "source": [
    "def display_results(results, hist_bins=None):\n",
    "    \n",
    "    metric_names = [name for name in results.keys() if 'test' in name]\n",
    "    \n",
    "    for metric_name in metric_names:\n",
    "        \n",
    "        metric_values = results[metric_name]\n",
    "        name = metric_name.split('test_', 1)[1]\n",
    "        \n",
    "        fig, ax = plt.subplots()\n",
    "        ax.hist(metric_values, bins=hist_bins)\n",
    "        ax.set_ylabel('Counts')\n",
    "        ax.set_xlabel(name)\n",
    "        ax.set_title('Histogram for metric {}'.format(name))\n",
    "        plt.show()\n",
    "        \n",
    "        print('Mean of {}: {}'.format(name, metric_values.mean()))\n",
    "        print('Variance of {}: {}'.format(name, metric_values.var()))\n",
    "        print('Standard Deviation of {}: {}'.format(name, metric_values.std()))\n",
    "        \n",
    "    return None"
   ]
  },
  {
   "cell_type": "markdown",
   "metadata": {},
   "source": [
    "Building model. "
   ]
  },
  {
   "cell_type": "code",
   "execution_count": 5,
   "metadata": {},
   "outputs": [],
   "source": [
    "# Defining Hyperparameters\n",
    "with open('hyperparameters_tree.pickle', 'rb') as f:\n",
    "    hyperparameters = pickle.load(f)\n",
    "\n",
    "# Defining Metrics\n",
    "def tn(y_true, y_pred):\n",
    "    return sklearn.metrics.confusion_matrix(y_true, y_pred)[0, 0]\n",
    "def fp(y_true, y_pred):\n",
    "    return sklearn.metrics.confusion_matrix(y_true, y_pred)[0, 1]\n",
    "def fn(y_true, y_pred):\n",
    "    return sklearn.metrics.confusion_matrix(y_true, y_pred)[1, 0]\n",
    "def tp(y_true, y_pred):\n",
    "    return sklearn.metrics.confusion_matrix(y_true, y_pred)[1, 1]\n",
    "\n",
    "metrics = {'Accuracy': 'accuracy', 'Precision': 'precision', 'Recall': 'recall',\n",
    "           'PR_AUC': 'average_precision', 'F1-score': 'f1',\n",
    "           'TN': sklearn.metrics.make_scorer(tn), 'TP': sklearn.metrics.make_scorer(tp),\n",
    "           'FN': sklearn.metrics.make_scorer(fn), 'FP': sklearn.metrics.make_scorer(fp)}"
   ]
  },
  {
   "cell_type": "code",
   "execution_count": 6,
   "metadata": {},
   "outputs": [],
   "source": [
    "tree_model = DecisionTreeClassifier(**hyperparameters)"
   ]
  },
  {
   "cell_type": "markdown",
   "metadata": {},
   "source": [
    "Training and evaluating model using k-fold cross-validation."
   ]
  },
  {
   "cell_type": "code",
   "execution_count": 7,
   "metadata": {},
   "outputs": [],
   "source": [
    "tree_cv_results = cross_validate(tree_model, X, y, cv=k_folds, scoring=metrics)"
   ]
  },
  {
   "cell_type": "code",
   "execution_count": 8,
   "metadata": {},
   "outputs": [
    {
     "data": {
      "image/png": "[encoded data removed]",
      "text/plain": [
       "<Figure size 432x288 with 1 Axes>"
      ]
     },
     "metadata": {
      "needs_background": "light"
     },
     "output_type": "display_data"
    },
    {
     "name": "stdout",
     "output_type": "stream",
     "text": [
      "Mean of Accuracy: 0.8549166666666668\n",
      "Variance of Accuracy: 6.173611111111014e-06\n",
      "Standard Deviation of Accuracy: 0.0024846752526459094\n"
     ]
    },
    {
     "data": {
      "image/png": "[encoded data removed]",
      "text/plain": [
       "<Figure size 432x288 with 1 Axes>"
      ]
     },
     "metadata": {
      "needs_background": "light"
     },
     "output_type": "display_data"
    },
    {
     "name": "stdout",
     "output_type": "stream",
     "text": [
      "Mean of Precision: 0.15946511821511822\n",
      "Variance of Precision: 0.014065595578143967\n",
      "Standard Deviation of Precision: 0.11859846364158334\n"
     ]
    },
    {
     "data": {
      "image/png": "[encoded data removed]",
      "text/plain": [
       "<Figure size 432x288 with 1 Axes>"
      ]
     },
     "metadata": {
      "needs_background": "light"
     },
     "output_type": "display_data"
    },
    {
     "name": "stdout",
     "output_type": "stream",
     "text": [
      "Mean of Recall: 0.01208105147864184\n",
      "Variance of Recall: 7.306612356692193e-05\n",
      "Standard Deviation of Recall: 0.008547872458508136\n"
     ]
    },
    {
     "data": {
      "image/png": "[encoded data removed]",
      "text/plain": [
       "<Figure size 432x288 with 1 Axes>"
      ]
     },
     "metadata": {
      "needs_background": "light"
     },
     "output_type": "display_data"
    },
    {
     "name": "stdout",
     "output_type": "stream",
     "text": [
      "Mean of PR_AUC: 0.1783132730755206\n",
      "Variance of PR_AUC: 7.366863249356866e-05\n",
      "Standard Deviation of PR_AUC: 0.008583043311877708\n"
     ]
    },
    {
     "data": {
      "image/png": "[encoded data removed]",
      "text/plain": [
       "<Figure size 432x288 with 1 Axes>"
      ]
     },
     "metadata": {
      "needs_background": "light"
     },
     "output_type": "display_data"
    },
    {
     "name": "stdout",
     "output_type": "stream",
     "text": [
      "Mean of F1-score: 0.022423514179409663\n",
      "Variance of F1-score: 0.00025285667957678187\n",
      "Standard Deviation of F1-score: 0.015901467843465956\n"
     ]
    },
    {
     "data": {
      "image/png": "[encoded data removed]",
      "text/plain": [
       "<Figure size 432x288 with 1 Axes>"
      ]
     },
     "metadata": {
      "needs_background": "light"
     },
     "output_type": "display_data"
    },
    {
     "name": "stdout",
     "output_type": "stream",
     "text": [
      "Mean of TN: 1023.9\n",
      "Variance of TN: 4.090000000000001\n",
      "Standard Deviation of TN: 2.022374841615669\n"
     ]
    },
    {
     "data": {
      "image/png": "[encoded data removed]",
      "text/plain": [
       "<Figure size 432x288 with 1 Axes>"
      ]
     },
     "metadata": {
      "needs_background": "light"
     },
     "output_type": "display_data"
    },
    {
     "name": "stdout",
     "output_type": "stream",
     "text": [
      "Mean of TP: 2.0\n",
      "Variance of TP: 2.0\n",
      "Standard Deviation of TP: 1.4142135623730951\n"
     ]
    },
    {
     "data": {
      "image/png": "[encoded data removed]",
      "text/plain": [
       "<Figure size 432x288 with 1 Axes>"
      ]
     },
     "metadata": {
      "needs_background": "light"
     },
     "output_type": "display_data"
    },
    {
     "name": "stdout",
     "output_type": "stream",
     "text": [
      "Mean of FN: 163.6\n",
      "Variance of FN: 2.44\n",
      "Standard Deviation of FN: 1.5620499351813308\n"
     ]
    },
    {
     "data": {
      "image/png": "[encoded data removed]",
      "text/plain": [
       "<Figure size 432x288 with 1 Axes>"
      ]
     },
     "metadata": {
      "needs_background": "light"
     },
     "output_type": "display_data"
    },
    {
     "name": "stdout",
     "output_type": "stream",
     "text": [
      "Mean of FP: 10.5\n",
      "Variance of FP: 5.05\n",
      "Standard Deviation of FP: 2.247220505424423\n"
     ]
    }
   ],
   "source": [
    "display_results(tree_cv_results, 10)"
   ]
  },
  {
   "cell_type": "markdown",
   "metadata": {},
   "source": [
    "## Analyzing Model"
   ]
  },
  {
   "cell_type": "markdown",
   "metadata": {},
   "source": [
    "In order to gain a better understand of what factors influence future user adoption trends we have to gain a better understanding of how our selected model is making decisions. To do so we will plot our models graph which in the case of a decision tree, are the selection rules it uses to make a decision."
   ]
  },
  {
   "cell_type": "code",
   "execution_count": 1,
   "metadata": {},
   "outputs": [],
   "source": [
    "import pickle\n",
    "import graphviz\n",
    "from sklearn import tree\n",
    "from sklearn.tree import DecisionTreeClassifier\n",
    "\n",
    "# Random Seed\n",
    "seed = 42\n",
    "# Number of folds to use in k-fold cross-validation\n",
    "k_folds = 10"
   ]
  },
  {
   "cell_type": "code",
   "execution_count": 2,
   "metadata": {},
   "outputs": [],
   "source": [
    "with open('dataset.pickle', 'rb') as f:\n",
    "    X, y, feature_names, label_name = pickle.load(f)"
   ]
  },
  {
   "cell_type": "markdown",
   "metadata": {},
   "source": [
    "Building model."
   ]
  },
  {
   "cell_type": "code",
   "execution_count": 3,
   "metadata": {},
   "outputs": [],
   "source": [
    "# Defining Hyperparameters\n",
    "with open('hyperparameters_tree.pickle', 'rb') as f:\n",
    "    hyperparameters = pickle.load(f)"
   ]
  },
  {
   "cell_type": "code",
   "execution_count": 4,
   "metadata": {},
   "outputs": [],
   "source": [
    "tree_model = DecisionTreeClassifier(**hyperparameters)"
   ]
  },
  {
   "cell_type": "markdown",
   "metadata": {},
   "source": [
    "Training model on full dataset."
   ]
  },
  {
   "cell_type": "code",
   "execution_count": 5,
   "metadata": {},
   "outputs": [],
   "source": [
    "tree_model = tree_model.fit(X, y)"
   ]
  },
  {
   "cell_type": "markdown",
   "metadata": {},
   "source": [
    "Plotting the Decision Tree."
   ]
  },
  {
   "cell_type": "code",
   "execution_count": 10,
   "metadata": {},
   "outputs": [
    {
     "data": {
      "image/svg+xml": [
       "<?xml version=\"1.0\" encoding=\"UTF-8\" standalone=\"no\"?>\n",
       "<!DOCTYPE svg PUBLIC \"-//W3C//DTD SVG 1.1//EN\"\n",
       " \"http://www.w3.org/Graphics/SVG/1.1/DTD/svg11.dtd\">\n",
       "<!-- Generated by graphviz version 2.40.1 (20161225.0304)\n",
       " -->\n",
       "<!-- Title: Tree Pages: 1 -->\n",
       "<svg width=\"6245pt\" height=\"1266pt\"\n",
       " viewBox=\"0.00 0.00 6245.00 1266.00\" xmlns=\"http://www.w3.org/2000/svg\" xmlns:xlink=\"http://www.w3.org/1999/xlink\">\n",
       "<g id=\"graph0\" class=\"graph\" transform=\"scale(1 1) rotate(0) translate(4 1262)\">\n",
       "<title>Tree</title>\n",
       "<polygon fill=\"#ffffff\" stroke=\"transparent\" points=\"-4,4 -4,-1262 6241,-1262 6241,4 -4,4\"/>\n",
       "<!-- 0 -->\n",
       "<g id=\"node1\" class=\"node\">\n",
       "<title>0</title>\n",
       "<path fill=\"#e99559\" stroke=\"#000000\" d=\"M4767.5,-1258C4767.5,-1258 4564.5,-1258 4564.5,-1258 4558.5,-1258 4552.5,-1252 4552.5,-1246 4552.5,-1246 4552.5,-1187 4552.5,-1187 4552.5,-1181 4558.5,-1175 4564.5,-1175 4564.5,-1175 4767.5,-1175 4767.5,-1175 4773.5,-1175 4779.5,-1181 4779.5,-1187 4779.5,-1187 4779.5,-1246 4779.5,-1246 4779.5,-1252 4773.5,-1258 4767.5,-1258\"/>\n",
       "<text text-anchor=\"start\" x=\"4560.5\" y=\"-1242.8\" font-family=\"Helvetica,sans-Serif\" font-size=\"14.00\" fill=\"#000000\">cs_PERSONAL_PROJECTS ≤ 0.5</text>\n",
       "<text text-anchor=\"start\" x=\"4618.5\" y=\"-1227.8\" font-family=\"Helvetica,sans-Serif\" font-size=\"14.00\" fill=\"#000000\">entropy = 0.579</text>\n",
       "<text text-anchor=\"start\" x=\"4613.5\" y=\"-1212.8\" font-family=\"Helvetica,sans-Serif\" font-size=\"14.00\" fill=\"#000000\">samples = 12000</text>\n",
       "<text text-anchor=\"start\" x=\"4600.5\" y=\"-1197.8\" font-family=\"Helvetica,sans-Serif\" font-size=\"14.00\" fill=\"#000000\">value = [10344, 1656]</text>\n",
       "<text text-anchor=\"start\" x=\"4633\" y=\"-1182.8\" font-family=\"Helvetica,sans-Serif\" font-size=\"14.00\" fill=\"#000000\">class = not</text>\n",
       "</g>\n",
       "<!-- 1 -->\n",
       "<g id=\"node2\" class=\"node\">\n",
       "<title>1</title>\n",
       "<path fill=\"#ea975c\" stroke=\"#000000\" d=\"M3923.5,-1139C3923.5,-1139 3802.5,-1139 3802.5,-1139 3796.5,-1139 3790.5,-1133 3790.5,-1127 3790.5,-1127 3790.5,-1068 3790.5,-1068 3790.5,-1062 3796.5,-1056 3802.5,-1056 3802.5,-1056 3923.5,-1056 3923.5,-1056 3929.5,-1056 3935.5,-1062 3935.5,-1068 3935.5,-1068 3935.5,-1127 3935.5,-1127 3935.5,-1133 3929.5,-1139 3923.5,-1139\"/>\n",
       "<text text-anchor=\"start\" x=\"3798.5\" y=\"-1123.8\" font-family=\"Helvetica,sans-Serif\" font-size=\"14.00\" fill=\"#000000\">creation_month ≤ 5.5</text>\n",
       "<text text-anchor=\"start\" x=\"3819\" y=\"-1108.8\" font-family=\"Helvetica,sans-Serif\" font-size=\"14.00\" fill=\"#000000\">entropy = 0.61</text>\n",
       "<text text-anchor=\"start\" x=\"3814.5\" y=\"-1093.8\" font-family=\"Helvetica,sans-Serif\" font-size=\"14.00\" fill=\"#000000\">samples = 9889</text>\n",
       "<text text-anchor=\"start\" x=\"3801\" y=\"-1078.8\" font-family=\"Helvetica,sans-Serif\" font-size=\"14.00\" fill=\"#000000\">value = [8405, 1484]</text>\n",
       "<text text-anchor=\"start\" x=\"3830\" y=\"-1063.8\" font-family=\"Helvetica,sans-Serif\" font-size=\"14.00\" fill=\"#000000\">class = not</text>\n",
       "</g>\n",
       "<!-- 0&#45;&gt;1 -->\n",
       "<g id=\"edge1\" class=\"edge\">\n",
       "<title>0&#45;&gt;1</title>\n",
       "<path fill=\"none\" stroke=\"#000000\" d=\"M4552.2279,-1199.6396C4388.5021,-1175.3764 4090.2937,-1131.1836 3945.832,-1109.7752\"/>\n",
       "<polygon fill=\"#000000\" stroke=\"#000000\" points=\"3946.1055,-1106.2776 3935.7004,-1108.2738 3945.0793,-1113.202 3946.1055,-1106.2776\"/>\n",
       "<text text-anchor=\"middle\" x=\"3950.5957\" y=\"-1124.6519\" font-family=\"Helvetica,sans-Serif\" font-size=\"14.00\" fill=\"#000000\">True</text>\n",
       "</g>\n",
       "<!-- 138 -->\n",
       "<g id=\"node139\" class=\"node\">\n",
       "<title>138</title>\n",
       "<path fill=\"#e78c4b\" stroke=\"#000000\" d=\"M5720,-1139C5720,-1139 5612,-1139 5612,-1139 5606,-1139 5600,-1133 5600,-1127 5600,-1127 5600,-1068 5600,-1068 5600,-1062 5606,-1056 5612,-1056 5612,-1056 5720,-1056 5720,-1056 5726,-1056 5732,-1062 5732,-1068 5732,-1068 5732,-1127 5732,-1127 5732,-1133 5726,-1139 5720,-1139\"/>\n",
       "<text text-anchor=\"start\" x=\"5614.5\" y=\"-1123.8\" font-family=\"Helvetica,sans-Serif\" font-size=\"14.00\" fill=\"#000000\">org_id_217 ≤ 0.5</text>\n",
       "<text text-anchor=\"start\" x=\"5618.5\" y=\"-1108.8\" font-family=\"Helvetica,sans-Serif\" font-size=\"14.00\" fill=\"#000000\">entropy = 0.407</text>\n",
       "<text text-anchor=\"start\" x=\"5617.5\" y=\"-1093.8\" font-family=\"Helvetica,sans-Serif\" font-size=\"14.00\" fill=\"#000000\">samples = 2111</text>\n",
       "<text text-anchor=\"start\" x=\"5608\" y=\"-1078.8\" font-family=\"Helvetica,sans-Serif\" font-size=\"14.00\" fill=\"#000000\">value = [1939, 172]</text>\n",
       "<text text-anchor=\"start\" x=\"5633\" y=\"-1063.8\" font-family=\"Helvetica,sans-Serif\" font-size=\"14.00\" fill=\"#000000\">class = not</text>\n",
       "</g>\n",
       "<!-- 0&#45;&gt;138 -->\n",
       "<g id=\"edge138\" class=\"edge\">\n",
       "<title>0&#45;&gt;138</title>\n",
       "<path fill=\"none\" stroke=\"#000000\" d=\"M4779.7391,-1202.965C4985.6494,-1178.4617 5415.0241,-1127.3661 5589.6596,-1106.5845\"/>\n",
       "<polygon fill=\"#000000\" stroke=\"#000000\" points=\"5590.2726,-1110.0363 5599.7889,-1105.3791 5589.4454,-1103.0854 5590.2726,-1110.0363\"/>\n",
       "<text text-anchor=\"middle\" x=\"5584.324\" y=\"-1121.3218\" font-family=\"Helvetica,sans-Serif\" font-size=\"14.00\" fill=\"#000000\">False</text>\n",
       "</g>\n",
       "<!-- 2 -->\n",
       "<g id=\"node3\" class=\"node\">\n",
       "<title>2</title>\n",
       "<path fill=\"#e99254\" stroke=\"#000000\" d=\"M2357.5,-1020C2357.5,-1020 2236.5,-1020 2236.5,-1020 2230.5,-1020 2224.5,-1014 2224.5,-1008 2224.5,-1008 2224.5,-949 2224.5,-949 2224.5,-943 2230.5,-937 2236.5,-937 2236.5,-937 2357.5,-937 2357.5,-937 2363.5,-937 2369.5,-943 2369.5,-949 2369.5,-949 2369.5,-1008 2369.5,-1008 2369.5,-1014 2363.5,-1020 2357.5,-1020\"/>\n",
       "<text text-anchor=\"start\" x=\"2232.5\" y=\"-1004.8\" font-family=\"Helvetica,sans-Serif\" font-size=\"14.00\" fill=\"#000000\">creation_month ≤ 3.5</text>\n",
       "<text text-anchor=\"start\" x=\"2249.5\" y=\"-989.8\" font-family=\"Helvetica,sans-Serif\" font-size=\"14.00\" fill=\"#000000\">entropy = 0.531</text>\n",
       "<text text-anchor=\"start\" x=\"2248.5\" y=\"-974.8\" font-family=\"Helvetica,sans-Serif\" font-size=\"14.00\" fill=\"#000000\">samples = 4797</text>\n",
       "<text text-anchor=\"start\" x=\"2239\" y=\"-959.8\" font-family=\"Helvetica,sans-Serif\" font-size=\"14.00\" fill=\"#000000\">value = [4218, 579]</text>\n",
       "<text text-anchor=\"start\" x=\"2264\" y=\"-944.8\" font-family=\"Helvetica,sans-Serif\" font-size=\"14.00\" fill=\"#000000\">class = not</text>\n",
       "</g>\n",
       "<!-- 1&#45;&gt;2 -->\n",
       "<g id=\"edge2\" class=\"edge\">\n",
       "<title>1&#45;&gt;2</title>\n",
       "<path fill=\"none\" stroke=\"#000000\" d=\"M3790.3498,-1091.9793C3531.5162,-1072.3106 2655.1978,-1005.7194 2380.2423,-984.8256\"/>\n",
       "<polygon fill=\"#000000\" stroke=\"#000000\" points=\"2380.1731,-981.3103 2369.9366,-984.0424 2379.6426,-988.2902 2380.1731,-981.3103\"/>\n",
       "</g>\n",
       "<!-- 81 -->\n",
       "<g id=\"node82\" class=\"node\">\n",
       "<title>81</title>\n",
       "<path fill=\"#eb9c64\" stroke=\"#000000\" d=\"M3928.5,-1020C3928.5,-1020 3797.5,-1020 3797.5,-1020 3791.5,-1020 3785.5,-1014 3785.5,-1008 3785.5,-1008 3785.5,-949 3785.5,-949 3785.5,-943 3791.5,-937 3797.5,-937 3797.5,-937 3928.5,-937 3928.5,-937 3934.5,-937 3940.5,-943 3940.5,-949 3940.5,-949 3940.5,-1008 3940.5,-1008 3940.5,-1014 3934.5,-1020 3928.5,-1020\"/>\n",
       "<text text-anchor=\"start\" x=\"3793.5\" y=\"-1004.8\" font-family=\"Helvetica,sans-Serif\" font-size=\"14.00\" fill=\"#000000\">cs_ORG_INVITE ≤ 0.5</text>\n",
       "<text text-anchor=\"start\" x=\"3815.5\" y=\"-989.8\" font-family=\"Helvetica,sans-Serif\" font-size=\"14.00\" fill=\"#000000\">entropy = 0.675</text>\n",
       "<text text-anchor=\"start\" x=\"3814.5\" y=\"-974.8\" font-family=\"Helvetica,sans-Serif\" font-size=\"14.00\" fill=\"#000000\">samples = 5092</text>\n",
       "<text text-anchor=\"start\" x=\"3805\" y=\"-959.8\" font-family=\"Helvetica,sans-Serif\" font-size=\"14.00\" fill=\"#000000\">value = [4187, 905]</text>\n",
       "<text text-anchor=\"start\" x=\"3830\" y=\"-944.8\" font-family=\"Helvetica,sans-Serif\" font-size=\"14.00\" fill=\"#000000\">class = not</text>\n",
       "</g>\n",
       "<!-- 1&#45;&gt;81 -->\n",
       "<g id=\"edge81\" class=\"edge\">\n",
       "<title>1&#45;&gt;81</title>\n",
       "<path fill=\"none\" stroke=\"#000000\" d=\"M3863,-1055.8796C3863,-1047.6838 3863,-1038.9891 3863,-1030.5013\"/>\n",
       "<polygon fill=\"#000000\" stroke=\"#000000\" points=\"3866.5001,-1030.298 3863,-1020.2981 3859.5001,-1030.2981 3866.5001,-1030.298\"/>\n",
       "</g>\n",
       "<!-- 3 -->\n",
       "<g id=\"node4\" class=\"node\">\n",
       "<title>3</title>\n",
       "<path fill=\"#ea985e\" stroke=\"#000000\" d=\"M1614,-901C1614,-901 1506,-901 1506,-901 1500,-901 1494,-895 1494,-889 1494,-889 1494,-830 1494,-830 1494,-824 1500,-818 1506,-818 1506,-818 1614,-818 1614,-818 1620,-818 1626,-824 1626,-830 1626,-830 1626,-889 1626,-889 1626,-895 1620,-901 1614,-901\"/>\n",
       "<text text-anchor=\"start\" x=\"1508.5\" y=\"-885.8\" font-family=\"Helvetica,sans-Serif\" font-size=\"14.00\" fill=\"#000000\">org_id_387 ≤ 0.5</text>\n",
       "<text text-anchor=\"start\" x=\"1512.5\" y=\"-870.8\" font-family=\"Helvetica,sans-Serif\" font-size=\"14.00\" fill=\"#000000\">entropy = 0.625</text>\n",
       "<text text-anchor=\"start\" x=\"1511.5\" y=\"-855.8\" font-family=\"Helvetica,sans-Serif\" font-size=\"14.00\" fill=\"#000000\">samples = 2615</text>\n",
       "<text text-anchor=\"start\" x=\"1502\" y=\"-840.8\" font-family=\"Helvetica,sans-Serif\" font-size=\"14.00\" fill=\"#000000\">value = [2207, 408]</text>\n",
       "<text text-anchor=\"start\" x=\"1527\" y=\"-825.8\" font-family=\"Helvetica,sans-Serif\" font-size=\"14.00\" fill=\"#000000\">class = not</text>\n",
       "</g>\n",
       "<!-- 2&#45;&gt;3 -->\n",
       "<g id=\"edge3\" class=\"edge\">\n",
       "<title>2&#45;&gt;3</title>\n",
       "<path fill=\"none\" stroke=\"#000000\" d=\"M2224.3166,-966.7641C2084.3222,-944.1599 1778.5393,-894.7865 1635.9832,-871.7687\"/>\n",
       "<polygon fill=\"#000000\" stroke=\"#000000\" points=\"1636.4359,-868.2965 1626.0058,-870.1577 1635.32,-875.207 1636.4359,-868.2965\"/>\n",
       "</g>\n",
       "<!-- 34 -->\n",
       "<g id=\"node35\" class=\"node\">\n",
       "<title>34</title>\n",
       "<path fill=\"#e78c4a\" stroke=\"#000000\" d=\"M2357.5,-901C2357.5,-901 2236.5,-901 2236.5,-901 2230.5,-901 2224.5,-895 2224.5,-889 2224.5,-889 2224.5,-830 2224.5,-830 2224.5,-824 2230.5,-818 2236.5,-818 2236.5,-818 2357.5,-818 2357.5,-818 2363.5,-818 2369.5,-824 2369.5,-830 2369.5,-830 2369.5,-889 2369.5,-889 2369.5,-895 2363.5,-901 2357.5,-901\"/>\n",
       "<text text-anchor=\"start\" x=\"2232.5\" y=\"-885.8\" font-family=\"Helvetica,sans-Serif\" font-size=\"14.00\" fill=\"#000000\">creation_month ≤ 4.5</text>\n",
       "<text text-anchor=\"start\" x=\"2249.5\" y=\"-870.8\" font-family=\"Helvetica,sans-Serif\" font-size=\"14.00\" fill=\"#000000\">entropy = 0.396</text>\n",
       "<text text-anchor=\"start\" x=\"2248.5\" y=\"-855.8\" font-family=\"Helvetica,sans-Serif\" font-size=\"14.00\" fill=\"#000000\">samples = 2182</text>\n",
       "<text text-anchor=\"start\" x=\"2239\" y=\"-840.8\" font-family=\"Helvetica,sans-Serif\" font-size=\"14.00\" fill=\"#000000\">value = [2011, 171]</text>\n",
       "<text text-anchor=\"start\" x=\"2264\" y=\"-825.8\" font-family=\"Helvetica,sans-Serif\" font-size=\"14.00\" fill=\"#000000\">class = not</text>\n",
       "</g>\n",
       "<!-- 2&#45;&gt;34 -->\n",
       "<g id=\"edge34\" class=\"edge\">\n",
       "<title>2&#45;&gt;34</title>\n",
       "<path fill=\"none\" stroke=\"#000000\" d=\"M2297,-936.8796C2297,-928.6838 2297,-919.9891 2297,-911.5013\"/>\n",
       "<polygon fill=\"#000000\" stroke=\"#000000\" points=\"2300.5001,-911.298 2297,-901.2981 2293.5001,-911.2981 2300.5001,-911.298\"/>\n",
       "</g>\n",
       "<!-- 4 -->\n",
       "<g id=\"node5\" class=\"node\">\n",
       "<title>4</title>\n",
       "<path fill=\"#ea985d\" stroke=\"#000000\" d=\"M1334,-782C1334,-782 1226,-782 1226,-782 1220,-782 1214,-776 1214,-770 1214,-770 1214,-711 1214,-711 1214,-705 1220,-699 1226,-699 1226,-699 1334,-699 1334,-699 1340,-699 1346,-705 1346,-711 1346,-711 1346,-770 1346,-770 1346,-776 1340,-782 1334,-782\"/>\n",
       "<text text-anchor=\"start\" x=\"1228.5\" y=\"-766.8\" font-family=\"Helvetica,sans-Serif\" font-size=\"14.00\" fill=\"#000000\">org_id_206 ≤ 0.5</text>\n",
       "<text text-anchor=\"start\" x=\"1232.5\" y=\"-751.8\" font-family=\"Helvetica,sans-Serif\" font-size=\"14.00\" fill=\"#000000\">entropy = 0.622</text>\n",
       "<text text-anchor=\"start\" x=\"1231.5\" y=\"-736.8\" font-family=\"Helvetica,sans-Serif\" font-size=\"14.00\" fill=\"#000000\">samples = 2611</text>\n",
       "<text text-anchor=\"start\" x=\"1222\" y=\"-721.8\" font-family=\"Helvetica,sans-Serif\" font-size=\"14.00\" fill=\"#000000\">value = [2206, 405]</text>\n",
       "<text text-anchor=\"start\" x=\"1247\" y=\"-706.8\" font-family=\"Helvetica,sans-Serif\" font-size=\"14.00\" fill=\"#000000\">class = not</text>\n",
       "</g>\n",
       "<!-- 3&#45;&gt;4 -->\n",
       "<g id=\"edge4\" class=\"edge\">\n",
       "<title>3&#45;&gt;4</title>\n",
       "<path fill=\"none\" stroke=\"#000000\" d=\"M1493.9985,-831.4493C1452.4252,-813.7807 1398.635,-790.9199 1355.3844,-772.5384\"/>\n",
       "<polygon fill=\"#000000\" stroke=\"#000000\" points=\"1356.6154,-769.2586 1346.043,-768.5683 1353.8774,-775.7009 1356.6154,-769.2586\"/>\n",
       "</g>\n",
       "<!-- 31 -->\n",
       "<g id=\"node32\" class=\"node\">\n",
       "<title>31</title>\n",
       "<path fill=\"#7bbeee\" stroke=\"#000000\" d=\"M1625.5,-782C1625.5,-782 1494.5,-782 1494.5,-782 1488.5,-782 1482.5,-776 1482.5,-770 1482.5,-770 1482.5,-711 1482.5,-711 1482.5,-705 1488.5,-699 1494.5,-699 1494.5,-699 1625.5,-699 1625.5,-699 1631.5,-699 1637.5,-705 1637.5,-711 1637.5,-711 1637.5,-770 1637.5,-770 1637.5,-776 1631.5,-782 1625.5,-782\"/>\n",
       "<text text-anchor=\"start\" x=\"1490.5\" y=\"-766.8\" font-family=\"Helvetica,sans-Serif\" font-size=\"14.00\" fill=\"#000000\">cs_ORG_INVITE ≤ 0.5</text>\n",
       "<text text-anchor=\"start\" x=\"1512.5\" y=\"-751.8\" font-family=\"Helvetica,sans-Serif\" font-size=\"14.00\" fill=\"#000000\">entropy = 0.811</text>\n",
       "<text text-anchor=\"start\" x=\"1522.5\" y=\"-736.8\" font-family=\"Helvetica,sans-Serif\" font-size=\"14.00\" fill=\"#000000\">samples = 4</text>\n",
       "<text text-anchor=\"start\" x=\"1520.5\" y=\"-721.8\" font-family=\"Helvetica,sans-Serif\" font-size=\"14.00\" fill=\"#000000\">value = [1, 3]</text>\n",
       "<text text-anchor=\"start\" x=\"1512\" y=\"-706.8\" font-family=\"Helvetica,sans-Serif\" font-size=\"14.00\" fill=\"#000000\">class = adopted</text>\n",
       "</g>\n",
       "<!-- 3&#45;&gt;31 -->\n",
       "<g id=\"edge31\" class=\"edge\">\n",
       "<title>3&#45;&gt;31</title>\n",
       "<path fill=\"none\" stroke=\"#000000\" d=\"M1560,-817.8796C1560,-809.6838 1560,-800.9891 1560,-792.5013\"/>\n",
       "<polygon fill=\"#000000\" stroke=\"#000000\" points=\"1563.5001,-792.298 1560,-782.2981 1556.5001,-792.2981 1563.5001,-792.298\"/>\n",
       "</g>\n",
       "<!-- 5 -->\n",
       "<g id=\"node6\" class=\"node\">\n",
       "<title>5</title>\n",
       "<path fill=\"#ea985d\" stroke=\"#000000\" d=\"M1019,-663C1019,-663 911,-663 911,-663 905,-663 899,-657 899,-651 899,-651 899,-592 899,-592 899,-586 905,-580 911,-580 911,-580 1019,-580 1019,-580 1025,-580 1031,-586 1031,-592 1031,-592 1031,-651 1031,-651 1031,-657 1025,-663 1019,-663\"/>\n",
       "<text text-anchor=\"start\" x=\"913.5\" y=\"-647.8\" font-family=\"Helvetica,sans-Serif\" font-size=\"14.00\" fill=\"#000000\">org_id_161 ≤ 0.5</text>\n",
       "<text text-anchor=\"start\" x=\"921\" y=\"-632.8\" font-family=\"Helvetica,sans-Serif\" font-size=\"14.00\" fill=\"#000000\">entropy = 0.62</text>\n",
       "<text text-anchor=\"start\" x=\"916.5\" y=\"-617.8\" font-family=\"Helvetica,sans-Serif\" font-size=\"14.00\" fill=\"#000000\">samples = 2607</text>\n",
       "<text text-anchor=\"start\" x=\"907\" y=\"-602.8\" font-family=\"Helvetica,sans-Serif\" font-size=\"14.00\" fill=\"#000000\">value = [2205, 402]</text>\n",
       "<text text-anchor=\"start\" x=\"932\" y=\"-587.8\" font-family=\"Helvetica,sans-Serif\" font-size=\"14.00\" fill=\"#000000\">class = not</text>\n",
       "</g>\n",
       "<!-- 4&#45;&gt;5 -->\n",
       "<g id=\"edge5\" class=\"edge\">\n",
       "<title>4&#45;&gt;5</title>\n",
       "<path fill=\"none\" stroke=\"#000000\" d=\"M1213.9657,-715.5537C1163.4395,-696.466 1093.6948,-670.118 1040.8752,-650.164\"/>\n",
       "<polygon fill=\"#000000\" stroke=\"#000000\" points=\"1041.8097,-646.7756 1031.2181,-646.5157 1039.3359,-653.3239 1041.8097,-646.7756\"/>\n",
       "</g>\n",
       "<!-- 28 -->\n",
       "<g id=\"node29\" class=\"node\">\n",
       "<title>28</title>\n",
       "<path fill=\"#7bbeee\" stroke=\"#000000\" d=\"M1345.5,-663C1345.5,-663 1214.5,-663 1214.5,-663 1208.5,-663 1202.5,-657 1202.5,-651 1202.5,-651 1202.5,-592 1202.5,-592 1202.5,-586 1208.5,-580 1214.5,-580 1214.5,-580 1345.5,-580 1345.5,-580 1351.5,-580 1357.5,-586 1357.5,-592 1357.5,-592 1357.5,-651 1357.5,-651 1357.5,-657 1351.5,-663 1345.5,-663\"/>\n",
       "<text text-anchor=\"start\" x=\"1210.5\" y=\"-647.8\" font-family=\"Helvetica,sans-Serif\" font-size=\"14.00\" fill=\"#000000\">cs_ORG_INVITE ≤ 0.5</text>\n",
       "<text text-anchor=\"start\" x=\"1232.5\" y=\"-632.8\" font-family=\"Helvetica,sans-Serif\" font-size=\"14.00\" fill=\"#000000\">entropy = 0.811</text>\n",
       "<text text-anchor=\"start\" x=\"1242.5\" y=\"-617.8\" font-family=\"Helvetica,sans-Serif\" font-size=\"14.00\" fill=\"#000000\">samples = 4</text>\n",
       "<text text-anchor=\"start\" x=\"1240.5\" y=\"-602.8\" font-family=\"Helvetica,sans-Serif\" font-size=\"14.00\" fill=\"#000000\">value = [1, 3]</text>\n",
       "<text text-anchor=\"start\" x=\"1232\" y=\"-587.8\" font-family=\"Helvetica,sans-Serif\" font-size=\"14.00\" fill=\"#000000\">class = adopted</text>\n",
       "</g>\n",
       "<!-- 4&#45;&gt;28 -->\n",
       "<g id=\"edge28\" class=\"edge\">\n",
       "<title>4&#45;&gt;28</title>\n",
       "<path fill=\"none\" stroke=\"#000000\" d=\"M1280,-698.8796C1280,-690.6838 1280,-681.9891 1280,-673.5013\"/>\n",
       "<polygon fill=\"#000000\" stroke=\"#000000\" points=\"1283.5001,-673.298 1280,-663.2981 1276.5001,-673.2981 1283.5001,-673.298\"/>\n",
       "</g>\n",
       "<!-- 6 -->\n",
       "<g id=\"node7\" class=\"node\">\n",
       "<title>6</title>\n",
       "<path fill=\"#ea985d\" stroke=\"#000000\" d=\"M783,-544C783,-544 675,-544 675,-544 669,-544 663,-538 663,-532 663,-532 663,-473 663,-473 663,-467 669,-461 675,-461 675,-461 783,-461 783,-461 789,-461 795,-467 795,-473 795,-473 795,-532 795,-532 795,-538 789,-544 783,-544\"/>\n",
       "<text text-anchor=\"start\" x=\"681.5\" y=\"-528.8\" font-family=\"Helvetica,sans-Serif\" font-size=\"14.00\" fill=\"#000000\">org_id_14 ≤ 0.5</text>\n",
       "<text text-anchor=\"start\" x=\"681.5\" y=\"-513.8\" font-family=\"Helvetica,sans-Serif\" font-size=\"14.00\" fill=\"#000000\">entropy = 0.618</text>\n",
       "<text text-anchor=\"start\" x=\"680.5\" y=\"-498.8\" font-family=\"Helvetica,sans-Serif\" font-size=\"14.00\" fill=\"#000000\">samples = 2603</text>\n",
       "<text text-anchor=\"start\" x=\"671\" y=\"-483.8\" font-family=\"Helvetica,sans-Serif\" font-size=\"14.00\" fill=\"#000000\">value = [2204, 399]</text>\n",
       "<text text-anchor=\"start\" x=\"696\" y=\"-468.8\" font-family=\"Helvetica,sans-Serif\" font-size=\"14.00\" fill=\"#000000\">class = not</text>\n",
       "</g>\n",
       "<!-- 5&#45;&gt;6 -->\n",
       "<g id=\"edge6\" class=\"edge\">\n",
       "<title>5&#45;&gt;6</title>\n",
       "<path fill=\"none\" stroke=\"#000000\" d=\"M898.947,-588.1936C869.5355,-573.3633 834.7446,-555.8204 804.3261,-540.4822\"/>\n",
       "<polygon fill=\"#000000\" stroke=\"#000000\" points=\"805.542,-537.1756 795.037,-535.7983 802.3903,-543.4259 805.542,-537.1756\"/>\n",
       "</g>\n",
       "<!-- 23 -->\n",
       "<g id=\"node24\" class=\"node\">\n",
       "<title>23</title>\n",
       "<path fill=\"#7bbeee\" stroke=\"#000000\" d=\"M1030.5,-544C1030.5,-544 899.5,-544 899.5,-544 893.5,-544 887.5,-538 887.5,-532 887.5,-532 887.5,-473 887.5,-473 887.5,-467 893.5,-461 899.5,-461 899.5,-461 1030.5,-461 1030.5,-461 1036.5,-461 1042.5,-467 1042.5,-473 1042.5,-473 1042.5,-532 1042.5,-532 1042.5,-538 1036.5,-544 1030.5,-544\"/>\n",
       "<text text-anchor=\"start\" x=\"895.5\" y=\"-528.8\" font-family=\"Helvetica,sans-Serif\" font-size=\"14.00\" fill=\"#000000\">cs_ORG_INVITE ≤ 0.5</text>\n",
       "<text text-anchor=\"start\" x=\"917.5\" y=\"-513.8\" font-family=\"Helvetica,sans-Serif\" font-size=\"14.00\" fill=\"#000000\">entropy = 0.811</text>\n",
       "<text text-anchor=\"start\" x=\"927.5\" y=\"-498.8\" font-family=\"Helvetica,sans-Serif\" font-size=\"14.00\" fill=\"#000000\">samples = 4</text>\n",
       "<text text-anchor=\"start\" x=\"925.5\" y=\"-483.8\" font-family=\"Helvetica,sans-Serif\" font-size=\"14.00\" fill=\"#000000\">value = [1, 3]</text>\n",
       "<text text-anchor=\"start\" x=\"917\" y=\"-468.8\" font-family=\"Helvetica,sans-Serif\" font-size=\"14.00\" fill=\"#000000\">class = adopted</text>\n",
       "</g>\n",
       "<!-- 5&#45;&gt;23 -->\n",
       "<g id=\"edge23\" class=\"edge\">\n",
       "<title>5&#45;&gt;23</title>\n",
       "<path fill=\"none\" stroke=\"#000000\" d=\"M965,-579.8796C965,-571.6838 965,-562.9891 965,-554.5013\"/>\n",
       "<polygon fill=\"#000000\" stroke=\"#000000\" points=\"968.5001,-554.298 965,-544.2981 961.5001,-554.2981 968.5001,-554.298\"/>\n",
       "</g>\n",
       "<!-- 7 -->\n",
       "<g id=\"node8\" class=\"node\">\n",
       "<title>7</title>\n",
       "<path fill=\"#ea985d\" stroke=\"#000000\" d=\"M648,-425C648,-425 540,-425 540,-425 534,-425 528,-419 528,-413 528,-413 528,-354 528,-354 528,-348 534,-342 540,-342 540,-342 648,-342 648,-342 654,-342 660,-348 660,-354 660,-354 660,-413 660,-413 660,-419 654,-425 648,-425\"/>\n",
       "<text text-anchor=\"start\" x=\"546.5\" y=\"-409.8\" font-family=\"Helvetica,sans-Serif\" font-size=\"14.00\" fill=\"#000000\">org_id_62 ≤ 0.5</text>\n",
       "<text text-anchor=\"start\" x=\"546.5\" y=\"-394.8\" font-family=\"Helvetica,sans-Serif\" font-size=\"14.00\" fill=\"#000000\">entropy = 0.621</text>\n",
       "<text text-anchor=\"start\" x=\"545.5\" y=\"-379.8\" font-family=\"Helvetica,sans-Serif\" font-size=\"14.00\" fill=\"#000000\">samples = 2584</text>\n",
       "<text text-anchor=\"start\" x=\"536\" y=\"-364.8\" font-family=\"Helvetica,sans-Serif\" font-size=\"14.00\" fill=\"#000000\">value = [2185, 399]</text>\n",
       "<text text-anchor=\"start\" x=\"561\" y=\"-349.8\" font-family=\"Helvetica,sans-Serif\" font-size=\"14.00\" fill=\"#000000\">class = not</text>\n",
       "</g>\n",
       "<!-- 6&#45;&gt;7 -->\n",
       "<g id=\"edge7\" class=\"edge\">\n",
       "<title>6&#45;&gt;7</title>\n",
       "<path fill=\"none\" stroke=\"#000000\" d=\"M681.7836,-460.8796C671.2598,-451.6031 660.0109,-441.6874 649.1979,-432.1559\"/>\n",
       "<polygon fill=\"#000000\" stroke=\"#000000\" points=\"651.234,-429.2851 641.418,-425.2981 646.6052,-434.5362 651.234,-429.2851\"/>\n",
       "</g>\n",
       "<!-- 22 -->\n",
       "<g id=\"node23\" class=\"node\">\n",
       "<title>22</title>\n",
       "<path fill=\"#e58139\" stroke=\"#000000\" d=\"M768,-417.5C768,-417.5 690,-417.5 690,-417.5 684,-417.5 678,-411.5 678,-405.5 678,-405.5 678,-361.5 678,-361.5 678,-355.5 684,-349.5 690,-349.5 690,-349.5 768,-349.5 768,-349.5 774,-349.5 780,-355.5 780,-361.5 780,-361.5 780,-405.5 780,-405.5 780,-411.5 774,-417.5 768,-417.5\"/>\n",
       "<text text-anchor=\"start\" x=\"689\" y=\"-402.3\" font-family=\"Helvetica,sans-Serif\" font-size=\"14.00\" fill=\"#000000\">entropy = 0.0</text>\n",
       "<text text-anchor=\"start\" x=\"688\" y=\"-387.3\" font-family=\"Helvetica,sans-Serif\" font-size=\"14.00\" fill=\"#000000\">samples = 19</text>\n",
       "<text text-anchor=\"start\" x=\"686\" y=\"-372.3\" font-family=\"Helvetica,sans-Serif\" font-size=\"14.00\" fill=\"#000000\">value = [19, 0]</text>\n",
       "<text text-anchor=\"start\" x=\"696\" y=\"-357.3\" font-family=\"Helvetica,sans-Serif\" font-size=\"14.00\" fill=\"#000000\">class = not</text>\n",
       "</g>\n",
       "<!-- 6&#45;&gt;22 -->\n",
       "<g id=\"edge22\" class=\"edge\">\n",
       "<title>6&#45;&gt;22</title>\n",
       "<path fill=\"none\" stroke=\"#000000\" d=\"M729,-460.8796C729,-450.2134 729,-438.7021 729,-427.9015\"/>\n",
       "<polygon fill=\"#000000\" stroke=\"#000000\" points=\"732.5001,-427.8149 729,-417.8149 725.5001,-427.815 732.5001,-427.8149\"/>\n",
       "</g>\n",
       "<!-- 8 -->\n",
       "<g id=\"node9\" class=\"node\">\n",
       "<title>8</title>\n",
       "<path fill=\"#ea985d\" stroke=\"#000000\" d=\"M428,-306C428,-306 320,-306 320,-306 314,-306 308,-300 308,-294 308,-294 308,-235 308,-235 308,-229 314,-223 320,-223 320,-223 428,-223 428,-223 434,-223 440,-229 440,-235 440,-235 440,-294 440,-294 440,-300 434,-306 428,-306\"/>\n",
       "<text text-anchor=\"start\" x=\"326.5\" y=\"-290.8\" font-family=\"Helvetica,sans-Serif\" font-size=\"14.00\" fill=\"#000000\">org_id_35 ≤ 0.5</text>\n",
       "<text text-anchor=\"start\" x=\"326.5\" y=\"-275.8\" font-family=\"Helvetica,sans-Serif\" font-size=\"14.00\" fill=\"#000000\">entropy = 0.617</text>\n",
       "<text text-anchor=\"start\" x=\"325.5\" y=\"-260.8\" font-family=\"Helvetica,sans-Serif\" font-size=\"14.00\" fill=\"#000000\">samples = 2570</text>\n",
       "<text text-anchor=\"start\" x=\"316\" y=\"-245.8\" font-family=\"Helvetica,sans-Serif\" font-size=\"14.00\" fill=\"#000000\">value = [2177, 393]</text>\n",
       "<text text-anchor=\"start\" x=\"341\" y=\"-230.8\" font-family=\"Helvetica,sans-Serif\" font-size=\"14.00\" fill=\"#000000\">class = not</text>\n",
       "</g>\n",
       "<!-- 7&#45;&gt;8 -->\n",
       "<g id=\"edge8\" class=\"edge\">\n",
       "<title>7&#45;&gt;8</title>\n",
       "<path fill=\"none\" stroke=\"#000000\" d=\"M527.9927,-347.7961C503.1979,-334.3843 474.8328,-319.0414 449.2593,-305.2085\"/>\n",
       "<polygon fill=\"#000000\" stroke=\"#000000\" points=\"450.8015,-302.0635 440.3406,-300.3842 447.4711,-308.2205 450.8015,-302.0635\"/>\n",
       "</g>\n",
       "<!-- 15 -->\n",
       "<g id=\"node16\" class=\"node\">\n",
       "<title>15</title>\n",
       "<path fill=\"#f8e0ce\" stroke=\"#000000\" d=\"M645.5,-306C645.5,-306 544.5,-306 544.5,-306 538.5,-306 532.5,-300 532.5,-294 532.5,-294 532.5,-235 532.5,-235 532.5,-229 538.5,-223 544.5,-223 544.5,-223 645.5,-223 645.5,-223 651.5,-223 657.5,-229 657.5,-235 657.5,-235 657.5,-294 657.5,-294 657.5,-300 651.5,-306 645.5,-306\"/>\n",
       "<text text-anchor=\"start\" x=\"540.5\" y=\"-290.8\" font-family=\"Helvetica,sans-Serif\" font-size=\"14.00\" fill=\"#000000\">cs_SIGNUP ≤ 0.5</text>\n",
       "<text text-anchor=\"start\" x=\"547.5\" y=\"-275.8\" font-family=\"Helvetica,sans-Serif\" font-size=\"14.00\" fill=\"#000000\">entropy = 0.985</text>\n",
       "<text text-anchor=\"start\" x=\"554\" y=\"-260.8\" font-family=\"Helvetica,sans-Serif\" font-size=\"14.00\" fill=\"#000000\">samples = 14</text>\n",
       "<text text-anchor=\"start\" x=\"555.5\" y=\"-245.8\" font-family=\"Helvetica,sans-Serif\" font-size=\"14.00\" fill=\"#000000\">value = [8, 6]</text>\n",
       "<text text-anchor=\"start\" x=\"562\" y=\"-230.8\" font-family=\"Helvetica,sans-Serif\" font-size=\"14.00\" fill=\"#000000\">class = not</text>\n",
       "</g>\n",
       "<!-- 7&#45;&gt;15 -->\n",
       "<g id=\"edge15\" class=\"edge\">\n",
       "<title>7&#45;&gt;15</title>\n",
       "<path fill=\"none\" stroke=\"#000000\" d=\"M594.3498,-341.8796C594.4186,-333.6838 594.4917,-324.9891 594.563,-316.5013\"/>\n",
       "<polygon fill=\"#000000\" stroke=\"#000000\" points=\"598.0645,-316.3272 594.6488,-306.2981 591.0648,-316.2683 598.0645,-316.3272\"/>\n",
       "</g>\n",
       "<!-- 9 -->\n",
       "<g id=\"node10\" class=\"node\">\n",
       "<title>9</title>\n",
       "<path fill=\"#ea985c\" stroke=\"#000000\" d=\"M260,-187C260,-187 152,-187 152,-187 146,-187 140,-181 140,-175 140,-175 140,-116 140,-116 140,-110 146,-104 152,-104 152,-104 260,-104 260,-104 266,-104 272,-110 272,-116 272,-116 272,-175 272,-175 272,-181 266,-187 260,-187\"/>\n",
       "<text text-anchor=\"start\" x=\"154.5\" y=\"-171.8\" font-family=\"Helvetica,sans-Serif\" font-size=\"14.00\" fill=\"#000000\">org_id_306 ≤ 0.5</text>\n",
       "<text text-anchor=\"start\" x=\"158.5\" y=\"-156.8\" font-family=\"Helvetica,sans-Serif\" font-size=\"14.00\" fill=\"#000000\">entropy = 0.614</text>\n",
       "<text text-anchor=\"start\" x=\"157.5\" y=\"-141.8\" font-family=\"Helvetica,sans-Serif\" font-size=\"14.00\" fill=\"#000000\">samples = 2562</text>\n",
       "<text text-anchor=\"start\" x=\"148\" y=\"-126.8\" font-family=\"Helvetica,sans-Serif\" font-size=\"14.00\" fill=\"#000000\">value = [2173, 389]</text>\n",
       "<text text-anchor=\"start\" x=\"173\" y=\"-111.8\" font-family=\"Helvetica,sans-Serif\" font-size=\"14.00\" fill=\"#000000\">class = not</text>\n",
       "</g>\n",
       "<!-- 8&#45;&gt;9 -->\n",
       "<g id=\"edge9\" class=\"edge\">\n",
       "<title>8&#45;&gt;9</title>\n",
       "<path fill=\"none\" stroke=\"#000000\" d=\"M315.2418,-222.8796C301.6857,-213.2774 287.1628,-202.9903 273.2754,-193.1534\"/>\n",
       "<polygon fill=\"#000000\" stroke=\"#000000\" points=\"274.9084,-190.021 264.7251,-187.0969 270.8623,-195.7332 274.9084,-190.021\"/>\n",
       "</g>\n",
       "<!-- 12 -->\n",
       "<g id=\"node13\" class=\"node\">\n",
       "<title>12</title>\n",
       "<path fill=\"#ffffff\" stroke=\"#000000\" d=\"M410,-187C410,-187 338,-187 338,-187 332,-187 326,-181 326,-175 326,-175 326,-116 326,-116 326,-110 332,-104 338,-104 338,-104 410,-104 410,-104 416,-104 422,-110 422,-116 422,-116 422,-175 422,-175 422,-181 416,-187 410,-187\"/>\n",
       "<text text-anchor=\"start\" x=\"337\" y=\"-171.8\" font-family=\"Helvetica,sans-Serif\" font-size=\"14.00\" fill=\"#000000\">invited ≤ 0.5</text>\n",
       "<text text-anchor=\"start\" x=\"334\" y=\"-156.8\" font-family=\"Helvetica,sans-Serif\" font-size=\"14.00\" fill=\"#000000\">entropy = 1.0</text>\n",
       "<text text-anchor=\"start\" x=\"336.5\" y=\"-141.8\" font-family=\"Helvetica,sans-Serif\" font-size=\"14.00\" fill=\"#000000\">samples = 8</text>\n",
       "<text text-anchor=\"start\" x=\"334.5\" y=\"-126.8\" font-family=\"Helvetica,sans-Serif\" font-size=\"14.00\" fill=\"#000000\">value = [4, 4]</text>\n",
       "<text text-anchor=\"start\" x=\"341\" y=\"-111.8\" font-family=\"Helvetica,sans-Serif\" font-size=\"14.00\" fill=\"#000000\">class = not</text>\n",
       "</g>\n",
       "<!-- 8&#45;&gt;12 -->\n",
       "<g id=\"edge12\" class=\"edge\">\n",
       "<title>8&#45;&gt;12</title>\n",
       "<path fill=\"none\" stroke=\"#000000\" d=\"M374,-222.8796C374,-214.6838 374,-205.9891 374,-197.5013\"/>\n",
       "<polygon fill=\"#000000\" stroke=\"#000000\" points=\"377.5001,-197.298 374,-187.2981 370.5001,-197.2981 377.5001,-197.298\"/>\n",
       "</g>\n",
       "<!-- 10 -->\n",
       "<g id=\"node11\" class=\"node\">\n",
       "<title>10</title>\n",
       "<path fill=\"#ea975c\" stroke=\"#000000\" d=\"M120,-68C120,-68 12,-68 12,-68 6,-68 0,-62 0,-56 0,-56 0,-12 0,-12 0,-6 6,0 12,0 12,0 120,0 120,0 126,0 132,-6 132,-12 132,-12 132,-56 132,-56 132,-62 126,-68 120,-68\"/>\n",
       "<text text-anchor=\"start\" x=\"18.5\" y=\"-52.8\" font-family=\"Helvetica,sans-Serif\" font-size=\"14.00\" fill=\"#000000\">entropy = 0.612</text>\n",
       "<text text-anchor=\"start\" x=\"17.5\" y=\"-37.8\" font-family=\"Helvetica,sans-Serif\" font-size=\"14.00\" fill=\"#000000\">samples = 2557</text>\n",
       "<text text-anchor=\"start\" x=\"8\" y=\"-22.8\" font-family=\"Helvetica,sans-Serif\" font-size=\"14.00\" fill=\"#000000\">value = [2171, 386]</text>\n",
       "<text text-anchor=\"start\" x=\"33\" y=\"-7.8\" font-family=\"Helvetica,sans-Serif\" font-size=\"14.00\" fill=\"#000000\">class = not</text>\n",
       "</g>\n",
       "<!-- 9&#45;&gt;10 -->\n",
       "<g id=\"edge10\" class=\"edge\">\n",
       "<title>9&#45;&gt;10</title>\n",
       "<path fill=\"none\" stroke=\"#000000\" d=\"M153.8692,-103.9815C141.8677,-94.4232 129.1152,-84.2668 117.1557,-74.7419\"/>\n",
       "<polygon fill=\"#000000\" stroke=\"#000000\" points=\"119.0244,-71.7558 109.0217,-68.2637 114.6635,-77.2314 119.0244,-71.7558\"/>\n",
       "</g>\n",
       "<!-- 11 -->\n",
       "<g id=\"node12\" class=\"node\">\n",
       "<title>11</title>\n",
       "<path fill=\"#bddef6\" stroke=\"#000000\" d=\"M250,-68C250,-68 162,-68 162,-68 156,-68 150,-62 150,-56 150,-56 150,-12 150,-12 150,-6 156,0 162,0 162,0 250,0 250,0 256,0 262,-6 262,-12 262,-12 262,-56 262,-56 262,-62 256,-68 250,-68\"/>\n",
       "<text text-anchor=\"start\" x=\"158.5\" y=\"-52.8\" font-family=\"Helvetica,sans-Serif\" font-size=\"14.00\" fill=\"#000000\">entropy = 0.971</text>\n",
       "<text text-anchor=\"start\" x=\"168.5\" y=\"-37.8\" font-family=\"Helvetica,sans-Serif\" font-size=\"14.00\" fill=\"#000000\">samples = 5</text>\n",
       "<text text-anchor=\"start\" x=\"166.5\" y=\"-22.8\" font-family=\"Helvetica,sans-Serif\" font-size=\"14.00\" fill=\"#000000\">value = [2, 3]</text>\n",
       "<text text-anchor=\"start\" x=\"158\" y=\"-7.8\" font-family=\"Helvetica,sans-Serif\" font-size=\"14.00\" fill=\"#000000\">class = adopted</text>\n",
       "</g>\n",
       "<!-- 9&#45;&gt;11 -->\n",
       "<g id=\"edge11\" class=\"edge\">\n",
       "<title>9&#45;&gt;11</title>\n",
       "<path fill=\"none\" stroke=\"#000000\" d=\"M206,-103.9815C206,-95.618 206,-86.7965 206,-78.3409\"/>\n",
       "<polygon fill=\"#000000\" stroke=\"#000000\" points=\"209.5001,-78.2636 206,-68.2637 202.5001,-78.2637 209.5001,-78.2636\"/>\n",
       "</g>\n",
       "<!-- 13 -->\n",
       "<g id=\"node14\" class=\"node\">\n",
       "<title>13</title>\n",
       "<path fill=\"#399de5\" stroke=\"#000000\" d=\"M380,-68C380,-68 292,-68 292,-68 286,-68 280,-62 280,-56 280,-56 280,-12 280,-12 280,-6 286,0 292,0 292,0 380,0 380,0 386,0 392,-6 392,-12 392,-12 392,-56 392,-56 392,-62 386,-68 380,-68\"/>\n",
       "<text text-anchor=\"start\" x=\"296\" y=\"-52.8\" font-family=\"Helvetica,sans-Serif\" font-size=\"14.00\" fill=\"#000000\">entropy = 0.0</text>\n",
       "<text text-anchor=\"start\" x=\"298.5\" y=\"-37.8\" font-family=\"Helvetica,sans-Serif\" font-size=\"14.00\" fill=\"#000000\">samples = 3</text>\n",
       "<text text-anchor=\"start\" x=\"296.5\" y=\"-22.8\" font-family=\"Helvetica,sans-Serif\" font-size=\"14.00\" fill=\"#000000\">value = [0, 3]</text>\n",
       "<text text-anchor=\"start\" x=\"288\" y=\"-7.8\" font-family=\"Helvetica,sans-Serif\" font-size=\"14.00\" fill=\"#000000\">class = adopted</text>\n",
       "</g>\n",
       "<!-- 12&#45;&gt;13 -->\n",
       "<g id=\"edge13\" class=\"edge\">\n",
       "<title>12&#45;&gt;13</title>\n",
       "<path fill=\"none\" stroke=\"#000000\" d=\"M359.8502,-103.9815C356.9372,-95.4342 353.8612,-86.4086 350.9219,-77.7839\"/>\n",
       "<polygon fill=\"#000000\" stroke=\"#000000\" points=\"354.2161,-76.6 347.6773,-68.2637 347.5904,-78.8582 354.2161,-76.6\"/>\n",
       "</g>\n",
       "<!-- 14 -->\n",
       "<g id=\"node15\" class=\"node\">\n",
       "<title>14</title>\n",
       "<path fill=\"#eca06a\" stroke=\"#000000\" d=\"M509.5,-68C509.5,-68 422.5,-68 422.5,-68 416.5,-68 410.5,-62 410.5,-56 410.5,-56 410.5,-12 410.5,-12 410.5,-6 416.5,0 422.5,0 422.5,0 509.5,0 509.5,0 515.5,0 521.5,-6 521.5,-12 521.5,-12 521.5,-56 521.5,-56 521.5,-62 515.5,-68 509.5,-68\"/>\n",
       "<text text-anchor=\"start\" x=\"418.5\" y=\"-52.8\" font-family=\"Helvetica,sans-Serif\" font-size=\"14.00\" fill=\"#000000\">entropy = 0.722</text>\n",
       "<text text-anchor=\"start\" x=\"428.5\" y=\"-37.8\" font-family=\"Helvetica,sans-Serif\" font-size=\"14.00\" fill=\"#000000\">samples = 5</text>\n",
       "<text text-anchor=\"start\" x=\"426.5\" y=\"-22.8\" font-family=\"Helvetica,sans-Serif\" font-size=\"14.00\" fill=\"#000000\">value = [4, 1]</text>\n",
       "<text text-anchor=\"start\" x=\"433\" y=\"-7.8\" font-family=\"Helvetica,sans-Serif\" font-size=\"14.00\" fill=\"#000000\">class = not</text>\n",
       "</g>\n",
       "<!-- 12&#45;&gt;14 -->\n",
       "<g id=\"edge14\" class=\"edge\">\n",
       "<title>12&#45;&gt;14</title>\n",
       "<path fill=\"none\" stroke=\"#000000\" d=\"M408.2574,-103.9815C415.7649,-94.8828 423.7196,-85.242 431.2464,-76.1199\"/>\n",
       "<polygon fill=\"#000000\" stroke=\"#000000\" points=\"434.0639,-78.2045 437.7286,-68.2637 428.6646,-73.7495 434.0639,-78.2045\"/>\n",
       "</g>\n",
       "<!-- 16 -->\n",
       "<g id=\"node17\" class=\"node\">\n",
       "<title>16</title>\n",
       "<path fill=\"#f0b78e\" stroke=\"#000000\" d=\"M702,-187C702,-187 488,-187 488,-187 482,-187 476,-181 476,-175 476,-175 476,-116 476,-116 476,-110 482,-104 488,-104 488,-104 702,-104 702,-104 708,-104 714,-110 714,-116 714,-116 714,-175 714,-175 714,-181 708,-187 702,-187\"/>\n",
       "<text text-anchor=\"start\" x=\"484\" y=\"-171.8\" font-family=\"Helvetica,sans-Serif\" font-size=\"14.00\" fill=\"#000000\">cs_SIGNUP_GOOGLE_AUTH ≤ 0.5</text>\n",
       "<text text-anchor=\"start\" x=\"547.5\" y=\"-156.8\" font-family=\"Helvetica,sans-Serif\" font-size=\"14.00\" fill=\"#000000\">entropy = 0.881</text>\n",
       "<text text-anchor=\"start\" x=\"554\" y=\"-141.8\" font-family=\"Helvetica,sans-Serif\" font-size=\"14.00\" fill=\"#000000\">samples = 10</text>\n",
       "<text text-anchor=\"start\" x=\"555.5\" y=\"-126.8\" font-family=\"Helvetica,sans-Serif\" font-size=\"14.00\" fill=\"#000000\">value = [7, 3]</text>\n",
       "<text text-anchor=\"start\" x=\"562\" y=\"-111.8\" font-family=\"Helvetica,sans-Serif\" font-size=\"14.00\" fill=\"#000000\">class = not</text>\n",
       "</g>\n",
       "<!-- 15&#45;&gt;16 -->\n",
       "<g id=\"edge16\" class=\"edge\">\n",
       "<title>15&#45;&gt;16</title>\n",
       "<path fill=\"none\" stroke=\"#000000\" d=\"M595,-222.8796C595,-214.6838 595,-205.9891 595,-197.5013\"/>\n",
       "<polygon fill=\"#000000\" stroke=\"#000000\" points=\"598.5001,-197.298 595,-187.2981 591.5001,-197.2981 598.5001,-197.298\"/>\n",
       "</g>\n",
       "<!-- 19 -->\n",
       "<g id=\"node20\" class=\"node\">\n",
       "<title>19</title>\n",
       "<path fill=\"#7bbeee\" stroke=\"#000000\" d=\"M940,-187C940,-187 744,-187 744,-187 738,-187 732,-181 732,-175 732,-175 732,-116 732,-116 732,-110 738,-104 744,-104 744,-104 940,-104 940,-104 946,-104 952,-110 952,-116 952,-116 952,-175 952,-175 952,-181 946,-187 940,-187\"/>\n",
       "<text text-anchor=\"start\" x=\"740\" y=\"-171.8\" font-family=\"Helvetica,sans-Serif\" font-size=\"14.00\" fill=\"#000000\">enabled_for_marketing_drip ≤ 0.5</text>\n",
       "<text text-anchor=\"start\" x=\"794.5\" y=\"-156.8\" font-family=\"Helvetica,sans-Serif\" font-size=\"14.00\" fill=\"#000000\">entropy = 0.811</text>\n",
       "<text text-anchor=\"start\" x=\"804.5\" y=\"-141.8\" font-family=\"Helvetica,sans-Serif\" font-size=\"14.00\" fill=\"#000000\">samples = 4</text>\n",
       "<text text-anchor=\"start\" x=\"802.5\" y=\"-126.8\" font-family=\"Helvetica,sans-Serif\" font-size=\"14.00\" fill=\"#000000\">value = [1, 3]</text>\n",
       "<text text-anchor=\"start\" x=\"794\" y=\"-111.8\" font-family=\"Helvetica,sans-Serif\" font-size=\"14.00\" fill=\"#000000\">class = adopted</text>\n",
       "</g>\n",
       "<!-- 15&#45;&gt;19 -->\n",
       "<g id=\"edge19\" class=\"edge\">\n",
       "<title>15&#45;&gt;19</title>\n",
       "<path fill=\"none\" stroke=\"#000000\" d=\"M657.6478,-234.3174C684.5887,-221.3378 716.6802,-205.8767 746.4782,-191.5206\"/>\n",
       "<polygon fill=\"#000000\" stroke=\"#000000\" points=\"748.1541,-194.5983 755.6439,-187.1048 745.1158,-188.292 748.1541,-194.5983\"/>\n",
       "</g>\n",
       "<!-- 17 -->\n",
       "<g id=\"node18\" class=\"node\">\n",
       "<title>17</title>\n",
       "<path fill=\"#f2c09c\" stroke=\"#000000\" d=\"M638.5,-68C638.5,-68 551.5,-68 551.5,-68 545.5,-68 539.5,-62 539.5,-56 539.5,-56 539.5,-12 539.5,-12 539.5,-6 545.5,0 551.5,0 551.5,0 638.5,0 638.5,0 644.5,0 650.5,-6 650.5,-12 650.5,-12 650.5,-56 650.5,-56 650.5,-62 644.5,-68 638.5,-68\"/>\n",
       "<text text-anchor=\"start\" x=\"547.5\" y=\"-52.8\" font-family=\"Helvetica,sans-Serif\" font-size=\"14.00\" fill=\"#000000\">entropy = 0.918</text>\n",
       "<text text-anchor=\"start\" x=\"557.5\" y=\"-37.8\" font-family=\"Helvetica,sans-Serif\" font-size=\"14.00\" fill=\"#000000\">samples = 9</text>\n",
       "<text text-anchor=\"start\" x=\"555.5\" y=\"-22.8\" font-family=\"Helvetica,sans-Serif\" font-size=\"14.00\" fill=\"#000000\">value = [6, 3]</text>\n",
       "<text text-anchor=\"start\" x=\"562\" y=\"-7.8\" font-family=\"Helvetica,sans-Serif\" font-size=\"14.00\" fill=\"#000000\">class = not</text>\n",
       "</g>\n",
       "<!-- 16&#45;&gt;17 -->\n",
       "<g id=\"edge17\" class=\"edge\">\n",
       "<title>16&#45;&gt;17</title>\n",
       "<path fill=\"none\" stroke=\"#000000\" d=\"M595,-103.9815C595,-95.618 595,-86.7965 595,-78.3409\"/>\n",
       "<polygon fill=\"#000000\" stroke=\"#000000\" points=\"598.5001,-78.2636 595,-68.2637 591.5001,-78.2637 598.5001,-78.2636\"/>\n",
       "</g>\n",
       "<!-- 18 -->\n",
       "<g id=\"node19\" class=\"node\">\n",
       "<title>18</title>\n",
       "<path fill=\"#e58139\" stroke=\"#000000\" d=\"M753,-68C753,-68 681,-68 681,-68 675,-68 669,-62 669,-56 669,-56 669,-12 669,-12 669,-6 675,0 681,0 681,0 753,0 753,0 759,0 765,-6 765,-12 765,-12 765,-56 765,-56 765,-62 759,-68 753,-68\"/>\n",
       "<text text-anchor=\"start\" x=\"677\" y=\"-52.8\" font-family=\"Helvetica,sans-Serif\" font-size=\"14.00\" fill=\"#000000\">entropy = 0.0</text>\n",
       "<text text-anchor=\"start\" x=\"679.5\" y=\"-37.8\" font-family=\"Helvetica,sans-Serif\" font-size=\"14.00\" fill=\"#000000\">samples = 1</text>\n",
       "<text text-anchor=\"start\" x=\"677.5\" y=\"-22.8\" font-family=\"Helvetica,sans-Serif\" font-size=\"14.00\" fill=\"#000000\">value = [1, 0]</text>\n",
       "<text text-anchor=\"start\" x=\"684\" y=\"-7.8\" font-family=\"Helvetica,sans-Serif\" font-size=\"14.00\" fill=\"#000000\">class = not</text>\n",
       "</g>\n",
       "<!-- 16&#45;&gt;18 -->\n",
       "<g id=\"edge18\" class=\"edge\">\n",
       "<title>16&#45;&gt;18</title>\n",
       "<path fill=\"none\" stroke=\"#000000\" d=\"M640.4283,-103.9815C650.7861,-94.5151 661.7859,-84.462 672.1206,-75.0168\"/>\n",
       "<polygon fill=\"#000000\" stroke=\"#000000\" points=\"674.4893,-77.5935 679.5097,-68.2637 669.7669,-72.4264 674.4893,-77.5935\"/>\n",
       "</g>\n",
       "<!-- 20 -->\n",
       "<g id=\"node21\" class=\"node\">\n",
       "<title>20</title>\n",
       "<path fill=\"#ffffff\" stroke=\"#000000\" d=\"M872,-68C872,-68 800,-68 800,-68 794,-68 788,-62 788,-56 788,-56 788,-12 788,-12 788,-6 794,0 800,0 800,0 872,0 872,0 878,0 884,-6 884,-12 884,-12 884,-56 884,-56 884,-62 878,-68 872,-68\"/>\n",
       "<text text-anchor=\"start\" x=\"796\" y=\"-52.8\" font-family=\"Helvetica,sans-Serif\" font-size=\"14.00\" fill=\"#000000\">entropy = 1.0</text>\n",
       "<text text-anchor=\"start\" x=\"798.5\" y=\"-37.8\" font-family=\"Helvetica,sans-Serif\" font-size=\"14.00\" fill=\"#000000\">samples = 2</text>\n",
       "<text text-anchor=\"start\" x=\"796.5\" y=\"-22.8\" font-family=\"Helvetica,sans-Serif\" font-size=\"14.00\" fill=\"#000000\">value = [1, 1]</text>\n",
       "<text text-anchor=\"start\" x=\"803\" y=\"-7.8\" font-family=\"Helvetica,sans-Serif\" font-size=\"14.00\" fill=\"#000000\">class = not</text>\n",
       "</g>\n",
       "<!-- 19&#45;&gt;20 -->\n",
       "<g id=\"edge20\" class=\"edge\">\n",
       "<title>19&#45;&gt;20</title>\n",
       "<path fill=\"none\" stroke=\"#000000\" d=\"M839.7658,-103.9815C839.3158,-95.618 838.8411,-86.7965 838.3861,-78.3409\"/>\n",
       "<polygon fill=\"#000000\" stroke=\"#000000\" points=\"841.8762,-78.0611 837.8438,-68.2637 834.8863,-78.4373 841.8762,-78.0611\"/>\n",
       "</g>\n",
       "<!-- 21 -->\n",
       "<g id=\"node22\" class=\"node\">\n",
       "<title>21</title>\n",
       "<path fill=\"#399de5\" stroke=\"#000000\" d=\"M1002,-68C1002,-68 914,-68 914,-68 908,-68 902,-62 902,-56 902,-56 902,-12 902,-12 902,-6 908,0 914,0 914,0 1002,0 1002,0 1008,0 1014,-6 1014,-12 1014,-12 1014,-56 1014,-56 1014,-62 1008,-68 1002,-68\"/>\n",
       "<text text-anchor=\"start\" x=\"918\" y=\"-52.8\" font-family=\"Helvetica,sans-Serif\" font-size=\"14.00\" fill=\"#000000\">entropy = 0.0</text>\n",
       "<text text-anchor=\"start\" x=\"920.5\" y=\"-37.8\" font-family=\"Helvetica,sans-Serif\" font-size=\"14.00\" fill=\"#000000\">samples = 2</text>\n",
       "<text text-anchor=\"start\" x=\"918.5\" y=\"-22.8\" font-family=\"Helvetica,sans-Serif\" font-size=\"14.00\" fill=\"#000000\">value = [0, 2]</text>\n",
       "<text text-anchor=\"start\" x=\"910\" y=\"-7.8\" font-family=\"Helvetica,sans-Serif\" font-size=\"14.00\" fill=\"#000000\">class = adopted</text>\n",
       "</g>\n",
       "<!-- 19&#45;&gt;21 -->\n",
       "<g id=\"edge21\" class=\"edge\">\n",
       "<title>19&#45;&gt;21</title>\n",
       "<path fill=\"none\" stroke=\"#000000\" d=\"M885.1941,-103.9815C894.9469,-94.607 905.2983,-84.6572 915.0414,-75.2921\"/>\n",
       "<polygon fill=\"#000000\" stroke=\"#000000\" points=\"917.5694,-77.7169 922.3535,-68.2637 912.7185,-72.6702 917.5694,-77.7169\"/>\n",
       "</g>\n",
       "<!-- 24 -->\n",
       "<g id=\"node25\" class=\"node\">\n",
       "<title>24</title>\n",
       "<path fill=\"#399de5\" stroke=\"#000000\" d=\"M898,-417.5C898,-417.5 810,-417.5 810,-417.5 804,-417.5 798,-411.5 798,-405.5 798,-405.5 798,-361.5 798,-361.5 798,-355.5 804,-349.5 810,-349.5 810,-349.5 898,-349.5 898,-349.5 904,-349.5 910,-355.5 910,-361.5 910,-361.5 910,-405.5 910,-405.5 910,-411.5 904,-417.5 898,-417.5\"/>\n",
       "<text text-anchor=\"start\" x=\"814\" y=\"-402.3\" font-family=\"Helvetica,sans-Serif\" font-size=\"14.00\" fill=\"#000000\">entropy = 0.0</text>\n",
       "<text text-anchor=\"start\" x=\"816.5\" y=\"-387.3\" font-family=\"Helvetica,sans-Serif\" font-size=\"14.00\" fill=\"#000000\">samples = 2</text>\n",
       "<text text-anchor=\"start\" x=\"814.5\" y=\"-372.3\" font-family=\"Helvetica,sans-Serif\" font-size=\"14.00\" fill=\"#000000\">value = [0, 2]</text>\n",
       "<text text-anchor=\"start\" x=\"806\" y=\"-357.3\" font-family=\"Helvetica,sans-Serif\" font-size=\"14.00\" fill=\"#000000\">class = adopted</text>\n",
       "</g>\n",
       "<!-- 23&#45;&gt;24 -->\n",
       "<g id=\"edge24\" class=\"edge\">\n",
       "<title>23&#45;&gt;24</title>\n",
       "<path fill=\"none\" stroke=\"#000000\" d=\"M926.1776,-460.8796C915.4079,-449.3337 903.7146,-436.7976 892.9383,-425.2446\"/>\n",
       "<polygon fill=\"#000000\" stroke=\"#000000\" points=\"895.3885,-422.7402 886.008,-417.8149 890.2697,-427.5149 895.3885,-422.7402\"/>\n",
       "</g>\n",
       "<!-- 25 -->\n",
       "<g id=\"node26\" class=\"node\">\n",
       "<title>25</title>\n",
       "<path fill=\"#ffffff\" stroke=\"#000000\" d=\"M1136,-425C1136,-425 940,-425 940,-425 934,-425 928,-419 928,-413 928,-413 928,-354 928,-354 928,-348 934,-342 940,-342 940,-342 1136,-342 1136,-342 1142,-342 1148,-348 1148,-354 1148,-354 1148,-413 1148,-413 1148,-419 1142,-425 1136,-425\"/>\n",
       "<text text-anchor=\"start\" x=\"936\" y=\"-409.8\" font-family=\"Helvetica,sans-Serif\" font-size=\"14.00\" fill=\"#000000\">enabled_for_marketing_drip ≤ 0.5</text>\n",
       "<text text-anchor=\"start\" x=\"998\" y=\"-394.8\" font-family=\"Helvetica,sans-Serif\" font-size=\"14.00\" fill=\"#000000\">entropy = 1.0</text>\n",
       "<text text-anchor=\"start\" x=\"1000.5\" y=\"-379.8\" font-family=\"Helvetica,sans-Serif\" font-size=\"14.00\" fill=\"#000000\">samples = 2</text>\n",
       "<text text-anchor=\"start\" x=\"998.5\" y=\"-364.8\" font-family=\"Helvetica,sans-Serif\" font-size=\"14.00\" fill=\"#000000\">value = [1, 1]</text>\n",
       "<text text-anchor=\"start\" x=\"1005\" y=\"-349.8\" font-family=\"Helvetica,sans-Serif\" font-size=\"14.00\" fill=\"#000000\">class = not</text>\n",
       "</g>\n",
       "<!-- 23&#45;&gt;25 -->\n",
       "<g id=\"edge25\" class=\"edge\">\n",
       "<title>23&#45;&gt;25</title>\n",
       "<path fill=\"none\" stroke=\"#000000\" d=\"M990.5319,-460.8796C995.891,-452.1434 1001.5979,-442.8404 1007.1282,-433.8253\"/>\n",
       "<polygon fill=\"#000000\" stroke=\"#000000\" points=\"1010.1135,-435.6522 1012.3592,-425.2981 1004.1467,-431.9919 1010.1135,-435.6522\"/>\n",
       "</g>\n",
       "<!-- 26 -->\n",
       "<g id=\"node27\" class=\"node\">\n",
       "<title>26</title>\n",
       "<path fill=\"#e58139\" stroke=\"#000000\" d=\"M952,-298.5C952,-298.5 880,-298.5 880,-298.5 874,-298.5 868,-292.5 868,-286.5 868,-286.5 868,-242.5 868,-242.5 868,-236.5 874,-230.5 880,-230.5 880,-230.5 952,-230.5 952,-230.5 958,-230.5 964,-236.5 964,-242.5 964,-242.5 964,-286.5 964,-286.5 964,-292.5 958,-298.5 952,-298.5\"/>\n",
       "<text text-anchor=\"start\" x=\"876\" y=\"-283.3\" font-family=\"Helvetica,sans-Serif\" font-size=\"14.00\" fill=\"#000000\">entropy = 0.0</text>\n",
       "<text text-anchor=\"start\" x=\"878.5\" y=\"-268.3\" font-family=\"Helvetica,sans-Serif\" font-size=\"14.00\" fill=\"#000000\">samples = 1</text>\n",
       "<text text-anchor=\"start\" x=\"876.5\" y=\"-253.3\" font-family=\"Helvetica,sans-Serif\" font-size=\"14.00\" fill=\"#000000\">value = [1, 0]</text>\n",
       "<text text-anchor=\"start\" x=\"883\" y=\"-238.3\" font-family=\"Helvetica,sans-Serif\" font-size=\"14.00\" fill=\"#000000\">class = not</text>\n",
       "</g>\n",
       "<!-- 25&#45;&gt;26 -->\n",
       "<g id=\"edge26\" class=\"edge\">\n",
       "<title>25&#45;&gt;26</title>\n",
       "<path fill=\"none\" stroke=\"#000000\" d=\"M995.3303,-341.8796C983.3806,-330.2237 970.3963,-317.5587 958.4589,-305.9148\"/>\n",
       "<polygon fill=\"#000000\" stroke=\"#000000\" points=\"960.7825,-303.292 951.18,-298.8149 955.8947,-308.303 960.7825,-303.292\"/>\n",
       "</g>\n",
       "<!-- 27 -->\n",
       "<g id=\"node28\" class=\"node\">\n",
       "<title>27</title>\n",
       "<path fill=\"#399de5\" stroke=\"#000000\" d=\"M1082,-298.5C1082,-298.5 994,-298.5 994,-298.5 988,-298.5 982,-292.5 982,-286.5 982,-286.5 982,-242.5 982,-242.5 982,-236.5 988,-230.5 994,-230.5 994,-230.5 1082,-230.5 1082,-230.5 1088,-230.5 1094,-236.5 1094,-242.5 1094,-242.5 1094,-286.5 1094,-286.5 1094,-292.5 1088,-298.5 1082,-298.5\"/>\n",
       "<text text-anchor=\"start\" x=\"998\" y=\"-283.3\" font-family=\"Helvetica,sans-Serif\" font-size=\"14.00\" fill=\"#000000\">entropy = 0.0</text>\n",
       "<text text-anchor=\"start\" x=\"1000.5\" y=\"-268.3\" font-family=\"Helvetica,sans-Serif\" font-size=\"14.00\" fill=\"#000000\">samples = 1</text>\n",
       "<text text-anchor=\"start\" x=\"998.5\" y=\"-253.3\" font-family=\"Helvetica,sans-Serif\" font-size=\"14.00\" fill=\"#000000\">value = [0, 1]</text>\n",
       "<text text-anchor=\"start\" x=\"990\" y=\"-238.3\" font-family=\"Helvetica,sans-Serif\" font-size=\"14.00\" fill=\"#000000\">class = adopted</text>\n",
       "</g>\n",
       "<!-- 25&#45;&gt;27 -->\n",
       "<g id=\"edge27\" class=\"edge\">\n",
       "<title>25&#45;&gt;27</title>\n",
       "<path fill=\"none\" stroke=\"#000000\" d=\"M1038,-341.8796C1038,-331.2134 1038,-319.7021 1038,-308.9015\"/>\n",
       "<polygon fill=\"#000000\" stroke=\"#000000\" points=\"1041.5001,-308.8149 1038,-298.8149 1034.5001,-308.815 1041.5001,-308.8149\"/>\n",
       "</g>\n",
       "<!-- 29 -->\n",
       "<g id=\"node30\" class=\"node\">\n",
       "<title>29</title>\n",
       "<path fill=\"#399de5\" stroke=\"#000000\" d=\"M1292,-536.5C1292,-536.5 1204,-536.5 1204,-536.5 1198,-536.5 1192,-530.5 1192,-524.5 1192,-524.5 1192,-480.5 1192,-480.5 1192,-474.5 1198,-468.5 1204,-468.5 1204,-468.5 1292,-468.5 1292,-468.5 1298,-468.5 1304,-474.5 1304,-480.5 1304,-480.5 1304,-524.5 1304,-524.5 1304,-530.5 1298,-536.5 1292,-536.5\"/>\n",
       "<text text-anchor=\"start\" x=\"1208\" y=\"-521.3\" font-family=\"Helvetica,sans-Serif\" font-size=\"14.00\" fill=\"#000000\">entropy = 0.0</text>\n",
       "<text text-anchor=\"start\" x=\"1210.5\" y=\"-506.3\" font-family=\"Helvetica,sans-Serif\" font-size=\"14.00\" fill=\"#000000\">samples = 2</text>\n",
       "<text text-anchor=\"start\" x=\"1208.5\" y=\"-491.3\" font-family=\"Helvetica,sans-Serif\" font-size=\"14.00\" fill=\"#000000\">value = [0, 2]</text>\n",
       "<text text-anchor=\"start\" x=\"1200\" y=\"-476.3\" font-family=\"Helvetica,sans-Serif\" font-size=\"14.00\" fill=\"#000000\">class = adopted</text>\n",
       "</g>\n",
       "<!-- 28&#45;&gt;29 -->\n",
       "<g id=\"edge29\" class=\"edge\">\n",
       "<title>28&#45;&gt;29</title>\n",
       "<path fill=\"none\" stroke=\"#000000\" d=\"M1268.808,-579.8796C1265.9102,-569.1034 1262.7804,-557.4647 1259.8501,-546.5677\"/>\n",
       "<polygon fill=\"#000000\" stroke=\"#000000\" points=\"1263.2044,-545.563 1257.2275,-536.8149 1256.4445,-547.3808 1263.2044,-545.563\"/>\n",
       "</g>\n",
       "<!-- 30 -->\n",
       "<g id=\"node31\" class=\"node\">\n",
       "<title>30</title>\n",
       "<path fill=\"#ffffff\" stroke=\"#000000\" d=\"M1406,-536.5C1406,-536.5 1334,-536.5 1334,-536.5 1328,-536.5 1322,-530.5 1322,-524.5 1322,-524.5 1322,-480.5 1322,-480.5 1322,-474.5 1328,-468.5 1334,-468.5 1334,-468.5 1406,-468.5 1406,-468.5 1412,-468.5 1418,-474.5 1418,-480.5 1418,-480.5 1418,-524.5 1418,-524.5 1418,-530.5 1412,-536.5 1406,-536.5\"/>\n",
       "<text text-anchor=\"start\" x=\"1330\" y=\"-521.3\" font-family=\"Helvetica,sans-Serif\" font-size=\"14.00\" fill=\"#000000\">entropy = 1.0</text>\n",
       "<text text-anchor=\"start\" x=\"1332.5\" y=\"-506.3\" font-family=\"Helvetica,sans-Serif\" font-size=\"14.00\" fill=\"#000000\">samples = 2</text>\n",
       "<text text-anchor=\"start\" x=\"1330.5\" y=\"-491.3\" font-family=\"Helvetica,sans-Serif\" font-size=\"14.00\" fill=\"#000000\">value = [1, 1]</text>\n",
       "<text text-anchor=\"start\" x=\"1337\" y=\"-476.3\" font-family=\"Helvetica,sans-Serif\" font-size=\"14.00\" fill=\"#000000\">class = not</text>\n",
       "</g>\n",
       "<!-- 28&#45;&gt;30 -->\n",
       "<g id=\"edge30\" class=\"edge\">\n",
       "<title>28&#45;&gt;30</title>\n",
       "<path fill=\"none\" stroke=\"#000000\" d=\"M1311.4776,-579.8796C1320.0435,-568.5536 1329.33,-556.2748 1337.9283,-544.9058\"/>\n",
       "<polygon fill=\"#000000\" stroke=\"#000000\" points=\"1340.8069,-546.902 1344.0475,-536.8149 1335.2238,-542.6795 1340.8069,-546.902\"/>\n",
       "</g>\n",
       "<!-- 32 -->\n",
       "<g id=\"node33\" class=\"node\">\n",
       "<title>32</title>\n",
       "<path fill=\"#e58139\" stroke=\"#000000\" d=\"M1535,-655.5C1535,-655.5 1463,-655.5 1463,-655.5 1457,-655.5 1451,-649.5 1451,-643.5 1451,-643.5 1451,-599.5 1451,-599.5 1451,-593.5 1457,-587.5 1463,-587.5 1463,-587.5 1535,-587.5 1535,-587.5 1541,-587.5 1547,-593.5 1547,-599.5 1547,-599.5 1547,-643.5 1547,-643.5 1547,-649.5 1541,-655.5 1535,-655.5\"/>\n",
       "<text text-anchor=\"start\" x=\"1459\" y=\"-640.3\" font-family=\"Helvetica,sans-Serif\" font-size=\"14.00\" fill=\"#000000\">entropy = 0.0</text>\n",
       "<text text-anchor=\"start\" x=\"1461.5\" y=\"-625.3\" font-family=\"Helvetica,sans-Serif\" font-size=\"14.00\" fill=\"#000000\">samples = 1</text>\n",
       "<text text-anchor=\"start\" x=\"1459.5\" y=\"-610.3\" font-family=\"Helvetica,sans-Serif\" font-size=\"14.00\" fill=\"#000000\">value = [1, 0]</text>\n",
       "<text text-anchor=\"start\" x=\"1466\" y=\"-595.3\" font-family=\"Helvetica,sans-Serif\" font-size=\"14.00\" fill=\"#000000\">class = not</text>\n",
       "</g>\n",
       "<!-- 31&#45;&gt;32 -->\n",
       "<g id=\"edge32\" class=\"edge\">\n",
       "<title>31&#45;&gt;32</title>\n",
       "<path fill=\"none\" stroke=\"#000000\" d=\"M1538.6652,-698.8796C1533.0285,-687.8835 1526.9315,-675.9893 1521.2478,-664.9015\"/>\n",
       "<polygon fill=\"#000000\" stroke=\"#000000\" points=\"1524.2663,-663.1173 1516.59,-655.8149 1518.0371,-666.3105 1524.2663,-663.1173\"/>\n",
       "</g>\n",
       "<!-- 33 -->\n",
       "<g id=\"node34\" class=\"node\">\n",
       "<title>33</title>\n",
       "<path fill=\"#399de5\" stroke=\"#000000\" d=\"M1665,-655.5C1665,-655.5 1577,-655.5 1577,-655.5 1571,-655.5 1565,-649.5 1565,-643.5 1565,-643.5 1565,-599.5 1565,-599.5 1565,-593.5 1571,-587.5 1577,-587.5 1577,-587.5 1665,-587.5 1665,-587.5 1671,-587.5 1677,-593.5 1677,-599.5 1677,-599.5 1677,-643.5 1677,-643.5 1677,-649.5 1671,-655.5 1665,-655.5\"/>\n",
       "<text text-anchor=\"start\" x=\"1581\" y=\"-640.3\" font-family=\"Helvetica,sans-Serif\" font-size=\"14.00\" fill=\"#000000\">entropy = 0.0</text>\n",
       "<text text-anchor=\"start\" x=\"1583.5\" y=\"-625.3\" font-family=\"Helvetica,sans-Serif\" font-size=\"14.00\" fill=\"#000000\">samples = 3</text>\n",
       "<text text-anchor=\"start\" x=\"1581.5\" y=\"-610.3\" font-family=\"Helvetica,sans-Serif\" font-size=\"14.00\" fill=\"#000000\">value = [0, 3]</text>\n",
       "<text text-anchor=\"start\" x=\"1573\" y=\"-595.3\" font-family=\"Helvetica,sans-Serif\" font-size=\"14.00\" fill=\"#000000\">class = adopted</text>\n",
       "</g>\n",
       "<!-- 31&#45;&gt;33 -->\n",
       "<g id=\"edge33\" class=\"edge\">\n",
       "<title>31&#45;&gt;33</title>\n",
       "<path fill=\"none\" stroke=\"#000000\" d=\"M1581.3348,-698.8796C1586.9715,-687.8835 1593.0685,-675.9893 1598.7522,-664.9015\"/>\n",
       "<polygon fill=\"#000000\" stroke=\"#000000\" points=\"1601.9629,-666.3105 1603.41,-655.8149 1595.7337,-663.1173 1601.9629,-666.3105\"/>\n",
       "</g>\n",
       "<!-- 35 -->\n",
       "<g id=\"node36\" class=\"node\">\n",
       "<title>35</title>\n",
       "<path fill=\"#e89050\" stroke=\"#000000\" d=\"M2206.5,-782C2206.5,-782 2105.5,-782 2105.5,-782 2099.5,-782 2093.5,-776 2093.5,-770 2093.5,-770 2093.5,-711 2093.5,-711 2093.5,-705 2099.5,-699 2105.5,-699 2105.5,-699 2206.5,-699 2206.5,-699 2212.5,-699 2218.5,-705 2218.5,-711 2218.5,-711 2218.5,-770 2218.5,-770 2218.5,-776 2212.5,-782 2206.5,-782\"/>\n",
       "<text text-anchor=\"start\" x=\"2108.5\" y=\"-766.8\" font-family=\"Helvetica,sans-Serif\" font-size=\"14.00\" fill=\"#000000\">org_id_52 ≤ 0.5</text>\n",
       "<text text-anchor=\"start\" x=\"2112\" y=\"-751.8\" font-family=\"Helvetica,sans-Serif\" font-size=\"14.00\" fill=\"#000000\">entropy = 0.48</text>\n",
       "<text text-anchor=\"start\" x=\"2111\" y=\"-736.8\" font-family=\"Helvetica,sans-Serif\" font-size=\"14.00\" fill=\"#000000\">samples = 977</text>\n",
       "<text text-anchor=\"start\" x=\"2101.5\" y=\"-721.8\" font-family=\"Helvetica,sans-Serif\" font-size=\"14.00\" fill=\"#000000\">value = [876, 101]</text>\n",
       "<text text-anchor=\"start\" x=\"2123\" y=\"-706.8\" font-family=\"Helvetica,sans-Serif\" font-size=\"14.00\" fill=\"#000000\">class = not</text>\n",
       "</g>\n",
       "<!-- 34&#45;&gt;35 -->\n",
       "<g id=\"edge35\" class=\"edge\">\n",
       "<title>34&#45;&gt;35</title>\n",
       "<path fill=\"none\" stroke=\"#000000\" d=\"M2247.685,-817.8796C2236.5868,-808.513 2224.7165,-798.4948 2213.3223,-788.8784\"/>\n",
       "<polygon fill=\"#000000\" stroke=\"#000000\" points=\"2215.425,-786.0731 2205.5254,-782.2981 2210.9101,-791.4225 2215.425,-786.0731\"/>\n",
       "</g>\n",
       "<!-- 60 -->\n",
       "<g id=\"node61\" class=\"node\">\n",
       "<title>60</title>\n",
       "<path fill=\"#e78945\" stroke=\"#000000\" d=\"M2487.5,-782C2487.5,-782 2386.5,-782 2386.5,-782 2380.5,-782 2374.5,-776 2374.5,-770 2374.5,-770 2374.5,-711 2374.5,-711 2374.5,-705 2380.5,-699 2386.5,-699 2386.5,-699 2487.5,-699 2487.5,-699 2493.5,-699 2499.5,-705 2499.5,-711 2499.5,-711 2499.5,-770 2499.5,-770 2499.5,-776 2493.5,-782 2487.5,-782\"/>\n",
       "<text text-anchor=\"start\" x=\"2385.5\" y=\"-766.8\" font-family=\"Helvetica,sans-Serif\" font-size=\"14.00\" fill=\"#000000\">org_id_289 ≤ 0.5</text>\n",
       "<text text-anchor=\"start\" x=\"2393\" y=\"-751.8\" font-family=\"Helvetica,sans-Serif\" font-size=\"14.00\" fill=\"#000000\">entropy = 0.32</text>\n",
       "<text text-anchor=\"start\" x=\"2388.5\" y=\"-736.8\" font-family=\"Helvetica,sans-Serif\" font-size=\"14.00\" fill=\"#000000\">samples = 1205</text>\n",
       "<text text-anchor=\"start\" x=\"2382.5\" y=\"-721.8\" font-family=\"Helvetica,sans-Serif\" font-size=\"14.00\" fill=\"#000000\">value = [1135, 70]</text>\n",
       "<text text-anchor=\"start\" x=\"2404\" y=\"-706.8\" font-family=\"Helvetica,sans-Serif\" font-size=\"14.00\" fill=\"#000000\">class = not</text>\n",
       "</g>\n",
       "<!-- 34&#45;&gt;60 -->\n",
       "<g id=\"edge60\" class=\"edge\">\n",
       "<title>34&#45;&gt;60</title>\n",
       "<path fill=\"none\" stroke=\"#000000\" d=\"M2345.9652,-817.8796C2356.9847,-808.513 2368.7709,-798.4948 2380.0842,-788.8784\"/>\n",
       "<polygon fill=\"#000000\" stroke=\"#000000\" points=\"2382.4732,-791.4414 2387.8258,-782.2981 2377.9396,-786.1078 2382.4732,-791.4414\"/>\n",
       "</g>\n",
       "<!-- 36 -->\n",
       "<g id=\"node37\" class=\"node\">\n",
       "<title>36</title>\n",
       "<path fill=\"#e88f4f\" stroke=\"#000000\" d=\"M1855.5,-663C1855.5,-663 1760.5,-663 1760.5,-663 1754.5,-663 1748.5,-657 1748.5,-651 1748.5,-651 1748.5,-592 1748.5,-592 1748.5,-586 1754.5,-580 1760.5,-580 1760.5,-580 1855.5,-580 1855.5,-580 1861.5,-580 1867.5,-586 1867.5,-592 1867.5,-592 1867.5,-651 1867.5,-651 1867.5,-657 1861.5,-663 1855.5,-663\"/>\n",
       "<text text-anchor=\"start\" x=\"1756.5\" y=\"-647.8\" font-family=\"Helvetica,sans-Serif\" font-size=\"14.00\" fill=\"#000000\">org_id_110 ≤ 0.5</text>\n",
       "<text text-anchor=\"start\" x=\"1760.5\" y=\"-632.8\" font-family=\"Helvetica,sans-Serif\" font-size=\"14.00\" fill=\"#000000\">entropy = 0.472</text>\n",
       "<text text-anchor=\"start\" x=\"1763\" y=\"-617.8\" font-family=\"Helvetica,sans-Serif\" font-size=\"14.00\" fill=\"#000000\">samples = 971</text>\n",
       "<text text-anchor=\"start\" x=\"1757.5\" y=\"-602.8\" font-family=\"Helvetica,sans-Serif\" font-size=\"14.00\" fill=\"#000000\">value = [873, 98]</text>\n",
       "<text text-anchor=\"start\" x=\"1775\" y=\"-587.8\" font-family=\"Helvetica,sans-Serif\" font-size=\"14.00\" fill=\"#000000\">class = not</text>\n",
       "</g>\n",
       "<!-- 35&#45;&gt;36 -->\n",
       "<g id=\"edge36\" class=\"edge\">\n",
       "<title>35&#45;&gt;36</title>\n",
       "<path fill=\"none\" stroke=\"#000000\" d=\"M2093.3827,-719.0877C2032.4247,-698.2429 1940.0023,-666.6387 1876.9672,-645.0836\"/>\n",
       "<polygon fill=\"#000000\" stroke=\"#000000\" points=\"1878.0946,-641.7702 1867.5001,-641.8463 1875.8297,-648.3937 1878.0946,-641.7702\"/>\n",
       "</g>\n",
       "<!-- 53 -->\n",
       "<g id=\"node54\" class=\"node\">\n",
       "<title>53</title>\n",
       "<path fill=\"#ffffff\" stroke=\"#000000\" d=\"M2263,-663C2263,-663 2049,-663 2049,-663 2043,-663 2037,-657 2037,-651 2037,-651 2037,-592 2037,-592 2037,-586 2043,-580 2049,-580 2049,-580 2263,-580 2263,-580 2269,-580 2275,-586 2275,-592 2275,-592 2275,-651 2275,-651 2275,-657 2269,-663 2263,-663\"/>\n",
       "<text text-anchor=\"start\" x=\"2045\" y=\"-647.8\" font-family=\"Helvetica,sans-Serif\" font-size=\"14.00\" fill=\"#000000\">cs_SIGNUP_GOOGLE_AUTH ≤ 0.5</text>\n",
       "<text text-anchor=\"start\" x=\"2116\" y=\"-632.8\" font-family=\"Helvetica,sans-Serif\" font-size=\"14.00\" fill=\"#000000\">entropy = 1.0</text>\n",
       "<text text-anchor=\"start\" x=\"2118.5\" y=\"-617.8\" font-family=\"Helvetica,sans-Serif\" font-size=\"14.00\" fill=\"#000000\">samples = 6</text>\n",
       "<text text-anchor=\"start\" x=\"2116.5\" y=\"-602.8\" font-family=\"Helvetica,sans-Serif\" font-size=\"14.00\" fill=\"#000000\">value = [3, 3]</text>\n",
       "<text text-anchor=\"start\" x=\"2123\" y=\"-587.8\" font-family=\"Helvetica,sans-Serif\" font-size=\"14.00\" fill=\"#000000\">class = not</text>\n",
       "</g>\n",
       "<!-- 35&#45;&gt;53 -->\n",
       "<g id=\"edge53\" class=\"edge\">\n",
       "<title>35&#45;&gt;53</title>\n",
       "<path fill=\"none\" stroke=\"#000000\" d=\"M2156,-698.8796C2156,-690.6838 2156,-681.9891 2156,-673.5013\"/>\n",
       "<polygon fill=\"#000000\" stroke=\"#000000\" points=\"2159.5001,-673.298 2156,-663.2981 2152.5001,-673.2981 2159.5001,-673.298\"/>\n",
       "</g>\n",
       "<!-- 37 -->\n",
       "<g id=\"node38\" class=\"node\">\n",
       "<title>37</title>\n",
       "<path fill=\"#e88f4f\" stroke=\"#000000\" d=\"M1591.5,-544C1591.5,-544 1496.5,-544 1496.5,-544 1490.5,-544 1484.5,-538 1484.5,-532 1484.5,-532 1484.5,-473 1484.5,-473 1484.5,-467 1490.5,-461 1496.5,-461 1496.5,-461 1591.5,-461 1591.5,-461 1597.5,-461 1603.5,-467 1603.5,-473 1603.5,-473 1603.5,-532 1603.5,-532 1603.5,-538 1597.5,-544 1591.5,-544\"/>\n",
       "<text text-anchor=\"start\" x=\"1492.5\" y=\"-528.8\" font-family=\"Helvetica,sans-Serif\" font-size=\"14.00\" fill=\"#000000\">org_id_207 ≤ 0.5</text>\n",
       "<text text-anchor=\"start\" x=\"1496.5\" y=\"-513.8\" font-family=\"Helvetica,sans-Serif\" font-size=\"14.00\" fill=\"#000000\">entropy = 0.466</text>\n",
       "<text text-anchor=\"start\" x=\"1499\" y=\"-498.8\" font-family=\"Helvetica,sans-Serif\" font-size=\"14.00\" fill=\"#000000\">samples = 968</text>\n",
       "<text text-anchor=\"start\" x=\"1493.5\" y=\"-483.8\" font-family=\"Helvetica,sans-Serif\" font-size=\"14.00\" fill=\"#000000\">value = [872, 96]</text>\n",
       "<text text-anchor=\"start\" x=\"1511\" y=\"-468.8\" font-family=\"Helvetica,sans-Serif\" font-size=\"14.00\" fill=\"#000000\">class = not</text>\n",
       "</g>\n",
       "<!-- 36&#45;&gt;37 -->\n",
       "<g id=\"edge37\" class=\"edge\">\n",
       "<title>36&#45;&gt;37</title>\n",
       "<path fill=\"none\" stroke=\"#000000\" d=\"M1748.4241,-594.6457C1708.2707,-576.5462 1655.1674,-552.6096 1613.1486,-533.6692\"/>\n",
       "<polygon fill=\"#000000\" stroke=\"#000000\" points=\"1614.3704,-530.3809 1603.8155,-529.4623 1611.4938,-536.7625 1614.3704,-530.3809\"/>\n",
       "</g>\n",
       "<!-- 50 -->\n",
       "<g id=\"node51\" class=\"node\">\n",
       "<title>50</title>\n",
       "<path fill=\"#9ccef2\" stroke=\"#000000\" d=\"M1858.5,-544C1858.5,-544 1757.5,-544 1757.5,-544 1751.5,-544 1745.5,-538 1745.5,-532 1745.5,-532 1745.5,-473 1745.5,-473 1745.5,-467 1751.5,-461 1757.5,-461 1757.5,-461 1858.5,-461 1858.5,-461 1864.5,-461 1870.5,-467 1870.5,-473 1870.5,-473 1870.5,-532 1870.5,-532 1870.5,-538 1864.5,-544 1858.5,-544\"/>\n",
       "<text text-anchor=\"start\" x=\"1753.5\" y=\"-528.8\" font-family=\"Helvetica,sans-Serif\" font-size=\"14.00\" fill=\"#000000\">cs_SIGNUP ≤ 0.5</text>\n",
       "<text text-anchor=\"start\" x=\"1760.5\" y=\"-513.8\" font-family=\"Helvetica,sans-Serif\" font-size=\"14.00\" fill=\"#000000\">entropy = 0.918</text>\n",
       "<text text-anchor=\"start\" x=\"1770.5\" y=\"-498.8\" font-family=\"Helvetica,sans-Serif\" font-size=\"14.00\" fill=\"#000000\">samples = 3</text>\n",
       "<text text-anchor=\"start\" x=\"1768.5\" y=\"-483.8\" font-family=\"Helvetica,sans-Serif\" font-size=\"14.00\" fill=\"#000000\">value = [1, 2]</text>\n",
       "<text text-anchor=\"start\" x=\"1760\" y=\"-468.8\" font-family=\"Helvetica,sans-Serif\" font-size=\"14.00\" fill=\"#000000\">class = adopted</text>\n",
       "</g>\n",
       "<!-- 36&#45;&gt;50 -->\n",
       "<g id=\"edge50\" class=\"edge\">\n",
       "<title>36&#45;&gt;50</title>\n",
       "<path fill=\"none\" stroke=\"#000000\" d=\"M1808,-579.8796C1808,-571.6838 1808,-562.9891 1808,-554.5013\"/>\n",
       "<polygon fill=\"#000000\" stroke=\"#000000\" points=\"1811.5001,-554.298 1808,-544.2981 1804.5001,-554.2981 1811.5001,-554.298\"/>\n",
       "</g>\n",
       "<!-- 38 -->\n",
       "<g id=\"node39\" class=\"node\">\n",
       "<title>38</title>\n",
       "<path fill=\"#e88f4e\" stroke=\"#000000\" d=\"M1403.5,-425C1403.5,-425 1310.5,-425 1310.5,-425 1304.5,-425 1298.5,-419 1298.5,-413 1298.5,-413 1298.5,-354 1298.5,-354 1298.5,-348 1304.5,-342 1310.5,-342 1310.5,-342 1403.5,-342 1403.5,-342 1409.5,-342 1415.5,-348 1415.5,-354 1415.5,-354 1415.5,-413 1415.5,-413 1415.5,-419 1409.5,-425 1403.5,-425\"/>\n",
       "<text text-anchor=\"start\" x=\"1309.5\" y=\"-409.8\" font-family=\"Helvetica,sans-Serif\" font-size=\"14.00\" fill=\"#000000\">org_id_59 ≤ 0.5</text>\n",
       "<text text-anchor=\"start\" x=\"1309.5\" y=\"-394.8\" font-family=\"Helvetica,sans-Serif\" font-size=\"14.00\" fill=\"#000000\">entropy = 0.461</text>\n",
       "<text text-anchor=\"start\" x=\"1312\" y=\"-379.8\" font-family=\"Helvetica,sans-Serif\" font-size=\"14.00\" fill=\"#000000\">samples = 965</text>\n",
       "<text text-anchor=\"start\" x=\"1306.5\" y=\"-364.8\" font-family=\"Helvetica,sans-Serif\" font-size=\"14.00\" fill=\"#000000\">value = [871, 94]</text>\n",
       "<text text-anchor=\"start\" x=\"1324\" y=\"-349.8\" font-family=\"Helvetica,sans-Serif\" font-size=\"14.00\" fill=\"#000000\">class = not</text>\n",
       "</g>\n",
       "<!-- 37&#45;&gt;38 -->\n",
       "<g id=\"edge38\" class=\"edge\">\n",
       "<title>37&#45;&gt;38</title>\n",
       "<path fill=\"none\" stroke=\"#000000\" d=\"M1484.3179,-464.5205C1465.2304,-452.3739 1443.9698,-438.8444 1424.3738,-426.3743\"/>\n",
       "<polygon fill=\"#000000\" stroke=\"#000000\" points=\"1426.1118,-423.3317 1415.7961,-420.9157 1422.3536,-429.2373 1426.1118,-423.3317\"/>\n",
       "</g>\n",
       "<!-- 47 -->\n",
       "<g id=\"node48\" class=\"node\">\n",
       "<title>47</title>\n",
       "<path fill=\"#9ccef2\" stroke=\"#000000\" d=\"M1642,-425C1642,-425 1446,-425 1446,-425 1440,-425 1434,-419 1434,-413 1434,-413 1434,-354 1434,-354 1434,-348 1440,-342 1446,-342 1446,-342 1642,-342 1642,-342 1648,-342 1654,-348 1654,-354 1654,-354 1654,-413 1654,-413 1654,-419 1648,-425 1642,-425\"/>\n",
       "<text text-anchor=\"start\" x=\"1442\" y=\"-409.8\" font-family=\"Helvetica,sans-Serif\" font-size=\"14.00\" fill=\"#000000\">enabled_for_marketing_drip ≤ 0.5</text>\n",
       "<text text-anchor=\"start\" x=\"1496.5\" y=\"-394.8\" font-family=\"Helvetica,sans-Serif\" font-size=\"14.00\" fill=\"#000000\">entropy = 0.918</text>\n",
       "<text text-anchor=\"start\" x=\"1506.5\" y=\"-379.8\" font-family=\"Helvetica,sans-Serif\" font-size=\"14.00\" fill=\"#000000\">samples = 3</text>\n",
       "<text text-anchor=\"start\" x=\"1504.5\" y=\"-364.8\" font-family=\"Helvetica,sans-Serif\" font-size=\"14.00\" fill=\"#000000\">value = [1, 2]</text>\n",
       "<text text-anchor=\"start\" x=\"1496\" y=\"-349.8\" font-family=\"Helvetica,sans-Serif\" font-size=\"14.00\" fill=\"#000000\">class = adopted</text>\n",
       "</g>\n",
       "<!-- 37&#45;&gt;47 -->\n",
       "<g id=\"edge47\" class=\"edge\">\n",
       "<title>37&#45;&gt;47</title>\n",
       "<path fill=\"none\" stroke=\"#000000\" d=\"M1544,-460.8796C1544,-452.6838 1544,-443.9891 1544,-435.5013\"/>\n",
       "<polygon fill=\"#000000\" stroke=\"#000000\" points=\"1547.5001,-435.298 1544,-425.2981 1540.5001,-435.2981 1547.5001,-435.298\"/>\n",
       "</g>\n",
       "<!-- 39 -->\n",
       "<g id=\"node40\" class=\"node\">\n",
       "<title>39</title>\n",
       "<path fill=\"#e88e4e\" stroke=\"#000000\" d=\"M1219.5,-306C1219.5,-306 1124.5,-306 1124.5,-306 1118.5,-306 1112.5,-300 1112.5,-294 1112.5,-294 1112.5,-235 1112.5,-235 1112.5,-229 1118.5,-223 1124.5,-223 1124.5,-223 1219.5,-223 1219.5,-223 1225.5,-223 1231.5,-229 1231.5,-235 1231.5,-235 1231.5,-294 1231.5,-294 1231.5,-300 1225.5,-306 1219.5,-306\"/>\n",
       "<text text-anchor=\"start\" x=\"1120.5\" y=\"-290.8\" font-family=\"Helvetica,sans-Serif\" font-size=\"14.00\" fill=\"#000000\">org_id_403 ≤ 0.5</text>\n",
       "<text text-anchor=\"start\" x=\"1124.5\" y=\"-275.8\" font-family=\"Helvetica,sans-Serif\" font-size=\"14.00\" fill=\"#000000\">entropy = 0.455</text>\n",
       "<text text-anchor=\"start\" x=\"1127\" y=\"-260.8\" font-family=\"Helvetica,sans-Serif\" font-size=\"14.00\" fill=\"#000000\">samples = 962</text>\n",
       "<text text-anchor=\"start\" x=\"1121.5\" y=\"-245.8\" font-family=\"Helvetica,sans-Serif\" font-size=\"14.00\" fill=\"#000000\">value = [870, 92]</text>\n",
       "<text text-anchor=\"start\" x=\"1139\" y=\"-230.8\" font-family=\"Helvetica,sans-Serif\" font-size=\"14.00\" fill=\"#000000\">class = not</text>\n",
       "</g>\n",
       "<!-- 38&#45;&gt;39 -->\n",
       "<g id=\"edge39\" class=\"edge\">\n",
       "<title>38&#45;&gt;39</title>\n",
       "<path fill=\"none\" stroke=\"#000000\" d=\"M1298.4648,-345.8477C1280.0133,-333.9788 1259.4679,-320.7632 1240.3928,-308.4932\"/>\n",
       "<polygon fill=\"#000000\" stroke=\"#000000\" points=\"1242.0487,-305.3968 1231.7449,-302.9305 1238.2617,-311.284 1242.0487,-305.3968\"/>\n",
       "</g>\n",
       "<!-- 44 -->\n",
       "<g id=\"node45\" class=\"node\">\n",
       "<title>44</title>\n",
       "<path fill=\"#9ccef2\" stroke=\"#000000\" d=\"M1458,-306C1458,-306 1262,-306 1262,-306 1256,-306 1250,-300 1250,-294 1250,-294 1250,-235 1250,-235 1250,-229 1256,-223 1262,-223 1262,-223 1458,-223 1458,-223 1464,-223 1470,-229 1470,-235 1470,-235 1470,-294 1470,-294 1470,-300 1464,-306 1458,-306\"/>\n",
       "<text text-anchor=\"start\" x=\"1258\" y=\"-290.8\" font-family=\"Helvetica,sans-Serif\" font-size=\"14.00\" fill=\"#000000\">enabled_for_marketing_drip ≤ 0.5</text>\n",
       "<text text-anchor=\"start\" x=\"1312.5\" y=\"-275.8\" font-family=\"Helvetica,sans-Serif\" font-size=\"14.00\" fill=\"#000000\">entropy = 0.918</text>\n",
       "<text text-anchor=\"start\" x=\"1322.5\" y=\"-260.8\" font-family=\"Helvetica,sans-Serif\" font-size=\"14.00\" fill=\"#000000\">samples = 3</text>\n",
       "<text text-anchor=\"start\" x=\"1320.5\" y=\"-245.8\" font-family=\"Helvetica,sans-Serif\" font-size=\"14.00\" fill=\"#000000\">value = [1, 2]</text>\n",
       "<text text-anchor=\"start\" x=\"1312\" y=\"-230.8\" font-family=\"Helvetica,sans-Serif\" font-size=\"14.00\" fill=\"#000000\">class = adopted</text>\n",
       "</g>\n",
       "<!-- 38&#45;&gt;44 -->\n",
       "<g id=\"edge44\" class=\"edge\">\n",
       "<title>38&#45;&gt;44</title>\n",
       "<path fill=\"none\" stroke=\"#000000\" d=\"M1358.0493,-341.8796C1358.2559,-333.6838 1358.4751,-324.9891 1358.689,-316.5013\"/>\n",
       "<polygon fill=\"#000000\" stroke=\"#000000\" points=\"1362.193,-316.3831 1358.9463,-306.2981 1355.1953,-316.2067 1362.193,-316.3831\"/>\n",
       "</g>\n",
       "<!-- 40 -->\n",
       "<g id=\"node41\" class=\"node\">\n",
       "<title>40</title>\n",
       "<path fill=\"#e88e4e\" stroke=\"#000000\" d=\"M1142.5,-187C1142.5,-187 1047.5,-187 1047.5,-187 1041.5,-187 1035.5,-181 1035.5,-175 1035.5,-175 1035.5,-116 1035.5,-116 1035.5,-110 1041.5,-104 1047.5,-104 1047.5,-104 1142.5,-104 1142.5,-104 1148.5,-104 1154.5,-110 1154.5,-116 1154.5,-116 1154.5,-175 1154.5,-175 1154.5,-181 1148.5,-187 1142.5,-187\"/>\n",
       "<text text-anchor=\"start\" x=\"1043.5\" y=\"-171.8\" font-family=\"Helvetica,sans-Serif\" font-size=\"14.00\" fill=\"#000000\">org_id_266 ≤ 0.5</text>\n",
       "<text text-anchor=\"start\" x=\"1047.5\" y=\"-156.8\" font-family=\"Helvetica,sans-Serif\" font-size=\"14.00\" fill=\"#000000\">entropy = 0.452</text>\n",
       "<text text-anchor=\"start\" x=\"1050\" y=\"-141.8\" font-family=\"Helvetica,sans-Serif\" font-size=\"14.00\" fill=\"#000000\">samples = 961</text>\n",
       "<text text-anchor=\"start\" x=\"1044.5\" y=\"-126.8\" font-family=\"Helvetica,sans-Serif\" font-size=\"14.00\" fill=\"#000000\">value = [870, 91]</text>\n",
       "<text text-anchor=\"start\" x=\"1062\" y=\"-111.8\" font-family=\"Helvetica,sans-Serif\" font-size=\"14.00\" fill=\"#000000\">class = not</text>\n",
       "</g>\n",
       "<!-- 39&#45;&gt;40 -->\n",
       "<g id=\"edge40\" class=\"edge\">\n",
       "<title>39&#45;&gt;40</title>\n",
       "<path fill=\"none\" stroke=\"#000000\" d=\"M1145.0691,-222.8796C1139.4163,-214.1434 1133.3967,-204.8404 1127.5634,-195.8253\"/>\n",
       "<polygon fill=\"#000000\" stroke=\"#000000\" points=\"1130.4169,-193.7924 1122.0458,-187.2981 1124.5399,-197.5952 1130.4169,-193.7924\"/>\n",
       "</g>\n",
       "<!-- 43 -->\n",
       "<g id=\"node44\" class=\"node\">\n",
       "<title>43</title>\n",
       "<path fill=\"#399de5\" stroke=\"#000000\" d=\"M1273,-179.5C1273,-179.5 1185,-179.5 1185,-179.5 1179,-179.5 1173,-173.5 1173,-167.5 1173,-167.5 1173,-123.5 1173,-123.5 1173,-117.5 1179,-111.5 1185,-111.5 1185,-111.5 1273,-111.5 1273,-111.5 1279,-111.5 1285,-117.5 1285,-123.5 1285,-123.5 1285,-167.5 1285,-167.5 1285,-173.5 1279,-179.5 1273,-179.5\"/>\n",
       "<text text-anchor=\"start\" x=\"1189\" y=\"-164.3\" font-family=\"Helvetica,sans-Serif\" font-size=\"14.00\" fill=\"#000000\">entropy = 0.0</text>\n",
       "<text text-anchor=\"start\" x=\"1191.5\" y=\"-149.3\" font-family=\"Helvetica,sans-Serif\" font-size=\"14.00\" fill=\"#000000\">samples = 1</text>\n",
       "<text text-anchor=\"start\" x=\"1189.5\" y=\"-134.3\" font-family=\"Helvetica,sans-Serif\" font-size=\"14.00\" fill=\"#000000\">value = [0, 1]</text>\n",
       "<text text-anchor=\"start\" x=\"1181\" y=\"-119.3\" font-family=\"Helvetica,sans-Serif\" font-size=\"14.00\" fill=\"#000000\">class = adopted</text>\n",
       "</g>\n",
       "<!-- 39&#45;&gt;43 -->\n",
       "<g id=\"edge43\" class=\"edge\">\n",
       "<title>39&#45;&gt;43</title>\n",
       "<path fill=\"none\" stroke=\"#000000\" d=\"M1191.9358,-222.8796C1197.2029,-211.8835 1202.9001,-199.9893 1208.211,-188.9015\"/>\n",
       "<polygon fill=\"#000000\" stroke=\"#000000\" points=\"1211.4,-190.3457 1212.5634,-179.8149 1205.0869,-187.3217 1211.4,-190.3457\"/>\n",
       "</g>\n",
       "<!-- 41 -->\n",
       "<g id=\"node42\" class=\"node\">\n",
       "<title>41</title>\n",
       "<path fill=\"#e88e4d\" stroke=\"#000000\" d=\"M1140.5,-68C1140.5,-68 1047.5,-68 1047.5,-68 1041.5,-68 1035.5,-62 1035.5,-56 1035.5,-56 1035.5,-12 1035.5,-12 1035.5,-6 1041.5,0 1047.5,0 1047.5,0 1140.5,0 1140.5,0 1146.5,0 1152.5,-6 1152.5,-12 1152.5,-12 1152.5,-56 1152.5,-56 1152.5,-62 1146.5,-68 1140.5,-68\"/>\n",
       "<text text-anchor=\"start\" x=\"1046.5\" y=\"-52.8\" font-family=\"Helvetica,sans-Serif\" font-size=\"14.00\" fill=\"#000000\">entropy = 0.449</text>\n",
       "<text text-anchor=\"start\" x=\"1049\" y=\"-37.8\" font-family=\"Helvetica,sans-Serif\" font-size=\"14.00\" fill=\"#000000\">samples = 960</text>\n",
       "<text text-anchor=\"start\" x=\"1043.5\" y=\"-22.8\" font-family=\"Helvetica,sans-Serif\" font-size=\"14.00\" fill=\"#000000\">value = [870, 90]</text>\n",
       "<text text-anchor=\"start\" x=\"1061\" y=\"-7.8\" font-family=\"Helvetica,sans-Serif\" font-size=\"14.00\" fill=\"#000000\">class = not</text>\n",
       "</g>\n",
       "<!-- 40&#45;&gt;41 -->\n",
       "<g id=\"edge41\" class=\"edge\">\n",
       "<title>40&#45;&gt;41</title>\n",
       "<path fill=\"none\" stroke=\"#000000\" d=\"M1094.6276,-103.9815C1094.5526,-95.618 1094.4735,-86.7965 1094.3977,-78.3409\"/>\n",
       "<polygon fill=\"#000000\" stroke=\"#000000\" points=\"1097.8969,-78.2318 1094.3073,-68.2637 1090.8972,-78.2947 1097.8969,-78.2318\"/>\n",
       "</g>\n",
       "<!-- 42 -->\n",
       "<g id=\"node43\" class=\"node\">\n",
       "<title>42</title>\n",
       "<path fill=\"#399de5\" stroke=\"#000000\" d=\"M1271,-68C1271,-68 1183,-68 1183,-68 1177,-68 1171,-62 1171,-56 1171,-56 1171,-12 1171,-12 1171,-6 1177,0 1183,0 1183,0 1271,0 1271,0 1277,0 1283,-6 1283,-12 1283,-12 1283,-56 1283,-56 1283,-62 1277,-68 1271,-68\"/>\n",
       "<text text-anchor=\"start\" x=\"1187\" y=\"-52.8\" font-family=\"Helvetica,sans-Serif\" font-size=\"14.00\" fill=\"#000000\">entropy = 0.0</text>\n",
       "<text text-anchor=\"start\" x=\"1189.5\" y=\"-37.8\" font-family=\"Helvetica,sans-Serif\" font-size=\"14.00\" fill=\"#000000\">samples = 1</text>\n",
       "<text text-anchor=\"start\" x=\"1187.5\" y=\"-22.8\" font-family=\"Helvetica,sans-Serif\" font-size=\"14.00\" fill=\"#000000\">value = [0, 1]</text>\n",
       "<text text-anchor=\"start\" x=\"1179\" y=\"-7.8\" font-family=\"Helvetica,sans-Serif\" font-size=\"14.00\" fill=\"#000000\">class = adopted</text>\n",
       "</g>\n",
       "<!-- 40&#45;&gt;42 -->\n",
       "<g id=\"edge42\" class=\"edge\">\n",
       "<title>40&#45;&gt;42</title>\n",
       "<path fill=\"none\" stroke=\"#000000\" d=\"M1144.1519,-103.9815C1155.4676,-94.4232 1167.4913,-84.2668 1178.7675,-74.7419\"/>\n",
       "<polygon fill=\"#000000\" stroke=\"#000000\" points=\"1181.0559,-77.3904 1186.4367,-68.2637 1176.5388,-72.0429 1181.0559,-77.3904\"/>\n",
       "</g>\n",
       "<!-- 45 -->\n",
       "<g id=\"node46\" class=\"node\">\n",
       "<title>45</title>\n",
       "<path fill=\"#399de5\" stroke=\"#000000\" d=\"M1404,-179.5C1404,-179.5 1316,-179.5 1316,-179.5 1310,-179.5 1304,-173.5 1304,-167.5 1304,-167.5 1304,-123.5 1304,-123.5 1304,-117.5 1310,-111.5 1316,-111.5 1316,-111.5 1404,-111.5 1404,-111.5 1410,-111.5 1416,-117.5 1416,-123.5 1416,-123.5 1416,-167.5 1416,-167.5 1416,-173.5 1410,-179.5 1404,-179.5\"/>\n",
       "<text text-anchor=\"start\" x=\"1320\" y=\"-164.3\" font-family=\"Helvetica,sans-Serif\" font-size=\"14.00\" fill=\"#000000\">entropy = 0.0</text>\n",
       "<text text-anchor=\"start\" x=\"1322.5\" y=\"-149.3\" font-family=\"Helvetica,sans-Serif\" font-size=\"14.00\" fill=\"#000000\">samples = 2</text>\n",
       "<text text-anchor=\"start\" x=\"1320.5\" y=\"-134.3\" font-family=\"Helvetica,sans-Serif\" font-size=\"14.00\" fill=\"#000000\">value = [0, 2]</text>\n",
       "<text text-anchor=\"start\" x=\"1312\" y=\"-119.3\" font-family=\"Helvetica,sans-Serif\" font-size=\"14.00\" fill=\"#000000\">class = adopted</text>\n",
       "</g>\n",
       "<!-- 44&#45;&gt;45 -->\n",
       "<g id=\"edge45\" class=\"edge\">\n",
       "<title>44&#45;&gt;45</title>\n",
       "<path fill=\"none\" stroke=\"#000000\" d=\"M1360,-222.8796C1360,-212.2134 1360,-200.7021 1360,-189.9015\"/>\n",
       "<polygon fill=\"#000000\" stroke=\"#000000\" points=\"1363.5001,-189.8149 1360,-179.8149 1356.5001,-189.815 1363.5001,-189.8149\"/>\n",
       "</g>\n",
       "<!-- 46 -->\n",
       "<g id=\"node47\" class=\"node\">\n",
       "<title>46</title>\n",
       "<path fill=\"#e58139\" stroke=\"#000000\" d=\"M1518,-179.5C1518,-179.5 1446,-179.5 1446,-179.5 1440,-179.5 1434,-173.5 1434,-167.5 1434,-167.5 1434,-123.5 1434,-123.5 1434,-117.5 1440,-111.5 1446,-111.5 1446,-111.5 1518,-111.5 1518,-111.5 1524,-111.5 1530,-117.5 1530,-123.5 1530,-123.5 1530,-167.5 1530,-167.5 1530,-173.5 1524,-179.5 1518,-179.5\"/>\n",
       "<text text-anchor=\"start\" x=\"1442\" y=\"-164.3\" font-family=\"Helvetica,sans-Serif\" font-size=\"14.00\" fill=\"#000000\">entropy = 0.0</text>\n",
       "<text text-anchor=\"start\" x=\"1444.5\" y=\"-149.3\" font-family=\"Helvetica,sans-Serif\" font-size=\"14.00\" fill=\"#000000\">samples = 1</text>\n",
       "<text text-anchor=\"start\" x=\"1442.5\" y=\"-134.3\" font-family=\"Helvetica,sans-Serif\" font-size=\"14.00\" fill=\"#000000\">value = [1, 0]</text>\n",
       "<text text-anchor=\"start\" x=\"1449\" y=\"-119.3\" font-family=\"Helvetica,sans-Serif\" font-size=\"14.00\" fill=\"#000000\">class = not</text>\n",
       "</g>\n",
       "<!-- 44&#45;&gt;46 -->\n",
       "<g id=\"edge46\" class=\"edge\">\n",
       "<title>44&#45;&gt;46</title>\n",
       "<path fill=\"none\" stroke=\"#000000\" d=\"M1402.6697,-222.8796C1414.6194,-211.2237 1427.6037,-198.5587 1439.5411,-186.9148\"/>\n",
       "<polygon fill=\"#000000\" stroke=\"#000000\" points=\"1442.1053,-189.303 1446.82,-179.8149 1437.2175,-184.292 1442.1053,-189.303\"/>\n",
       "</g>\n",
       "<!-- 48 -->\n",
       "<g id=\"node49\" class=\"node\">\n",
       "<title>48</title>\n",
       "<path fill=\"#399de5\" stroke=\"#000000\" d=\"M1588,-298.5C1588,-298.5 1500,-298.5 1500,-298.5 1494,-298.5 1488,-292.5 1488,-286.5 1488,-286.5 1488,-242.5 1488,-242.5 1488,-236.5 1494,-230.5 1500,-230.5 1500,-230.5 1588,-230.5 1588,-230.5 1594,-230.5 1600,-236.5 1600,-242.5 1600,-242.5 1600,-286.5 1600,-286.5 1600,-292.5 1594,-298.5 1588,-298.5\"/>\n",
       "<text text-anchor=\"start\" x=\"1504\" y=\"-283.3\" font-family=\"Helvetica,sans-Serif\" font-size=\"14.00\" fill=\"#000000\">entropy = 0.0</text>\n",
       "<text text-anchor=\"start\" x=\"1506.5\" y=\"-268.3\" font-family=\"Helvetica,sans-Serif\" font-size=\"14.00\" fill=\"#000000\">samples = 2</text>\n",
       "<text text-anchor=\"start\" x=\"1504.5\" y=\"-253.3\" font-family=\"Helvetica,sans-Serif\" font-size=\"14.00\" fill=\"#000000\">value = [0, 2]</text>\n",
       "<text text-anchor=\"start\" x=\"1496\" y=\"-238.3\" font-family=\"Helvetica,sans-Serif\" font-size=\"14.00\" fill=\"#000000\">class = adopted</text>\n",
       "</g>\n",
       "<!-- 47&#45;&gt;48 -->\n",
       "<g id=\"edge48\" class=\"edge\">\n",
       "<title>47&#45;&gt;48</title>\n",
       "<path fill=\"none\" stroke=\"#000000\" d=\"M1544,-341.8796C1544,-331.2134 1544,-319.7021 1544,-308.9015\"/>\n",
       "<polygon fill=\"#000000\" stroke=\"#000000\" points=\"1547.5001,-308.8149 1544,-298.8149 1540.5001,-308.815 1547.5001,-308.8149\"/>\n",
       "</g>\n",
       "<!-- 49 -->\n",
       "<g id=\"node50\" class=\"node\">\n",
       "<title>49</title>\n",
       "<path fill=\"#e58139\" stroke=\"#000000\" d=\"M1702,-298.5C1702,-298.5 1630,-298.5 1630,-298.5 1624,-298.5 1618,-292.5 1618,-286.5 1618,-286.5 1618,-242.5 1618,-242.5 1618,-236.5 1624,-230.5 1630,-230.5 1630,-230.5 1702,-230.5 1702,-230.5 1708,-230.5 1714,-236.5 1714,-242.5 1714,-242.5 1714,-286.5 1714,-286.5 1714,-292.5 1708,-298.5 1702,-298.5\"/>\n",
       "<text text-anchor=\"start\" x=\"1626\" y=\"-283.3\" font-family=\"Helvetica,sans-Serif\" font-size=\"14.00\" fill=\"#000000\">entropy = 0.0</text>\n",
       "<text text-anchor=\"start\" x=\"1628.5\" y=\"-268.3\" font-family=\"Helvetica,sans-Serif\" font-size=\"14.00\" fill=\"#000000\">samples = 1</text>\n",
       "<text text-anchor=\"start\" x=\"1626.5\" y=\"-253.3\" font-family=\"Helvetica,sans-Serif\" font-size=\"14.00\" fill=\"#000000\">value = [1, 0]</text>\n",
       "<text text-anchor=\"start\" x=\"1633\" y=\"-238.3\" font-family=\"Helvetica,sans-Serif\" font-size=\"14.00\" fill=\"#000000\">class = not</text>\n",
       "</g>\n",
       "<!-- 47&#45;&gt;49 -->\n",
       "<g id=\"edge49\" class=\"edge\">\n",
       "<title>47&#45;&gt;49</title>\n",
       "<path fill=\"none\" stroke=\"#000000\" d=\"M1586.6697,-341.8796C1598.6194,-330.2237 1611.6037,-317.5587 1623.5411,-305.9148\"/>\n",
       "<polygon fill=\"#000000\" stroke=\"#000000\" points=\"1626.1053,-308.303 1630.82,-298.8149 1621.2175,-303.292 1626.1053,-308.303\"/>\n",
       "</g>\n",
       "<!-- 51 -->\n",
       "<g id=\"node52\" class=\"node\">\n",
       "<title>51</title>\n",
       "<path fill=\"#399de5\" stroke=\"#000000\" d=\"M1772,-417.5C1772,-417.5 1684,-417.5 1684,-417.5 1678,-417.5 1672,-411.5 1672,-405.5 1672,-405.5 1672,-361.5 1672,-361.5 1672,-355.5 1678,-349.5 1684,-349.5 1684,-349.5 1772,-349.5 1772,-349.5 1778,-349.5 1784,-355.5 1784,-361.5 1784,-361.5 1784,-405.5 1784,-405.5 1784,-411.5 1778,-417.5 1772,-417.5\"/>\n",
       "<text text-anchor=\"start\" x=\"1688\" y=\"-402.3\" font-family=\"Helvetica,sans-Serif\" font-size=\"14.00\" fill=\"#000000\">entropy = 0.0</text>\n",
       "<text text-anchor=\"start\" x=\"1690.5\" y=\"-387.3\" font-family=\"Helvetica,sans-Serif\" font-size=\"14.00\" fill=\"#000000\">samples = 2</text>\n",
       "<text text-anchor=\"start\" x=\"1688.5\" y=\"-372.3\" font-family=\"Helvetica,sans-Serif\" font-size=\"14.00\" fill=\"#000000\">value = [0, 2]</text>\n",
       "<text text-anchor=\"start\" x=\"1680\" y=\"-357.3\" font-family=\"Helvetica,sans-Serif\" font-size=\"14.00\" fill=\"#000000\">class = adopted</text>\n",
       "</g>\n",
       "<!-- 50&#45;&gt;51 -->\n",
       "<g id=\"edge51\" class=\"edge\">\n",
       "<title>50&#45;&gt;51</title>\n",
       "<path fill=\"none\" stroke=\"#000000\" d=\"M1780.0199,-460.8796C1772.4797,-449.6636 1764.3113,-437.5131 1756.7309,-426.2372\"/>\n",
       "<polygon fill=\"#000000\" stroke=\"#000000\" points=\"1759.5527,-424.1612 1751.0689,-417.8149 1753.7434,-428.0667 1759.5527,-424.1612\"/>\n",
       "</g>\n",
       "<!-- 52 -->\n",
       "<g id=\"node53\" class=\"node\">\n",
       "<title>52</title>\n",
       "<path fill=\"#e58139\" stroke=\"#000000\" d=\"M1886,-417.5C1886,-417.5 1814,-417.5 1814,-417.5 1808,-417.5 1802,-411.5 1802,-405.5 1802,-405.5 1802,-361.5 1802,-361.5 1802,-355.5 1808,-349.5 1814,-349.5 1814,-349.5 1886,-349.5 1886,-349.5 1892,-349.5 1898,-355.5 1898,-361.5 1898,-361.5 1898,-405.5 1898,-405.5 1898,-411.5 1892,-417.5 1886,-417.5\"/>\n",
       "<text text-anchor=\"start\" x=\"1810\" y=\"-402.3\" font-family=\"Helvetica,sans-Serif\" font-size=\"14.00\" fill=\"#000000\">entropy = 0.0</text>\n",
       "<text text-anchor=\"start\" x=\"1812.5\" y=\"-387.3\" font-family=\"Helvetica,sans-Serif\" font-size=\"14.00\" fill=\"#000000\">samples = 1</text>\n",
       "<text text-anchor=\"start\" x=\"1810.5\" y=\"-372.3\" font-family=\"Helvetica,sans-Serif\" font-size=\"14.00\" fill=\"#000000\">value = [1, 0]</text>\n",
       "<text text-anchor=\"start\" x=\"1817\" y=\"-357.3\" font-family=\"Helvetica,sans-Serif\" font-size=\"14.00\" fill=\"#000000\">class = not</text>\n",
       "</g>\n",
       "<!-- 50&#45;&gt;52 -->\n",
       "<g id=\"edge52\" class=\"edge\">\n",
       "<title>50&#45;&gt;52</title>\n",
       "<path fill=\"none\" stroke=\"#000000\" d=\"M1822.6896,-460.8796C1826.4929,-450.1034 1830.6007,-438.4647 1834.4467,-427.5677\"/>\n",
       "<polygon fill=\"#000000\" stroke=\"#000000\" points=\"1837.861,-428.4097 1837.8888,-417.8149 1831.2601,-426.08 1837.861,-428.4097\"/>\n",
       "</g>\n",
       "<!-- 54 -->\n",
       "<g id=\"node55\" class=\"node\">\n",
       "<title>54</title>\n",
       "<path fill=\"#bddef6\" stroke=\"#000000\" d=\"M2134,-544C2134,-544 1938,-544 1938,-544 1932,-544 1926,-538 1926,-532 1926,-532 1926,-473 1926,-473 1926,-467 1932,-461 1938,-461 1938,-461 2134,-461 2134,-461 2140,-461 2146,-467 2146,-473 2146,-473 2146,-532 2146,-532 2146,-538 2140,-544 2134,-544\"/>\n",
       "<text text-anchor=\"start\" x=\"1934\" y=\"-528.8\" font-family=\"Helvetica,sans-Serif\" font-size=\"14.00\" fill=\"#000000\">enabled_for_marketing_drip ≤ 0.5</text>\n",
       "<text text-anchor=\"start\" x=\"1988.5\" y=\"-513.8\" font-family=\"Helvetica,sans-Serif\" font-size=\"14.00\" fill=\"#000000\">entropy = 0.971</text>\n",
       "<text text-anchor=\"start\" x=\"1998.5\" y=\"-498.8\" font-family=\"Helvetica,sans-Serif\" font-size=\"14.00\" fill=\"#000000\">samples = 5</text>\n",
       "<text text-anchor=\"start\" x=\"1996.5\" y=\"-483.8\" font-family=\"Helvetica,sans-Serif\" font-size=\"14.00\" fill=\"#000000\">value = [2, 3]</text>\n",
       "<text text-anchor=\"start\" x=\"1988\" y=\"-468.8\" font-family=\"Helvetica,sans-Serif\" font-size=\"14.00\" fill=\"#000000\">class = adopted</text>\n",
       "</g>\n",
       "<!-- 53&#45;&gt;54 -->\n",
       "<g id=\"edge54\" class=\"edge\">\n",
       "<title>53&#45;&gt;54</title>\n",
       "<path fill=\"none\" stroke=\"#000000\" d=\"M2114.0298,-579.8796C2104.7662,-570.6931 2094.8704,-560.8798 2085.3448,-551.4336\"/>\n",
       "<polygon fill=\"#000000\" stroke=\"#000000\" points=\"2087.7144,-548.8543 2078.1493,-544.2981 2082.7854,-553.8247 2087.7144,-548.8543\"/>\n",
       "</g>\n",
       "<!-- 59 -->\n",
       "<g id=\"node60\" class=\"node\">\n",
       "<title>59</title>\n",
       "<path fill=\"#e58139\" stroke=\"#000000\" d=\"M2248,-536.5C2248,-536.5 2176,-536.5 2176,-536.5 2170,-536.5 2164,-530.5 2164,-524.5 2164,-524.5 2164,-480.5 2164,-480.5 2164,-474.5 2170,-468.5 2176,-468.5 2176,-468.5 2248,-468.5 2248,-468.5 2254,-468.5 2260,-474.5 2260,-480.5 2260,-480.5 2260,-524.5 2260,-524.5 2260,-530.5 2254,-536.5 2248,-536.5\"/>\n",
       "<text text-anchor=\"start\" x=\"2172\" y=\"-521.3\" font-family=\"Helvetica,sans-Serif\" font-size=\"14.00\" fill=\"#000000\">entropy = 0.0</text>\n",
       "<text text-anchor=\"start\" x=\"2174.5\" y=\"-506.3\" font-family=\"Helvetica,sans-Serif\" font-size=\"14.00\" fill=\"#000000\">samples = 1</text>\n",
       "<text text-anchor=\"start\" x=\"2172.5\" y=\"-491.3\" font-family=\"Helvetica,sans-Serif\" font-size=\"14.00\" fill=\"#000000\">value = [1, 0]</text>\n",
       "<text text-anchor=\"start\" x=\"2179\" y=\"-476.3\" font-family=\"Helvetica,sans-Serif\" font-size=\"14.00\" fill=\"#000000\">class = not</text>\n",
       "</g>\n",
       "<!-- 53&#45;&gt;59 -->\n",
       "<g id=\"edge59\" class=\"edge\">\n",
       "<title>53&#45;&gt;59</title>\n",
       "<path fill=\"none\" stroke=\"#000000\" d=\"M2175.5861,-579.8796C2180.7607,-568.8835 2186.358,-556.9893 2191.5758,-545.9015\"/>\n",
       "<polygon fill=\"#000000\" stroke=\"#000000\" points=\"2194.7606,-547.3534 2195.8518,-536.8149 2188.4269,-544.3728 2194.7606,-547.3534\"/>\n",
       "</g>\n",
       "<!-- 55 -->\n",
       "<g id=\"node56\" class=\"node\">\n",
       "<title>55</title>\n",
       "<path fill=\"#ffffff\" stroke=\"#000000\" d=\"M2059.5,-425C2059.5,-425 1928.5,-425 1928.5,-425 1922.5,-425 1916.5,-419 1916.5,-413 1916.5,-413 1916.5,-354 1916.5,-354 1916.5,-348 1922.5,-342 1928.5,-342 1928.5,-342 2059.5,-342 2059.5,-342 2065.5,-342 2071.5,-348 2071.5,-354 2071.5,-354 2071.5,-413 2071.5,-413 2071.5,-419 2065.5,-425 2059.5,-425\"/>\n",
       "<text text-anchor=\"start\" x=\"1924.5\" y=\"-409.8\" font-family=\"Helvetica,sans-Serif\" font-size=\"14.00\" fill=\"#000000\">cs_ORG_INVITE ≤ 0.5</text>\n",
       "<text text-anchor=\"start\" x=\"1954\" y=\"-394.8\" font-family=\"Helvetica,sans-Serif\" font-size=\"14.00\" fill=\"#000000\">entropy = 1.0</text>\n",
       "<text text-anchor=\"start\" x=\"1956.5\" y=\"-379.8\" font-family=\"Helvetica,sans-Serif\" font-size=\"14.00\" fill=\"#000000\">samples = 4</text>\n",
       "<text text-anchor=\"start\" x=\"1954.5\" y=\"-364.8\" font-family=\"Helvetica,sans-Serif\" font-size=\"14.00\" fill=\"#000000\">value = [2, 2]</text>\n",
       "<text text-anchor=\"start\" x=\"1961\" y=\"-349.8\" font-family=\"Helvetica,sans-Serif\" font-size=\"14.00\" fill=\"#000000\">class = not</text>\n",
       "</g>\n",
       "<!-- 54&#45;&gt;55 -->\n",
       "<g id=\"edge55\" class=\"edge\">\n",
       "<title>54&#45;&gt;55</title>\n",
       "<path fill=\"none\" stroke=\"#000000\" d=\"M2021.3104,-460.8796C2018.3542,-452.5037 2015.2141,-443.6067 2012.156,-434.942\"/>\n",
       "<polygon fill=\"#000000\" stroke=\"#000000\" points=\"2015.381,-433.5631 2008.7523,-425.2981 2008.7801,-435.8929 2015.381,-433.5631\"/>\n",
       "</g>\n",
       "<!-- 58 -->\n",
       "<g id=\"node59\" class=\"node\">\n",
       "<title>58</title>\n",
       "<path fill=\"#399de5\" stroke=\"#000000\" d=\"M2190,-417.5C2190,-417.5 2102,-417.5 2102,-417.5 2096,-417.5 2090,-411.5 2090,-405.5 2090,-405.5 2090,-361.5 2090,-361.5 2090,-355.5 2096,-349.5 2102,-349.5 2102,-349.5 2190,-349.5 2190,-349.5 2196,-349.5 2202,-355.5 2202,-361.5 2202,-361.5 2202,-405.5 2202,-405.5 2202,-411.5 2196,-417.5 2190,-417.5\"/>\n",
       "<text text-anchor=\"start\" x=\"2106\" y=\"-402.3\" font-family=\"Helvetica,sans-Serif\" font-size=\"14.00\" fill=\"#000000\">entropy = 0.0</text>\n",
       "<text text-anchor=\"start\" x=\"2108.5\" y=\"-387.3\" font-family=\"Helvetica,sans-Serif\" font-size=\"14.00\" fill=\"#000000\">samples = 1</text>\n",
       "<text text-anchor=\"start\" x=\"2106.5\" y=\"-372.3\" font-family=\"Helvetica,sans-Serif\" font-size=\"14.00\" fill=\"#000000\">value = [0, 1]</text>\n",
       "<text text-anchor=\"start\" x=\"2098\" y=\"-357.3\" font-family=\"Helvetica,sans-Serif\" font-size=\"14.00\" fill=\"#000000\">class = adopted</text>\n",
       "</g>\n",
       "<!-- 54&#45;&gt;58 -->\n",
       "<g id=\"edge58\" class=\"edge\">\n",
       "<title>54&#45;&gt;58</title>\n",
       "<path fill=\"none\" stroke=\"#000000\" d=\"M2074.4727,-460.8796C2085.1453,-449.3337 2096.7333,-436.7976 2107.4125,-425.2446\"/>\n",
       "<polygon fill=\"#000000\" stroke=\"#000000\" points=\"2110.0625,-427.534 2114.2803,-417.8149 2104.9222,-422.7825 2110.0625,-427.534\"/>\n",
       "</g>\n",
       "<!-- 56 -->\n",
       "<g id=\"node57\" class=\"node\">\n",
       "<title>56</title>\n",
       "<path fill=\"#399de5\" stroke=\"#000000\" d=\"M1959,-298.5C1959,-298.5 1871,-298.5 1871,-298.5 1865,-298.5 1859,-292.5 1859,-286.5 1859,-286.5 1859,-242.5 1859,-242.5 1859,-236.5 1865,-230.5 1871,-230.5 1871,-230.5 1959,-230.5 1959,-230.5 1965,-230.5 1971,-236.5 1971,-242.5 1971,-242.5 1971,-286.5 1971,-286.5 1971,-292.5 1965,-298.5 1959,-298.5\"/>\n",
       "<text text-anchor=\"start\" x=\"1875\" y=\"-283.3\" font-family=\"Helvetica,sans-Serif\" font-size=\"14.00\" fill=\"#000000\">entropy = 0.0</text>\n",
       "<text text-anchor=\"start\" x=\"1877.5\" y=\"-268.3\" font-family=\"Helvetica,sans-Serif\" font-size=\"14.00\" fill=\"#000000\">samples = 1</text>\n",
       "<text text-anchor=\"start\" x=\"1875.5\" y=\"-253.3\" font-family=\"Helvetica,sans-Serif\" font-size=\"14.00\" fill=\"#000000\">value = [0, 1]</text>\n",
       "<text text-anchor=\"start\" x=\"1867\" y=\"-238.3\" font-family=\"Helvetica,sans-Serif\" font-size=\"14.00\" fill=\"#000000\">class = adopted</text>\n",
       "</g>\n",
       "<!-- 55&#45;&gt;56 -->\n",
       "<g id=\"edge56\" class=\"edge\">\n",
       "<title>55&#45;&gt;56</title>\n",
       "<path fill=\"none\" stroke=\"#000000\" d=\"M1966.3696,-341.8796C1958.9237,-330.6636 1950.8575,-318.5131 1943.3718,-307.2372\"/>\n",
       "<polygon fill=\"#000000\" stroke=\"#000000\" points=\"1946.2273,-305.2104 1937.7805,-298.8149 1940.3954,-309.082 1946.2273,-305.2104\"/>\n",
       "</g>\n",
       "<!-- 57 -->\n",
       "<g id=\"node58\" class=\"node\">\n",
       "<title>57</title>\n",
       "<path fill=\"#f2c09c\" stroke=\"#000000\" d=\"M2088.5,-298.5C2088.5,-298.5 2001.5,-298.5 2001.5,-298.5 1995.5,-298.5 1989.5,-292.5 1989.5,-286.5 1989.5,-286.5 1989.5,-242.5 1989.5,-242.5 1989.5,-236.5 1995.5,-230.5 2001.5,-230.5 2001.5,-230.5 2088.5,-230.5 2088.5,-230.5 2094.5,-230.5 2100.5,-236.5 2100.5,-242.5 2100.5,-242.5 2100.5,-286.5 2100.5,-286.5 2100.5,-292.5 2094.5,-298.5 2088.5,-298.5\"/>\n",
       "<text text-anchor=\"start\" x=\"1997.5\" y=\"-283.3\" font-family=\"Helvetica,sans-Serif\" font-size=\"14.00\" fill=\"#000000\">entropy = 0.918</text>\n",
       "<text text-anchor=\"start\" x=\"2007.5\" y=\"-268.3\" font-family=\"Helvetica,sans-Serif\" font-size=\"14.00\" fill=\"#000000\">samples = 3</text>\n",
       "<text text-anchor=\"start\" x=\"2005.5\" y=\"-253.3\" font-family=\"Helvetica,sans-Serif\" font-size=\"14.00\" fill=\"#000000\">value = [2, 1]</text>\n",
       "<text text-anchor=\"start\" x=\"2012\" y=\"-238.3\" font-family=\"Helvetica,sans-Serif\" font-size=\"14.00\" fill=\"#000000\">class = not</text>\n",
       "</g>\n",
       "<!-- 55&#45;&gt;57 -->\n",
       "<g id=\"edge57\" class=\"edge\">\n",
       "<title>55&#45;&gt;57</title>\n",
       "<path fill=\"none\" stroke=\"#000000\" d=\"M2011.8373,-341.8796C2016.5028,-330.9935 2021.5456,-319.227 2026.2567,-308.2344\"/>\n",
       "<polygon fill=\"#000000\" stroke=\"#000000\" points=\"2029.5714,-309.3851 2030.2936,-298.8149 2023.1373,-306.6277 2029.5714,-309.3851\"/>\n",
       "</g>\n",
       "<!-- 61 -->\n",
       "<g id=\"node62\" class=\"node\">\n",
       "<title>61</title>\n",
       "<path fill=\"#e78945\" stroke=\"#000000\" d=\"M2487.5,-663C2487.5,-663 2386.5,-663 2386.5,-663 2380.5,-663 2374.5,-657 2374.5,-651 2374.5,-651 2374.5,-592 2374.5,-592 2374.5,-586 2380.5,-580 2386.5,-580 2386.5,-580 2487.5,-580 2487.5,-580 2493.5,-580 2499.5,-586 2499.5,-592 2499.5,-592 2499.5,-651 2499.5,-651 2499.5,-657 2493.5,-663 2487.5,-663\"/>\n",
       "<text text-anchor=\"start\" x=\"2389.5\" y=\"-647.8\" font-family=\"Helvetica,sans-Serif\" font-size=\"14.00\" fill=\"#000000\">org_id_94 ≤ 0.5</text>\n",
       "<text text-anchor=\"start\" x=\"2389.5\" y=\"-632.8\" font-family=\"Helvetica,sans-Serif\" font-size=\"14.00\" fill=\"#000000\">entropy = 0.313</text>\n",
       "<text text-anchor=\"start\" x=\"2388.5\" y=\"-617.8\" font-family=\"Helvetica,sans-Serif\" font-size=\"14.00\" fill=\"#000000\">samples = 1203</text>\n",
       "<text text-anchor=\"start\" x=\"2382.5\" y=\"-602.8\" font-family=\"Helvetica,sans-Serif\" font-size=\"14.00\" fill=\"#000000\">value = [1135, 68]</text>\n",
       "<text text-anchor=\"start\" x=\"2404\" y=\"-587.8\" font-family=\"Helvetica,sans-Serif\" font-size=\"14.00\" fill=\"#000000\">class = not</text>\n",
       "</g>\n",
       "<!-- 60&#45;&gt;61 -->\n",
       "<g id=\"edge61\" class=\"edge\">\n",
       "<title>60&#45;&gt;61</title>\n",
       "<path fill=\"none\" stroke=\"#000000\" d=\"M2437,-698.8796C2437,-690.6838 2437,-681.9891 2437,-673.5013\"/>\n",
       "<polygon fill=\"#000000\" stroke=\"#000000\" points=\"2440.5001,-673.298 2437,-663.2981 2433.5001,-673.2981 2440.5001,-673.298\"/>\n",
       "</g>\n",
       "<!-- 80 -->\n",
       "<g id=\"node81\" class=\"node\">\n",
       "<title>80</title>\n",
       "<path fill=\"#399de5\" stroke=\"#000000\" d=\"M2618,-655.5C2618,-655.5 2530,-655.5 2530,-655.5 2524,-655.5 2518,-649.5 2518,-643.5 2518,-643.5 2518,-599.5 2518,-599.5 2518,-593.5 2524,-587.5 2530,-587.5 2530,-587.5 2618,-587.5 2618,-587.5 2624,-587.5 2630,-593.5 2630,-599.5 2630,-599.5 2630,-643.5 2630,-643.5 2630,-649.5 2624,-655.5 2618,-655.5\"/>\n",
       "<text text-anchor=\"start\" x=\"2534\" y=\"-640.3\" font-family=\"Helvetica,sans-Serif\" font-size=\"14.00\" fill=\"#000000\">entropy = 0.0</text>\n",
       "<text text-anchor=\"start\" x=\"2536.5\" y=\"-625.3\" font-family=\"Helvetica,sans-Serif\" font-size=\"14.00\" fill=\"#000000\">samples = 2</text>\n",
       "<text text-anchor=\"start\" x=\"2534.5\" y=\"-610.3\" font-family=\"Helvetica,sans-Serif\" font-size=\"14.00\" fill=\"#000000\">value = [0, 2]</text>\n",
       "<text text-anchor=\"start\" x=\"2526\" y=\"-595.3\" font-family=\"Helvetica,sans-Serif\" font-size=\"14.00\" fill=\"#000000\">class = adopted</text>\n",
       "</g>\n",
       "<!-- 60&#45;&gt;80 -->\n",
       "<g id=\"edge80\" class=\"edge\">\n",
       "<title>60&#45;&gt;80</title>\n",
       "<path fill=\"none\" stroke=\"#000000\" d=\"M2484.916,-698.8796C2498.4615,-687.1138 2513.1908,-674.3197 2526.6998,-662.5855\"/>\n",
       "<polygon fill=\"#000000\" stroke=\"#000000\" points=\"2529.2401,-665.015 2534.4946,-655.8149 2524.6497,-659.7303 2529.2401,-665.015\"/>\n",
       "</g>\n",
       "<!-- 62 -->\n",
       "<g id=\"node63\" class=\"node\">\n",
       "<title>62</title>\n",
       "<path fill=\"#e78845\" stroke=\"#000000\" d=\"M2487.5,-544C2487.5,-544 2386.5,-544 2386.5,-544 2380.5,-544 2374.5,-538 2374.5,-532 2374.5,-532 2374.5,-473 2374.5,-473 2374.5,-467 2380.5,-461 2386.5,-461 2386.5,-461 2487.5,-461 2487.5,-461 2493.5,-461 2499.5,-467 2499.5,-473 2499.5,-473 2499.5,-532 2499.5,-532 2499.5,-538 2493.5,-544 2487.5,-544\"/>\n",
       "<text text-anchor=\"start\" x=\"2385.5\" y=\"-528.8\" font-family=\"Helvetica,sans-Serif\" font-size=\"14.00\" fill=\"#000000\">org_id_399 ≤ 0.5</text>\n",
       "<text text-anchor=\"start\" x=\"2389.5\" y=\"-513.8\" font-family=\"Helvetica,sans-Serif\" font-size=\"14.00\" fill=\"#000000\">entropy = 0.307</text>\n",
       "<text text-anchor=\"start\" x=\"2388.5\" y=\"-498.8\" font-family=\"Helvetica,sans-Serif\" font-size=\"14.00\" fill=\"#000000\">samples = 1199</text>\n",
       "<text text-anchor=\"start\" x=\"2382.5\" y=\"-483.8\" font-family=\"Helvetica,sans-Serif\" font-size=\"14.00\" fill=\"#000000\">value = [1133, 66]</text>\n",
       "<text text-anchor=\"start\" x=\"2404\" y=\"-468.8\" font-family=\"Helvetica,sans-Serif\" font-size=\"14.00\" fill=\"#000000\">class = not</text>\n",
       "</g>\n",
       "<!-- 61&#45;&gt;62 -->\n",
       "<g id=\"edge62\" class=\"edge\">\n",
       "<title>61&#45;&gt;62</title>\n",
       "<path fill=\"none\" stroke=\"#000000\" d=\"M2437,-579.8796C2437,-571.6838 2437,-562.9891 2437,-554.5013\"/>\n",
       "<polygon fill=\"#000000\" stroke=\"#000000\" points=\"2440.5001,-554.298 2437,-544.2981 2433.5001,-554.2981 2440.5001,-554.298\"/>\n",
       "</g>\n",
       "<!-- 75 -->\n",
       "<g id=\"node76\" class=\"node\">\n",
       "<title>75</title>\n",
       "<path fill=\"#ffffff\" stroke=\"#000000\" d=\"M2775.5,-544C2775.5,-544 2674.5,-544 2674.5,-544 2668.5,-544 2662.5,-538 2662.5,-532 2662.5,-532 2662.5,-473 2662.5,-473 2662.5,-467 2668.5,-461 2674.5,-461 2674.5,-461 2775.5,-461 2775.5,-461 2781.5,-461 2787.5,-467 2787.5,-473 2787.5,-473 2787.5,-532 2787.5,-532 2787.5,-538 2781.5,-544 2775.5,-544\"/>\n",
       "<text text-anchor=\"start\" x=\"2670.5\" y=\"-528.8\" font-family=\"Helvetica,sans-Serif\" font-size=\"14.00\" fill=\"#000000\">cs_SIGNUP ≤ 0.5</text>\n",
       "<text text-anchor=\"start\" x=\"2685\" y=\"-513.8\" font-family=\"Helvetica,sans-Serif\" font-size=\"14.00\" fill=\"#000000\">entropy = 1.0</text>\n",
       "<text text-anchor=\"start\" x=\"2687.5\" y=\"-498.8\" font-family=\"Helvetica,sans-Serif\" font-size=\"14.00\" fill=\"#000000\">samples = 4</text>\n",
       "<text text-anchor=\"start\" x=\"2685.5\" y=\"-483.8\" font-family=\"Helvetica,sans-Serif\" font-size=\"14.00\" fill=\"#000000\">value = [2, 2]</text>\n",
       "<text text-anchor=\"start\" x=\"2692\" y=\"-468.8\" font-family=\"Helvetica,sans-Serif\" font-size=\"14.00\" fill=\"#000000\">class = not</text>\n",
       "</g>\n",
       "<!-- 61&#45;&gt;75 -->\n",
       "<g id=\"edge75\" class=\"edge\">\n",
       "<title>61&#45;&gt;75</title>\n",
       "<path fill=\"none\" stroke=\"#000000\" d=\"M2499.8777,-584.4102C2502.9375,-582.8733 2505.9888,-581.3944 2509,-580 2555.6204,-558.4107 2610.0814,-538.9066 2652.6542,-524.8651\"/>\n",
       "<polygon fill=\"#000000\" stroke=\"#000000\" points=\"2653.9607,-528.1203 2662.3771,-521.6848 2651.7845,-521.4671 2653.9607,-528.1203\"/>\n",
       "</g>\n",
       "<!-- 63 -->\n",
       "<g id=\"node64\" class=\"node\">\n",
       "<title>63</title>\n",
       "<path fill=\"#e68844\" stroke=\"#000000\" d=\"M2446,-425C2446,-425 2232,-425 2232,-425 2226,-425 2220,-419 2220,-413 2220,-413 2220,-354 2220,-354 2220,-348 2226,-342 2232,-342 2232,-342 2446,-342 2446,-342 2452,-342 2458,-348 2458,-354 2458,-354 2458,-413 2458,-413 2458,-419 2452,-425 2446,-425\"/>\n",
       "<text text-anchor=\"start\" x=\"2228\" y=\"-409.8\" font-family=\"Helvetica,sans-Serif\" font-size=\"14.00\" fill=\"#000000\">cs_SIGNUP_GOOGLE_AUTH ≤ 0.5</text>\n",
       "<text text-anchor=\"start\" x=\"2291.5\" y=\"-394.8\" font-family=\"Helvetica,sans-Serif\" font-size=\"14.00\" fill=\"#000000\">entropy = 0.304</text>\n",
       "<text text-anchor=\"start\" x=\"2290.5\" y=\"-379.8\" font-family=\"Helvetica,sans-Serif\" font-size=\"14.00\" fill=\"#000000\">samples = 1198</text>\n",
       "<text text-anchor=\"start\" x=\"2284.5\" y=\"-364.8\" font-family=\"Helvetica,sans-Serif\" font-size=\"14.00\" fill=\"#000000\">value = [1133, 65]</text>\n",
       "<text text-anchor=\"start\" x=\"2306\" y=\"-349.8\" font-family=\"Helvetica,sans-Serif\" font-size=\"14.00\" fill=\"#000000\">class = not</text>\n",
       "</g>\n",
       "<!-- 62&#45;&gt;63 -->\n",
       "<g id=\"edge63\" class=\"edge\">\n",
       "<title>62&#45;&gt;63</title>\n",
       "<path fill=\"none\" stroke=\"#000000\" d=\"M2402.7244,-460.8796C2395.3816,-451.9633 2387.5524,-442.4565 2379.9854,-433.268\"/>\n",
       "<polygon fill=\"#000000\" stroke=\"#000000\" points=\"2382.4808,-430.7924 2373.4219,-425.2981 2377.0773,-435.2424 2382.4808,-430.7924\"/>\n",
       "</g>\n",
       "<!-- 74 -->\n",
       "<g id=\"node75\" class=\"node\">\n",
       "<title>74</title>\n",
       "<path fill=\"#399de5\" stroke=\"#000000\" d=\"M2576,-417.5C2576,-417.5 2488,-417.5 2488,-417.5 2482,-417.5 2476,-411.5 2476,-405.5 2476,-405.5 2476,-361.5 2476,-361.5 2476,-355.5 2482,-349.5 2488,-349.5 2488,-349.5 2576,-349.5 2576,-349.5 2582,-349.5 2588,-355.5 2588,-361.5 2588,-361.5 2588,-405.5 2588,-405.5 2588,-411.5 2582,-417.5 2576,-417.5\"/>\n",
       "<text text-anchor=\"start\" x=\"2492\" y=\"-402.3\" font-family=\"Helvetica,sans-Serif\" font-size=\"14.00\" fill=\"#000000\">entropy = 0.0</text>\n",
       "<text text-anchor=\"start\" x=\"2494.5\" y=\"-387.3\" font-family=\"Helvetica,sans-Serif\" font-size=\"14.00\" fill=\"#000000\">samples = 1</text>\n",
       "<text text-anchor=\"start\" x=\"2492.5\" y=\"-372.3\" font-family=\"Helvetica,sans-Serif\" font-size=\"14.00\" fill=\"#000000\">value = [0, 1]</text>\n",
       "<text text-anchor=\"start\" x=\"2484\" y=\"-357.3\" font-family=\"Helvetica,sans-Serif\" font-size=\"14.00\" fill=\"#000000\">class = adopted</text>\n",
       "</g>\n",
       "<!-- 62&#45;&gt;74 -->\n",
       "<g id=\"edge74\" class=\"edge\">\n",
       "<title>62&#45;&gt;74</title>\n",
       "<path fill=\"none\" stroke=\"#000000\" d=\"M2470.2264,-460.8796C2479.2681,-449.5536 2489.0705,-437.2748 2498.1466,-425.9058\"/>\n",
       "<polygon fill=\"#000000\" stroke=\"#000000\" points=\"2501.102,-427.8137 2504.6057,-417.8149 2495.6315,-423.4464 2501.102,-427.8137\"/>\n",
       "</g>\n",
       "<!-- 64 -->\n",
       "<g id=\"node65\" class=\"node\">\n",
       "<title>64</title>\n",
       "<path fill=\"#e68743\" stroke=\"#000000\" d=\"M2276.5,-306C2276.5,-306 2181.5,-306 2181.5,-306 2175.5,-306 2169.5,-300 2169.5,-294 2169.5,-294 2169.5,-235 2169.5,-235 2169.5,-229 2175.5,-223 2181.5,-223 2181.5,-223 2276.5,-223 2276.5,-223 2282.5,-223 2288.5,-229 2288.5,-235 2288.5,-235 2288.5,-294 2288.5,-294 2288.5,-300 2282.5,-306 2276.5,-306\"/>\n",
       "<text text-anchor=\"start\" x=\"2177.5\" y=\"-290.8\" font-family=\"Helvetica,sans-Serif\" font-size=\"14.00\" fill=\"#000000\">org_id_238 ≤ 0.5</text>\n",
       "<text text-anchor=\"start\" x=\"2181.5\" y=\"-275.8\" font-family=\"Helvetica,sans-Serif\" font-size=\"14.00\" fill=\"#000000\">entropy = 0.276</text>\n",
       "<text text-anchor=\"start\" x=\"2180.5\" y=\"-260.8\" font-family=\"Helvetica,sans-Serif\" font-size=\"14.00\" fill=\"#000000\">samples = 1032</text>\n",
       "<text text-anchor=\"start\" x=\"2178.5\" y=\"-245.8\" font-family=\"Helvetica,sans-Serif\" font-size=\"14.00\" fill=\"#000000\">value = [983, 49]</text>\n",
       "<text text-anchor=\"start\" x=\"2196\" y=\"-230.8\" font-family=\"Helvetica,sans-Serif\" font-size=\"14.00\" fill=\"#000000\">class = not</text>\n",
       "</g>\n",
       "<!-- 63&#45;&gt;64 -->\n",
       "<g id=\"edge64\" class=\"edge\">\n",
       "<title>63&#45;&gt;64</title>\n",
       "<path fill=\"none\" stroke=\"#000000\" d=\"M2300.5273,-341.8796C2292.1189,-332.7832 2283.1424,-323.0722 2274.4897,-313.7116\"/>\n",
       "<polygon fill=\"#000000\" stroke=\"#000000\" points=\"2276.995,-311.2656 2267.6369,-306.2981 2271.8547,-316.0172 2276.995,-311.2656\"/>\n",
       "</g>\n",
       "<!-- 69 -->\n",
       "<g id=\"node70\" class=\"node\">\n",
       "<title>69</title>\n",
       "<path fill=\"#e88e4e\" stroke=\"#000000\" d=\"M2413.5,-306C2413.5,-306 2318.5,-306 2318.5,-306 2312.5,-306 2306.5,-300 2306.5,-294 2306.5,-294 2306.5,-235 2306.5,-235 2306.5,-229 2312.5,-223 2318.5,-223 2318.5,-223 2413.5,-223 2413.5,-223 2419.5,-223 2425.5,-229 2425.5,-235 2425.5,-235 2425.5,-294 2425.5,-294 2425.5,-300 2419.5,-306 2413.5,-306\"/>\n",
       "<text text-anchor=\"start\" x=\"2314.5\" y=\"-290.8\" font-family=\"Helvetica,sans-Serif\" font-size=\"14.00\" fill=\"#000000\">org_id_245 ≤ 0.5</text>\n",
       "<text text-anchor=\"start\" x=\"2318.5\" y=\"-275.8\" font-family=\"Helvetica,sans-Serif\" font-size=\"14.00\" fill=\"#000000\">entropy = 0.457</text>\n",
       "<text text-anchor=\"start\" x=\"2321\" y=\"-260.8\" font-family=\"Helvetica,sans-Serif\" font-size=\"14.00\" fill=\"#000000\">samples = 166</text>\n",
       "<text text-anchor=\"start\" x=\"2315.5\" y=\"-245.8\" font-family=\"Helvetica,sans-Serif\" font-size=\"14.00\" fill=\"#000000\">value = [150, 16]</text>\n",
       "<text text-anchor=\"start\" x=\"2333\" y=\"-230.8\" font-family=\"Helvetica,sans-Serif\" font-size=\"14.00\" fill=\"#000000\">class = not</text>\n",
       "</g>\n",
       "<!-- 63&#45;&gt;69 -->\n",
       "<g id=\"edge69\" class=\"edge\">\n",
       "<title>63&#45;&gt;69</title>\n",
       "<path fill=\"none\" stroke=\"#000000\" d=\"M2348.4433,-341.8796C2350.3233,-333.5938 2352.3189,-324.798 2354.2649,-316.2216\"/>\n",
       "<polygon fill=\"#000000\" stroke=\"#000000\" points=\"2357.7169,-316.8247 2356.5164,-306.2981 2350.8904,-315.2757 2357.7169,-316.8247\"/>\n",
       "</g>\n",
       "<!-- 65 -->\n",
       "<g id=\"node66\" class=\"node\">\n",
       "<title>65</title>\n",
       "<path fill=\"#e68743\" stroke=\"#000000\" d=\"M2143.5,-187C2143.5,-187 2048.5,-187 2048.5,-187 2042.5,-187 2036.5,-181 2036.5,-175 2036.5,-175 2036.5,-116 2036.5,-116 2036.5,-110 2042.5,-104 2048.5,-104 2048.5,-104 2143.5,-104 2143.5,-104 2149.5,-104 2155.5,-110 2155.5,-116 2155.5,-116 2155.5,-175 2155.5,-175 2155.5,-181 2149.5,-187 2143.5,-187\"/>\n",
       "<text text-anchor=\"start\" x=\"2044.5\" y=\"-171.8\" font-family=\"Helvetica,sans-Serif\" font-size=\"14.00\" fill=\"#000000\">org_id_218 ≤ 0.5</text>\n",
       "<text text-anchor=\"start\" x=\"2048.5\" y=\"-156.8\" font-family=\"Helvetica,sans-Serif\" font-size=\"14.00\" fill=\"#000000\">entropy = 0.272</text>\n",
       "<text text-anchor=\"start\" x=\"2047.5\" y=\"-141.8\" font-family=\"Helvetica,sans-Serif\" font-size=\"14.00\" fill=\"#000000\">samples = 1031</text>\n",
       "<text text-anchor=\"start\" x=\"2045.5\" y=\"-126.8\" font-family=\"Helvetica,sans-Serif\" font-size=\"14.00\" fill=\"#000000\">value = [983, 48]</text>\n",
       "<text text-anchor=\"start\" x=\"2063\" y=\"-111.8\" font-family=\"Helvetica,sans-Serif\" font-size=\"14.00\" fill=\"#000000\">class = not</text>\n",
       "</g>\n",
       "<!-- 64&#45;&gt;65 -->\n",
       "<g id=\"edge65\" class=\"edge\">\n",
       "<title>64&#45;&gt;65</title>\n",
       "<path fill=\"none\" stroke=\"#000000\" d=\"M2182.4831,-222.8796C2172.1152,-213.6031 2161.0329,-203.6874 2150.3801,-194.1559\"/>\n",
       "<polygon fill=\"#000000\" stroke=\"#000000\" points=\"2152.5017,-191.3577 2142.7155,-187.2981 2147.8341,-196.5744 2152.5017,-191.3577\"/>\n",
       "</g>\n",
       "<!-- 68 -->\n",
       "<g id=\"node69\" class=\"node\">\n",
       "<title>68</title>\n",
       "<path fill=\"#399de5\" stroke=\"#000000\" d=\"M2274,-179.5C2274,-179.5 2186,-179.5 2186,-179.5 2180,-179.5 2174,-173.5 2174,-167.5 2174,-167.5 2174,-123.5 2174,-123.5 2174,-117.5 2180,-111.5 2186,-111.5 2186,-111.5 2274,-111.5 2274,-111.5 2280,-111.5 2286,-117.5 2286,-123.5 2286,-123.5 2286,-167.5 2286,-167.5 2286,-173.5 2280,-179.5 2274,-179.5\"/>\n",
       "<text text-anchor=\"start\" x=\"2190\" y=\"-164.3\" font-family=\"Helvetica,sans-Serif\" font-size=\"14.00\" fill=\"#000000\">entropy = 0.0</text>\n",
       "<text text-anchor=\"start\" x=\"2192.5\" y=\"-149.3\" font-family=\"Helvetica,sans-Serif\" font-size=\"14.00\" fill=\"#000000\">samples = 1</text>\n",
       "<text text-anchor=\"start\" x=\"2190.5\" y=\"-134.3\" font-family=\"Helvetica,sans-Serif\" font-size=\"14.00\" fill=\"#000000\">value = [0, 1]</text>\n",
       "<text text-anchor=\"start\" x=\"2182\" y=\"-119.3\" font-family=\"Helvetica,sans-Serif\" font-size=\"14.00\" fill=\"#000000\">class = adopted</text>\n",
       "</g>\n",
       "<!-- 64&#45;&gt;68 -->\n",
       "<g id=\"edge68\" class=\"edge\">\n",
       "<title>64&#45;&gt;68</title>\n",
       "<path fill=\"none\" stroke=\"#000000\" d=\"M2229.3498,-222.8796C2229.4394,-212.2134 2229.5361,-200.7021 2229.6269,-189.9015\"/>\n",
       "<polygon fill=\"#000000\" stroke=\"#000000\" points=\"2233.1274,-189.844 2229.7116,-179.8149 2226.1276,-189.7851 2233.1274,-189.844\"/>\n",
       "</g>\n",
       "<!-- 66 -->\n",
       "<g id=\"node67\" class=\"node\">\n",
       "<title>66</title>\n",
       "<path fill=\"#e68742\" stroke=\"#000000\" d=\"M2080.5,-68C2080.5,-68 1987.5,-68 1987.5,-68 1981.5,-68 1975.5,-62 1975.5,-56 1975.5,-56 1975.5,-12 1975.5,-12 1975.5,-6 1981.5,0 1987.5,0 1987.5,0 2080.5,0 2080.5,0 2086.5,0 2092.5,-6 2092.5,-12 2092.5,-12 2092.5,-56 2092.5,-56 2092.5,-62 2086.5,-68 2080.5,-68\"/>\n",
       "<text text-anchor=\"start\" x=\"1986.5\" y=\"-52.8\" font-family=\"Helvetica,sans-Serif\" font-size=\"14.00\" fill=\"#000000\">entropy = 0.268</text>\n",
       "<text text-anchor=\"start\" x=\"1985.5\" y=\"-37.8\" font-family=\"Helvetica,sans-Serif\" font-size=\"14.00\" fill=\"#000000\">samples = 1029</text>\n",
       "<text text-anchor=\"start\" x=\"1983.5\" y=\"-22.8\" font-family=\"Helvetica,sans-Serif\" font-size=\"14.00\" fill=\"#000000\">value = [982, 47]</text>\n",
       "<text text-anchor=\"start\" x=\"2001\" y=\"-7.8\" font-family=\"Helvetica,sans-Serif\" font-size=\"14.00\" fill=\"#000000\">class = not</text>\n",
       "</g>\n",
       "<!-- 65&#45;&gt;66 -->\n",
       "<g id=\"edge66\" class=\"edge\">\n",
       "<title>65&#45;&gt;66</title>\n",
       "<path fill=\"none\" stroke=\"#000000\" d=\"M2072.9135,-103.9815C2068.0585,-95.2504 2062.926,-86.0202 2058.0371,-77.2281\"/>\n",
       "<polygon fill=\"#000000\" stroke=\"#000000\" points=\"2060.9712,-75.3025 2053.0524,-68.2637 2054.8533,-78.7043 2060.9712,-75.3025\"/>\n",
       "</g>\n",
       "<!-- 67 -->\n",
       "<g id=\"node68\" class=\"node\">\n",
       "<title>67</title>\n",
       "<path fill=\"#ffffff\" stroke=\"#000000\" d=\"M2195,-68C2195,-68 2123,-68 2123,-68 2117,-68 2111,-62 2111,-56 2111,-56 2111,-12 2111,-12 2111,-6 2117,0 2123,0 2123,0 2195,0 2195,0 2201,0 2207,-6 2207,-12 2207,-12 2207,-56 2207,-56 2207,-62 2201,-68 2195,-68\"/>\n",
       "<text text-anchor=\"start\" x=\"2119\" y=\"-52.8\" font-family=\"Helvetica,sans-Serif\" font-size=\"14.00\" fill=\"#000000\">entropy = 1.0</text>\n",
       "<text text-anchor=\"start\" x=\"2121.5\" y=\"-37.8\" font-family=\"Helvetica,sans-Serif\" font-size=\"14.00\" fill=\"#000000\">samples = 2</text>\n",
       "<text text-anchor=\"start\" x=\"2119.5\" y=\"-22.8\" font-family=\"Helvetica,sans-Serif\" font-size=\"14.00\" fill=\"#000000\">value = [1, 1]</text>\n",
       "<text text-anchor=\"start\" x=\"2126\" y=\"-7.8\" font-family=\"Helvetica,sans-Serif\" font-size=\"14.00\" fill=\"#000000\">class = not</text>\n",
       "</g>\n",
       "<!-- 65&#45;&gt;67 -->\n",
       "<g id=\"edge67\" class=\"edge\">\n",
       "<title>65&#45;&gt;67</title>\n",
       "<path fill=\"none\" stroke=\"#000000\" d=\"M2119.4589,-103.9815C2124.3922,-95.2504 2129.6074,-86.0202 2134.5752,-77.2281\"/>\n",
       "<polygon fill=\"#000000\" stroke=\"#000000\" points=\"2137.7681,-78.6918 2139.6403,-68.2637 2131.6737,-75.2483 2137.7681,-78.6918\"/>\n",
       "</g>\n",
       "<!-- 70 -->\n",
       "<g id=\"node71\" class=\"node\">\n",
       "<title>70</title>\n",
       "<path fill=\"#e88e4d\" stroke=\"#000000\" d=\"M2412.5,-187C2412.5,-187 2317.5,-187 2317.5,-187 2311.5,-187 2305.5,-181 2305.5,-175 2305.5,-175 2305.5,-116 2305.5,-116 2305.5,-110 2311.5,-104 2317.5,-104 2317.5,-104 2412.5,-104 2412.5,-104 2418.5,-104 2424.5,-110 2424.5,-116 2424.5,-116 2424.5,-175 2424.5,-175 2424.5,-181 2418.5,-187 2412.5,-187\"/>\n",
       "<text text-anchor=\"start\" x=\"2313.5\" y=\"-171.8\" font-family=\"Helvetica,sans-Serif\" font-size=\"14.00\" fill=\"#000000\">org_id_258 ≤ 0.5</text>\n",
       "<text text-anchor=\"start\" x=\"2317.5\" y=\"-156.8\" font-family=\"Helvetica,sans-Serif\" font-size=\"14.00\" fill=\"#000000\">entropy = 0.439</text>\n",
       "<text text-anchor=\"start\" x=\"2320\" y=\"-141.8\" font-family=\"Helvetica,sans-Serif\" font-size=\"14.00\" fill=\"#000000\">samples = 165</text>\n",
       "<text text-anchor=\"start\" x=\"2314.5\" y=\"-126.8\" font-family=\"Helvetica,sans-Serif\" font-size=\"14.00\" fill=\"#000000\">value = [150, 15]</text>\n",
       "<text text-anchor=\"start\" x=\"2332\" y=\"-111.8\" font-family=\"Helvetica,sans-Serif\" font-size=\"14.00\" fill=\"#000000\">class = not</text>\n",
       "</g>\n",
       "<!-- 69&#45;&gt;70 -->\n",
       "<g id=\"edge70\" class=\"edge\">\n",
       "<title>69&#45;&gt;70</title>\n",
       "<path fill=\"none\" stroke=\"#000000\" d=\"M2365.6502,-222.8796C2365.5814,-214.6838 2365.5083,-205.9891 2365.437,-197.5013\"/>\n",
       "<polygon fill=\"#000000\" stroke=\"#000000\" points=\"2368.9352,-197.2683 2365.3512,-187.2981 2361.9355,-197.3272 2368.9352,-197.2683\"/>\n",
       "</g>\n",
       "<!-- 73 -->\n",
       "<g id=\"node74\" class=\"node\">\n",
       "<title>73</title>\n",
       "<path fill=\"#399de5\" stroke=\"#000000\" d=\"M2543,-179.5C2543,-179.5 2455,-179.5 2455,-179.5 2449,-179.5 2443,-173.5 2443,-167.5 2443,-167.5 2443,-123.5 2443,-123.5 2443,-117.5 2449,-111.5 2455,-111.5 2455,-111.5 2543,-111.5 2543,-111.5 2549,-111.5 2555,-117.5 2555,-123.5 2555,-123.5 2555,-167.5 2555,-167.5 2555,-173.5 2549,-179.5 2543,-179.5\"/>\n",
       "<text text-anchor=\"start\" x=\"2459\" y=\"-164.3\" font-family=\"Helvetica,sans-Serif\" font-size=\"14.00\" fill=\"#000000\">entropy = 0.0</text>\n",
       "<text text-anchor=\"start\" x=\"2461.5\" y=\"-149.3\" font-family=\"Helvetica,sans-Serif\" font-size=\"14.00\" fill=\"#000000\">samples = 1</text>\n",
       "<text text-anchor=\"start\" x=\"2459.5\" y=\"-134.3\" font-family=\"Helvetica,sans-Serif\" font-size=\"14.00\" fill=\"#000000\">value = [0, 1]</text>\n",
       "<text text-anchor=\"start\" x=\"2451\" y=\"-119.3\" font-family=\"Helvetica,sans-Serif\" font-size=\"14.00\" fill=\"#000000\">class = adopted</text>\n",
       "</g>\n",
       "<!-- 69&#45;&gt;73 -->\n",
       "<g id=\"edge73\" class=\"edge\">\n",
       "<title>69&#45;&gt;73</title>\n",
       "<path fill=\"none\" stroke=\"#000000\" d=\"M2412.5169,-222.8796C2425.667,-211.1138 2439.9663,-198.3197 2453.0809,-186.5855\"/>\n",
       "<polygon fill=\"#000000\" stroke=\"#000000\" points=\"2455.5294,-189.0913 2460.648,-179.8149 2450.8618,-183.8746 2455.5294,-189.0913\"/>\n",
       "</g>\n",
       "<!-- 71 -->\n",
       "<g id=\"node72\" class=\"node\">\n",
       "<title>71</title>\n",
       "<path fill=\"#e78d4b\" stroke=\"#000000\" d=\"M2371.5,-68C2371.5,-68 2278.5,-68 2278.5,-68 2272.5,-68 2266.5,-62 2266.5,-56 2266.5,-56 2266.5,-12 2266.5,-12 2266.5,-6 2272.5,0 2278.5,0 2278.5,0 2371.5,0 2371.5,0 2377.5,0 2383.5,-6 2383.5,-12 2383.5,-12 2383.5,-56 2383.5,-56 2383.5,-62 2377.5,-68 2371.5,-68\"/>\n",
       "<text text-anchor=\"start\" x=\"2277.5\" y=\"-52.8\" font-family=\"Helvetica,sans-Serif\" font-size=\"14.00\" fill=\"#000000\">entropy = 0.421</text>\n",
       "<text text-anchor=\"start\" x=\"2280\" y=\"-37.8\" font-family=\"Helvetica,sans-Serif\" font-size=\"14.00\" fill=\"#000000\">samples = 164</text>\n",
       "<text text-anchor=\"start\" x=\"2274.5\" y=\"-22.8\" font-family=\"Helvetica,sans-Serif\" font-size=\"14.00\" fill=\"#000000\">value = [150, 14]</text>\n",
       "<text text-anchor=\"start\" x=\"2292\" y=\"-7.8\" font-family=\"Helvetica,sans-Serif\" font-size=\"14.00\" fill=\"#000000\">class = not</text>\n",
       "</g>\n",
       "<!-- 70&#45;&gt;71 -->\n",
       "<g id=\"edge71\" class=\"edge\">\n",
       "<title>70&#45;&gt;71</title>\n",
       "<path fill=\"none\" stroke=\"#000000\" d=\"M2350.1055,-103.9815C2347.0392,-95.4342 2343.8013,-86.4086 2340.7072,-77.7839\"/>\n",
       "<polygon fill=\"#000000\" stroke=\"#000000\" points=\"2343.9631,-76.4944 2337.2919,-68.2637 2337.3743,-78.8582 2343.9631,-76.4944\"/>\n",
       "</g>\n",
       "<!-- 72 -->\n",
       "<g id=\"node73\" class=\"node\">\n",
       "<title>72</title>\n",
       "<path fill=\"#399de5\" stroke=\"#000000\" d=\"M2502,-68C2502,-68 2414,-68 2414,-68 2408,-68 2402,-62 2402,-56 2402,-56 2402,-12 2402,-12 2402,-6 2408,0 2414,0 2414,0 2502,0 2502,0 2508,0 2514,-6 2514,-12 2514,-12 2514,-56 2514,-56 2514,-62 2508,-68 2502,-68\"/>\n",
       "<text text-anchor=\"start\" x=\"2418\" y=\"-52.8\" font-family=\"Helvetica,sans-Serif\" font-size=\"14.00\" fill=\"#000000\">entropy = 0.0</text>\n",
       "<text text-anchor=\"start\" x=\"2420.5\" y=\"-37.8\" font-family=\"Helvetica,sans-Serif\" font-size=\"14.00\" fill=\"#000000\">samples = 1</text>\n",
       "<text text-anchor=\"start\" x=\"2418.5\" y=\"-22.8\" font-family=\"Helvetica,sans-Serif\" font-size=\"14.00\" fill=\"#000000\">value = [0, 1]</text>\n",
       "<text text-anchor=\"start\" x=\"2410\" y=\"-7.8\" font-family=\"Helvetica,sans-Serif\" font-size=\"14.00\" fill=\"#000000\">class = adopted</text>\n",
       "</g>\n",
       "<!-- 70&#45;&gt;72 -->\n",
       "<g id=\"edge72\" class=\"edge\">\n",
       "<title>70&#45;&gt;72</title>\n",
       "<path fill=\"none\" stroke=\"#000000\" d=\"M2399.6298,-103.9815C2407.2189,-94.8828 2415.26,-85.242 2422.8686,-76.1199\"/>\n",
       "<polygon fill=\"#000000\" stroke=\"#000000\" points=\"2425.7039,-78.1849 2429.4213,-68.2637 2420.3283,-73.7012 2425.7039,-78.1849\"/>\n",
       "</g>\n",
       "<!-- 76 -->\n",
       "<g id=\"node77\" class=\"node\">\n",
       "<title>76</title>\n",
       "<path fill=\"#f2c09c\" stroke=\"#000000\" d=\"M2832,-425C2832,-425 2618,-425 2618,-425 2612,-425 2606,-419 2606,-413 2606,-413 2606,-354 2606,-354 2606,-348 2612,-342 2618,-342 2618,-342 2832,-342 2832,-342 2838,-342 2844,-348 2844,-354 2844,-354 2844,-413 2844,-413 2844,-419 2838,-425 2832,-425\"/>\n",
       "<text text-anchor=\"start\" x=\"2614\" y=\"-409.8\" font-family=\"Helvetica,sans-Serif\" font-size=\"14.00\" fill=\"#000000\">cs_SIGNUP_GOOGLE_AUTH ≤ 0.5</text>\n",
       "<text text-anchor=\"start\" x=\"2677.5\" y=\"-394.8\" font-family=\"Helvetica,sans-Serif\" font-size=\"14.00\" fill=\"#000000\">entropy = 0.918</text>\n",
       "<text text-anchor=\"start\" x=\"2687.5\" y=\"-379.8\" font-family=\"Helvetica,sans-Serif\" font-size=\"14.00\" fill=\"#000000\">samples = 3</text>\n",
       "<text text-anchor=\"start\" x=\"2685.5\" y=\"-364.8\" font-family=\"Helvetica,sans-Serif\" font-size=\"14.00\" fill=\"#000000\">value = [2, 1]</text>\n",
       "<text text-anchor=\"start\" x=\"2692\" y=\"-349.8\" font-family=\"Helvetica,sans-Serif\" font-size=\"14.00\" fill=\"#000000\">class = not</text>\n",
       "</g>\n",
       "<!-- 75&#45;&gt;76 -->\n",
       "<g id=\"edge76\" class=\"edge\">\n",
       "<title>75&#45;&gt;76</title>\n",
       "<path fill=\"none\" stroke=\"#000000\" d=\"M2725,-460.8796C2725,-452.6838 2725,-443.9891 2725,-435.5013\"/>\n",
       "<polygon fill=\"#000000\" stroke=\"#000000\" points=\"2728.5001,-435.298 2725,-425.2981 2721.5001,-435.2981 2728.5001,-435.298\"/>\n",
       "</g>\n",
       "<!-- 79 -->\n",
       "<g id=\"node80\" class=\"node\">\n",
       "<title>79</title>\n",
       "<path fill=\"#399de5\" stroke=\"#000000\" d=\"M2962,-417.5C2962,-417.5 2874,-417.5 2874,-417.5 2868,-417.5 2862,-411.5 2862,-405.5 2862,-405.5 2862,-361.5 2862,-361.5 2862,-355.5 2868,-349.5 2874,-349.5 2874,-349.5 2962,-349.5 2962,-349.5 2968,-349.5 2974,-355.5 2974,-361.5 2974,-361.5 2974,-405.5 2974,-405.5 2974,-411.5 2968,-417.5 2962,-417.5\"/>\n",
       "<text text-anchor=\"start\" x=\"2878\" y=\"-402.3\" font-family=\"Helvetica,sans-Serif\" font-size=\"14.00\" fill=\"#000000\">entropy = 0.0</text>\n",
       "<text text-anchor=\"start\" x=\"2880.5\" y=\"-387.3\" font-family=\"Helvetica,sans-Serif\" font-size=\"14.00\" fill=\"#000000\">samples = 1</text>\n",
       "<text text-anchor=\"start\" x=\"2878.5\" y=\"-372.3\" font-family=\"Helvetica,sans-Serif\" font-size=\"14.00\" fill=\"#000000\">value = [0, 1]</text>\n",
       "<text text-anchor=\"start\" x=\"2870\" y=\"-357.3\" font-family=\"Helvetica,sans-Serif\" font-size=\"14.00\" fill=\"#000000\">class = adopted</text>\n",
       "</g>\n",
       "<!-- 75&#45;&gt;79 -->\n",
       "<g id=\"edge79\" class=\"edge\">\n",
       "<title>75&#45;&gt;79</title>\n",
       "<path fill=\"none\" stroke=\"#000000\" d=\"M2787.6818,-464.9545C2808.5273,-452.3603 2831.8218,-438.1695 2853,-425 2854.0872,-424.3239 2855.1839,-423.6404 2856.2878,-422.9511\"/>\n",
       "<polygon fill=\"#000000\" stroke=\"#000000\" points=\"2858.2455,-425.8547 2864.8562,-417.5752 2854.5252,-419.9251 2858.2455,-425.8547\"/>\n",
       "</g>\n",
       "<!-- 77 -->\n",
       "<g id=\"node78\" class=\"node\">\n",
       "<title>77</title>\n",
       "<path fill=\"#ffffff\" stroke=\"#000000\" d=\"M2704,-298.5C2704,-298.5 2632,-298.5 2632,-298.5 2626,-298.5 2620,-292.5 2620,-286.5 2620,-286.5 2620,-242.5 2620,-242.5 2620,-236.5 2626,-230.5 2632,-230.5 2632,-230.5 2704,-230.5 2704,-230.5 2710,-230.5 2716,-236.5 2716,-242.5 2716,-242.5 2716,-286.5 2716,-286.5 2716,-292.5 2710,-298.5 2704,-298.5\"/>\n",
       "<text text-anchor=\"start\" x=\"2628\" y=\"-283.3\" font-family=\"Helvetica,sans-Serif\" font-size=\"14.00\" fill=\"#000000\">entropy = 1.0</text>\n",
       "<text text-anchor=\"start\" x=\"2630.5\" y=\"-268.3\" font-family=\"Helvetica,sans-Serif\" font-size=\"14.00\" fill=\"#000000\">samples = 2</text>\n",
       "<text text-anchor=\"start\" x=\"2628.5\" y=\"-253.3\" font-family=\"Helvetica,sans-Serif\" font-size=\"14.00\" fill=\"#000000\">value = [1, 1]</text>\n",
       "<text text-anchor=\"start\" x=\"2635\" y=\"-238.3\" font-family=\"Helvetica,sans-Serif\" font-size=\"14.00\" fill=\"#000000\">class = not</text>\n",
       "</g>\n",
       "<!-- 76&#45;&gt;77 -->\n",
       "<g id=\"edge77\" class=\"edge\">\n",
       "<title>76&#45;&gt;77</title>\n",
       "<path fill=\"none\" stroke=\"#000000\" d=\"M2705.0642,-341.8796C2699.7971,-330.8835 2694.0999,-318.9893 2688.789,-307.9015\"/>\n",
       "<polygon fill=\"#000000\" stroke=\"#000000\" points=\"2691.9131,-306.3217 2684.4366,-298.8149 2685.6,-309.3457 2691.9131,-306.3217\"/>\n",
       "</g>\n",
       "<!-- 78 -->\n",
       "<g id=\"node79\" class=\"node\">\n",
       "<title>78</title>\n",
       "<path fill=\"#e58139\" stroke=\"#000000\" d=\"M2818,-298.5C2818,-298.5 2746,-298.5 2746,-298.5 2740,-298.5 2734,-292.5 2734,-286.5 2734,-286.5 2734,-242.5 2734,-242.5 2734,-236.5 2740,-230.5 2746,-230.5 2746,-230.5 2818,-230.5 2818,-230.5 2824,-230.5 2830,-236.5 2830,-242.5 2830,-242.5 2830,-286.5 2830,-286.5 2830,-292.5 2824,-298.5 2818,-298.5\"/>\n",
       "<text text-anchor=\"start\" x=\"2742\" y=\"-283.3\" font-family=\"Helvetica,sans-Serif\" font-size=\"14.00\" fill=\"#000000\">entropy = 0.0</text>\n",
       "<text text-anchor=\"start\" x=\"2744.5\" y=\"-268.3\" font-family=\"Helvetica,sans-Serif\" font-size=\"14.00\" fill=\"#000000\">samples = 1</text>\n",
       "<text text-anchor=\"start\" x=\"2742.5\" y=\"-253.3\" font-family=\"Helvetica,sans-Serif\" font-size=\"14.00\" fill=\"#000000\">value = [1, 0]</text>\n",
       "<text text-anchor=\"start\" x=\"2749\" y=\"-238.3\" font-family=\"Helvetica,sans-Serif\" font-size=\"14.00\" fill=\"#000000\">class = not</text>\n",
       "</g>\n",
       "<!-- 76&#45;&gt;78 -->\n",
       "<g id=\"edge78\" class=\"edge\">\n",
       "<title>76&#45;&gt;78</title>\n",
       "<path fill=\"none\" stroke=\"#000000\" d=\"M2744.9358,-341.8796C2750.2029,-330.8835 2755.9001,-318.9893 2761.211,-307.9015\"/>\n",
       "<polygon fill=\"#000000\" stroke=\"#000000\" points=\"2764.4,-309.3457 2765.5634,-298.8149 2758.0869,-306.3217 2764.4,-309.3457\"/>\n",
       "</g>\n",
       "<!-- 82 -->\n",
       "<g id=\"node83\" class=\"node\">\n",
       "<title>82</title>\n",
       "<path fill=\"#eb9f68\" stroke=\"#000000\" d=\"M3846,-901C3846,-901 3738,-901 3738,-901 3732,-901 3726,-895 3726,-889 3726,-889 3726,-830 3726,-830 3726,-824 3732,-818 3738,-818 3738,-818 3846,-818 3846,-818 3852,-818 3858,-824 3858,-830 3858,-830 3858,-889 3858,-889 3858,-895 3852,-901 3846,-901\"/>\n",
       "<text text-anchor=\"start\" x=\"3737.5\" y=\"-885.8\" font-family=\"Helvetica,sans-Serif\" font-size=\"14.00\" fill=\"#000000\">cs_SIGNUP ≤ 0.5</text>\n",
       "<text text-anchor=\"start\" x=\"3744.5\" y=\"-870.8\" font-family=\"Helvetica,sans-Serif\" font-size=\"14.00\" fill=\"#000000\">entropy = 0.708</text>\n",
       "<text text-anchor=\"start\" x=\"3743.5\" y=\"-855.8\" font-family=\"Helvetica,sans-Serif\" font-size=\"14.00\" fill=\"#000000\">samples = 2948</text>\n",
       "<text text-anchor=\"start\" x=\"3734\" y=\"-840.8\" font-family=\"Helvetica,sans-Serif\" font-size=\"14.00\" fill=\"#000000\">value = [2378, 570]</text>\n",
       "<text text-anchor=\"start\" x=\"3759\" y=\"-825.8\" font-family=\"Helvetica,sans-Serif\" font-size=\"14.00\" fill=\"#000000\">class = not</text>\n",
       "</g>\n",
       "<!-- 81&#45;&gt;82 -->\n",
       "<g id=\"edge82\" class=\"edge\">\n",
       "<title>81&#45;&gt;82</title>\n",
       "<path fill=\"none\" stroke=\"#000000\" d=\"M3838.1676,-936.8796C3833.0091,-928.2335 3827.5192,-919.0322 3822.1924,-910.1042\"/>\n",
       "<polygon fill=\"#000000\" stroke=\"#000000\" points=\"3825.0678,-908.0924 3816.9383,-901.2981 3819.0564,-911.679 3825.0678,-908.0924\"/>\n",
       "</g>\n",
       "<!-- 117 -->\n",
       "<g id=\"node118\" class=\"node\">\n",
       "<title>117</title>\n",
       "<path fill=\"#ea985e\" stroke=\"#000000\" d=\"M4064,-901C4064,-901 3956,-901 3956,-901 3950,-901 3944,-895 3944,-889 3944,-889 3944,-830 3944,-830 3944,-824 3950,-818 3956,-818 3956,-818 4064,-818 4064,-818 4070,-818 4076,-824 4076,-830 4076,-830 4076,-889 4076,-889 4076,-895 4070,-901 4064,-901\"/>\n",
       "<text text-anchor=\"start\" x=\"3958.5\" y=\"-885.8\" font-family=\"Helvetica,sans-Serif\" font-size=\"14.00\" fill=\"#000000\">org_id_209 ≤ 0.5</text>\n",
       "<text text-anchor=\"start\" x=\"3962.5\" y=\"-870.8\" font-family=\"Helvetica,sans-Serif\" font-size=\"14.00\" fill=\"#000000\">entropy = 0.625</text>\n",
       "<text text-anchor=\"start\" x=\"3961.5\" y=\"-855.8\" font-family=\"Helvetica,sans-Serif\" font-size=\"14.00\" fill=\"#000000\">samples = 2144</text>\n",
       "<text text-anchor=\"start\" x=\"3952\" y=\"-840.8\" font-family=\"Helvetica,sans-Serif\" font-size=\"14.00\" fill=\"#000000\">value = [1809, 335]</text>\n",
       "<text text-anchor=\"start\" x=\"3977\" y=\"-825.8\" font-family=\"Helvetica,sans-Serif\" font-size=\"14.00\" fill=\"#000000\">class = not</text>\n",
       "</g>\n",
       "<!-- 81&#45;&gt;117 -->\n",
       "<g id=\"edge117\" class=\"edge\">\n",
       "<title>81&#45;&gt;117</title>\n",
       "<path fill=\"none\" stroke=\"#000000\" d=\"M3914.4135,-936.8796C3926.0952,-927.4229 3938.5975,-917.302 3950.581,-907.6011\"/>\n",
       "<polygon fill=\"#000000\" stroke=\"#000000\" points=\"3952.7968,-910.3105 3958.3671,-901.2981 3948.3924,-904.8697 3952.7968,-910.3105\"/>\n",
       "</g>\n",
       "<!-- 83 -->\n",
       "<g id=\"node84\" class=\"node\">\n",
       "<title>83</title>\n",
       "<path fill=\"#eca36e\" stroke=\"#000000\" d=\"M3613,-782C3613,-782 3505,-782 3505,-782 3499,-782 3493,-776 3493,-770 3493,-770 3493,-711 3493,-711 3493,-705 3499,-699 3505,-699 3505,-699 3613,-699 3613,-699 3619,-699 3625,-705 3625,-711 3625,-711 3625,-770 3625,-770 3625,-776 3619,-782 3613,-782\"/>\n",
       "<text text-anchor=\"start\" x=\"3507.5\" y=\"-766.8\" font-family=\"Helvetica,sans-Serif\" font-size=\"14.00\" fill=\"#000000\">org_id_320 ≤ 0.5</text>\n",
       "<text text-anchor=\"start\" x=\"3511.5\" y=\"-751.8\" font-family=\"Helvetica,sans-Serif\" font-size=\"14.00\" fill=\"#000000\">entropy = 0.746</text>\n",
       "<text text-anchor=\"start\" x=\"3510.5\" y=\"-736.8\" font-family=\"Helvetica,sans-Serif\" font-size=\"14.00\" fill=\"#000000\">samples = 1845</text>\n",
       "<text text-anchor=\"start\" x=\"3501\" y=\"-721.8\" font-family=\"Helvetica,sans-Serif\" font-size=\"14.00\" fill=\"#000000\">value = [1453, 392]</text>\n",
       "<text text-anchor=\"start\" x=\"3526\" y=\"-706.8\" font-family=\"Helvetica,sans-Serif\" font-size=\"14.00\" fill=\"#000000\">class = not</text>\n",
       "</g>\n",
       "<!-- 82&#45;&gt;83 -->\n",
       "<g id=\"edge83\" class=\"edge\">\n",
       "<title>82&#45;&gt;83</title>\n",
       "<path fill=\"none\" stroke=\"#000000\" d=\"M3725.8548,-825.7177C3697.3237,-811.146 3663.8031,-794.0261 3634.3207,-778.9685\"/>\n",
       "<polygon fill=\"#000000\" stroke=\"#000000\" points=\"3635.8083,-775.7983 3625.3106,-774.3668 3632.6244,-782.0323 3635.8083,-775.7983\"/>\n",
       "</g>\n",
       "<!-- 104 -->\n",
       "<g id=\"node105\" class=\"node\">\n",
       "<title>104</title>\n",
       "<path fill=\"#ea995f\" stroke=\"#000000\" d=\"M3842.5,-782C3842.5,-782 3741.5,-782 3741.5,-782 3735.5,-782 3729.5,-776 3729.5,-770 3729.5,-770 3729.5,-711 3729.5,-711 3729.5,-705 3735.5,-699 3741.5,-699 3741.5,-699 3842.5,-699 3842.5,-699 3848.5,-699 3854.5,-705 3854.5,-711 3854.5,-711 3854.5,-770 3854.5,-770 3854.5,-776 3848.5,-782 3842.5,-782\"/>\n",
       "<text text-anchor=\"start\" x=\"3740.5\" y=\"-766.8\" font-family=\"Helvetica,sans-Serif\" font-size=\"14.00\" fill=\"#000000\">org_id_370 ≤ 0.5</text>\n",
       "<text text-anchor=\"start\" x=\"3744.5\" y=\"-751.8\" font-family=\"Helvetica,sans-Serif\" font-size=\"14.00\" fill=\"#000000\">entropy = 0.638</text>\n",
       "<text text-anchor=\"start\" x=\"3743.5\" y=\"-736.8\" font-family=\"Helvetica,sans-Serif\" font-size=\"14.00\" fill=\"#000000\">samples = 1103</text>\n",
       "<text text-anchor=\"start\" x=\"3737.5\" y=\"-721.8\" font-family=\"Helvetica,sans-Serif\" font-size=\"14.00\" fill=\"#000000\">value = [925, 178]</text>\n",
       "<text text-anchor=\"start\" x=\"3759\" y=\"-706.8\" font-family=\"Helvetica,sans-Serif\" font-size=\"14.00\" fill=\"#000000\">class = not</text>\n",
       "</g>\n",
       "<!-- 82&#45;&gt;104 -->\n",
       "<g id=\"edge104\" class=\"edge\">\n",
       "<title>82&#45;&gt;104</title>\n",
       "<path fill=\"none\" stroke=\"#000000\" d=\"M3792,-817.8796C3792,-809.6838 3792,-800.9891 3792,-792.5013\"/>\n",
       "<polygon fill=\"#000000\" stroke=\"#000000\" points=\"3795.5001,-792.298 3792,-782.2981 3788.5001,-792.2981 3795.5001,-792.298\"/>\n",
       "</g>\n",
       "<!-- 84 -->\n",
       "<g id=\"node85\" class=\"node\">\n",
       "<title>84</title>\n",
       "<path fill=\"#eca36e\" stroke=\"#000000\" d=\"M3458,-663C3458,-663 3350,-663 3350,-663 3344,-663 3338,-657 3338,-651 3338,-651 3338,-592 3338,-592 3338,-586 3344,-580 3350,-580 3350,-580 3458,-580 3458,-580 3464,-580 3470,-586 3470,-592 3470,-592 3470,-651 3470,-651 3470,-657 3464,-663 3458,-663\"/>\n",
       "<text text-anchor=\"start\" x=\"3360\" y=\"-647.8\" font-family=\"Helvetica,sans-Serif\" font-size=\"14.00\" fill=\"#000000\">org_id_1 ≤ 0.5</text>\n",
       "<text text-anchor=\"start\" x=\"3356.5\" y=\"-632.8\" font-family=\"Helvetica,sans-Serif\" font-size=\"14.00\" fill=\"#000000\">entropy = 0.744</text>\n",
       "<text text-anchor=\"start\" x=\"3355.5\" y=\"-617.8\" font-family=\"Helvetica,sans-Serif\" font-size=\"14.00\" fill=\"#000000\">samples = 1842</text>\n",
       "<text text-anchor=\"start\" x=\"3346\" y=\"-602.8\" font-family=\"Helvetica,sans-Serif\" font-size=\"14.00\" fill=\"#000000\">value = [1453, 389]</text>\n",
       "<text text-anchor=\"start\" x=\"3371\" y=\"-587.8\" font-family=\"Helvetica,sans-Serif\" font-size=\"14.00\" fill=\"#000000\">class = not</text>\n",
       "</g>\n",
       "<!-- 83&#45;&gt;84 -->\n",
       "<g id=\"edge84\" class=\"edge\">\n",
       "<title>83&#45;&gt;84</title>\n",
       "<path fill=\"none\" stroke=\"#000000\" d=\"M3504.7885,-698.8796C3492.3994,-689.368 3479.1351,-679.1843 3466.4324,-669.432\"/>\n",
       "<polygon fill=\"#000000\" stroke=\"#000000\" points=\"3468.2442,-666.4105 3458.1809,-663.0969 3463.9814,-671.9628 3468.2442,-666.4105\"/>\n",
       "</g>\n",
       "<!-- 103 -->\n",
       "<g id=\"node104\" class=\"node\">\n",
       "<title>103</title>\n",
       "<path fill=\"#399de5\" stroke=\"#000000\" d=\"M3603,-655.5C3603,-655.5 3515,-655.5 3515,-655.5 3509,-655.5 3503,-649.5 3503,-643.5 3503,-643.5 3503,-599.5 3503,-599.5 3503,-593.5 3509,-587.5 3515,-587.5 3515,-587.5 3603,-587.5 3603,-587.5 3609,-587.5 3615,-593.5 3615,-599.5 3615,-599.5 3615,-643.5 3615,-643.5 3615,-649.5 3609,-655.5 3603,-655.5\"/>\n",
       "<text text-anchor=\"start\" x=\"3519\" y=\"-640.3\" font-family=\"Helvetica,sans-Serif\" font-size=\"14.00\" fill=\"#000000\">entropy = 0.0</text>\n",
       "<text text-anchor=\"start\" x=\"3521.5\" y=\"-625.3\" font-family=\"Helvetica,sans-Serif\" font-size=\"14.00\" fill=\"#000000\">samples = 3</text>\n",
       "<text text-anchor=\"start\" x=\"3519.5\" y=\"-610.3\" font-family=\"Helvetica,sans-Serif\" font-size=\"14.00\" fill=\"#000000\">value = [0, 3]</text>\n",
       "<text text-anchor=\"start\" x=\"3511\" y=\"-595.3\" font-family=\"Helvetica,sans-Serif\" font-size=\"14.00\" fill=\"#000000\">class = adopted</text>\n",
       "</g>\n",
       "<!-- 83&#45;&gt;103 -->\n",
       "<g id=\"edge103\" class=\"edge\">\n",
       "<title>83&#45;&gt;103</title>\n",
       "<path fill=\"none\" stroke=\"#000000\" d=\"M3559,-698.8796C3559,-688.2134 3559,-676.7021 3559,-665.9015\"/>\n",
       "<polygon fill=\"#000000\" stroke=\"#000000\" points=\"3562.5001,-665.8149 3559,-655.8149 3555.5001,-665.815 3562.5001,-665.8149\"/>\n",
       "</g>\n",
       "<!-- 85 -->\n",
       "<g id=\"node86\" class=\"node\">\n",
       "<title>85</title>\n",
       "<path fill=\"#eca36f\" stroke=\"#000000\" d=\"M3247,-544C3247,-544 3139,-544 3139,-544 3133,-544 3127,-538 3127,-532 3127,-532 3127,-473 3127,-473 3127,-467 3133,-461 3139,-461 3139,-461 3247,-461 3247,-461 3253,-461 3259,-467 3259,-473 3259,-473 3259,-532 3259,-532 3259,-538 3253,-544 3247,-544\"/>\n",
       "<text text-anchor=\"start\" x=\"3145.5\" y=\"-528.8\" font-family=\"Helvetica,sans-Serif\" font-size=\"14.00\" fill=\"#000000\">org_id_14 ≤ 0.5</text>\n",
       "<text text-anchor=\"start\" x=\"3149\" y=\"-513.8\" font-family=\"Helvetica,sans-Serif\" font-size=\"14.00\" fill=\"#000000\">entropy = 0.75</text>\n",
       "<text text-anchor=\"start\" x=\"3144.5\" y=\"-498.8\" font-family=\"Helvetica,sans-Serif\" font-size=\"14.00\" fill=\"#000000\">samples = 1805</text>\n",
       "<text text-anchor=\"start\" x=\"3135\" y=\"-483.8\" font-family=\"Helvetica,sans-Serif\" font-size=\"14.00\" fill=\"#000000\">value = [1418, 387]</text>\n",
       "<text text-anchor=\"start\" x=\"3160\" y=\"-468.8\" font-family=\"Helvetica,sans-Serif\" font-size=\"14.00\" fill=\"#000000\">class = not</text>\n",
       "</g>\n",
       "<!-- 84&#45;&gt;85 -->\n",
       "<g id=\"edge85\" class=\"edge\">\n",
       "<title>84&#45;&gt;85</title>\n",
       "<path fill=\"none\" stroke=\"#000000\" d=\"M3337.8172,-584.1742C3315.7313,-571.7181 3290.9628,-557.7492 3268.2401,-544.934\"/>\n",
       "<polygon fill=\"#000000\" stroke=\"#000000\" points=\"3269.7401,-541.7617 3259.3105,-539.8978 3266.3014,-547.8589 3269.7401,-541.7617\"/>\n",
       "</g>\n",
       "<!-- 94 -->\n",
       "<g id=\"node95\" class=\"node\">\n",
       "<title>94</title>\n",
       "<path fill=\"#e68844\" stroke=\"#000000\" d=\"M3511,-544C3511,-544 3297,-544 3297,-544 3291,-544 3285,-538 3285,-532 3285,-532 3285,-473 3285,-473 3285,-467 3291,-461 3297,-461 3297,-461 3511,-461 3511,-461 3517,-461 3523,-467 3523,-473 3523,-473 3523,-532 3523,-532 3523,-538 3517,-544 3511,-544\"/>\n",
       "<text text-anchor=\"start\" x=\"3293\" y=\"-528.8\" font-family=\"Helvetica,sans-Serif\" font-size=\"14.00\" fill=\"#000000\">cs_SIGNUP_GOOGLE_AUTH ≤ 0.5</text>\n",
       "<text text-anchor=\"start\" x=\"3356.5\" y=\"-513.8\" font-family=\"Helvetica,sans-Serif\" font-size=\"14.00\" fill=\"#000000\">entropy = 0.303</text>\n",
       "<text text-anchor=\"start\" x=\"3363\" y=\"-498.8\" font-family=\"Helvetica,sans-Serif\" font-size=\"14.00\" fill=\"#000000\">samples = 37</text>\n",
       "<text text-anchor=\"start\" x=\"3361\" y=\"-483.8\" font-family=\"Helvetica,sans-Serif\" font-size=\"14.00\" fill=\"#000000\">value = [35, 2]</text>\n",
       "<text text-anchor=\"start\" x=\"3371\" y=\"-468.8\" font-family=\"Helvetica,sans-Serif\" font-size=\"14.00\" fill=\"#000000\">class = not</text>\n",
       "</g>\n",
       "<!-- 84&#45;&gt;94 -->\n",
       "<g id=\"edge94\" class=\"edge\">\n",
       "<title>84&#45;&gt;94</title>\n",
       "<path fill=\"none\" stroke=\"#000000\" d=\"M3404,-579.8796C3404,-571.6838 3404,-562.9891 3404,-554.5013\"/>\n",
       "<polygon fill=\"#000000\" stroke=\"#000000\" points=\"3407.5001,-554.298 3404,-544.2981 3400.5001,-554.2981 3407.5001,-554.298\"/>\n",
       "</g>\n",
       "<!-- 86 -->\n",
       "<g id=\"node87\" class=\"node\">\n",
       "<title>86</title>\n",
       "<path fill=\"#eca470\" stroke=\"#000000\" d=\"M3112,-425C3112,-425 3004,-425 3004,-425 2998,-425 2992,-419 2992,-413 2992,-413 2992,-354 2992,-354 2992,-348 2998,-342 3004,-342 3004,-342 3112,-342 3112,-342 3118,-342 3124,-348 3124,-354 3124,-354 3124,-413 3124,-413 3124,-419 3118,-425 3112,-425\"/>\n",
       "<text text-anchor=\"start\" x=\"3006.5\" y=\"-409.8\" font-family=\"Helvetica,sans-Serif\" font-size=\"14.00\" fill=\"#000000\">org_id_358 ≤ 0.5</text>\n",
       "<text text-anchor=\"start\" x=\"3010.5\" y=\"-394.8\" font-family=\"Helvetica,sans-Serif\" font-size=\"14.00\" fill=\"#000000\">entropy = 0.753</text>\n",
       "<text text-anchor=\"start\" x=\"3009.5\" y=\"-379.8\" font-family=\"Helvetica,sans-Serif\" font-size=\"14.00\" fill=\"#000000\">samples = 1791</text>\n",
       "<text text-anchor=\"start\" x=\"3000\" y=\"-364.8\" font-family=\"Helvetica,sans-Serif\" font-size=\"14.00\" fill=\"#000000\">value = [1404, 387]</text>\n",
       "<text text-anchor=\"start\" x=\"3025\" y=\"-349.8\" font-family=\"Helvetica,sans-Serif\" font-size=\"14.00\" fill=\"#000000\">class = not</text>\n",
       "</g>\n",
       "<!-- 85&#45;&gt;86 -->\n",
       "<g id=\"edge86\" class=\"edge\">\n",
       "<title>85&#45;&gt;86</title>\n",
       "<path fill=\"none\" stroke=\"#000000\" d=\"M3145.7836,-460.8796C3135.2598,-451.6031 3124.0109,-441.6874 3113.1979,-432.1559\"/>\n",
       "<polygon fill=\"#000000\" stroke=\"#000000\" points=\"3115.234,-429.2851 3105.418,-425.2981 3110.6052,-434.5362 3115.234,-429.2851\"/>\n",
       "</g>\n",
       "<!-- 93 -->\n",
       "<g id=\"node94\" class=\"node\">\n",
       "<title>93</title>\n",
       "<path fill=\"#e58139\" stroke=\"#000000\" d=\"M3232,-417.5C3232,-417.5 3154,-417.5 3154,-417.5 3148,-417.5 3142,-411.5 3142,-405.5 3142,-405.5 3142,-361.5 3142,-361.5 3142,-355.5 3148,-349.5 3154,-349.5 3154,-349.5 3232,-349.5 3232,-349.5 3238,-349.5 3244,-355.5 3244,-361.5 3244,-361.5 3244,-405.5 3244,-405.5 3244,-411.5 3238,-417.5 3232,-417.5\"/>\n",
       "<text text-anchor=\"start\" x=\"3153\" y=\"-402.3\" font-family=\"Helvetica,sans-Serif\" font-size=\"14.00\" fill=\"#000000\">entropy = 0.0</text>\n",
       "<text text-anchor=\"start\" x=\"3152\" y=\"-387.3\" font-family=\"Helvetica,sans-Serif\" font-size=\"14.00\" fill=\"#000000\">samples = 14</text>\n",
       "<text text-anchor=\"start\" x=\"3150\" y=\"-372.3\" font-family=\"Helvetica,sans-Serif\" font-size=\"14.00\" fill=\"#000000\">value = [14, 0]</text>\n",
       "<text text-anchor=\"start\" x=\"3160\" y=\"-357.3\" font-family=\"Helvetica,sans-Serif\" font-size=\"14.00\" fill=\"#000000\">class = not</text>\n",
       "</g>\n",
       "<!-- 85&#45;&gt;93 -->\n",
       "<g id=\"edge93\" class=\"edge\">\n",
       "<title>85&#45;&gt;93</title>\n",
       "<path fill=\"none\" stroke=\"#000000\" d=\"M3193,-460.8796C3193,-450.2134 3193,-438.7021 3193,-427.9015\"/>\n",
       "<polygon fill=\"#000000\" stroke=\"#000000\" points=\"3196.5001,-427.8149 3193,-417.8149 3189.5001,-427.815 3196.5001,-427.8149\"/>\n",
       "</g>\n",
       "<!-- 87 -->\n",
       "<g id=\"node88\" class=\"node\">\n",
       "<title>87</title>\n",
       "<path fill=\"#eca46f\" stroke=\"#000000\" d=\"M3068,-306C3068,-306 2960,-306 2960,-306 2954,-306 2948,-300 2948,-294 2948,-294 2948,-235 2948,-235 2948,-229 2954,-223 2960,-223 2960,-223 3068,-223 3068,-223 3074,-223 3080,-229 3080,-235 3080,-235 3080,-294 3080,-294 3080,-300 3074,-306 3068,-306\"/>\n",
       "<text text-anchor=\"start\" x=\"2962.5\" y=\"-290.8\" font-family=\"Helvetica,sans-Serif\" font-size=\"14.00\" fill=\"#000000\">org_id_222 ≤ 0.5</text>\n",
       "<text text-anchor=\"start\" x=\"2966.5\" y=\"-275.8\" font-family=\"Helvetica,sans-Serif\" font-size=\"14.00\" fill=\"#000000\">entropy = 0.751</text>\n",
       "<text text-anchor=\"start\" x=\"2965.5\" y=\"-260.8\" font-family=\"Helvetica,sans-Serif\" font-size=\"14.00\" fill=\"#000000\">samples = 1789</text>\n",
       "<text text-anchor=\"start\" x=\"2956\" y=\"-245.8\" font-family=\"Helvetica,sans-Serif\" font-size=\"14.00\" fill=\"#000000\">value = [1404, 385]</text>\n",
       "<text text-anchor=\"start\" x=\"2981\" y=\"-230.8\" font-family=\"Helvetica,sans-Serif\" font-size=\"14.00\" fill=\"#000000\">class = not</text>\n",
       "</g>\n",
       "<!-- 86&#45;&gt;87 -->\n",
       "<g id=\"edge87\" class=\"edge\">\n",
       "<title>86&#45;&gt;87</title>\n",
       "<path fill=\"none\" stroke=\"#000000\" d=\"M3042.6109,-341.8796C3039.514,-333.5037 3036.2243,-324.6067 3033.0206,-315.942\"/>\n",
       "<polygon fill=\"#000000\" stroke=\"#000000\" points=\"3036.2056,-314.4636 3029.4547,-306.2981 3029.64,-316.8913 3036.2056,-314.4636\"/>\n",
       "</g>\n",
       "<!-- 92 -->\n",
       "<g id=\"node93\" class=\"node\">\n",
       "<title>92</title>\n",
       "<path fill=\"#399de5\" stroke=\"#000000\" d=\"M3198,-298.5C3198,-298.5 3110,-298.5 3110,-298.5 3104,-298.5 3098,-292.5 3098,-286.5 3098,-286.5 3098,-242.5 3098,-242.5 3098,-236.5 3104,-230.5 3110,-230.5 3110,-230.5 3198,-230.5 3198,-230.5 3204,-230.5 3210,-236.5 3210,-242.5 3210,-242.5 3210,-286.5 3210,-286.5 3210,-292.5 3204,-298.5 3198,-298.5\"/>\n",
       "<text text-anchor=\"start\" x=\"3114\" y=\"-283.3\" font-family=\"Helvetica,sans-Serif\" font-size=\"14.00\" fill=\"#000000\">entropy = 0.0</text>\n",
       "<text text-anchor=\"start\" x=\"3116.5\" y=\"-268.3\" font-family=\"Helvetica,sans-Serif\" font-size=\"14.00\" fill=\"#000000\">samples = 2</text>\n",
       "<text text-anchor=\"start\" x=\"3114.5\" y=\"-253.3\" font-family=\"Helvetica,sans-Serif\" font-size=\"14.00\" fill=\"#000000\">value = [0, 2]</text>\n",
       "<text text-anchor=\"start\" x=\"3106\" y=\"-238.3\" font-family=\"Helvetica,sans-Serif\" font-size=\"14.00\" fill=\"#000000\">class = adopted</text>\n",
       "</g>\n",
       "<!-- 86&#45;&gt;92 -->\n",
       "<g id=\"edge92\" class=\"edge\">\n",
       "<title>86&#45;&gt;92</title>\n",
       "<path fill=\"none\" stroke=\"#000000\" d=\"M3091.5761,-341.8796C3100.7131,-330.5536 3110.6187,-318.2748 3119.7902,-306.9058\"/>\n",
       "<polygon fill=\"#000000\" stroke=\"#000000\" points=\"3122.7626,-308.7957 3126.3174,-298.8149 3117.3144,-304.4005 3122.7626,-308.7957\"/>\n",
       "</g>\n",
       "<!-- 88 -->\n",
       "<g id=\"node89\" class=\"node\">\n",
       "<title>88</title>\n",
       "<path fill=\"#eca36f\" stroke=\"#000000\" d=\"M3022,-187C3022,-187 2914,-187 2914,-187 2908,-187 2902,-181 2902,-175 2902,-175 2902,-116 2902,-116 2902,-110 2908,-104 2914,-104 2914,-104 3022,-104 3022,-104 3028,-104 3034,-110 3034,-116 3034,-116 3034,-175 3034,-175 3034,-181 3028,-187 3022,-187\"/>\n",
       "<text text-anchor=\"start\" x=\"2916.5\" y=\"-171.8\" font-family=\"Helvetica,sans-Serif\" font-size=\"14.00\" fill=\"#000000\">org_id_388 ≤ 0.5</text>\n",
       "<text text-anchor=\"start\" x=\"2924\" y=\"-156.8\" font-family=\"Helvetica,sans-Serif\" font-size=\"14.00\" fill=\"#000000\">entropy = 0.75</text>\n",
       "<text text-anchor=\"start\" x=\"2919.5\" y=\"-141.8\" font-family=\"Helvetica,sans-Serif\" font-size=\"14.00\" fill=\"#000000\">samples = 1787</text>\n",
       "<text text-anchor=\"start\" x=\"2910\" y=\"-126.8\" font-family=\"Helvetica,sans-Serif\" font-size=\"14.00\" fill=\"#000000\">value = [1404, 383]</text>\n",
       "<text text-anchor=\"start\" x=\"2935\" y=\"-111.8\" font-family=\"Helvetica,sans-Serif\" font-size=\"14.00\" fill=\"#000000\">class = not</text>\n",
       "</g>\n",
       "<!-- 87&#45;&gt;88 -->\n",
       "<g id=\"edge88\" class=\"edge\">\n",
       "<title>87&#45;&gt;88</title>\n",
       "<path fill=\"none\" stroke=\"#000000\" d=\"M2997.9114,-222.8796C2994.6389,-214.4136 2991.1605,-205.4153 2987.7771,-196.6626\"/>\n",
       "<polygon fill=\"#000000\" stroke=\"#000000\" points=\"2991.0274,-195.3635 2984.1572,-187.2981 2984.4983,-197.8874 2991.0274,-195.3635\"/>\n",
       "</g>\n",
       "<!-- 91 -->\n",
       "<g id=\"node92\" class=\"node\">\n",
       "<title>91</title>\n",
       "<path fill=\"#399de5\" stroke=\"#000000\" d=\"M3152,-179.5C3152,-179.5 3064,-179.5 3064,-179.5 3058,-179.5 3052,-173.5 3052,-167.5 3052,-167.5 3052,-123.5 3052,-123.5 3052,-117.5 3058,-111.5 3064,-111.5 3064,-111.5 3152,-111.5 3152,-111.5 3158,-111.5 3164,-117.5 3164,-123.5 3164,-123.5 3164,-167.5 3164,-167.5 3164,-173.5 3158,-179.5 3152,-179.5\"/>\n",
       "<text text-anchor=\"start\" x=\"3068\" y=\"-164.3\" font-family=\"Helvetica,sans-Serif\" font-size=\"14.00\" fill=\"#000000\">entropy = 0.0</text>\n",
       "<text text-anchor=\"start\" x=\"3070.5\" y=\"-149.3\" font-family=\"Helvetica,sans-Serif\" font-size=\"14.00\" fill=\"#000000\">samples = 2</text>\n",
       "<text text-anchor=\"start\" x=\"3068.5\" y=\"-134.3\" font-family=\"Helvetica,sans-Serif\" font-size=\"14.00\" fill=\"#000000\">value = [0, 2]</text>\n",
       "<text text-anchor=\"start\" x=\"3060\" y=\"-119.3\" font-family=\"Helvetica,sans-Serif\" font-size=\"14.00\" fill=\"#000000\">class = adopted</text>\n",
       "</g>\n",
       "<!-- 87&#45;&gt;91 -->\n",
       "<g id=\"edge91\" class=\"edge\">\n",
       "<title>87&#45;&gt;91</title>\n",
       "<path fill=\"none\" stroke=\"#000000\" d=\"M3046.8766,-222.8796C3055.8232,-211.5536 3065.5224,-199.2748 3074.5029,-187.9058\"/>\n",
       "<polygon fill=\"#000000\" stroke=\"#000000\" points=\"3077.442,-189.8316 3080.8941,-179.8149 3071.949,-185.4926 3077.442,-189.8316\"/>\n",
       "</g>\n",
       "<!-- 89 -->\n",
       "<g id=\"node90\" class=\"node\">\n",
       "<title>89</title>\n",
       "<path fill=\"#eca36f\" stroke=\"#000000\" d=\"M3000,-68C3000,-68 2892,-68 2892,-68 2886,-68 2880,-62 2880,-56 2880,-56 2880,-12 2880,-12 2880,-6 2886,0 2892,0 2892,0 3000,0 3000,0 3006,0 3012,-6 3012,-12 3012,-12 3012,-56 3012,-56 3012,-62 3006,-68 3000,-68\"/>\n",
       "<text text-anchor=\"start\" x=\"2898.5\" y=\"-52.8\" font-family=\"Helvetica,sans-Serif\" font-size=\"14.00\" fill=\"#000000\">entropy = 0.748</text>\n",
       "<text text-anchor=\"start\" x=\"2897.5\" y=\"-37.8\" font-family=\"Helvetica,sans-Serif\" font-size=\"14.00\" fill=\"#000000\">samples = 1785</text>\n",
       "<text text-anchor=\"start\" x=\"2888\" y=\"-22.8\" font-family=\"Helvetica,sans-Serif\" font-size=\"14.00\" fill=\"#000000\">value = [1404, 381]</text>\n",
       "<text text-anchor=\"start\" x=\"2913\" y=\"-7.8\" font-family=\"Helvetica,sans-Serif\" font-size=\"14.00\" fill=\"#000000\">class = not</text>\n",
       "</g>\n",
       "<!-- 88&#45;&gt;89 -->\n",
       "<g id=\"edge89\" class=\"edge\">\n",
       "<title>88&#45;&gt;89</title>\n",
       "<path fill=\"none\" stroke=\"#000000\" d=\"M2959.808,-103.9815C2958.1578,-95.618 2956.4173,-86.7965 2954.7489,-78.3409\"/>\n",
       "<polygon fill=\"#000000\" stroke=\"#000000\" points=\"2958.1302,-77.397 2952.7605,-68.2637 2951.2626,-78.7521 2958.1302,-77.397\"/>\n",
       "</g>\n",
       "<!-- 90 -->\n",
       "<g id=\"node91\" class=\"node\">\n",
       "<title>90</title>\n",
       "<path fill=\"#399de5\" stroke=\"#000000\" d=\"M3130,-68C3130,-68 3042,-68 3042,-68 3036,-68 3030,-62 3030,-56 3030,-56 3030,-12 3030,-12 3030,-6 3036,0 3042,0 3042,0 3130,0 3130,0 3136,0 3142,-6 3142,-12 3142,-12 3142,-56 3142,-56 3142,-62 3136,-68 3130,-68\"/>\n",
       "<text text-anchor=\"start\" x=\"3046\" y=\"-52.8\" font-family=\"Helvetica,sans-Serif\" font-size=\"14.00\" fill=\"#000000\">entropy = 0.0</text>\n",
       "<text text-anchor=\"start\" x=\"3048.5\" y=\"-37.8\" font-family=\"Helvetica,sans-Serif\" font-size=\"14.00\" fill=\"#000000\">samples = 2</text>\n",
       "<text text-anchor=\"start\" x=\"3046.5\" y=\"-22.8\" font-family=\"Helvetica,sans-Serif\" font-size=\"14.00\" fill=\"#000000\">value = [0, 2]</text>\n",
       "<text text-anchor=\"start\" x=\"3038\" y=\"-7.8\" font-family=\"Helvetica,sans-Serif\" font-size=\"14.00\" fill=\"#000000\">class = adopted</text>\n",
       "</g>\n",
       "<!-- 88&#45;&gt;90 -->\n",
       "<g id=\"edge90\" class=\"edge\">\n",
       "<title>88&#45;&gt;90</title>\n",
       "<path fill=\"none\" stroke=\"#000000\" d=\"M3011.9388,-103.9815C3021.8598,-94.607 3032.3897,-84.6572 3042.3008,-75.2921\"/>\n",
       "<polygon fill=\"#000000\" stroke=\"#000000\" points=\"3044.8743,-77.6757 3049.7389,-68.2637 3040.0666,-72.5878 3044.8743,-77.6757\"/>\n",
       "</g>\n",
       "<!-- 95 -->\n",
       "<g id=\"node96\" class=\"node\">\n",
       "<title>95</title>\n",
       "<path fill=\"#e58139\" stroke=\"#000000\" d=\"M3352,-417.5C3352,-417.5 3274,-417.5 3274,-417.5 3268,-417.5 3262,-411.5 3262,-405.5 3262,-405.5 3262,-361.5 3262,-361.5 3262,-355.5 3268,-349.5 3274,-349.5 3274,-349.5 3352,-349.5 3352,-349.5 3358,-349.5 3364,-355.5 3364,-361.5 3364,-361.5 3364,-405.5 3364,-405.5 3364,-411.5 3358,-417.5 3352,-417.5\"/>\n",
       "<text text-anchor=\"start\" x=\"3273\" y=\"-402.3\" font-family=\"Helvetica,sans-Serif\" font-size=\"14.00\" fill=\"#000000\">entropy = 0.0</text>\n",
       "<text text-anchor=\"start\" x=\"3272\" y=\"-387.3\" font-family=\"Helvetica,sans-Serif\" font-size=\"14.00\" fill=\"#000000\">samples = 18</text>\n",
       "<text text-anchor=\"start\" x=\"3270\" y=\"-372.3\" font-family=\"Helvetica,sans-Serif\" font-size=\"14.00\" fill=\"#000000\">value = [18, 0]</text>\n",
       "<text text-anchor=\"start\" x=\"3280\" y=\"-357.3\" font-family=\"Helvetica,sans-Serif\" font-size=\"14.00\" fill=\"#000000\">class = not</text>\n",
       "</g>\n",
       "<!-- 94&#45;&gt;95 -->\n",
       "<g id=\"edge95\" class=\"edge\">\n",
       "<title>94&#45;&gt;95</title>\n",
       "<path fill=\"none\" stroke=\"#000000\" d=\"M3372.1726,-460.8796C3363.5116,-449.5536 3354.1219,-437.2748 3345.428,-425.9058\"/>\n",
       "<polygon fill=\"#000000\" stroke=\"#000000\" points=\"3348.0956,-423.6324 3339.2408,-417.8149 3342.5351,-427.8846 3348.0956,-423.6324\"/>\n",
       "</g>\n",
       "<!-- 96 -->\n",
       "<g id=\"node97\" class=\"node\">\n",
       "<title>96</title>\n",
       "<path fill=\"#e89050\" stroke=\"#000000\" d=\"M3515.5,-425C3515.5,-425 3394.5,-425 3394.5,-425 3388.5,-425 3382.5,-419 3382.5,-413 3382.5,-413 3382.5,-354 3382.5,-354 3382.5,-348 3388.5,-342 3394.5,-342 3394.5,-342 3515.5,-342 3515.5,-342 3521.5,-342 3527.5,-348 3527.5,-354 3527.5,-354 3527.5,-413 3527.5,-413 3527.5,-419 3521.5,-425 3515.5,-425\"/>\n",
       "<text text-anchor=\"start\" x=\"3390.5\" y=\"-409.8\" font-family=\"Helvetica,sans-Serif\" font-size=\"14.00\" fill=\"#000000\">creation_month ≤ 6.5</text>\n",
       "<text text-anchor=\"start\" x=\"3407.5\" y=\"-394.8\" font-family=\"Helvetica,sans-Serif\" font-size=\"14.00\" fill=\"#000000\">entropy = 0.485</text>\n",
       "<text text-anchor=\"start\" x=\"3414\" y=\"-379.8\" font-family=\"Helvetica,sans-Serif\" font-size=\"14.00\" fill=\"#000000\">samples = 19</text>\n",
       "<text text-anchor=\"start\" x=\"3412\" y=\"-364.8\" font-family=\"Helvetica,sans-Serif\" font-size=\"14.00\" fill=\"#000000\">value = [17, 2]</text>\n",
       "<text text-anchor=\"start\" x=\"3422\" y=\"-349.8\" font-family=\"Helvetica,sans-Serif\" font-size=\"14.00\" fill=\"#000000\">class = not</text>\n",
       "</g>\n",
       "<!-- 94&#45;&gt;96 -->\n",
       "<g id=\"edge96\" class=\"edge\">\n",
       "<title>94&#45;&gt;96</title>\n",
       "<path fill=\"none\" stroke=\"#000000\" d=\"M3421.8373,-460.8796C3425.4656,-452.4136 3429.322,-443.4153 3433.0732,-434.6626\"/>\n",
       "<polygon fill=\"#000000\" stroke=\"#000000\" points=\"3436.3643,-435.8683 3437.0865,-425.2981 3429.9303,-433.1108 3436.3643,-435.8683\"/>\n",
       "</g>\n",
       "<!-- 97 -->\n",
       "<g id=\"node98\" class=\"node\">\n",
       "<title>97</title>\n",
       "<path fill=\"#ffffff\" stroke=\"#000000\" d=\"M3351,-298.5C3351,-298.5 3279,-298.5 3279,-298.5 3273,-298.5 3267,-292.5 3267,-286.5 3267,-286.5 3267,-242.5 3267,-242.5 3267,-236.5 3273,-230.5 3279,-230.5 3279,-230.5 3351,-230.5 3351,-230.5 3357,-230.5 3363,-236.5 3363,-242.5 3363,-242.5 3363,-286.5 3363,-286.5 3363,-292.5 3357,-298.5 3351,-298.5\"/>\n",
       "<text text-anchor=\"start\" x=\"3275\" y=\"-283.3\" font-family=\"Helvetica,sans-Serif\" font-size=\"14.00\" fill=\"#000000\">entropy = 1.0</text>\n",
       "<text text-anchor=\"start\" x=\"3277.5\" y=\"-268.3\" font-family=\"Helvetica,sans-Serif\" font-size=\"14.00\" fill=\"#000000\">samples = 2</text>\n",
       "<text text-anchor=\"start\" x=\"3275.5\" y=\"-253.3\" font-family=\"Helvetica,sans-Serif\" font-size=\"14.00\" fill=\"#000000\">value = [1, 1]</text>\n",
       "<text text-anchor=\"start\" x=\"3282\" y=\"-238.3\" font-family=\"Helvetica,sans-Serif\" font-size=\"14.00\" fill=\"#000000\">class = not</text>\n",
       "</g>\n",
       "<!-- 96&#45;&gt;97 -->\n",
       "<g id=\"edge97\" class=\"edge\">\n",
       "<title>96&#45;&gt;97</title>\n",
       "<path fill=\"none\" stroke=\"#000000\" d=\"M3406.0348,-341.8796C3392.1927,-330.1138 3377.1408,-317.3197 3363.3359,-305.5855\"/>\n",
       "<polygon fill=\"#000000\" stroke=\"#000000\" points=\"3365.2567,-302.6247 3355.3705,-298.8149 3360.7231,-307.9582 3365.2567,-302.6247\"/>\n",
       "</g>\n",
       "<!-- 98 -->\n",
       "<g id=\"node99\" class=\"node\">\n",
       "<title>98</title>\n",
       "<path fill=\"#e78945\" stroke=\"#000000\" d=\"M3514.5,-306C3514.5,-306 3393.5,-306 3393.5,-306 3387.5,-306 3381.5,-300 3381.5,-294 3381.5,-294 3381.5,-235 3381.5,-235 3381.5,-229 3387.5,-223 3393.5,-223 3393.5,-223 3514.5,-223 3514.5,-223 3520.5,-223 3526.5,-229 3526.5,-235 3526.5,-235 3526.5,-294 3526.5,-294 3526.5,-300 3520.5,-306 3514.5,-306\"/>\n",
       "<text text-anchor=\"start\" x=\"3389.5\" y=\"-290.8\" font-family=\"Helvetica,sans-Serif\" font-size=\"14.00\" fill=\"#000000\">creation_month ≤ 8.5</text>\n",
       "<text text-anchor=\"start\" x=\"3406.5\" y=\"-275.8\" font-family=\"Helvetica,sans-Serif\" font-size=\"14.00\" fill=\"#000000\">entropy = 0.323</text>\n",
       "<text text-anchor=\"start\" x=\"3413\" y=\"-260.8\" font-family=\"Helvetica,sans-Serif\" font-size=\"14.00\" fill=\"#000000\">samples = 17</text>\n",
       "<text text-anchor=\"start\" x=\"3411\" y=\"-245.8\" font-family=\"Helvetica,sans-Serif\" font-size=\"14.00\" fill=\"#000000\">value = [16, 1]</text>\n",
       "<text text-anchor=\"start\" x=\"3421\" y=\"-230.8\" font-family=\"Helvetica,sans-Serif\" font-size=\"14.00\" fill=\"#000000\">class = not</text>\n",
       "</g>\n",
       "<!-- 96&#45;&gt;98 -->\n",
       "<g id=\"edge98\" class=\"edge\">\n",
       "<title>96&#45;&gt;98</title>\n",
       "<path fill=\"none\" stroke=\"#000000\" d=\"M3454.6502,-341.8796C3454.5814,-333.6838 3454.5083,-324.9891 3454.437,-316.5013\"/>\n",
       "<polygon fill=\"#000000\" stroke=\"#000000\" points=\"3457.9352,-316.2683 3454.3512,-306.2981 3450.9355,-316.3272 3457.9352,-316.2683\"/>\n",
       "</g>\n",
       "<!-- 99 -->\n",
       "<g id=\"node100\" class=\"node\">\n",
       "<title>99</title>\n",
       "<path fill=\"#e58139\" stroke=\"#000000\" d=\"M3294,-179.5C3294,-179.5 3216,-179.5 3216,-179.5 3210,-179.5 3204,-173.5 3204,-167.5 3204,-167.5 3204,-123.5 3204,-123.5 3204,-117.5 3210,-111.5 3216,-111.5 3216,-111.5 3294,-111.5 3294,-111.5 3300,-111.5 3306,-117.5 3306,-123.5 3306,-123.5 3306,-167.5 3306,-167.5 3306,-173.5 3300,-179.5 3294,-179.5\"/>\n",
       "<text text-anchor=\"start\" x=\"3215\" y=\"-164.3\" font-family=\"Helvetica,sans-Serif\" font-size=\"14.00\" fill=\"#000000\">entropy = 0.0</text>\n",
       "<text text-anchor=\"start\" x=\"3214\" y=\"-149.3\" font-family=\"Helvetica,sans-Serif\" font-size=\"14.00\" fill=\"#000000\">samples = 13</text>\n",
       "<text text-anchor=\"start\" x=\"3212\" y=\"-134.3\" font-family=\"Helvetica,sans-Serif\" font-size=\"14.00\" fill=\"#000000\">value = [13, 0]</text>\n",
       "<text text-anchor=\"start\" x=\"3222\" y=\"-119.3\" font-family=\"Helvetica,sans-Serif\" font-size=\"14.00\" fill=\"#000000\">class = not</text>\n",
       "</g>\n",
       "<!-- 98&#45;&gt;99 -->\n",
       "<g id=\"edge99\" class=\"edge\">\n",
       "<title>98&#45;&gt;99</title>\n",
       "<path fill=\"none\" stroke=\"#000000\" d=\"M3381.4465,-225.7786C3359.8169,-213.7729 3336.2268,-200.2157 3315,-187 3314.0592,-186.4143 3313.1126,-185.8201 3312.1617,-185.2187\"/>\n",
       "<polygon fill=\"#000000\" stroke=\"#000000\" points=\"3313.8285,-182.1288 3303.5285,-179.6467 3310.0325,-188.0102 3313.8285,-182.1288\"/>\n",
       "</g>\n",
       "<!-- 100 -->\n",
       "<g id=\"node101\" class=\"node\">\n",
       "<title>100</title>\n",
       "<path fill=\"#eeab7b\" stroke=\"#000000\" d=\"M3464,-187C3464,-187 3336,-187 3336,-187 3330,-187 3324,-181 3324,-175 3324,-175 3324,-116 3324,-116 3324,-110 3330,-104 3336,-104 3336,-104 3464,-104 3464,-104 3470,-104 3476,-110 3476,-116 3476,-116 3476,-175 3476,-175 3476,-181 3470,-187 3464,-187\"/>\n",
       "<text text-anchor=\"start\" x=\"3332\" y=\"-171.8\" font-family=\"Helvetica,sans-Serif\" font-size=\"14.00\" fill=\"#000000\">creation_month ≤ 10.0</text>\n",
       "<text text-anchor=\"start\" x=\"3352.5\" y=\"-156.8\" font-family=\"Helvetica,sans-Serif\" font-size=\"14.00\" fill=\"#000000\">entropy = 0.811</text>\n",
       "<text text-anchor=\"start\" x=\"3362.5\" y=\"-141.8\" font-family=\"Helvetica,sans-Serif\" font-size=\"14.00\" fill=\"#000000\">samples = 4</text>\n",
       "<text text-anchor=\"start\" x=\"3360.5\" y=\"-126.8\" font-family=\"Helvetica,sans-Serif\" font-size=\"14.00\" fill=\"#000000\">value = [3, 1]</text>\n",
       "<text text-anchor=\"start\" x=\"3367\" y=\"-111.8\" font-family=\"Helvetica,sans-Serif\" font-size=\"14.00\" fill=\"#000000\">class = not</text>\n",
       "</g>\n",
       "<!-- 98&#45;&gt;100 -->\n",
       "<g id=\"edge100\" class=\"edge\">\n",
       "<title>98&#45;&gt;100</title>\n",
       "<path fill=\"none\" stroke=\"#000000\" d=\"M3435.1134,-222.8796C3431.2717,-214.4136 3427.1885,-205.4153 3423.2166,-196.6626\"/>\n",
       "<polygon fill=\"#000000\" stroke=\"#000000\" points=\"3426.2867,-194.9581 3418.9672,-187.2981 3419.9123,-197.8507 3426.2867,-194.9581\"/>\n",
       "</g>\n",
       "<!-- 101 -->\n",
       "<g id=\"node102\" class=\"node\">\n",
       "<title>101</title>\n",
       "<path fill=\"#399de5\" stroke=\"#000000\" d=\"M3311,-68C3311,-68 3223,-68 3223,-68 3217,-68 3211,-62 3211,-56 3211,-56 3211,-12 3211,-12 3211,-6 3217,0 3223,0 3223,0 3311,0 3311,0 3317,0 3323,-6 3323,-12 3323,-12 3323,-56 3323,-56 3323,-62 3317,-68 3311,-68\"/>\n",
       "<text text-anchor=\"start\" x=\"3227\" y=\"-52.8\" font-family=\"Helvetica,sans-Serif\" font-size=\"14.00\" fill=\"#000000\">entropy = 0.0</text>\n",
       "<text text-anchor=\"start\" x=\"3229.5\" y=\"-37.8\" font-family=\"Helvetica,sans-Serif\" font-size=\"14.00\" fill=\"#000000\">samples = 1</text>\n",
       "<text text-anchor=\"start\" x=\"3227.5\" y=\"-22.8\" font-family=\"Helvetica,sans-Serif\" font-size=\"14.00\" fill=\"#000000\">value = [0, 1]</text>\n",
       "<text text-anchor=\"start\" x=\"3219\" y=\"-7.8\" font-family=\"Helvetica,sans-Serif\" font-size=\"14.00\" fill=\"#000000\">class = adopted</text>\n",
       "</g>\n",
       "<!-- 100&#45;&gt;101 -->\n",
       "<g id=\"edge101\" class=\"edge\">\n",
       "<title>100&#45;&gt;101</title>\n",
       "<path fill=\"none\" stroke=\"#000000\" d=\"M3350.4757,-103.9815C3339.0743,-94.4232 3326.9595,-84.2668 3315.5979,-74.7419\"/>\n",
       "<polygon fill=\"#000000\" stroke=\"#000000\" points=\"3317.7825,-72.006 3307.8706,-68.2637 3313.2853,-77.3704 3317.7825,-72.006\"/>\n",
       "</g>\n",
       "<!-- 102 -->\n",
       "<g id=\"node103\" class=\"node\">\n",
       "<title>102</title>\n",
       "<path fill=\"#e58139\" stroke=\"#000000\" d=\"M3425,-68C3425,-68 3353,-68 3353,-68 3347,-68 3341,-62 3341,-56 3341,-56 3341,-12 3341,-12 3341,-6 3347,0 3353,0 3353,0 3425,0 3425,0 3431,0 3437,-6 3437,-12 3437,-12 3437,-56 3437,-56 3437,-62 3431,-68 3425,-68\"/>\n",
       "<text text-anchor=\"start\" x=\"3349\" y=\"-52.8\" font-family=\"Helvetica,sans-Serif\" font-size=\"14.00\" fill=\"#000000\">entropy = 0.0</text>\n",
       "<text text-anchor=\"start\" x=\"3351.5\" y=\"-37.8\" font-family=\"Helvetica,sans-Serif\" font-size=\"14.00\" fill=\"#000000\">samples = 3</text>\n",
       "<text text-anchor=\"start\" x=\"3349.5\" y=\"-22.8\" font-family=\"Helvetica,sans-Serif\" font-size=\"14.00\" fill=\"#000000\">value = [3, 0]</text>\n",
       "<text text-anchor=\"start\" x=\"3356\" y=\"-7.8\" font-family=\"Helvetica,sans-Serif\" font-size=\"14.00\" fill=\"#000000\">class = not</text>\n",
       "</g>\n",
       "<!-- 100&#45;&gt;102 -->\n",
       "<g id=\"edge102\" class=\"edge\">\n",
       "<title>100&#45;&gt;102</title>\n",
       "<path fill=\"none\" stroke=\"#000000\" d=\"M3395.904,-103.9815C3395.0789,-95.618 3394.2086,-86.7965 3393.3744,-78.3409\"/>\n",
       "<polygon fill=\"#000000\" stroke=\"#000000\" points=\"3396.8452,-77.8717 3392.3803,-68.2637 3389.8791,-78.559 3396.8452,-77.8717\"/>\n",
       "</g>\n",
       "<!-- 105 -->\n",
       "<g id=\"node106\" class=\"node\">\n",
       "<title>105</title>\n",
       "<path fill=\"#ea995e\" stroke=\"#000000\" d=\"M3774.5,-663C3774.5,-663 3673.5,-663 3673.5,-663 3667.5,-663 3661.5,-657 3661.5,-651 3661.5,-651 3661.5,-592 3661.5,-592 3661.5,-586 3667.5,-580 3673.5,-580 3673.5,-580 3774.5,-580 3774.5,-580 3780.5,-580 3786.5,-586 3786.5,-592 3786.5,-592 3786.5,-651 3786.5,-651 3786.5,-657 3780.5,-663 3774.5,-663\"/>\n",
       "<text text-anchor=\"start\" x=\"3672.5\" y=\"-647.8\" font-family=\"Helvetica,sans-Serif\" font-size=\"14.00\" fill=\"#000000\">org_id_382 ≤ 0.5</text>\n",
       "<text text-anchor=\"start\" x=\"3676.5\" y=\"-632.8\" font-family=\"Helvetica,sans-Serif\" font-size=\"14.00\" fill=\"#000000\">entropy = 0.632</text>\n",
       "<text text-anchor=\"start\" x=\"3675.5\" y=\"-617.8\" font-family=\"Helvetica,sans-Serif\" font-size=\"14.00\" fill=\"#000000\">samples = 1100</text>\n",
       "<text text-anchor=\"start\" x=\"3669.5\" y=\"-602.8\" font-family=\"Helvetica,sans-Serif\" font-size=\"14.00\" fill=\"#000000\">value = [925, 175]</text>\n",
       "<text text-anchor=\"start\" x=\"3691\" y=\"-587.8\" font-family=\"Helvetica,sans-Serif\" font-size=\"14.00\" fill=\"#000000\">class = not</text>\n",
       "</g>\n",
       "<!-- 104&#45;&gt;105 -->\n",
       "<g id=\"edge105\" class=\"edge\">\n",
       "<title>104&#45;&gt;105</title>\n",
       "<path fill=\"none\" stroke=\"#000000\" d=\"M3768.2169,-698.8796C3763.2763,-690.2335 3758.0184,-681.0322 3752.9167,-672.1042\"/>\n",
       "<polygon fill=\"#000000\" stroke=\"#000000\" points=\"3755.8849,-670.244 3747.8846,-663.2981 3749.8072,-673.717 3755.8849,-670.244\"/>\n",
       "</g>\n",
       "<!-- 116 -->\n",
       "<g id=\"node117\" class=\"node\">\n",
       "<title>116</title>\n",
       "<path fill=\"#399de5\" stroke=\"#000000\" d=\"M3905,-655.5C3905,-655.5 3817,-655.5 3817,-655.5 3811,-655.5 3805,-649.5 3805,-643.5 3805,-643.5 3805,-599.5 3805,-599.5 3805,-593.5 3811,-587.5 3817,-587.5 3817,-587.5 3905,-587.5 3905,-587.5 3911,-587.5 3917,-593.5 3917,-599.5 3917,-599.5 3917,-643.5 3917,-643.5 3917,-649.5 3911,-655.5 3905,-655.5\"/>\n",
       "<text text-anchor=\"start\" x=\"3821\" y=\"-640.3\" font-family=\"Helvetica,sans-Serif\" font-size=\"14.00\" fill=\"#000000\">entropy = 0.0</text>\n",
       "<text text-anchor=\"start\" x=\"3823.5\" y=\"-625.3\" font-family=\"Helvetica,sans-Serif\" font-size=\"14.00\" fill=\"#000000\">samples = 3</text>\n",
       "<text text-anchor=\"start\" x=\"3821.5\" y=\"-610.3\" font-family=\"Helvetica,sans-Serif\" font-size=\"14.00\" fill=\"#000000\">value = [0, 3]</text>\n",
       "<text text-anchor=\"start\" x=\"3813\" y=\"-595.3\" font-family=\"Helvetica,sans-Serif\" font-size=\"14.00\" fill=\"#000000\">class = adopted</text>\n",
       "</g>\n",
       "<!-- 104&#45;&gt;116 -->\n",
       "<g id=\"edge116\" class=\"edge\">\n",
       "<title>104&#45;&gt;116</title>\n",
       "<path fill=\"none\" stroke=\"#000000\" d=\"M3816.1329,-698.8796C3822.5725,-687.7735 3829.5434,-675.7513 3836.0271,-664.5691\"/>\n",
       "<polygon fill=\"#000000\" stroke=\"#000000\" points=\"3839.1148,-666.2215 3841.1031,-655.8149 3833.0591,-662.7102 3839.1148,-666.2215\"/>\n",
       "</g>\n",
       "<!-- 106 -->\n",
       "<g id=\"node107\" class=\"node\">\n",
       "<title>106</title>\n",
       "<path fill=\"#ea995e\" stroke=\"#000000\" d=\"M3766.5,-544C3766.5,-544 3665.5,-544 3665.5,-544 3659.5,-544 3653.5,-538 3653.5,-532 3653.5,-532 3653.5,-473 3653.5,-473 3653.5,-467 3659.5,-461 3665.5,-461 3665.5,-461 3766.5,-461 3766.5,-461 3772.5,-461 3778.5,-467 3778.5,-473 3778.5,-473 3778.5,-532 3778.5,-532 3778.5,-538 3772.5,-544 3766.5,-544\"/>\n",
       "<text text-anchor=\"start\" x=\"3664.5\" y=\"-528.8\" font-family=\"Helvetica,sans-Serif\" font-size=\"14.00\" fill=\"#000000\">org_id_281 ≤ 0.5</text>\n",
       "<text text-anchor=\"start\" x=\"3668.5\" y=\"-513.8\" font-family=\"Helvetica,sans-Serif\" font-size=\"14.00\" fill=\"#000000\">entropy = 0.628</text>\n",
       "<text text-anchor=\"start\" x=\"3667.5\" y=\"-498.8\" font-family=\"Helvetica,sans-Serif\" font-size=\"14.00\" fill=\"#000000\">samples = 1098</text>\n",
       "<text text-anchor=\"start\" x=\"3661.5\" y=\"-483.8\" font-family=\"Helvetica,sans-Serif\" font-size=\"14.00\" fill=\"#000000\">value = [925, 173]</text>\n",
       "<text text-anchor=\"start\" x=\"3683\" y=\"-468.8\" font-family=\"Helvetica,sans-Serif\" font-size=\"14.00\" fill=\"#000000\">class = not</text>\n",
       "</g>\n",
       "<!-- 105&#45;&gt;106 -->\n",
       "<g id=\"edge106\" class=\"edge\">\n",
       "<title>105&#45;&gt;106</title>\n",
       "<path fill=\"none\" stroke=\"#000000\" d=\"M3721.202,-579.8796C3720.651,-571.6838 3720.0665,-562.9891 3719.4959,-554.5013\"/>\n",
       "<polygon fill=\"#000000\" stroke=\"#000000\" points=\"3722.9729,-554.0408 3718.81,-544.2981 3715.9887,-554.5103 3722.9729,-554.0408\"/>\n",
       "</g>\n",
       "<!-- 115 -->\n",
       "<g id=\"node116\" class=\"node\">\n",
       "<title>115</title>\n",
       "<path fill=\"#399de5\" stroke=\"#000000\" d=\"M3897,-536.5C3897,-536.5 3809,-536.5 3809,-536.5 3803,-536.5 3797,-530.5 3797,-524.5 3797,-524.5 3797,-480.5 3797,-480.5 3797,-474.5 3803,-468.5 3809,-468.5 3809,-468.5 3897,-468.5 3897,-468.5 3903,-468.5 3909,-474.5 3909,-480.5 3909,-480.5 3909,-524.5 3909,-524.5 3909,-530.5 3903,-536.5 3897,-536.5\"/>\n",
       "<text text-anchor=\"start\" x=\"3813\" y=\"-521.3\" font-family=\"Helvetica,sans-Serif\" font-size=\"14.00\" fill=\"#000000\">entropy = 0.0</text>\n",
       "<text text-anchor=\"start\" x=\"3815.5\" y=\"-506.3\" font-family=\"Helvetica,sans-Serif\" font-size=\"14.00\" fill=\"#000000\">samples = 2</text>\n",
       "<text text-anchor=\"start\" x=\"3813.5\" y=\"-491.3\" font-family=\"Helvetica,sans-Serif\" font-size=\"14.00\" fill=\"#000000\">value = [0, 2]</text>\n",
       "<text text-anchor=\"start\" x=\"3805\" y=\"-476.3\" font-family=\"Helvetica,sans-Serif\" font-size=\"14.00\" fill=\"#000000\">class = adopted</text>\n",
       "</g>\n",
       "<!-- 105&#45;&gt;115 -->\n",
       "<g id=\"edge115\" class=\"edge\">\n",
       "<title>105&#45;&gt;115</title>\n",
       "<path fill=\"none\" stroke=\"#000000\" d=\"M3769.1179,-579.8796C3781.7533,-568.2237 3795.4826,-555.5587 3808.105,-543.9148\"/>\n",
       "<polygon fill=\"#000000\" stroke=\"#000000\" points=\"3810.8244,-546.168 3815.8015,-536.8149 3806.078,-541.0228 3810.8244,-546.168\"/>\n",
       "</g>\n",
       "<!-- 107 -->\n",
       "<g id=\"node108\" class=\"node\">\n",
       "<title>107</title>\n",
       "<path fill=\"#ea985e\" stroke=\"#000000\" d=\"M3660.5,-425C3660.5,-425 3559.5,-425 3559.5,-425 3553.5,-425 3547.5,-419 3547.5,-413 3547.5,-413 3547.5,-354 3547.5,-354 3547.5,-348 3553.5,-342 3559.5,-342 3559.5,-342 3660.5,-342 3660.5,-342 3666.5,-342 3672.5,-348 3672.5,-354 3672.5,-354 3672.5,-413 3672.5,-413 3672.5,-419 3666.5,-425 3660.5,-425\"/>\n",
       "<text text-anchor=\"start\" x=\"3558.5\" y=\"-409.8\" font-family=\"Helvetica,sans-Serif\" font-size=\"14.00\" fill=\"#000000\">org_id_352 ≤ 0.5</text>\n",
       "<text text-anchor=\"start\" x=\"3562.5\" y=\"-394.8\" font-family=\"Helvetica,sans-Serif\" font-size=\"14.00\" fill=\"#000000\">entropy = 0.625</text>\n",
       "<text text-anchor=\"start\" x=\"3561.5\" y=\"-379.8\" font-family=\"Helvetica,sans-Serif\" font-size=\"14.00\" fill=\"#000000\">samples = 1096</text>\n",
       "<text text-anchor=\"start\" x=\"3555.5\" y=\"-364.8\" font-family=\"Helvetica,sans-Serif\" font-size=\"14.00\" fill=\"#000000\">value = [925, 171]</text>\n",
       "<text text-anchor=\"start\" x=\"3577\" y=\"-349.8\" font-family=\"Helvetica,sans-Serif\" font-size=\"14.00\" fill=\"#000000\">class = not</text>\n",
       "</g>\n",
       "<!-- 106&#45;&gt;107 -->\n",
       "<g id=\"edge107\" class=\"edge\">\n",
       "<title>106&#45;&gt;107</title>\n",
       "<path fill=\"none\" stroke=\"#000000\" d=\"M3678.9263,-460.8796C3670.9039,-451.8733 3662.3448,-442.2644 3654.0833,-432.9897\"/>\n",
       "<polygon fill=\"#000000\" stroke=\"#000000\" points=\"3656.4969,-430.4373 3647.2319,-425.2981 3651.2698,-435.0933 3656.4969,-430.4373\"/>\n",
       "</g>\n",
       "<!-- 114 -->\n",
       "<g id=\"node115\" class=\"node\">\n",
       "<title>114</title>\n",
       "<path fill=\"#399de5\" stroke=\"#000000\" d=\"M3791,-417.5C3791,-417.5 3703,-417.5 3703,-417.5 3697,-417.5 3691,-411.5 3691,-405.5 3691,-405.5 3691,-361.5 3691,-361.5 3691,-355.5 3697,-349.5 3703,-349.5 3703,-349.5 3791,-349.5 3791,-349.5 3797,-349.5 3803,-355.5 3803,-361.5 3803,-361.5 3803,-405.5 3803,-405.5 3803,-411.5 3797,-417.5 3791,-417.5\"/>\n",
       "<text text-anchor=\"start\" x=\"3707\" y=\"-402.3\" font-family=\"Helvetica,sans-Serif\" font-size=\"14.00\" fill=\"#000000\">entropy = 0.0</text>\n",
       "<text text-anchor=\"start\" x=\"3709.5\" y=\"-387.3\" font-family=\"Helvetica,sans-Serif\" font-size=\"14.00\" fill=\"#000000\">samples = 2</text>\n",
       "<text text-anchor=\"start\" x=\"3707.5\" y=\"-372.3\" font-family=\"Helvetica,sans-Serif\" font-size=\"14.00\" fill=\"#000000\">value = [0, 2]</text>\n",
       "<text text-anchor=\"start\" x=\"3699\" y=\"-357.3\" font-family=\"Helvetica,sans-Serif\" font-size=\"14.00\" fill=\"#000000\">class = adopted</text>\n",
       "</g>\n",
       "<!-- 106&#45;&gt;114 -->\n",
       "<g id=\"edge114\" class=\"edge\">\n",
       "<title>106&#45;&gt;114</title>\n",
       "<path fill=\"none\" stroke=\"#000000\" d=\"M3726.8423,-460.8796C3729.6495,-450.1034 3732.6815,-438.4647 3735.5202,-427.5677\"/>\n",
       "<polygon fill=\"#000000\" stroke=\"#000000\" points=\"3738.9268,-428.3743 3738.0608,-417.8149 3732.1529,-426.6096 3738.9268,-428.3743\"/>\n",
       "</g>\n",
       "<!-- 108 -->\n",
       "<g id=\"node109\" class=\"node\">\n",
       "<title>108</title>\n",
       "<path fill=\"#ea985d\" stroke=\"#000000\" d=\"M3660.5,-306C3660.5,-306 3559.5,-306 3559.5,-306 3553.5,-306 3547.5,-300 3547.5,-294 3547.5,-294 3547.5,-235 3547.5,-235 3547.5,-229 3553.5,-223 3559.5,-223 3559.5,-223 3660.5,-223 3660.5,-223 3666.5,-223 3672.5,-229 3672.5,-235 3672.5,-235 3672.5,-294 3672.5,-294 3672.5,-300 3666.5,-306 3660.5,-306\"/>\n",
       "<text text-anchor=\"start\" x=\"3558.5\" y=\"-290.8\" font-family=\"Helvetica,sans-Serif\" font-size=\"14.00\" fill=\"#000000\">org_id_353 ≤ 0.5</text>\n",
       "<text text-anchor=\"start\" x=\"3562.5\" y=\"-275.8\" font-family=\"Helvetica,sans-Serif\" font-size=\"14.00\" fill=\"#000000\">entropy = 0.621</text>\n",
       "<text text-anchor=\"start\" x=\"3561.5\" y=\"-260.8\" font-family=\"Helvetica,sans-Serif\" font-size=\"14.00\" fill=\"#000000\">samples = 1094</text>\n",
       "<text text-anchor=\"start\" x=\"3555.5\" y=\"-245.8\" font-family=\"Helvetica,sans-Serif\" font-size=\"14.00\" fill=\"#000000\">value = [925, 169]</text>\n",
       "<text text-anchor=\"start\" x=\"3577\" y=\"-230.8\" font-family=\"Helvetica,sans-Serif\" font-size=\"14.00\" fill=\"#000000\">class = not</text>\n",
       "</g>\n",
       "<!-- 107&#45;&gt;108 -->\n",
       "<g id=\"edge108\" class=\"edge\">\n",
       "<title>107&#45;&gt;108</title>\n",
       "<path fill=\"none\" stroke=\"#000000\" d=\"M3610,-341.8796C3610,-333.6838 3610,-324.9891 3610,-316.5013\"/>\n",
       "<polygon fill=\"#000000\" stroke=\"#000000\" points=\"3613.5001,-316.298 3610,-306.2981 3606.5001,-316.2981 3613.5001,-316.298\"/>\n",
       "</g>\n",
       "<!-- 113 -->\n",
       "<g id=\"node114\" class=\"node\">\n",
       "<title>113</title>\n",
       "<path fill=\"#399de5\" stroke=\"#000000\" d=\"M3791,-298.5C3791,-298.5 3703,-298.5 3703,-298.5 3697,-298.5 3691,-292.5 3691,-286.5 3691,-286.5 3691,-242.5 3691,-242.5 3691,-236.5 3697,-230.5 3703,-230.5 3703,-230.5 3791,-230.5 3791,-230.5 3797,-230.5 3803,-236.5 3803,-242.5 3803,-242.5 3803,-286.5 3803,-286.5 3803,-292.5 3797,-298.5 3791,-298.5\"/>\n",
       "<text text-anchor=\"start\" x=\"3707\" y=\"-283.3\" font-family=\"Helvetica,sans-Serif\" font-size=\"14.00\" fill=\"#000000\">entropy = 0.0</text>\n",
       "<text text-anchor=\"start\" x=\"3709.5\" y=\"-268.3\" font-family=\"Helvetica,sans-Serif\" font-size=\"14.00\" fill=\"#000000\">samples = 2</text>\n",
       "<text text-anchor=\"start\" x=\"3707.5\" y=\"-253.3\" font-family=\"Helvetica,sans-Serif\" font-size=\"14.00\" fill=\"#000000\">value = [0, 2]</text>\n",
       "<text text-anchor=\"start\" x=\"3699\" y=\"-238.3\" font-family=\"Helvetica,sans-Serif\" font-size=\"14.00\" fill=\"#000000\">class = adopted</text>\n",
       "</g>\n",
       "<!-- 107&#45;&gt;113 -->\n",
       "<g id=\"edge113\" class=\"edge\">\n",
       "<title>107&#45;&gt;113</title>\n",
       "<path fill=\"none\" stroke=\"#000000\" d=\"M3657.916,-341.8796C3671.4615,-330.1138 3686.1908,-317.3197 3699.6998,-305.5855\"/>\n",
       "<polygon fill=\"#000000\" stroke=\"#000000\" points=\"3702.2401,-308.015 3707.4946,-298.8149 3697.6497,-302.7303 3702.2401,-308.015\"/>\n",
       "</g>\n",
       "<!-- 109 -->\n",
       "<g id=\"node110\" class=\"node\">\n",
       "<title>109</title>\n",
       "<path fill=\"#ea985d\" stroke=\"#000000\" d=\"M3649.5,-187C3649.5,-187 3548.5,-187 3548.5,-187 3542.5,-187 3536.5,-181 3536.5,-175 3536.5,-175 3536.5,-116 3536.5,-116 3536.5,-110 3542.5,-104 3548.5,-104 3548.5,-104 3649.5,-104 3649.5,-104 3655.5,-104 3661.5,-110 3661.5,-116 3661.5,-116 3661.5,-175 3661.5,-175 3661.5,-181 3655.5,-187 3649.5,-187\"/>\n",
       "<text text-anchor=\"start\" x=\"3547.5\" y=\"-171.8\" font-family=\"Helvetica,sans-Serif\" font-size=\"14.00\" fill=\"#000000\">org_id_251 ≤ 0.5</text>\n",
       "<text text-anchor=\"start\" x=\"3551.5\" y=\"-156.8\" font-family=\"Helvetica,sans-Serif\" font-size=\"14.00\" fill=\"#000000\">entropy = 0.617</text>\n",
       "<text text-anchor=\"start\" x=\"3550.5\" y=\"-141.8\" font-family=\"Helvetica,sans-Serif\" font-size=\"14.00\" fill=\"#000000\">samples = 1092</text>\n",
       "<text text-anchor=\"start\" x=\"3544.5\" y=\"-126.8\" font-family=\"Helvetica,sans-Serif\" font-size=\"14.00\" fill=\"#000000\">value = [925, 167]</text>\n",
       "<text text-anchor=\"start\" x=\"3566\" y=\"-111.8\" font-family=\"Helvetica,sans-Serif\" font-size=\"14.00\" fill=\"#000000\">class = not</text>\n",
       "</g>\n",
       "<!-- 108&#45;&gt;109 -->\n",
       "<g id=\"edge109\" class=\"edge\">\n",
       "<title>108&#45;&gt;109</title>\n",
       "<path fill=\"none\" stroke=\"#000000\" d=\"M3606.1527,-222.8796C3605.3951,-214.6838 3604.5914,-205.9891 3603.8068,-197.5013\"/>\n",
       "<polygon fill=\"#000000\" stroke=\"#000000\" points=\"3607.2694,-196.9334 3602.8637,-187.2981 3600.2991,-197.5778 3607.2694,-196.9334\"/>\n",
       "</g>\n",
       "<!-- 112 -->\n",
       "<g id=\"node113\" class=\"node\">\n",
       "<title>112</title>\n",
       "<path fill=\"#399de5\" stroke=\"#000000\" d=\"M3780,-179.5C3780,-179.5 3692,-179.5 3692,-179.5 3686,-179.5 3680,-173.5 3680,-167.5 3680,-167.5 3680,-123.5 3680,-123.5 3680,-117.5 3686,-111.5 3692,-111.5 3692,-111.5 3780,-111.5 3780,-111.5 3786,-111.5 3792,-117.5 3792,-123.5 3792,-123.5 3792,-167.5 3792,-167.5 3792,-173.5 3786,-179.5 3780,-179.5\"/>\n",
       "<text text-anchor=\"start\" x=\"3696\" y=\"-164.3\" font-family=\"Helvetica,sans-Serif\" font-size=\"14.00\" fill=\"#000000\">entropy = 0.0</text>\n",
       "<text text-anchor=\"start\" x=\"3698.5\" y=\"-149.3\" font-family=\"Helvetica,sans-Serif\" font-size=\"14.00\" fill=\"#000000\">samples = 2</text>\n",
       "<text text-anchor=\"start\" x=\"3696.5\" y=\"-134.3\" font-family=\"Helvetica,sans-Serif\" font-size=\"14.00\" fill=\"#000000\">value = [0, 2]</text>\n",
       "<text text-anchor=\"start\" x=\"3688\" y=\"-119.3\" font-family=\"Helvetica,sans-Serif\" font-size=\"14.00\" fill=\"#000000\">class = adopted</text>\n",
       "</g>\n",
       "<!-- 108&#45;&gt;112 -->\n",
       "<g id=\"edge112\" class=\"edge\">\n",
       "<title>108&#45;&gt;112</title>\n",
       "<path fill=\"none\" stroke=\"#000000\" d=\"M3654.0687,-222.8796C3666.4102,-211.2237 3679.8202,-198.5587 3692.149,-186.9148\"/>\n",
       "<polygon fill=\"#000000\" stroke=\"#000000\" points=\"3694.7996,-189.2258 3699.6665,-179.8149 3689.9932,-184.1366 3694.7996,-189.2258\"/>\n",
       "</g>\n",
       "<!-- 110 -->\n",
       "<g id=\"node111\" class=\"node\">\n",
       "<title>110</title>\n",
       "<path fill=\"#ea975c\" stroke=\"#000000\" d=\"M3568.5,-68C3568.5,-68 3467.5,-68 3467.5,-68 3461.5,-68 3455.5,-62 3455.5,-56 3455.5,-56 3455.5,-12 3455.5,-12 3455.5,-6 3461.5,0 3467.5,0 3467.5,0 3568.5,0 3568.5,0 3574.5,0 3580.5,-6 3580.5,-12 3580.5,-12 3580.5,-56 3580.5,-56 3580.5,-62 3574.5,-68 3568.5,-68\"/>\n",
       "<text text-anchor=\"start\" x=\"3470.5\" y=\"-52.8\" font-family=\"Helvetica,sans-Serif\" font-size=\"14.00\" fill=\"#000000\">entropy = 0.613</text>\n",
       "<text text-anchor=\"start\" x=\"3469.5\" y=\"-37.8\" font-family=\"Helvetica,sans-Serif\" font-size=\"14.00\" fill=\"#000000\">samples = 1090</text>\n",
       "<text text-anchor=\"start\" x=\"3463.5\" y=\"-22.8\" font-family=\"Helvetica,sans-Serif\" font-size=\"14.00\" fill=\"#000000\">value = [925, 165]</text>\n",
       "<text text-anchor=\"start\" x=\"3485\" y=\"-7.8\" font-family=\"Helvetica,sans-Serif\" font-size=\"14.00\" fill=\"#000000\">class = not</text>\n",
       "</g>\n",
       "<!-- 109&#45;&gt;110 -->\n",
       "<g id=\"edge110\" class=\"edge\">\n",
       "<title>109&#45;&gt;110</title>\n",
       "<path fill=\"none\" stroke=\"#000000\" d=\"M3568.8386,-103.9815C3562.2955,-94.9747 3555.3666,-85.4367 3548.7992,-76.3965\"/>\n",
       "<polygon fill=\"#000000\" stroke=\"#000000\" points=\"3551.6002,-74.2971 3542.8911,-68.2637 3545.9369,-78.4113 3551.6002,-74.2971\"/>\n",
       "</g>\n",
       "<!-- 111 -->\n",
       "<g id=\"node112\" class=\"node\">\n",
       "<title>111</title>\n",
       "<path fill=\"#399de5\" stroke=\"#000000\" d=\"M3699,-68C3699,-68 3611,-68 3611,-68 3605,-68 3599,-62 3599,-56 3599,-56 3599,-12 3599,-12 3599,-6 3605,0 3611,0 3611,0 3699,0 3699,0 3705,0 3711,-6 3711,-12 3711,-12 3711,-56 3711,-56 3711,-62 3705,-68 3699,-68\"/>\n",
       "<text text-anchor=\"start\" x=\"3615\" y=\"-52.8\" font-family=\"Helvetica,sans-Serif\" font-size=\"14.00\" fill=\"#000000\">entropy = 0.0</text>\n",
       "<text text-anchor=\"start\" x=\"3617.5\" y=\"-37.8\" font-family=\"Helvetica,sans-Serif\" font-size=\"14.00\" fill=\"#000000\">samples = 2</text>\n",
       "<text text-anchor=\"start\" x=\"3615.5\" y=\"-22.8\" font-family=\"Helvetica,sans-Serif\" font-size=\"14.00\" fill=\"#000000\">value = [0, 2]</text>\n",
       "<text text-anchor=\"start\" x=\"3607\" y=\"-7.8\" font-family=\"Helvetica,sans-Serif\" font-size=\"14.00\" fill=\"#000000\">class = adopted</text>\n",
       "</g>\n",
       "<!-- 109&#45;&gt;111 -->\n",
       "<g id=\"edge111\" class=\"edge\">\n",
       "<title>109&#45;&gt;111</title>\n",
       "<path fill=\"none\" stroke=\"#000000\" d=\"M3619.8523,-103.9815C3624.2375,-95.2504 3628.8733,-86.0202 3633.289,-77.2281\"/>\n",
       "<polygon fill=\"#000000\" stroke=\"#000000\" points=\"3636.4308,-78.7708 3637.7913,-68.2637 3630.1754,-75.6291 3636.4308,-78.7708\"/>\n",
       "</g>\n",
       "<!-- 118 -->\n",
       "<g id=\"node119\" class=\"node\">\n",
       "<title>118</title>\n",
       "<path fill=\"#ea985d\" stroke=\"#000000\" d=\"M4064,-782C4064,-782 3956,-782 3956,-782 3950,-782 3944,-776 3944,-770 3944,-770 3944,-711 3944,-711 3944,-705 3950,-699 3956,-699 3956,-699 4064,-699 4064,-699 4070,-699 4076,-705 4076,-711 4076,-711 4076,-770 4076,-770 4076,-776 4070,-782 4064,-782\"/>\n",
       "<text text-anchor=\"start\" x=\"3958.5\" y=\"-766.8\" font-family=\"Helvetica,sans-Serif\" font-size=\"14.00\" fill=\"#000000\">org_id_282 ≤ 0.5</text>\n",
       "<text text-anchor=\"start\" x=\"3962.5\" y=\"-751.8\" font-family=\"Helvetica,sans-Serif\" font-size=\"14.00\" fill=\"#000000\">entropy = 0.622</text>\n",
       "<text text-anchor=\"start\" x=\"3961.5\" y=\"-736.8\" font-family=\"Helvetica,sans-Serif\" font-size=\"14.00\" fill=\"#000000\">samples = 2141</text>\n",
       "<text text-anchor=\"start\" x=\"3952\" y=\"-721.8\" font-family=\"Helvetica,sans-Serif\" font-size=\"14.00\" fill=\"#000000\">value = [1809, 332]</text>\n",
       "<text text-anchor=\"start\" x=\"3977\" y=\"-706.8\" font-family=\"Helvetica,sans-Serif\" font-size=\"14.00\" fill=\"#000000\">class = not</text>\n",
       "</g>\n",
       "<!-- 117&#45;&gt;118 -->\n",
       "<g id=\"edge118\" class=\"edge\">\n",
       "<title>117&#45;&gt;118</title>\n",
       "<path fill=\"none\" stroke=\"#000000\" d=\"M4010,-817.8796C4010,-809.6838 4010,-800.9891 4010,-792.5013\"/>\n",
       "<polygon fill=\"#000000\" stroke=\"#000000\" points=\"4013.5001,-792.298 4010,-782.2981 4006.5001,-792.2981 4013.5001,-792.298\"/>\n",
       "</g>\n",
       "<!-- 137 -->\n",
       "<g id=\"node138\" class=\"node\">\n",
       "<title>137</title>\n",
       "<path fill=\"#399de5\" stroke=\"#000000\" d=\"M4194,-774.5C4194,-774.5 4106,-774.5 4106,-774.5 4100,-774.5 4094,-768.5 4094,-762.5 4094,-762.5 4094,-718.5 4094,-718.5 4094,-712.5 4100,-706.5 4106,-706.5 4106,-706.5 4194,-706.5 4194,-706.5 4200,-706.5 4206,-712.5 4206,-718.5 4206,-718.5 4206,-762.5 4206,-762.5 4206,-768.5 4200,-774.5 4194,-774.5\"/>\n",
       "<text text-anchor=\"start\" x=\"4110\" y=\"-759.3\" font-family=\"Helvetica,sans-Serif\" font-size=\"14.00\" fill=\"#000000\">entropy = 0.0</text>\n",
       "<text text-anchor=\"start\" x=\"4112.5\" y=\"-744.3\" font-family=\"Helvetica,sans-Serif\" font-size=\"14.00\" fill=\"#000000\">samples = 3</text>\n",
       "<text text-anchor=\"start\" x=\"4110.5\" y=\"-729.3\" font-family=\"Helvetica,sans-Serif\" font-size=\"14.00\" fill=\"#000000\">value = [0, 3]</text>\n",
       "<text text-anchor=\"start\" x=\"4102\" y=\"-714.3\" font-family=\"Helvetica,sans-Serif\" font-size=\"14.00\" fill=\"#000000\">class = adopted</text>\n",
       "</g>\n",
       "<!-- 117&#45;&gt;137 -->\n",
       "<g id=\"edge137\" class=\"edge\">\n",
       "<title>117&#45;&gt;137</title>\n",
       "<path fill=\"none\" stroke=\"#000000\" d=\"M4058.9652,-817.8796C4072.8073,-806.1138 4087.8592,-793.3197 4101.6641,-781.5855\"/>\n",
       "<polygon fill=\"#000000\" stroke=\"#000000\" points=\"4104.2769,-783.9582 4109.6295,-774.8149 4099.7433,-778.6247 4104.2769,-783.9582\"/>\n",
       "</g>\n",
       "<!-- 119 -->\n",
       "<g id=\"node120\" class=\"node\">\n",
       "<title>119</title>\n",
       "<path fill=\"#ea985d\" stroke=\"#000000\" d=\"M4064,-663C4064,-663 3956,-663 3956,-663 3950,-663 3944,-657 3944,-651 3944,-651 3944,-592 3944,-592 3944,-586 3950,-580 3956,-580 3956,-580 4064,-580 4064,-580 4070,-580 4076,-586 4076,-592 4076,-592 4076,-651 4076,-651 4076,-657 4070,-663 4064,-663\"/>\n",
       "<text text-anchor=\"start\" x=\"3958.5\" y=\"-647.8\" font-family=\"Helvetica,sans-Serif\" font-size=\"14.00\" fill=\"#000000\">org_id_106 ≤ 0.5</text>\n",
       "<text text-anchor=\"start\" x=\"3962.5\" y=\"-632.8\" font-family=\"Helvetica,sans-Serif\" font-size=\"14.00\" fill=\"#000000\">entropy = 0.619</text>\n",
       "<text text-anchor=\"start\" x=\"3961.5\" y=\"-617.8\" font-family=\"Helvetica,sans-Serif\" font-size=\"14.00\" fill=\"#000000\">samples = 2138</text>\n",
       "<text text-anchor=\"start\" x=\"3952\" y=\"-602.8\" font-family=\"Helvetica,sans-Serif\" font-size=\"14.00\" fill=\"#000000\">value = [1809, 329]</text>\n",
       "<text text-anchor=\"start\" x=\"3977\" y=\"-587.8\" font-family=\"Helvetica,sans-Serif\" font-size=\"14.00\" fill=\"#000000\">class = not</text>\n",
       "</g>\n",
       "<!-- 118&#45;&gt;119 -->\n",
       "<g id=\"edge119\" class=\"edge\">\n",
       "<title>118&#45;&gt;119</title>\n",
       "<path fill=\"none\" stroke=\"#000000\" d=\"M4010,-698.8796C4010,-690.6838 4010,-681.9891 4010,-673.5013\"/>\n",
       "<polygon fill=\"#000000\" stroke=\"#000000\" points=\"4013.5001,-673.298 4010,-663.2981 4006.5001,-673.2981 4013.5001,-673.298\"/>\n",
       "</g>\n",
       "<!-- 136 -->\n",
       "<g id=\"node137\" class=\"node\">\n",
       "<title>136</title>\n",
       "<path fill=\"#399de5\" stroke=\"#000000\" d=\"M4194,-655.5C4194,-655.5 4106,-655.5 4106,-655.5 4100,-655.5 4094,-649.5 4094,-643.5 4094,-643.5 4094,-599.5 4094,-599.5 4094,-593.5 4100,-587.5 4106,-587.5 4106,-587.5 4194,-587.5 4194,-587.5 4200,-587.5 4206,-593.5 4206,-599.5 4206,-599.5 4206,-643.5 4206,-643.5 4206,-649.5 4200,-655.5 4194,-655.5\"/>\n",
       "<text text-anchor=\"start\" x=\"4110\" y=\"-640.3\" font-family=\"Helvetica,sans-Serif\" font-size=\"14.00\" fill=\"#000000\">entropy = 0.0</text>\n",
       "<text text-anchor=\"start\" x=\"4112.5\" y=\"-625.3\" font-family=\"Helvetica,sans-Serif\" font-size=\"14.00\" fill=\"#000000\">samples = 3</text>\n",
       "<text text-anchor=\"start\" x=\"4110.5\" y=\"-610.3\" font-family=\"Helvetica,sans-Serif\" font-size=\"14.00\" fill=\"#000000\">value = [0, 3]</text>\n",
       "<text text-anchor=\"start\" x=\"4102\" y=\"-595.3\" font-family=\"Helvetica,sans-Serif\" font-size=\"14.00\" fill=\"#000000\">class = adopted</text>\n",
       "</g>\n",
       "<!-- 118&#45;&gt;136 -->\n",
       "<g id=\"edge136\" class=\"edge\">\n",
       "<title>118&#45;&gt;136</title>\n",
       "<path fill=\"none\" stroke=\"#000000\" d=\"M4058.9652,-698.8796C4072.8073,-687.1138 4087.8592,-674.3197 4101.6641,-662.5855\"/>\n",
       "<polygon fill=\"#000000\" stroke=\"#000000\" points=\"4104.2769,-664.9582 4109.6295,-655.8149 4099.7433,-659.6247 4104.2769,-664.9582\"/>\n",
       "</g>\n",
       "<!-- 120 -->\n",
       "<g id=\"node121\" class=\"node\">\n",
       "<title>120</title>\n",
       "<path fill=\"#ea985d\" stroke=\"#000000\" d=\"M4064,-544C4064,-544 3956,-544 3956,-544 3950,-544 3944,-538 3944,-532 3944,-532 3944,-473 3944,-473 3944,-467 3950,-461 3956,-461 3956,-461 4064,-461 4064,-461 4070,-461 4076,-467 4076,-473 4076,-473 4076,-532 4076,-532 4076,-538 4070,-544 4064,-544\"/>\n",
       "<text text-anchor=\"start\" x=\"3958.5\" y=\"-528.8\" font-family=\"Helvetica,sans-Serif\" font-size=\"14.00\" fill=\"#000000\">org_id_265 ≤ 0.5</text>\n",
       "<text text-anchor=\"start\" x=\"3962.5\" y=\"-513.8\" font-family=\"Helvetica,sans-Serif\" font-size=\"14.00\" fill=\"#000000\">entropy = 0.615</text>\n",
       "<text text-anchor=\"start\" x=\"3961.5\" y=\"-498.8\" font-family=\"Helvetica,sans-Serif\" font-size=\"14.00\" fill=\"#000000\">samples = 2131</text>\n",
       "<text text-anchor=\"start\" x=\"3952\" y=\"-483.8\" font-family=\"Helvetica,sans-Serif\" font-size=\"14.00\" fill=\"#000000\">value = [1807, 324]</text>\n",
       "<text text-anchor=\"start\" x=\"3977\" y=\"-468.8\" font-family=\"Helvetica,sans-Serif\" font-size=\"14.00\" fill=\"#000000\">class = not</text>\n",
       "</g>\n",
       "<!-- 119&#45;&gt;120 -->\n",
       "<g id=\"edge120\" class=\"edge\">\n",
       "<title>119&#45;&gt;120</title>\n",
       "<path fill=\"none\" stroke=\"#000000\" d=\"M4010,-579.8796C4010,-571.6838 4010,-562.9891 4010,-554.5013\"/>\n",
       "<polygon fill=\"#000000\" stroke=\"#000000\" points=\"4013.5001,-554.298 4010,-544.2981 4006.5001,-554.2981 4013.5001,-554.298\"/>\n",
       "</g>\n",
       "<!-- 131 -->\n",
       "<g id=\"node132\" class=\"node\">\n",
       "<title>131</title>\n",
       "<path fill=\"#88c4ef\" stroke=\"#000000\" d=\"M4260.5,-544C4260.5,-544 4139.5,-544 4139.5,-544 4133.5,-544 4127.5,-538 4127.5,-532 4127.5,-532 4127.5,-473 4127.5,-473 4127.5,-467 4133.5,-461 4139.5,-461 4139.5,-461 4260.5,-461 4260.5,-461 4266.5,-461 4272.5,-467 4272.5,-473 4272.5,-473 4272.5,-532 4272.5,-532 4272.5,-538 4266.5,-544 4260.5,-544\"/>\n",
       "<text text-anchor=\"start\" x=\"4135.5\" y=\"-528.8\" font-family=\"Helvetica,sans-Serif\" font-size=\"14.00\" fill=\"#000000\">creation_month ≤ 8.5</text>\n",
       "<text text-anchor=\"start\" x=\"4152.5\" y=\"-513.8\" font-family=\"Helvetica,sans-Serif\" font-size=\"14.00\" fill=\"#000000\">entropy = 0.863</text>\n",
       "<text text-anchor=\"start\" x=\"4162.5\" y=\"-498.8\" font-family=\"Helvetica,sans-Serif\" font-size=\"14.00\" fill=\"#000000\">samples = 7</text>\n",
       "<text text-anchor=\"start\" x=\"4160.5\" y=\"-483.8\" font-family=\"Helvetica,sans-Serif\" font-size=\"14.00\" fill=\"#000000\">value = [2, 5]</text>\n",
       "<text text-anchor=\"start\" x=\"4152\" y=\"-468.8\" font-family=\"Helvetica,sans-Serif\" font-size=\"14.00\" fill=\"#000000\">class = adopted</text>\n",
       "</g>\n",
       "<!-- 119&#45;&gt;131 -->\n",
       "<g id=\"edge131\" class=\"edge\">\n",
       "<title>119&#45;&gt;131</title>\n",
       "<path fill=\"none\" stroke=\"#000000\" d=\"M4076.1861,-580.0466C4091.9093,-570.1989 4108.7956,-559.6227 4124.8853,-549.5455\"/>\n",
       "<polygon fill=\"#000000\" stroke=\"#000000\" points=\"4127.1124,-552.2805 4133.7296,-544.0062 4123.3968,-546.348 4127.1124,-552.2805\"/>\n",
       "</g>\n",
       "<!-- 121 -->\n",
       "<g id=\"node122\" class=\"node\">\n",
       "<title>121</title>\n",
       "<path fill=\"#ea975c\" stroke=\"#000000\" d=\"M3941,-425C3941,-425 3833,-425 3833,-425 3827,-425 3821,-419 3821,-413 3821,-413 3821,-354 3821,-354 3821,-348 3827,-342 3833,-342 3833,-342 3941,-342 3941,-342 3947,-342 3953,-348 3953,-354 3953,-354 3953,-413 3953,-413 3953,-419 3947,-425 3941,-425\"/>\n",
       "<text text-anchor=\"start\" x=\"3835.5\" y=\"-409.8\" font-family=\"Helvetica,sans-Serif\" font-size=\"14.00\" fill=\"#000000\">org_id_283 ≤ 0.5</text>\n",
       "<text text-anchor=\"start\" x=\"3839.5\" y=\"-394.8\" font-family=\"Helvetica,sans-Serif\" font-size=\"14.00\" fill=\"#000000\">entropy = 0.613</text>\n",
       "<text text-anchor=\"start\" x=\"3838.5\" y=\"-379.8\" font-family=\"Helvetica,sans-Serif\" font-size=\"14.00\" fill=\"#000000\">samples = 2129</text>\n",
       "<text text-anchor=\"start\" x=\"3829\" y=\"-364.8\" font-family=\"Helvetica,sans-Serif\" font-size=\"14.00\" fill=\"#000000\">value = [1807, 322]</text>\n",
       "<text text-anchor=\"start\" x=\"3854\" y=\"-349.8\" font-family=\"Helvetica,sans-Serif\" font-size=\"14.00\" fill=\"#000000\">class = not</text>\n",
       "</g>\n",
       "<!-- 120&#45;&gt;121 -->\n",
       "<g id=\"edge121\" class=\"edge\">\n",
       "<title>120&#45;&gt;121</title>\n",
       "<path fill=\"none\" stroke=\"#000000\" d=\"M3966.9806,-460.8796C3957.4853,-451.6931 3947.3422,-441.8798 3937.5785,-432.4336\"/>\n",
       "<polygon fill=\"#000000\" stroke=\"#000000\" points=\"3939.8237,-429.7359 3930.203,-425.2981 3934.9564,-434.7668 3939.8237,-429.7359\"/>\n",
       "</g>\n",
       "<!-- 130 -->\n",
       "<g id=\"node131\" class=\"node\">\n",
       "<title>130</title>\n",
       "<path fill=\"#399de5\" stroke=\"#000000\" d=\"M4071,-417.5C4071,-417.5 3983,-417.5 3983,-417.5 3977,-417.5 3971,-411.5 3971,-405.5 3971,-405.5 3971,-361.5 3971,-361.5 3971,-355.5 3977,-349.5 3983,-349.5 3983,-349.5 4071,-349.5 4071,-349.5 4077,-349.5 4083,-355.5 4083,-361.5 4083,-361.5 4083,-405.5 4083,-405.5 4083,-411.5 4077,-417.5 4071,-417.5\"/>\n",
       "<text text-anchor=\"start\" x=\"3987\" y=\"-402.3\" font-family=\"Helvetica,sans-Serif\" font-size=\"14.00\" fill=\"#000000\">entropy = 0.0</text>\n",
       "<text text-anchor=\"start\" x=\"3989.5\" y=\"-387.3\" font-family=\"Helvetica,sans-Serif\" font-size=\"14.00\" fill=\"#000000\">samples = 2</text>\n",
       "<text text-anchor=\"start\" x=\"3987.5\" y=\"-372.3\" font-family=\"Helvetica,sans-Serif\" font-size=\"14.00\" fill=\"#000000\">value = [0, 2]</text>\n",
       "<text text-anchor=\"start\" x=\"3979\" y=\"-357.3\" font-family=\"Helvetica,sans-Serif\" font-size=\"14.00\" fill=\"#000000\">class = adopted</text>\n",
       "</g>\n",
       "<!-- 120&#45;&gt;130 -->\n",
       "<g id=\"edge130\" class=\"edge\">\n",
       "<title>120&#45;&gt;130</title>\n",
       "<path fill=\"none\" stroke=\"#000000\" d=\"M4015.9458,-460.8796C4017.4695,-450.2134 4019.114,-438.7021 4020.6569,-427.9015\"/>\n",
       "<polygon fill=\"#000000\" stroke=\"#000000\" points=\"4024.1484,-428.2094 4022.0979,-417.8149 4017.2187,-427.2194 4024.1484,-428.2094\"/>\n",
       "</g>\n",
       "<!-- 122 -->\n",
       "<g id=\"node123\" class=\"node\">\n",
       "<title>122</title>\n",
       "<path fill=\"#ea975c\" stroke=\"#000000\" d=\"M3941,-306C3941,-306 3833,-306 3833,-306 3827,-306 3821,-300 3821,-294 3821,-294 3821,-235 3821,-235 3821,-229 3827,-223 3833,-223 3833,-223 3941,-223 3941,-223 3947,-223 3953,-229 3953,-235 3953,-235 3953,-294 3953,-294 3953,-300 3947,-306 3941,-306\"/>\n",
       "<text text-anchor=\"start\" x=\"3843\" y=\"-290.8\" font-family=\"Helvetica,sans-Serif\" font-size=\"14.00\" fill=\"#000000\">org_id_2 ≤ 0.5</text>\n",
       "<text text-anchor=\"start\" x=\"3839.5\" y=\"-275.8\" font-family=\"Helvetica,sans-Serif\" font-size=\"14.00\" fill=\"#000000\">entropy = 0.611</text>\n",
       "<text text-anchor=\"start\" x=\"3838.5\" y=\"-260.8\" font-family=\"Helvetica,sans-Serif\" font-size=\"14.00\" fill=\"#000000\">samples = 2127</text>\n",
       "<text text-anchor=\"start\" x=\"3829\" y=\"-245.8\" font-family=\"Helvetica,sans-Serif\" font-size=\"14.00\" fill=\"#000000\">value = [1807, 320]</text>\n",
       "<text text-anchor=\"start\" x=\"3854\" y=\"-230.8\" font-family=\"Helvetica,sans-Serif\" font-size=\"14.00\" fill=\"#000000\">class = not</text>\n",
       "</g>\n",
       "<!-- 121&#45;&gt;122 -->\n",
       "<g id=\"edge122\" class=\"edge\">\n",
       "<title>121&#45;&gt;122</title>\n",
       "<path fill=\"none\" stroke=\"#000000\" d=\"M3887,-341.8796C3887,-333.6838 3887,-324.9891 3887,-316.5013\"/>\n",
       "<polygon fill=\"#000000\" stroke=\"#000000\" points=\"3890.5001,-316.298 3887,-306.2981 3883.5001,-316.2981 3890.5001,-316.298\"/>\n",
       "</g>\n",
       "<!-- 129 -->\n",
       "<g id=\"node130\" class=\"node\">\n",
       "<title>129</title>\n",
       "<path fill=\"#399de5\" stroke=\"#000000\" d=\"M4071,-298.5C4071,-298.5 3983,-298.5 3983,-298.5 3977,-298.5 3971,-292.5 3971,-286.5 3971,-286.5 3971,-242.5 3971,-242.5 3971,-236.5 3977,-230.5 3983,-230.5 3983,-230.5 4071,-230.5 4071,-230.5 4077,-230.5 4083,-236.5 4083,-242.5 4083,-242.5 4083,-286.5 4083,-286.5 4083,-292.5 4077,-298.5 4071,-298.5\"/>\n",
       "<text text-anchor=\"start\" x=\"3987\" y=\"-283.3\" font-family=\"Helvetica,sans-Serif\" font-size=\"14.00\" fill=\"#000000\">entropy = 0.0</text>\n",
       "<text text-anchor=\"start\" x=\"3989.5\" y=\"-268.3\" font-family=\"Helvetica,sans-Serif\" font-size=\"14.00\" fill=\"#000000\">samples = 2</text>\n",
       "<text text-anchor=\"start\" x=\"3987.5\" y=\"-253.3\" font-family=\"Helvetica,sans-Serif\" font-size=\"14.00\" fill=\"#000000\">value = [0, 2]</text>\n",
       "<text text-anchor=\"start\" x=\"3979\" y=\"-238.3\" font-family=\"Helvetica,sans-Serif\" font-size=\"14.00\" fill=\"#000000\">class = adopted</text>\n",
       "</g>\n",
       "<!-- 121&#45;&gt;129 -->\n",
       "<g id=\"edge129\" class=\"edge\">\n",
       "<title>121&#45;&gt;129</title>\n",
       "<path fill=\"none\" stroke=\"#000000\" d=\"M3935.9652,-341.8796C3949.8073,-330.1138 3964.8592,-317.3197 3978.6641,-305.5855\"/>\n",
       "<polygon fill=\"#000000\" stroke=\"#000000\" points=\"3981.2769,-307.9582 3986.6295,-298.8149 3976.7433,-302.6247 3981.2769,-307.9582\"/>\n",
       "</g>\n",
       "<!-- 123 -->\n",
       "<g id=\"node124\" class=\"node\">\n",
       "<title>123</title>\n",
       "<path fill=\"#ea985d\" stroke=\"#000000\" d=\"M3941,-187C3941,-187 3833,-187 3833,-187 3827,-187 3821,-181 3821,-175 3821,-175 3821,-116 3821,-116 3821,-110 3827,-104 3833,-104 3833,-104 3941,-104 3941,-104 3947,-104 3953,-110 3953,-116 3953,-116 3953,-175 3953,-175 3953,-181 3947,-187 3941,-187\"/>\n",
       "<text text-anchor=\"start\" x=\"3835.5\" y=\"-171.8\" font-family=\"Helvetica,sans-Serif\" font-size=\"14.00\" fill=\"#000000\">org_id_117 ≤ 0.5</text>\n",
       "<text text-anchor=\"start\" x=\"3839.5\" y=\"-156.8\" font-family=\"Helvetica,sans-Serif\" font-size=\"14.00\" fill=\"#000000\">entropy = 0.617</text>\n",
       "<text text-anchor=\"start\" x=\"3838.5\" y=\"-141.8\" font-family=\"Helvetica,sans-Serif\" font-size=\"14.00\" fill=\"#000000\">samples = 2087</text>\n",
       "<text text-anchor=\"start\" x=\"3829\" y=\"-126.8\" font-family=\"Helvetica,sans-Serif\" font-size=\"14.00\" fill=\"#000000\">value = [1768, 319]</text>\n",
       "<text text-anchor=\"start\" x=\"3854\" y=\"-111.8\" font-family=\"Helvetica,sans-Serif\" font-size=\"14.00\" fill=\"#000000\">class = not</text>\n",
       "</g>\n",
       "<!-- 122&#45;&gt;123 -->\n",
       "<g id=\"edge123\" class=\"edge\">\n",
       "<title>122&#45;&gt;123</title>\n",
       "<path fill=\"none\" stroke=\"#000000\" d=\"M3887,-222.8796C3887,-214.6838 3887,-205.9891 3887,-197.5013\"/>\n",
       "<polygon fill=\"#000000\" stroke=\"#000000\" points=\"3890.5001,-197.298 3887,-187.2981 3883.5001,-197.2981 3890.5001,-197.298\"/>\n",
       "</g>\n",
       "<!-- 126 -->\n",
       "<g id=\"node127\" class=\"node\">\n",
       "<title>126</title>\n",
       "<path fill=\"#e6843e\" stroke=\"#000000\" d=\"M4125.5,-187C4125.5,-187 4004.5,-187 4004.5,-187 3998.5,-187 3992.5,-181 3992.5,-175 3992.5,-175 3992.5,-116 3992.5,-116 3992.5,-110 3998.5,-104 4004.5,-104 4004.5,-104 4125.5,-104 4125.5,-104 4131.5,-104 4137.5,-110 4137.5,-116 4137.5,-116 4137.5,-175 4137.5,-175 4137.5,-181 4131.5,-187 4125.5,-187\"/>\n",
       "<text text-anchor=\"start\" x=\"4000.5\" y=\"-171.8\" font-family=\"Helvetica,sans-Serif\" font-size=\"14.00\" fill=\"#000000\">creation_month ≤ 8.5</text>\n",
       "<text text-anchor=\"start\" x=\"4017.5\" y=\"-156.8\" font-family=\"Helvetica,sans-Serif\" font-size=\"14.00\" fill=\"#000000\">entropy = 0.169</text>\n",
       "<text text-anchor=\"start\" x=\"4024\" y=\"-141.8\" font-family=\"Helvetica,sans-Serif\" font-size=\"14.00\" fill=\"#000000\">samples = 40</text>\n",
       "<text text-anchor=\"start\" x=\"4022\" y=\"-126.8\" font-family=\"Helvetica,sans-Serif\" font-size=\"14.00\" fill=\"#000000\">value = [39, 1]</text>\n",
       "<text text-anchor=\"start\" x=\"4032\" y=\"-111.8\" font-family=\"Helvetica,sans-Serif\" font-size=\"14.00\" fill=\"#000000\">class = not</text>\n",
       "</g>\n",
       "<!-- 122&#45;&gt;126 -->\n",
       "<g id=\"edge126\" class=\"edge\">\n",
       "<title>122&#45;&gt;126</title>\n",
       "<path fill=\"none\" stroke=\"#000000\" d=\"M3949.2558,-222.8796C3963.7542,-213.1868 3979.2965,-202.7961 3994.1363,-192.8752\"/>\n",
       "<polygon fill=\"#000000\" stroke=\"#000000\" points=\"3996.4113,-195.5644 4002.7794,-187.0969 3992.5208,-189.7451 3996.4113,-195.5644\"/>\n",
       "</g>\n",
       "<!-- 124 -->\n",
       "<g id=\"node125\" class=\"node\">\n",
       "<title>124</title>\n",
       "<path fill=\"#ea975c\" stroke=\"#000000\" d=\"M3849,-68C3849,-68 3741,-68 3741,-68 3735,-68 3729,-62 3729,-56 3729,-56 3729,-12 3729,-12 3729,-6 3735,0 3741,0 3741,0 3849,0 3849,0 3855,0 3861,-6 3861,-12 3861,-12 3861,-56 3861,-56 3861,-62 3855,-68 3849,-68\"/>\n",
       "<text text-anchor=\"start\" x=\"3747.5\" y=\"-52.8\" font-family=\"Helvetica,sans-Serif\" font-size=\"14.00\" fill=\"#000000\">entropy = 0.613</text>\n",
       "<text text-anchor=\"start\" x=\"3746.5\" y=\"-37.8\" font-family=\"Helvetica,sans-Serif\" font-size=\"14.00\" fill=\"#000000\">samples = 2080</text>\n",
       "<text text-anchor=\"start\" x=\"3737\" y=\"-22.8\" font-family=\"Helvetica,sans-Serif\" font-size=\"14.00\" fill=\"#000000\">value = [1765, 315]</text>\n",
       "<text text-anchor=\"start\" x=\"3762\" y=\"-7.8\" font-family=\"Helvetica,sans-Serif\" font-size=\"14.00\" fill=\"#000000\">class = not</text>\n",
       "</g>\n",
       "<!-- 123&#45;&gt;124 -->\n",
       "<g id=\"edge124\" class=\"edge\">\n",
       "<title>123&#45;&gt;124</title>\n",
       "<path fill=\"none\" stroke=\"#000000\" d=\"M3852.7426,-103.9815C3845.2351,-94.8828 3837.2804,-85.242 3829.7536,-76.1199\"/>\n",
       "<polygon fill=\"#000000\" stroke=\"#000000\" points=\"3832.3354,-73.7495 3823.2714,-68.2637 3826.9361,-78.2045 3832.3354,-73.7495\"/>\n",
       "</g>\n",
       "<!-- 125 -->\n",
       "<g id=\"node126\" class=\"node\">\n",
       "<title>125</title>\n",
       "<path fill=\"#cee6f8\" stroke=\"#000000\" d=\"M3979,-68C3979,-68 3891,-68 3891,-68 3885,-68 3879,-62 3879,-56 3879,-56 3879,-12 3879,-12 3879,-6 3885,0 3891,0 3891,0 3979,0 3979,0 3985,0 3991,-6 3991,-12 3991,-12 3991,-56 3991,-56 3991,-62 3985,-68 3979,-68\"/>\n",
       "<text text-anchor=\"start\" x=\"3887.5\" y=\"-52.8\" font-family=\"Helvetica,sans-Serif\" font-size=\"14.00\" fill=\"#000000\">entropy = 0.985</text>\n",
       "<text text-anchor=\"start\" x=\"3897.5\" y=\"-37.8\" font-family=\"Helvetica,sans-Serif\" font-size=\"14.00\" fill=\"#000000\">samples = 7</text>\n",
       "<text text-anchor=\"start\" x=\"3895.5\" y=\"-22.8\" font-family=\"Helvetica,sans-Serif\" font-size=\"14.00\" fill=\"#000000\">value = [3, 4]</text>\n",
       "<text text-anchor=\"start\" x=\"3887\" y=\"-7.8\" font-family=\"Helvetica,sans-Serif\" font-size=\"14.00\" fill=\"#000000\">class = adopted</text>\n",
       "</g>\n",
       "<!-- 123&#45;&gt;125 -->\n",
       "<g id=\"edge125\" class=\"edge\">\n",
       "<title>123&#45;&gt;125</title>\n",
       "<path fill=\"none\" stroke=\"#000000\" d=\"M3904.8734,-103.9815C3908.5926,-95.3423 3912.522,-86.2144 3916.271,-77.5059\"/>\n",
       "<polygon fill=\"#000000\" stroke=\"#000000\" points=\"3919.5103,-78.8327 3920.2497,-68.2637 3913.0808,-76.0648 3919.5103,-78.8327\"/>\n",
       "</g>\n",
       "<!-- 127 -->\n",
       "<g id=\"node128\" class=\"node\">\n",
       "<title>127</title>\n",
       "<path fill=\"#e78b48\" stroke=\"#000000\" d=\"M4108.5,-68C4108.5,-68 4021.5,-68 4021.5,-68 4015.5,-68 4009.5,-62 4009.5,-56 4009.5,-56 4009.5,-12 4009.5,-12 4009.5,-6 4015.5,0 4021.5,0 4021.5,0 4108.5,0 4108.5,0 4114.5,0 4120.5,-6 4120.5,-12 4120.5,-12 4120.5,-56 4120.5,-56 4120.5,-62 4114.5,-68 4108.5,-68\"/>\n",
       "<text text-anchor=\"start\" x=\"4017.5\" y=\"-52.8\" font-family=\"Helvetica,sans-Serif\" font-size=\"14.00\" fill=\"#000000\">entropy = 0.371</text>\n",
       "<text text-anchor=\"start\" x=\"4024\" y=\"-37.8\" font-family=\"Helvetica,sans-Serif\" font-size=\"14.00\" fill=\"#000000\">samples = 14</text>\n",
       "<text text-anchor=\"start\" x=\"4022\" y=\"-22.8\" font-family=\"Helvetica,sans-Serif\" font-size=\"14.00\" fill=\"#000000\">value = [13, 1]</text>\n",
       "<text text-anchor=\"start\" x=\"4032\" y=\"-7.8\" font-family=\"Helvetica,sans-Serif\" font-size=\"14.00\" fill=\"#000000\">class = not</text>\n",
       "</g>\n",
       "<!-- 126&#45;&gt;127 -->\n",
       "<g id=\"edge127\" class=\"edge\">\n",
       "<title>126&#45;&gt;127</title>\n",
       "<path fill=\"none\" stroke=\"#000000\" d=\"M4065,-103.9815C4065,-95.618 4065,-86.7965 4065,-78.3409\"/>\n",
       "<polygon fill=\"#000000\" stroke=\"#000000\" points=\"4068.5001,-78.2636 4065,-68.2637 4061.5001,-78.2637 4068.5001,-78.2636\"/>\n",
       "</g>\n",
       "<!-- 128 -->\n",
       "<g id=\"node129\" class=\"node\">\n",
       "<title>128</title>\n",
       "<path fill=\"#e58139\" stroke=\"#000000\" d=\"M4229,-68C4229,-68 4151,-68 4151,-68 4145,-68 4139,-62 4139,-56 4139,-56 4139,-12 4139,-12 4139,-6 4145,0 4151,0 4151,0 4229,0 4229,0 4235,0 4241,-6 4241,-12 4241,-12 4241,-56 4241,-56 4241,-62 4235,-68 4229,-68\"/>\n",
       "<text text-anchor=\"start\" x=\"4150\" y=\"-52.8\" font-family=\"Helvetica,sans-Serif\" font-size=\"14.00\" fill=\"#000000\">entropy = 0.0</text>\n",
       "<text text-anchor=\"start\" x=\"4149\" y=\"-37.8\" font-family=\"Helvetica,sans-Serif\" font-size=\"14.00\" fill=\"#000000\">samples = 26</text>\n",
       "<text text-anchor=\"start\" x=\"4147\" y=\"-22.8\" font-family=\"Helvetica,sans-Serif\" font-size=\"14.00\" fill=\"#000000\">value = [26, 0]</text>\n",
       "<text text-anchor=\"start\" x=\"4157\" y=\"-7.8\" font-family=\"Helvetica,sans-Serif\" font-size=\"14.00\" fill=\"#000000\">class = not</text>\n",
       "</g>\n",
       "<!-- 126&#45;&gt;128 -->\n",
       "<g id=\"edge128\" class=\"edge\">\n",
       "<title>126&#45;&gt;128</title>\n",
       "<path fill=\"none\" stroke=\"#000000\" d=\"M4111.5454,-103.9815C4122.1579,-94.5151 4133.4282,-84.462 4144.0171,-75.0168\"/>\n",
       "<polygon fill=\"#000000\" stroke=\"#000000\" points=\"4146.4551,-77.5322 4151.5878,-68.2637 4141.7954,-72.3084 4146.4551,-77.5322\"/>\n",
       "</g>\n",
       "<!-- 132 -->\n",
       "<g id=\"node133\" class=\"node\">\n",
       "<title>132</title>\n",
       "<path fill=\"#f2c09c\" stroke=\"#000000\" d=\"M4286.5,-425C4286.5,-425 4113.5,-425 4113.5,-425 4107.5,-425 4101.5,-419 4101.5,-413 4101.5,-413 4101.5,-354 4101.5,-354 4101.5,-348 4107.5,-342 4113.5,-342 4113.5,-342 4286.5,-342 4286.5,-342 4292.5,-342 4298.5,-348 4298.5,-354 4298.5,-354 4298.5,-413 4298.5,-413 4298.5,-419 4292.5,-425 4286.5,-425\"/>\n",
       "<text text-anchor=\"start\" x=\"4109.5\" y=\"-409.8\" font-family=\"Helvetica,sans-Serif\" font-size=\"14.00\" fill=\"#000000\">opted_in_to_mailing_list ≤ 0.5</text>\n",
       "<text text-anchor=\"start\" x=\"4152.5\" y=\"-394.8\" font-family=\"Helvetica,sans-Serif\" font-size=\"14.00\" fill=\"#000000\">entropy = 0.918</text>\n",
       "<text text-anchor=\"start\" x=\"4162.5\" y=\"-379.8\" font-family=\"Helvetica,sans-Serif\" font-size=\"14.00\" fill=\"#000000\">samples = 3</text>\n",
       "<text text-anchor=\"start\" x=\"4160.5\" y=\"-364.8\" font-family=\"Helvetica,sans-Serif\" font-size=\"14.00\" fill=\"#000000\">value = [2, 1]</text>\n",
       "<text text-anchor=\"start\" x=\"4167\" y=\"-349.8\" font-family=\"Helvetica,sans-Serif\" font-size=\"14.00\" fill=\"#000000\">class = not</text>\n",
       "</g>\n",
       "<!-- 131&#45;&gt;132 -->\n",
       "<g id=\"edge132\" class=\"edge\">\n",
       "<title>131&#45;&gt;132</title>\n",
       "<path fill=\"none\" stroke=\"#000000\" d=\"M4200,-460.8796C4200,-452.6838 4200,-443.9891 4200,-435.5013\"/>\n",
       "<polygon fill=\"#000000\" stroke=\"#000000\" points=\"4203.5001,-435.298 4200,-425.2981 4196.5001,-435.2981 4203.5001,-435.298\"/>\n",
       "</g>\n",
       "<!-- 135 -->\n",
       "<g id=\"node136\" class=\"node\">\n",
       "<title>135</title>\n",
       "<path fill=\"#399de5\" stroke=\"#000000\" d=\"M4417,-417.5C4417,-417.5 4329,-417.5 4329,-417.5 4323,-417.5 4317,-411.5 4317,-405.5 4317,-405.5 4317,-361.5 4317,-361.5 4317,-355.5 4323,-349.5 4329,-349.5 4329,-349.5 4417,-349.5 4417,-349.5 4423,-349.5 4429,-355.5 4429,-361.5 4429,-361.5 4429,-405.5 4429,-405.5 4429,-411.5 4423,-417.5 4417,-417.5\"/>\n",
       "<text text-anchor=\"start\" x=\"4333\" y=\"-402.3\" font-family=\"Helvetica,sans-Serif\" font-size=\"14.00\" fill=\"#000000\">entropy = 0.0</text>\n",
       "<text text-anchor=\"start\" x=\"4335.5\" y=\"-387.3\" font-family=\"Helvetica,sans-Serif\" font-size=\"14.00\" fill=\"#000000\">samples = 4</text>\n",
       "<text text-anchor=\"start\" x=\"4333.5\" y=\"-372.3\" font-family=\"Helvetica,sans-Serif\" font-size=\"14.00\" fill=\"#000000\">value = [0, 4]</text>\n",
       "<text text-anchor=\"start\" x=\"4325\" y=\"-357.3\" font-family=\"Helvetica,sans-Serif\" font-size=\"14.00\" fill=\"#000000\">class = adopted</text>\n",
       "</g>\n",
       "<!-- 131&#45;&gt;135 -->\n",
       "<g id=\"edge135\" class=\"edge\">\n",
       "<title>131&#45;&gt;135</title>\n",
       "<path fill=\"none\" stroke=\"#000000\" d=\"M4260.507,-460.8796C4278.1752,-448.7263 4297.4385,-435.4759 4314.9509,-423.4297\"/>\n",
       "<polygon fill=\"#000000\" stroke=\"#000000\" points=\"4317.1371,-426.1741 4323.3926,-417.623 4313.1699,-420.4067 4317.1371,-426.1741\"/>\n",
       "</g>\n",
       "<!-- 133 -->\n",
       "<g id=\"node134\" class=\"node\">\n",
       "<title>133</title>\n",
       "<path fill=\"#e58139\" stroke=\"#000000\" d=\"M4211,-298.5C4211,-298.5 4139,-298.5 4139,-298.5 4133,-298.5 4127,-292.5 4127,-286.5 4127,-286.5 4127,-242.5 4127,-242.5 4127,-236.5 4133,-230.5 4139,-230.5 4139,-230.5 4211,-230.5 4211,-230.5 4217,-230.5 4223,-236.5 4223,-242.5 4223,-242.5 4223,-286.5 4223,-286.5 4223,-292.5 4217,-298.5 4211,-298.5\"/>\n",
       "<text text-anchor=\"start\" x=\"4135\" y=\"-283.3\" font-family=\"Helvetica,sans-Serif\" font-size=\"14.00\" fill=\"#000000\">entropy = 0.0</text>\n",
       "<text text-anchor=\"start\" x=\"4137.5\" y=\"-268.3\" font-family=\"Helvetica,sans-Serif\" font-size=\"14.00\" fill=\"#000000\">samples = 2</text>\n",
       "<text text-anchor=\"start\" x=\"4135.5\" y=\"-253.3\" font-family=\"Helvetica,sans-Serif\" font-size=\"14.00\" fill=\"#000000\">value = [2, 0]</text>\n",
       "<text text-anchor=\"start\" x=\"4142\" y=\"-238.3\" font-family=\"Helvetica,sans-Serif\" font-size=\"14.00\" fill=\"#000000\">class = not</text>\n",
       "</g>\n",
       "<!-- 132&#45;&gt;133 -->\n",
       "<g id=\"edge133\" class=\"edge\">\n",
       "<title>132&#45;&gt;133</title>\n",
       "<path fill=\"none\" stroke=\"#000000\" d=\"M4191.2562,-341.8796C4189.0154,-331.2134 4186.5971,-319.7021 4184.3281,-308.9015\"/>\n",
       "<polygon fill=\"#000000\" stroke=\"#000000\" points=\"4187.6903,-307.8817 4182.209,-298.8149 4180.8398,-309.3209 4187.6903,-307.8817\"/>\n",
       "</g>\n",
       "<!-- 134 -->\n",
       "<g id=\"node135\" class=\"node\">\n",
       "<title>134</title>\n",
       "<path fill=\"#399de5\" stroke=\"#000000\" d=\"M4341,-298.5C4341,-298.5 4253,-298.5 4253,-298.5 4247,-298.5 4241,-292.5 4241,-286.5 4241,-286.5 4241,-242.5 4241,-242.5 4241,-236.5 4247,-230.5 4253,-230.5 4253,-230.5 4341,-230.5 4341,-230.5 4347,-230.5 4353,-236.5 4353,-242.5 4353,-242.5 4353,-286.5 4353,-286.5 4353,-292.5 4347,-298.5 4341,-298.5\"/>\n",
       "<text text-anchor=\"start\" x=\"4257\" y=\"-283.3\" font-family=\"Helvetica,sans-Serif\" font-size=\"14.00\" fill=\"#000000\">entropy = 0.0</text>\n",
       "<text text-anchor=\"start\" x=\"4259.5\" y=\"-268.3\" font-family=\"Helvetica,sans-Serif\" font-size=\"14.00\" fill=\"#000000\">samples = 1</text>\n",
       "<text text-anchor=\"start\" x=\"4257.5\" y=\"-253.3\" font-family=\"Helvetica,sans-Serif\" font-size=\"14.00\" fill=\"#000000\">value = [0, 1]</text>\n",
       "<text text-anchor=\"start\" x=\"4249\" y=\"-238.3\" font-family=\"Helvetica,sans-Serif\" font-size=\"14.00\" fill=\"#000000\">class = adopted</text>\n",
       "</g>\n",
       "<!-- 132&#45;&gt;134 -->\n",
       "<g id=\"edge134\" class=\"edge\">\n",
       "<title>132&#45;&gt;134</title>\n",
       "<path fill=\"none\" stroke=\"#000000\" d=\"M4233.9259,-341.8796C4243.2476,-330.4436 4253.3612,-318.0363 4262.7036,-306.575\"/>\n",
       "<polygon fill=\"#000000\" stroke=\"#000000\" points=\"4265.4237,-308.7775 4269.029,-298.8149 4259.9979,-304.3548 4265.4237,-308.7775\"/>\n",
       "</g>\n",
       "<!-- 139 -->\n",
       "<g id=\"node140\" class=\"node\">\n",
       "<title>139</title>\n",
       "<path fill=\"#e78c4a\" stroke=\"#000000\" d=\"M5720,-1020C5720,-1020 5612,-1020 5612,-1020 5606,-1020 5600,-1014 5600,-1008 5600,-1008 5600,-949 5600,-949 5600,-943 5606,-937 5612,-937 5612,-937 5720,-937 5720,-937 5726,-937 5732,-943 5732,-949 5732,-949 5732,-1008 5732,-1008 5732,-1014 5726,-1020 5720,-1020\"/>\n",
       "<text text-anchor=\"start\" x=\"5614.5\" y=\"-1004.8\" font-family=\"Helvetica,sans-Serif\" font-size=\"14.00\" fill=\"#000000\">org_id_124 ≤ 0.5</text>\n",
       "<text text-anchor=\"start\" x=\"5618.5\" y=\"-989.8\" font-family=\"Helvetica,sans-Serif\" font-size=\"14.00\" fill=\"#000000\">entropy = 0.403</text>\n",
       "<text text-anchor=\"start\" x=\"5617.5\" y=\"-974.8\" font-family=\"Helvetica,sans-Serif\" font-size=\"14.00\" fill=\"#000000\">samples = 2107</text>\n",
       "<text text-anchor=\"start\" x=\"5608\" y=\"-959.8\" font-family=\"Helvetica,sans-Serif\" font-size=\"14.00\" fill=\"#000000\">value = [1938, 169]</text>\n",
       "<text text-anchor=\"start\" x=\"5633\" y=\"-944.8\" font-family=\"Helvetica,sans-Serif\" font-size=\"14.00\" fill=\"#000000\">class = not</text>\n",
       "</g>\n",
       "<!-- 138&#45;&gt;139 -->\n",
       "<g id=\"edge139\" class=\"edge\">\n",
       "<title>138&#45;&gt;139</title>\n",
       "<path fill=\"none\" stroke=\"#000000\" d=\"M5666,-1055.8796C5666,-1047.6838 5666,-1038.9891 5666,-1030.5013\"/>\n",
       "<polygon fill=\"#000000\" stroke=\"#000000\" points=\"5669.5001,-1030.298 5666,-1020.2981 5662.5001,-1030.2981 5669.5001,-1030.298\"/>\n",
       "</g>\n",
       "<!-- 180 -->\n",
       "<g id=\"node181\" class=\"node\">\n",
       "<title>180</title>\n",
       "<path fill=\"#7bbeee\" stroke=\"#000000\" d=\"M6094.5,-1020C6094.5,-1020 5973.5,-1020 5973.5,-1020 5967.5,-1020 5961.5,-1014 5961.5,-1008 5961.5,-1008 5961.5,-949 5961.5,-949 5961.5,-943 5967.5,-937 5973.5,-937 5973.5,-937 6094.5,-937 6094.5,-937 6100.5,-937 6106.5,-943 6106.5,-949 6106.5,-949 6106.5,-1008 6106.5,-1008 6106.5,-1014 6100.5,-1020 6094.5,-1020\"/>\n",
       "<text text-anchor=\"start\" x=\"5969.5\" y=\"-1004.8\" font-family=\"Helvetica,sans-Serif\" font-size=\"14.00\" fill=\"#000000\">creation_month ≤ 8.5</text>\n",
       "<text text-anchor=\"start\" x=\"5986.5\" y=\"-989.8\" font-family=\"Helvetica,sans-Serif\" font-size=\"14.00\" fill=\"#000000\">entropy = 0.811</text>\n",
       "<text text-anchor=\"start\" x=\"5996.5\" y=\"-974.8\" font-family=\"Helvetica,sans-Serif\" font-size=\"14.00\" fill=\"#000000\">samples = 4</text>\n",
       "<text text-anchor=\"start\" x=\"5994.5\" y=\"-959.8\" font-family=\"Helvetica,sans-Serif\" font-size=\"14.00\" fill=\"#000000\">value = [1, 3]</text>\n",
       "<text text-anchor=\"start\" x=\"5986\" y=\"-944.8\" font-family=\"Helvetica,sans-Serif\" font-size=\"14.00\" fill=\"#000000\">class = adopted</text>\n",
       "</g>\n",
       "<!-- 138&#45;&gt;180 -->\n",
       "<g id=\"edge180\" class=\"edge\">\n",
       "<title>138&#45;&gt;180</title>\n",
       "<path fill=\"none\" stroke=\"#000000\" d=\"M5732.216,-1076.0877C5793.7526,-1056.1887 5885.6111,-1026.4845 5951.8101,-1005.0777\"/>\n",
       "<polygon fill=\"#000000\" stroke=\"#000000\" points=\"5952.9463,-1008.3888 5961.3843,-1001.9817 5950.7925,-1001.7284 5952.9463,-1008.3888\"/>\n",
       "</g>\n",
       "<!-- 140 -->\n",
       "<g id=\"node141\" class=\"node\">\n",
       "<title>140</title>\n",
       "<path fill=\"#e78c4a\" stroke=\"#000000\" d=\"M5616,-901C5616,-901 5508,-901 5508,-901 5502,-901 5496,-895 5496,-889 5496,-889 5496,-830 5496,-830 5496,-824 5502,-818 5508,-818 5508,-818 5616,-818 5616,-818 5622,-818 5628,-824 5628,-830 5628,-830 5628,-889 5628,-889 5628,-895 5622,-901 5616,-901\"/>\n",
       "<text text-anchor=\"start\" x=\"5510.5\" y=\"-885.8\" font-family=\"Helvetica,sans-Serif\" font-size=\"14.00\" fill=\"#000000\">org_id_285 ≤ 0.5</text>\n",
       "<text text-anchor=\"start\" x=\"5514.5\" y=\"-870.8\" font-family=\"Helvetica,sans-Serif\" font-size=\"14.00\" fill=\"#000000\">entropy = 0.399</text>\n",
       "<text text-anchor=\"start\" x=\"5513.5\" y=\"-855.8\" font-family=\"Helvetica,sans-Serif\" font-size=\"14.00\" fill=\"#000000\">samples = 2102</text>\n",
       "<text text-anchor=\"start\" x=\"5504\" y=\"-840.8\" font-family=\"Helvetica,sans-Serif\" font-size=\"14.00\" fill=\"#000000\">value = [1936, 166]</text>\n",
       "<text text-anchor=\"start\" x=\"5529\" y=\"-825.8\" font-family=\"Helvetica,sans-Serif\" font-size=\"14.00\" fill=\"#000000\">class = not</text>\n",
       "</g>\n",
       "<!-- 139&#45;&gt;140 -->\n",
       "<g id=\"edge140\" class=\"edge\">\n",
       "<title>139&#45;&gt;140</title>\n",
       "<path fill=\"none\" stroke=\"#000000\" d=\"M5629.6258,-936.8796C5621.7548,-927.8733 5613.3571,-918.2644 5605.2515,-908.9897\"/>\n",
       "<polygon fill=\"#000000\" stroke=\"#000000\" points=\"5607.7454,-906.5246 5598.5294,-901.2981 5602.4746,-911.131 5607.7454,-906.5246\"/>\n",
       "</g>\n",
       "<!-- 175 -->\n",
       "<g id=\"node176\" class=\"node\">\n",
       "<title>175</title>\n",
       "<path fill=\"#bddef6\" stroke=\"#000000\" d=\"M5856.5,-901C5856.5,-901 5683.5,-901 5683.5,-901 5677.5,-901 5671.5,-895 5671.5,-889 5671.5,-889 5671.5,-830 5671.5,-830 5671.5,-824 5677.5,-818 5683.5,-818 5683.5,-818 5856.5,-818 5856.5,-818 5862.5,-818 5868.5,-824 5868.5,-830 5868.5,-830 5868.5,-889 5868.5,-889 5868.5,-895 5862.5,-901 5856.5,-901\"/>\n",
       "<text text-anchor=\"start\" x=\"5679.5\" y=\"-885.8\" font-family=\"Helvetica,sans-Serif\" font-size=\"14.00\" fill=\"#000000\">opted_in_to_mailing_list ≤ 0.5</text>\n",
       "<text text-anchor=\"start\" x=\"5722.5\" y=\"-870.8\" font-family=\"Helvetica,sans-Serif\" font-size=\"14.00\" fill=\"#000000\">entropy = 0.971</text>\n",
       "<text text-anchor=\"start\" x=\"5732.5\" y=\"-855.8\" font-family=\"Helvetica,sans-Serif\" font-size=\"14.00\" fill=\"#000000\">samples = 5</text>\n",
       "<text text-anchor=\"start\" x=\"5730.5\" y=\"-840.8\" font-family=\"Helvetica,sans-Serif\" font-size=\"14.00\" fill=\"#000000\">value = [2, 3]</text>\n",
       "<text text-anchor=\"start\" x=\"5722\" y=\"-825.8\" font-family=\"Helvetica,sans-Serif\" font-size=\"14.00\" fill=\"#000000\">class = adopted</text>\n",
       "</g>\n",
       "<!-- 139&#45;&gt;175 -->\n",
       "<g id=\"edge175\" class=\"edge\">\n",
       "<title>139&#45;&gt;175</title>\n",
       "<path fill=\"none\" stroke=\"#000000\" d=\"M5702.3742,-936.8796C5710.2452,-927.8733 5718.6429,-918.2644 5726.7485,-908.9897\"/>\n",
       "<polygon fill=\"#000000\" stroke=\"#000000\" points=\"5729.5254,-911.131 5733.4706,-901.2981 5724.2546,-906.5246 5729.5254,-911.131\"/>\n",
       "</g>\n",
       "<!-- 141 -->\n",
       "<g id=\"node142\" class=\"node\">\n",
       "<title>141</title>\n",
       "<path fill=\"#e78c4a\" stroke=\"#000000\" d=\"M5446,-782C5446,-782 5338,-782 5338,-782 5332,-782 5326,-776 5326,-770 5326,-770 5326,-711 5326,-711 5326,-705 5332,-699 5338,-699 5338,-699 5446,-699 5446,-699 5452,-699 5458,-705 5458,-711 5458,-711 5458,-770 5458,-770 5458,-776 5452,-782 5446,-782\"/>\n",
       "<text text-anchor=\"start\" x=\"5340.5\" y=\"-766.8\" font-family=\"Helvetica,sans-Serif\" font-size=\"14.00\" fill=\"#000000\">org_id_387 ≤ 0.5</text>\n",
       "<text text-anchor=\"start\" x=\"5344.5\" y=\"-751.8\" font-family=\"Helvetica,sans-Serif\" font-size=\"14.00\" fill=\"#000000\">entropy = 0.396</text>\n",
       "<text text-anchor=\"start\" x=\"5343.5\" y=\"-736.8\" font-family=\"Helvetica,sans-Serif\" font-size=\"14.00\" fill=\"#000000\">samples = 2099</text>\n",
       "<text text-anchor=\"start\" x=\"5334\" y=\"-721.8\" font-family=\"Helvetica,sans-Serif\" font-size=\"14.00\" fill=\"#000000\">value = [1935, 164]</text>\n",
       "<text text-anchor=\"start\" x=\"5359\" y=\"-706.8\" font-family=\"Helvetica,sans-Serif\" font-size=\"14.00\" fill=\"#000000\">class = not</text>\n",
       "</g>\n",
       "<!-- 140&#45;&gt;141 -->\n",
       "<g id=\"edge141\" class=\"edge\">\n",
       "<title>140&#45;&gt;141</title>\n",
       "<path fill=\"none\" stroke=\"#000000\" d=\"M5502.5422,-817.8796C5488.6954,-808.1868 5473.8516,-797.7961 5459.6788,-787.8752\"/>\n",
       "<polygon fill=\"#000000\" stroke=\"#000000\" points=\"5461.6236,-784.9643 5451.4242,-782.0969 5457.6094,-790.6989 5461.6236,-784.9643\"/>\n",
       "</g>\n",
       "<!-- 172 -->\n",
       "<g id=\"node173\" class=\"node\">\n",
       "<title>172</title>\n",
       "<path fill=\"#9ccef2\" stroke=\"#000000\" d=\"M5622.5,-782C5622.5,-782 5501.5,-782 5501.5,-782 5495.5,-782 5489.5,-776 5489.5,-770 5489.5,-770 5489.5,-711 5489.5,-711 5489.5,-705 5495.5,-699 5501.5,-699 5501.5,-699 5622.5,-699 5622.5,-699 5628.5,-699 5634.5,-705 5634.5,-711 5634.5,-711 5634.5,-770 5634.5,-770 5634.5,-776 5628.5,-782 5622.5,-782\"/>\n",
       "<text text-anchor=\"start\" x=\"5497.5\" y=\"-766.8\" font-family=\"Helvetica,sans-Serif\" font-size=\"14.00\" fill=\"#000000\">creation_month ≤ 4.5</text>\n",
       "<text text-anchor=\"start\" x=\"5514.5\" y=\"-751.8\" font-family=\"Helvetica,sans-Serif\" font-size=\"14.00\" fill=\"#000000\">entropy = 0.918</text>\n",
       "<text text-anchor=\"start\" x=\"5524.5\" y=\"-736.8\" font-family=\"Helvetica,sans-Serif\" font-size=\"14.00\" fill=\"#000000\">samples = 3</text>\n",
       "<text text-anchor=\"start\" x=\"5522.5\" y=\"-721.8\" font-family=\"Helvetica,sans-Serif\" font-size=\"14.00\" fill=\"#000000\">value = [1, 2]</text>\n",
       "<text text-anchor=\"start\" x=\"5514\" y=\"-706.8\" font-family=\"Helvetica,sans-Serif\" font-size=\"14.00\" fill=\"#000000\">class = adopted</text>\n",
       "</g>\n",
       "<!-- 140&#45;&gt;172 -->\n",
       "<g id=\"edge172\" class=\"edge\">\n",
       "<title>140&#45;&gt;172</title>\n",
       "<path fill=\"none\" stroke=\"#000000\" d=\"M5562,-817.8796C5562,-809.6838 5562,-800.9891 5562,-792.5013\"/>\n",
       "<polygon fill=\"#000000\" stroke=\"#000000\" points=\"5565.5001,-792.298 5562,-782.2981 5558.5001,-792.2981 5565.5001,-792.298\"/>\n",
       "</g>\n",
       "<!-- 142 -->\n",
       "<g id=\"node143\" class=\"node\">\n",
       "<title>142</title>\n",
       "<path fill=\"#e78c4a\" stroke=\"#000000\" d=\"M5285,-663C5285,-663 5177,-663 5177,-663 5171,-663 5165,-657 5165,-651 5165,-651 5165,-592 5165,-592 5165,-586 5171,-580 5177,-580 5177,-580 5285,-580 5285,-580 5291,-580 5297,-586 5297,-592 5297,-592 5297,-651 5297,-651 5297,-657 5291,-663 5285,-663\"/>\n",
       "<text text-anchor=\"start\" x=\"5179.5\" y=\"-647.8\" font-family=\"Helvetica,sans-Serif\" font-size=\"14.00\" fill=\"#000000\">org_id_179 ≤ 0.5</text>\n",
       "<text text-anchor=\"start\" x=\"5183.5\" y=\"-632.8\" font-family=\"Helvetica,sans-Serif\" font-size=\"14.00\" fill=\"#000000\">entropy = 0.393</text>\n",
       "<text text-anchor=\"start\" x=\"5182.5\" y=\"-617.8\" font-family=\"Helvetica,sans-Serif\" font-size=\"14.00\" fill=\"#000000\">samples = 2096</text>\n",
       "<text text-anchor=\"start\" x=\"5173\" y=\"-602.8\" font-family=\"Helvetica,sans-Serif\" font-size=\"14.00\" fill=\"#000000\">value = [1934, 162]</text>\n",
       "<text text-anchor=\"start\" x=\"5198\" y=\"-587.8\" font-family=\"Helvetica,sans-Serif\" font-size=\"14.00\" fill=\"#000000\">class = not</text>\n",
       "</g>\n",
       "<!-- 141&#45;&gt;142 -->\n",
       "<g id=\"edge142\" class=\"edge\">\n",
       "<title>141&#45;&gt;142</title>\n",
       "<path fill=\"none\" stroke=\"#000000\" d=\"M5335.69,-698.8796C5322.6988,-689.2774 5308.781,-678.9903 5295.4723,-669.1534\"/>\n",
       "<polygon fill=\"#000000\" stroke=\"#000000\" points=\"5297.4004,-666.2263 5287.2782,-663.0969 5293.2396,-671.8555 5297.4004,-666.2263\"/>\n",
       "</g>\n",
       "<!-- 169 -->\n",
       "<g id=\"node170\" class=\"node\">\n",
       "<title>169</title>\n",
       "<path fill=\"#9ccef2\" stroke=\"#000000\" d=\"M5452.5,-663C5452.5,-663 5331.5,-663 5331.5,-663 5325.5,-663 5319.5,-657 5319.5,-651 5319.5,-651 5319.5,-592 5319.5,-592 5319.5,-586 5325.5,-580 5331.5,-580 5331.5,-580 5452.5,-580 5452.5,-580 5458.5,-580 5464.5,-586 5464.5,-592 5464.5,-592 5464.5,-651 5464.5,-651 5464.5,-657 5458.5,-663 5452.5,-663\"/>\n",
       "<text text-anchor=\"start\" x=\"5327.5\" y=\"-647.8\" font-family=\"Helvetica,sans-Serif\" font-size=\"14.00\" fill=\"#000000\">creation_month ≤ 9.5</text>\n",
       "<text text-anchor=\"start\" x=\"5344.5\" y=\"-632.8\" font-family=\"Helvetica,sans-Serif\" font-size=\"14.00\" fill=\"#000000\">entropy = 0.918</text>\n",
       "<text text-anchor=\"start\" x=\"5354.5\" y=\"-617.8\" font-family=\"Helvetica,sans-Serif\" font-size=\"14.00\" fill=\"#000000\">samples = 3</text>\n",
       "<text text-anchor=\"start\" x=\"5352.5\" y=\"-602.8\" font-family=\"Helvetica,sans-Serif\" font-size=\"14.00\" fill=\"#000000\">value = [1, 2]</text>\n",
       "<text text-anchor=\"start\" x=\"5344\" y=\"-587.8\" font-family=\"Helvetica,sans-Serif\" font-size=\"14.00\" fill=\"#000000\">class = adopted</text>\n",
       "</g>\n",
       "<!-- 141&#45;&gt;169 -->\n",
       "<g id=\"edge169\" class=\"edge\">\n",
       "<title>141&#45;&gt;169</title>\n",
       "<path fill=\"none\" stroke=\"#000000\" d=\"M5392,-698.8796C5392,-690.6838 5392,-681.9891 5392,-673.5013\"/>\n",
       "<polygon fill=\"#000000\" stroke=\"#000000\" points=\"5395.5001,-673.298 5392,-663.2981 5388.5001,-673.2981 5395.5001,-673.298\"/>\n",
       "</g>\n",
       "<!-- 143 -->\n",
       "<g id=\"node144\" class=\"node\">\n",
       "<title>143</title>\n",
       "<path fill=\"#e78b49\" stroke=\"#000000\" d=\"M5055,-544C5055,-544 4947,-544 4947,-544 4941,-544 4935,-538 4935,-532 4935,-532 4935,-473 4935,-473 4935,-467 4941,-461 4947,-461 4947,-461 5055,-461 5055,-461 5061,-461 5067,-467 5067,-473 5067,-473 5067,-532 5067,-532 5067,-538 5061,-544 5055,-544\"/>\n",
       "<text text-anchor=\"start\" x=\"4949.5\" y=\"-528.8\" font-family=\"Helvetica,sans-Serif\" font-size=\"14.00\" fill=\"#000000\">org_id_154 ≤ 0.5</text>\n",
       "<text text-anchor=\"start\" x=\"4957\" y=\"-513.8\" font-family=\"Helvetica,sans-Serif\" font-size=\"14.00\" fill=\"#000000\">entropy = 0.39</text>\n",
       "<text text-anchor=\"start\" x=\"4952.5\" y=\"-498.8\" font-family=\"Helvetica,sans-Serif\" font-size=\"14.00\" fill=\"#000000\">samples = 2092</text>\n",
       "<text text-anchor=\"start\" x=\"4943\" y=\"-483.8\" font-family=\"Helvetica,sans-Serif\" font-size=\"14.00\" fill=\"#000000\">value = [1932, 160]</text>\n",
       "<text text-anchor=\"start\" x=\"4968\" y=\"-468.8\" font-family=\"Helvetica,sans-Serif\" font-size=\"14.00\" fill=\"#000000\">class = not</text>\n",
       "</g>\n",
       "<!-- 142&#45;&gt;143 -->\n",
       "<g id=\"edge143\" class=\"edge\">\n",
       "<title>142&#45;&gt;143</title>\n",
       "<path fill=\"none\" stroke=\"#000000\" d=\"M5164.783,-587.2399C5137.1212,-572.9279 5104.8368,-556.2243 5076.2784,-541.4484\"/>\n",
       "<polygon fill=\"#000000\" stroke=\"#000000\" points=\"5077.6377,-538.211 5067.1477,-536.7242 5074.421,-544.4282 5077.6377,-538.211\"/>\n",
       "</g>\n",
       "<!-- 164 -->\n",
       "<g id=\"node165\" class=\"node\">\n",
       "<title>164</title>\n",
       "<path fill=\"#ffffff\" stroke=\"#000000\" d=\"M5317.5,-544C5317.5,-544 5144.5,-544 5144.5,-544 5138.5,-544 5132.5,-538 5132.5,-532 5132.5,-532 5132.5,-473 5132.5,-473 5132.5,-467 5138.5,-461 5144.5,-461 5144.5,-461 5317.5,-461 5317.5,-461 5323.5,-461 5329.5,-467 5329.5,-473 5329.5,-473 5329.5,-532 5329.5,-532 5329.5,-538 5323.5,-544 5317.5,-544\"/>\n",
       "<text text-anchor=\"start\" x=\"5140.5\" y=\"-528.8\" font-family=\"Helvetica,sans-Serif\" font-size=\"14.00\" fill=\"#000000\">opted_in_to_mailing_list ≤ 0.5</text>\n",
       "<text text-anchor=\"start\" x=\"5191\" y=\"-513.8\" font-family=\"Helvetica,sans-Serif\" font-size=\"14.00\" fill=\"#000000\">entropy = 1.0</text>\n",
       "<text text-anchor=\"start\" x=\"5193.5\" y=\"-498.8\" font-family=\"Helvetica,sans-Serif\" font-size=\"14.00\" fill=\"#000000\">samples = 4</text>\n",
       "<text text-anchor=\"start\" x=\"5191.5\" y=\"-483.8\" font-family=\"Helvetica,sans-Serif\" font-size=\"14.00\" fill=\"#000000\">value = [2, 2]</text>\n",
       "<text text-anchor=\"start\" x=\"5198\" y=\"-468.8\" font-family=\"Helvetica,sans-Serif\" font-size=\"14.00\" fill=\"#000000\">class = not</text>\n",
       "</g>\n",
       "<!-- 142&#45;&gt;164 -->\n",
       "<g id=\"edge164\" class=\"edge\">\n",
       "<title>142&#45;&gt;164</title>\n",
       "<path fill=\"none\" stroke=\"#000000\" d=\"M5231,-579.8796C5231,-571.6838 5231,-562.9891 5231,-554.5013\"/>\n",
       "<polygon fill=\"#000000\" stroke=\"#000000\" points=\"5234.5001,-554.298 5231,-544.2981 5227.5001,-554.2981 5234.5001,-554.298\"/>\n",
       "</g>\n",
       "<!-- 144 -->\n",
       "<g id=\"node145\" class=\"node\">\n",
       "<title>144</title>\n",
       "<path fill=\"#e78b49\" stroke=\"#000000\" d=\"M4866,-425C4866,-425 4758,-425 4758,-425 4752,-425 4746,-419 4746,-413 4746,-413 4746,-354 4746,-354 4746,-348 4752,-342 4758,-342 4758,-342 4866,-342 4866,-342 4872,-342 4878,-348 4878,-354 4878,-354 4878,-413 4878,-413 4878,-419 4872,-425 4866,-425\"/>\n",
       "<text text-anchor=\"start\" x=\"4760.5\" y=\"-409.8\" font-family=\"Helvetica,sans-Serif\" font-size=\"14.00\" fill=\"#000000\">org_id_133 ≤ 0.5</text>\n",
       "<text text-anchor=\"start\" x=\"4764.5\" y=\"-394.8\" font-family=\"Helvetica,sans-Serif\" font-size=\"14.00\" fill=\"#000000\">entropy = 0.387</text>\n",
       "<text text-anchor=\"start\" x=\"4763.5\" y=\"-379.8\" font-family=\"Helvetica,sans-Serif\" font-size=\"14.00\" fill=\"#000000\">samples = 2088</text>\n",
       "<text text-anchor=\"start\" x=\"4754\" y=\"-364.8\" font-family=\"Helvetica,sans-Serif\" font-size=\"14.00\" fill=\"#000000\">value = [1930, 158]</text>\n",
       "<text text-anchor=\"start\" x=\"4779\" y=\"-349.8\" font-family=\"Helvetica,sans-Serif\" font-size=\"14.00\" fill=\"#000000\">class = not</text>\n",
       "</g>\n",
       "<!-- 143&#45;&gt;144 -->\n",
       "<g id=\"edge144\" class=\"edge\">\n",
       "<title>143&#45;&gt;144</title>\n",
       "<path fill=\"none\" stroke=\"#000000\" d=\"M4934.897,-460.8796C4919.3587,-451.0962 4902.6912,-440.6019 4886.8013,-430.5971\"/>\n",
       "<polygon fill=\"#000000\" stroke=\"#000000\" points=\"4888.3929,-427.4633 4878.0657,-425.0969 4884.6632,-433.3869 4888.3929,-427.4633\"/>\n",
       "</g>\n",
       "<!-- 157 -->\n",
       "<g id=\"node158\" class=\"node\">\n",
       "<title>157</title>\n",
       "<path fill=\"#ffffff\" stroke=\"#000000\" d=\"M5061.5,-425C5061.5,-425 4940.5,-425 4940.5,-425 4934.5,-425 4928.5,-419 4928.5,-413 4928.5,-413 4928.5,-354 4928.5,-354 4928.5,-348 4934.5,-342 4940.5,-342 4940.5,-342 5061.5,-342 5061.5,-342 5067.5,-342 5073.5,-348 5073.5,-354 5073.5,-354 5073.5,-413 5073.5,-413 5073.5,-419 5067.5,-425 5061.5,-425\"/>\n",
       "<text text-anchor=\"start\" x=\"4936.5\" y=\"-409.8\" font-family=\"Helvetica,sans-Serif\" font-size=\"14.00\" fill=\"#000000\">creation_month ≤ 2.0</text>\n",
       "<text text-anchor=\"start\" x=\"4961\" y=\"-394.8\" font-family=\"Helvetica,sans-Serif\" font-size=\"14.00\" fill=\"#000000\">entropy = 1.0</text>\n",
       "<text text-anchor=\"start\" x=\"4963.5\" y=\"-379.8\" font-family=\"Helvetica,sans-Serif\" font-size=\"14.00\" fill=\"#000000\">samples = 4</text>\n",
       "<text text-anchor=\"start\" x=\"4961.5\" y=\"-364.8\" font-family=\"Helvetica,sans-Serif\" font-size=\"14.00\" fill=\"#000000\">value = [2, 2]</text>\n",
       "<text text-anchor=\"start\" x=\"4968\" y=\"-349.8\" font-family=\"Helvetica,sans-Serif\" font-size=\"14.00\" fill=\"#000000\">class = not</text>\n",
       "</g>\n",
       "<!-- 143&#45;&gt;157 -->\n",
       "<g id=\"edge157\" class=\"edge\">\n",
       "<title>143&#45;&gt;157</title>\n",
       "<path fill=\"none\" stroke=\"#000000\" d=\"M5001,-460.8796C5001,-452.6838 5001,-443.9891 5001,-435.5013\"/>\n",
       "<polygon fill=\"#000000\" stroke=\"#000000\" points=\"5004.5001,-435.298 5001,-425.2981 4997.5001,-435.2981 5004.5001,-435.298\"/>\n",
       "</g>\n",
       "<!-- 145 -->\n",
       "<g id=\"node146\" class=\"node\">\n",
       "<title>145</title>\n",
       "<path fill=\"#e78b49\" stroke=\"#000000\" d=\"M4680,-306C4680,-306 4572,-306 4572,-306 4566,-306 4560,-300 4560,-294 4560,-294 4560,-235 4560,-235 4560,-229 4566,-223 4572,-223 4572,-223 4680,-223 4680,-223 4686,-223 4692,-229 4692,-235 4692,-235 4692,-294 4692,-294 4692,-300 4686,-306 4680,-306\"/>\n",
       "<text text-anchor=\"start\" x=\"4574.5\" y=\"-290.8\" font-family=\"Helvetica,sans-Serif\" font-size=\"14.00\" fill=\"#000000\">org_id_232 ≤ 0.5</text>\n",
       "<text text-anchor=\"start\" x=\"4578.5\" y=\"-275.8\" font-family=\"Helvetica,sans-Serif\" font-size=\"14.00\" fill=\"#000000\">entropy = 0.384</text>\n",
       "<text text-anchor=\"start\" x=\"4577.5\" y=\"-260.8\" font-family=\"Helvetica,sans-Serif\" font-size=\"14.00\" fill=\"#000000\">samples = 2084</text>\n",
       "<text text-anchor=\"start\" x=\"4568\" y=\"-245.8\" font-family=\"Helvetica,sans-Serif\" font-size=\"14.00\" fill=\"#000000\">value = [1928, 156]</text>\n",
       "<text text-anchor=\"start\" x=\"4593\" y=\"-230.8\" font-family=\"Helvetica,sans-Serif\" font-size=\"14.00\" fill=\"#000000\">class = not</text>\n",
       "</g>\n",
       "<!-- 144&#45;&gt;145 -->\n",
       "<g id=\"edge145\" class=\"edge\">\n",
       "<title>144&#45;&gt;145</title>\n",
       "<path fill=\"none\" stroke=\"#000000\" d=\"M4746.9462,-341.8796C4731.6546,-332.0962 4715.2516,-321.6019 4699.614,-311.5971\"/>\n",
       "<polygon fill=\"#000000\" stroke=\"#000000\" points=\"4701.3268,-308.538 4691.017,-306.0969 4697.5543,-314.4345 4701.3268,-308.538\"/>\n",
       "</g>\n",
       "<!-- 152 -->\n",
       "<g id=\"node153\" class=\"node\">\n",
       "<title>152</title>\n",
       "<path fill=\"#ffffff\" stroke=\"#000000\" d=\"M4898.5,-306C4898.5,-306 4725.5,-306 4725.5,-306 4719.5,-306 4713.5,-300 4713.5,-294 4713.5,-294 4713.5,-235 4713.5,-235 4713.5,-229 4719.5,-223 4725.5,-223 4725.5,-223 4898.5,-223 4898.5,-223 4904.5,-223 4910.5,-229 4910.5,-235 4910.5,-235 4910.5,-294 4910.5,-294 4910.5,-300 4904.5,-306 4898.5,-306\"/>\n",
       "<text text-anchor=\"start\" x=\"4721.5\" y=\"-290.8\" font-family=\"Helvetica,sans-Serif\" font-size=\"14.00\" fill=\"#000000\">opted_in_to_mailing_list ≤ 0.5</text>\n",
       "<text text-anchor=\"start\" x=\"4772\" y=\"-275.8\" font-family=\"Helvetica,sans-Serif\" font-size=\"14.00\" fill=\"#000000\">entropy = 1.0</text>\n",
       "<text text-anchor=\"start\" x=\"4774.5\" y=\"-260.8\" font-family=\"Helvetica,sans-Serif\" font-size=\"14.00\" fill=\"#000000\">samples = 4</text>\n",
       "<text text-anchor=\"start\" x=\"4772.5\" y=\"-245.8\" font-family=\"Helvetica,sans-Serif\" font-size=\"14.00\" fill=\"#000000\">value = [2, 2]</text>\n",
       "<text text-anchor=\"start\" x=\"4779\" y=\"-230.8\" font-family=\"Helvetica,sans-Serif\" font-size=\"14.00\" fill=\"#000000\">class = not</text>\n",
       "</g>\n",
       "<!-- 144&#45;&gt;152 -->\n",
       "<g id=\"edge152\" class=\"edge\">\n",
       "<title>144&#45;&gt;152</title>\n",
       "<path fill=\"none\" stroke=\"#000000\" d=\"M4812,-341.8796C4812,-333.6838 4812,-324.9891 4812,-316.5013\"/>\n",
       "<polygon fill=\"#000000\" stroke=\"#000000\" points=\"4815.5001,-316.298 4812,-306.2981 4808.5001,-316.2981 4815.5001,-316.298\"/>\n",
       "</g>\n",
       "<!-- 146 -->\n",
       "<g id=\"node147\" class=\"node\">\n",
       "<title>146</title>\n",
       "<path fill=\"#e78b49\" stroke=\"#000000\" d=\"M4497,-187C4497,-187 4389,-187 4389,-187 4383,-187 4377,-181 4377,-175 4377,-175 4377,-116 4377,-116 4377,-110 4383,-104 4389,-104 4389,-104 4497,-104 4497,-104 4503,-104 4509,-110 4509,-116 4509,-116 4509,-175 4509,-175 4509,-181 4503,-187 4497,-187\"/>\n",
       "<text text-anchor=\"start\" x=\"4391.5\" y=\"-171.8\" font-family=\"Helvetica,sans-Serif\" font-size=\"14.00\" fill=\"#000000\">org_id_241 ≤ 0.5</text>\n",
       "<text text-anchor=\"start\" x=\"4395.5\" y=\"-156.8\" font-family=\"Helvetica,sans-Serif\" font-size=\"14.00\" fill=\"#000000\">entropy = 0.381</text>\n",
       "<text text-anchor=\"start\" x=\"4394.5\" y=\"-141.8\" font-family=\"Helvetica,sans-Serif\" font-size=\"14.00\" fill=\"#000000\">samples = 2080</text>\n",
       "<text text-anchor=\"start\" x=\"4385\" y=\"-126.8\" font-family=\"Helvetica,sans-Serif\" font-size=\"14.00\" fill=\"#000000\">value = [1926, 154]</text>\n",
       "<text text-anchor=\"start\" x=\"4410\" y=\"-111.8\" font-family=\"Helvetica,sans-Serif\" font-size=\"14.00\" fill=\"#000000\">class = not</text>\n",
       "</g>\n",
       "<!-- 145&#45;&gt;146 -->\n",
       "<g id=\"edge146\" class=\"edge\">\n",
       "<title>145&#45;&gt;146</title>\n",
       "<path fill=\"none\" stroke=\"#000000\" d=\"M4561.9955,-222.8796C4546.9505,-213.0962 4530.8121,-202.6019 4515.4267,-192.5971\"/>\n",
       "<polygon fill=\"#000000\" stroke=\"#000000\" points=\"4517.2598,-189.6143 4506.9684,-187.0969 4513.4437,-195.4827 4517.2598,-189.6143\"/>\n",
       "</g>\n",
       "<!-- 149 -->\n",
       "<g id=\"node150\" class=\"node\">\n",
       "<title>149</title>\n",
       "<path fill=\"#ffffff\" stroke=\"#000000\" d=\"M4712.5,-187C4712.5,-187 4539.5,-187 4539.5,-187 4533.5,-187 4527.5,-181 4527.5,-175 4527.5,-175 4527.5,-116 4527.5,-116 4527.5,-110 4533.5,-104 4539.5,-104 4539.5,-104 4712.5,-104 4712.5,-104 4718.5,-104 4724.5,-110 4724.5,-116 4724.5,-116 4724.5,-175 4724.5,-175 4724.5,-181 4718.5,-187 4712.5,-187\"/>\n",
       "<text text-anchor=\"start\" x=\"4535.5\" y=\"-171.8\" font-family=\"Helvetica,sans-Serif\" font-size=\"14.00\" fill=\"#000000\">opted_in_to_mailing_list ≤ 0.5</text>\n",
       "<text text-anchor=\"start\" x=\"4586\" y=\"-156.8\" font-family=\"Helvetica,sans-Serif\" font-size=\"14.00\" fill=\"#000000\">entropy = 1.0</text>\n",
       "<text text-anchor=\"start\" x=\"4588.5\" y=\"-141.8\" font-family=\"Helvetica,sans-Serif\" font-size=\"14.00\" fill=\"#000000\">samples = 4</text>\n",
       "<text text-anchor=\"start\" x=\"4586.5\" y=\"-126.8\" font-family=\"Helvetica,sans-Serif\" font-size=\"14.00\" fill=\"#000000\">value = [2, 2]</text>\n",
       "<text text-anchor=\"start\" x=\"4593\" y=\"-111.8\" font-family=\"Helvetica,sans-Serif\" font-size=\"14.00\" fill=\"#000000\">class = not</text>\n",
       "</g>\n",
       "<!-- 145&#45;&gt;149 -->\n",
       "<g id=\"edge149\" class=\"edge\">\n",
       "<title>145&#45;&gt;149</title>\n",
       "<path fill=\"none\" stroke=\"#000000\" d=\"M4626,-222.8796C4626,-214.6838 4626,-205.9891 4626,-197.5013\"/>\n",
       "<polygon fill=\"#000000\" stroke=\"#000000\" points=\"4629.5001,-197.298 4626,-187.2981 4622.5001,-197.2981 4629.5001,-197.298\"/>\n",
       "</g>\n",
       "<!-- 147 -->\n",
       "<g id=\"node148\" class=\"node\">\n",
       "<title>147</title>\n",
       "<path fill=\"#e78b49\" stroke=\"#000000\" d=\"M4379,-68C4379,-68 4271,-68 4271,-68 4265,-68 4259,-62 4259,-56 4259,-56 4259,-12 4259,-12 4259,-6 4265,0 4271,0 4271,0 4379,0 4379,0 4385,0 4391,-6 4391,-12 4391,-12 4391,-56 4391,-56 4391,-62 4385,-68 4379,-68\"/>\n",
       "<text text-anchor=\"start\" x=\"4277.5\" y=\"-52.8\" font-family=\"Helvetica,sans-Serif\" font-size=\"14.00\" fill=\"#000000\">entropy = 0.378</text>\n",
       "<text text-anchor=\"start\" x=\"4276.5\" y=\"-37.8\" font-family=\"Helvetica,sans-Serif\" font-size=\"14.00\" fill=\"#000000\">samples = 2076</text>\n",
       "<text text-anchor=\"start\" x=\"4267\" y=\"-22.8\" font-family=\"Helvetica,sans-Serif\" font-size=\"14.00\" fill=\"#000000\">value = [1924, 152]</text>\n",
       "<text text-anchor=\"start\" x=\"4292\" y=\"-7.8\" font-family=\"Helvetica,sans-Serif\" font-size=\"14.00\" fill=\"#000000\">class = not</text>\n",
       "</g>\n",
       "<!-- 146&#45;&gt;147 -->\n",
       "<g id=\"edge147\" class=\"edge\">\n",
       "<title>146&#45;&gt;147</title>\n",
       "<path fill=\"none\" stroke=\"#000000\" d=\"M4399.0612,-103.9815C4389.1402,-94.607 4378.6103,-84.6572 4368.6992,-75.2921\"/>\n",
       "<polygon fill=\"#000000\" stroke=\"#000000\" points=\"4370.9334,-72.5878 4361.2611,-68.2637 4366.1257,-77.6757 4370.9334,-72.5878\"/>\n",
       "</g>\n",
       "<!-- 148 -->\n",
       "<g id=\"node149\" class=\"node\">\n",
       "<title>148</title>\n",
       "<path fill=\"#ffffff\" stroke=\"#000000\" d=\"M4493,-68C4493,-68 4421,-68 4421,-68 4415,-68 4409,-62 4409,-56 4409,-56 4409,-12 4409,-12 4409,-6 4415,0 4421,0 4421,0 4493,0 4493,0 4499,0 4505,-6 4505,-12 4505,-12 4505,-56 4505,-56 4505,-62 4499,-68 4493,-68\"/>\n",
       "<text text-anchor=\"start\" x=\"4417\" y=\"-52.8\" font-family=\"Helvetica,sans-Serif\" font-size=\"14.00\" fill=\"#000000\">entropy = 1.0</text>\n",
       "<text text-anchor=\"start\" x=\"4419.5\" y=\"-37.8\" font-family=\"Helvetica,sans-Serif\" font-size=\"14.00\" fill=\"#000000\">samples = 4</text>\n",
       "<text text-anchor=\"start\" x=\"4417.5\" y=\"-22.8\" font-family=\"Helvetica,sans-Serif\" font-size=\"14.00\" fill=\"#000000\">value = [2, 2]</text>\n",
       "<text text-anchor=\"start\" x=\"4424\" y=\"-7.8\" font-family=\"Helvetica,sans-Serif\" font-size=\"14.00\" fill=\"#000000\">class = not</text>\n",
       "</g>\n",
       "<!-- 146&#45;&gt;148 -->\n",
       "<g id=\"edge148\" class=\"edge\">\n",
       "<title>146&#45;&gt;148</title>\n",
       "<path fill=\"none\" stroke=\"#000000\" d=\"M4448.2131,-103.9815C4449.2632,-95.618 4450.3708,-86.7965 4451.4325,-78.3409\"/>\n",
       "<polygon fill=\"#000000\" stroke=\"#000000\" points=\"4454.9247,-78.6218 4452.6978,-68.2637 4447.9792,-77.7497 4454.9247,-78.6218\"/>\n",
       "</g>\n",
       "<!-- 150 -->\n",
       "<g id=\"node151\" class=\"node\">\n",
       "<title>150</title>\n",
       "<path fill=\"#9ccef2\" stroke=\"#000000\" d=\"M4623,-68C4623,-68 4535,-68 4535,-68 4529,-68 4523,-62 4523,-56 4523,-56 4523,-12 4523,-12 4523,-6 4529,0 4535,0 4535,0 4623,0 4623,0 4629,0 4635,-6 4635,-12 4635,-12 4635,-56 4635,-56 4635,-62 4629,-68 4623,-68\"/>\n",
       "<text text-anchor=\"start\" x=\"4531.5\" y=\"-52.8\" font-family=\"Helvetica,sans-Serif\" font-size=\"14.00\" fill=\"#000000\">entropy = 0.918</text>\n",
       "<text text-anchor=\"start\" x=\"4541.5\" y=\"-37.8\" font-family=\"Helvetica,sans-Serif\" font-size=\"14.00\" fill=\"#000000\">samples = 3</text>\n",
       "<text text-anchor=\"start\" x=\"4539.5\" y=\"-22.8\" font-family=\"Helvetica,sans-Serif\" font-size=\"14.00\" fill=\"#000000\">value = [1, 2]</text>\n",
       "<text text-anchor=\"start\" x=\"4531\" y=\"-7.8\" font-family=\"Helvetica,sans-Serif\" font-size=\"14.00\" fill=\"#000000\">class = adopted</text>\n",
       "</g>\n",
       "<!-- 149&#45;&gt;150 -->\n",
       "<g id=\"edge150\" class=\"edge\">\n",
       "<title>149&#45;&gt;150</title>\n",
       "<path fill=\"none\" stroke=\"#000000\" d=\"M4608.4989,-103.9815C4604.8573,-95.3423 4601.0097,-86.2144 4597.3388,-77.5059\"/>\n",
       "<polygon fill=\"#000000\" stroke=\"#000000\" points=\"4600.5525,-76.119 4593.443,-68.2637 4594.1021,-78.838 4600.5525,-76.119\"/>\n",
       "</g>\n",
       "<!-- 151 -->\n",
       "<g id=\"node152\" class=\"node\">\n",
       "<title>151</title>\n",
       "<path fill=\"#e58139\" stroke=\"#000000\" d=\"M4737,-68C4737,-68 4665,-68 4665,-68 4659,-68 4653,-62 4653,-56 4653,-56 4653,-12 4653,-12 4653,-6 4659,0 4665,0 4665,0 4737,0 4737,0 4743,0 4749,-6 4749,-12 4749,-12 4749,-56 4749,-56 4749,-62 4743,-68 4737,-68\"/>\n",
       "<text text-anchor=\"start\" x=\"4661\" y=\"-52.8\" font-family=\"Helvetica,sans-Serif\" font-size=\"14.00\" fill=\"#000000\">entropy = 0.0</text>\n",
       "<text text-anchor=\"start\" x=\"4663.5\" y=\"-37.8\" font-family=\"Helvetica,sans-Serif\" font-size=\"14.00\" fill=\"#000000\">samples = 1</text>\n",
       "<text text-anchor=\"start\" x=\"4661.5\" y=\"-22.8\" font-family=\"Helvetica,sans-Serif\" font-size=\"14.00\" fill=\"#000000\">value = [1, 0]</text>\n",
       "<text text-anchor=\"start\" x=\"4668\" y=\"-7.8\" font-family=\"Helvetica,sans-Serif\" font-size=\"14.00\" fill=\"#000000\">class = not</text>\n",
       "</g>\n",
       "<!-- 149&#45;&gt;151 -->\n",
       "<g id=\"edge151\" class=\"edge\">\n",
       "<title>149&#45;&gt;151</title>\n",
       "<path fill=\"none\" stroke=\"#000000\" d=\"M4653.9272,-103.9815C4659.9238,-95.0666 4666.2704,-85.6313 4672.2959,-76.6734\"/>\n",
       "<polygon fill=\"#000000\" stroke=\"#000000\" points=\"4675.2755,-78.5147 4677.9527,-68.2637 4669.4672,-74.6078 4675.2755,-78.5147\"/>\n",
       "</g>\n",
       "<!-- 153 -->\n",
       "<g id=\"node154\" class=\"node\">\n",
       "<title>153</title>\n",
       "<path fill=\"#9ccef2\" stroke=\"#000000\" d=\"M4875.5,-187C4875.5,-187 4754.5,-187 4754.5,-187 4748.5,-187 4742.5,-181 4742.5,-175 4742.5,-175 4742.5,-116 4742.5,-116 4742.5,-110 4748.5,-104 4754.5,-104 4754.5,-104 4875.5,-104 4875.5,-104 4881.5,-104 4887.5,-110 4887.5,-116 4887.5,-116 4887.5,-175 4887.5,-175 4887.5,-181 4881.5,-187 4875.5,-187\"/>\n",
       "<text text-anchor=\"start\" x=\"4750.5\" y=\"-171.8\" font-family=\"Helvetica,sans-Serif\" font-size=\"14.00\" fill=\"#000000\">creation_month ≤ 4.5</text>\n",
       "<text text-anchor=\"start\" x=\"4767.5\" y=\"-156.8\" font-family=\"Helvetica,sans-Serif\" font-size=\"14.00\" fill=\"#000000\">entropy = 0.918</text>\n",
       "<text text-anchor=\"start\" x=\"4777.5\" y=\"-141.8\" font-family=\"Helvetica,sans-Serif\" font-size=\"14.00\" fill=\"#000000\">samples = 3</text>\n",
       "<text text-anchor=\"start\" x=\"4775.5\" y=\"-126.8\" font-family=\"Helvetica,sans-Serif\" font-size=\"14.00\" fill=\"#000000\">value = [1, 2]</text>\n",
       "<text text-anchor=\"start\" x=\"4767\" y=\"-111.8\" font-family=\"Helvetica,sans-Serif\" font-size=\"14.00\" fill=\"#000000\">class = adopted</text>\n",
       "</g>\n",
       "<!-- 152&#45;&gt;153 -->\n",
       "<g id=\"edge153\" class=\"edge\">\n",
       "<title>152&#45;&gt;153</title>\n",
       "<path fill=\"none\" stroke=\"#000000\" d=\"M4813.0493,-222.8796C4813.2559,-214.6838 4813.4751,-205.9891 4813.689,-197.5013\"/>\n",
       "<polygon fill=\"#000000\" stroke=\"#000000\" points=\"4817.193,-197.3831 4813.9463,-187.2981 4810.1953,-197.2067 4817.193,-197.3831\"/>\n",
       "</g>\n",
       "<!-- 156 -->\n",
       "<g id=\"node157\" class=\"node\">\n",
       "<title>156</title>\n",
       "<path fill=\"#e58139\" stroke=\"#000000\" d=\"M4990,-179.5C4990,-179.5 4918,-179.5 4918,-179.5 4912,-179.5 4906,-173.5 4906,-167.5 4906,-167.5 4906,-123.5 4906,-123.5 4906,-117.5 4912,-111.5 4918,-111.5 4918,-111.5 4990,-111.5 4990,-111.5 4996,-111.5 5002,-117.5 5002,-123.5 5002,-123.5 5002,-167.5 5002,-167.5 5002,-173.5 4996,-179.5 4990,-179.5\"/>\n",
       "<text text-anchor=\"start\" x=\"4914\" y=\"-164.3\" font-family=\"Helvetica,sans-Serif\" font-size=\"14.00\" fill=\"#000000\">entropy = 0.0</text>\n",
       "<text text-anchor=\"start\" x=\"4916.5\" y=\"-149.3\" font-family=\"Helvetica,sans-Serif\" font-size=\"14.00\" fill=\"#000000\">samples = 1</text>\n",
       "<text text-anchor=\"start\" x=\"4914.5\" y=\"-134.3\" font-family=\"Helvetica,sans-Serif\" font-size=\"14.00\" fill=\"#000000\">value = [1, 0]</text>\n",
       "<text text-anchor=\"start\" x=\"4921\" y=\"-119.3\" font-family=\"Helvetica,sans-Serif\" font-size=\"14.00\" fill=\"#000000\">class = not</text>\n",
       "</g>\n",
       "<!-- 152&#45;&gt;156 -->\n",
       "<g id=\"edge156\" class=\"edge\">\n",
       "<title>152&#45;&gt;156</title>\n",
       "<path fill=\"none\" stroke=\"#000000\" d=\"M4861.6647,-222.8796C4875.8358,-211.0038 4891.257,-198.0804 4905.3658,-186.2568\"/>\n",
       "<polygon fill=\"#000000\" stroke=\"#000000\" points=\"4907.6363,-188.9206 4913.0528,-179.8149 4903.1402,-183.5554 4907.6363,-188.9206\"/>\n",
       "</g>\n",
       "<!-- 154 -->\n",
       "<g id=\"node155\" class=\"node\">\n",
       "<title>154</title>\n",
       "<path fill=\"#e58139\" stroke=\"#000000\" d=\"M4851,-68C4851,-68 4779,-68 4779,-68 4773,-68 4767,-62 4767,-56 4767,-56 4767,-12 4767,-12 4767,-6 4773,0 4779,0 4779,0 4851,0 4851,0 4857,0 4863,-6 4863,-12 4863,-12 4863,-56 4863,-56 4863,-62 4857,-68 4851,-68\"/>\n",
       "<text text-anchor=\"start\" x=\"4775\" y=\"-52.8\" font-family=\"Helvetica,sans-Serif\" font-size=\"14.00\" fill=\"#000000\">entropy = 0.0</text>\n",
       "<text text-anchor=\"start\" x=\"4777.5\" y=\"-37.8\" font-family=\"Helvetica,sans-Serif\" font-size=\"14.00\" fill=\"#000000\">samples = 1</text>\n",
       "<text text-anchor=\"start\" x=\"4775.5\" y=\"-22.8\" font-family=\"Helvetica,sans-Serif\" font-size=\"14.00\" fill=\"#000000\">value = [1, 0]</text>\n",
       "<text text-anchor=\"start\" x=\"4782\" y=\"-7.8\" font-family=\"Helvetica,sans-Serif\" font-size=\"14.00\" fill=\"#000000\">class = not</text>\n",
       "</g>\n",
       "<!-- 153&#45;&gt;154 -->\n",
       "<g id=\"edge154\" class=\"edge\">\n",
       "<title>153&#45;&gt;154</title>\n",
       "<path fill=\"none\" stroke=\"#000000\" d=\"M4815,-103.9815C4815,-95.618 4815,-86.7965 4815,-78.3409\"/>\n",
       "<polygon fill=\"#000000\" stroke=\"#000000\" points=\"4818.5001,-78.2636 4815,-68.2637 4811.5001,-78.2637 4818.5001,-78.2636\"/>\n",
       "</g>\n",
       "<!-- 155 -->\n",
       "<g id=\"node156\" class=\"node\">\n",
       "<title>155</title>\n",
       "<path fill=\"#399de5\" stroke=\"#000000\" d=\"M4981,-68C4981,-68 4893,-68 4893,-68 4887,-68 4881,-62 4881,-56 4881,-56 4881,-12 4881,-12 4881,-6 4887,0 4893,0 4893,0 4981,0 4981,0 4987,0 4993,-6 4993,-12 4993,-12 4993,-56 4993,-56 4993,-62 4987,-68 4981,-68\"/>\n",
       "<text text-anchor=\"start\" x=\"4897\" y=\"-52.8\" font-family=\"Helvetica,sans-Serif\" font-size=\"14.00\" fill=\"#000000\">entropy = 0.0</text>\n",
       "<text text-anchor=\"start\" x=\"4899.5\" y=\"-37.8\" font-family=\"Helvetica,sans-Serif\" font-size=\"14.00\" fill=\"#000000\">samples = 2</text>\n",
       "<text text-anchor=\"start\" x=\"4897.5\" y=\"-22.8\" font-family=\"Helvetica,sans-Serif\" font-size=\"14.00\" fill=\"#000000\">value = [0, 2]</text>\n",
       "<text text-anchor=\"start\" x=\"4889\" y=\"-7.8\" font-family=\"Helvetica,sans-Serif\" font-size=\"14.00\" fill=\"#000000\">class = adopted</text>\n",
       "</g>\n",
       "<!-- 153&#45;&gt;155 -->\n",
       "<g id=\"edge155\" class=\"edge\">\n",
       "<title>153&#45;&gt;155</title>\n",
       "<path fill=\"none\" stroke=\"#000000\" d=\"M4860.4283,-103.9815C4870.7861,-94.5151 4881.7859,-84.462 4892.1206,-75.0168\"/>\n",
       "<polygon fill=\"#000000\" stroke=\"#000000\" points=\"4894.4893,-77.5935 4899.5097,-68.2637 4889.7669,-72.4264 4894.4893,-77.5935\"/>\n",
       "</g>\n",
       "<!-- 158 -->\n",
       "<g id=\"node159\" class=\"node\">\n",
       "<title>158</title>\n",
       "<path fill=\"#e58139\" stroke=\"#000000\" d=\"M5013,-298.5C5013,-298.5 4941,-298.5 4941,-298.5 4935,-298.5 4929,-292.5 4929,-286.5 4929,-286.5 4929,-242.5 4929,-242.5 4929,-236.5 4935,-230.5 4941,-230.5 4941,-230.5 5013,-230.5 5013,-230.5 5019,-230.5 5025,-236.5 5025,-242.5 5025,-242.5 5025,-286.5 5025,-286.5 5025,-292.5 5019,-298.5 5013,-298.5\"/>\n",
       "<text text-anchor=\"start\" x=\"4937\" y=\"-283.3\" font-family=\"Helvetica,sans-Serif\" font-size=\"14.00\" fill=\"#000000\">entropy = 0.0</text>\n",
       "<text text-anchor=\"start\" x=\"4939.5\" y=\"-268.3\" font-family=\"Helvetica,sans-Serif\" font-size=\"14.00\" fill=\"#000000\">samples = 1</text>\n",
       "<text text-anchor=\"start\" x=\"4937.5\" y=\"-253.3\" font-family=\"Helvetica,sans-Serif\" font-size=\"14.00\" fill=\"#000000\">value = [1, 0]</text>\n",
       "<text text-anchor=\"start\" x=\"4944\" y=\"-238.3\" font-family=\"Helvetica,sans-Serif\" font-size=\"14.00\" fill=\"#000000\">class = not</text>\n",
       "</g>\n",
       "<!-- 157&#45;&gt;158 -->\n",
       "<g id=\"edge158\" class=\"edge\">\n",
       "<title>157&#45;&gt;158</title>\n",
       "<path fill=\"none\" stroke=\"#000000\" d=\"M4992.606,-341.8796C4990.4548,-331.2134 4988.1332,-319.7021 4985.9549,-308.9015\"/>\n",
       "<polygon fill=\"#000000\" stroke=\"#000000\" points=\"4989.3287,-307.9256 4983.9207,-298.8149 4982.4668,-309.3095 4989.3287,-307.9256\"/>\n",
       "</g>\n",
       "<!-- 159 -->\n",
       "<g id=\"node160\" class=\"node\">\n",
       "<title>159</title>\n",
       "<path fill=\"#9ccef2\" stroke=\"#000000\" d=\"M5176.5,-306C5176.5,-306 5055.5,-306 5055.5,-306 5049.5,-306 5043.5,-300 5043.5,-294 5043.5,-294 5043.5,-235 5043.5,-235 5043.5,-229 5049.5,-223 5055.5,-223 5055.5,-223 5176.5,-223 5176.5,-223 5182.5,-223 5188.5,-229 5188.5,-235 5188.5,-235 5188.5,-294 5188.5,-294 5188.5,-300 5182.5,-306 5176.5,-306\"/>\n",
       "<text text-anchor=\"start\" x=\"5051.5\" y=\"-290.8\" font-family=\"Helvetica,sans-Serif\" font-size=\"14.00\" fill=\"#000000\">creation_month ≤ 6.5</text>\n",
       "<text text-anchor=\"start\" x=\"5068.5\" y=\"-275.8\" font-family=\"Helvetica,sans-Serif\" font-size=\"14.00\" fill=\"#000000\">entropy = 0.918</text>\n",
       "<text text-anchor=\"start\" x=\"5078.5\" y=\"-260.8\" font-family=\"Helvetica,sans-Serif\" font-size=\"14.00\" fill=\"#000000\">samples = 3</text>\n",
       "<text text-anchor=\"start\" x=\"5076.5\" y=\"-245.8\" font-family=\"Helvetica,sans-Serif\" font-size=\"14.00\" fill=\"#000000\">value = [1, 2]</text>\n",
       "<text text-anchor=\"start\" x=\"5068\" y=\"-230.8\" font-family=\"Helvetica,sans-Serif\" font-size=\"14.00\" fill=\"#000000\">class = adopted</text>\n",
       "</g>\n",
       "<!-- 157&#45;&gt;159 -->\n",
       "<g id=\"edge159\" class=\"edge\">\n",
       "<title>157&#45;&gt;159</title>\n",
       "<path fill=\"none\" stroke=\"#000000\" d=\"M5041.2214,-341.8796C5050.012,-332.7832 5059.3966,-323.0722 5068.4426,-313.7116\"/>\n",
       "<polygon fill=\"#000000\" stroke=\"#000000\" points=\"5071.1745,-315.9212 5075.6069,-306.2981 5066.1409,-311.0568 5071.1745,-315.9212\"/>\n",
       "</g>\n",
       "<!-- 160 -->\n",
       "<g id=\"node161\" class=\"node\">\n",
       "<title>160</title>\n",
       "<path fill=\"#399de5\" stroke=\"#000000\" d=\"M5140,-179.5C5140,-179.5 5052,-179.5 5052,-179.5 5046,-179.5 5040,-173.5 5040,-167.5 5040,-167.5 5040,-123.5 5040,-123.5 5040,-117.5 5046,-111.5 5052,-111.5 5052,-111.5 5140,-111.5 5140,-111.5 5146,-111.5 5152,-117.5 5152,-123.5 5152,-123.5 5152,-167.5 5152,-167.5 5152,-173.5 5146,-179.5 5140,-179.5\"/>\n",
       "<text text-anchor=\"start\" x=\"5056\" y=\"-164.3\" font-family=\"Helvetica,sans-Serif\" font-size=\"14.00\" fill=\"#000000\">entropy = 0.0</text>\n",
       "<text text-anchor=\"start\" x=\"5058.5\" y=\"-149.3\" font-family=\"Helvetica,sans-Serif\" font-size=\"14.00\" fill=\"#000000\">samples = 1</text>\n",
       "<text text-anchor=\"start\" x=\"5056.5\" y=\"-134.3\" font-family=\"Helvetica,sans-Serif\" font-size=\"14.00\" fill=\"#000000\">value = [0, 1]</text>\n",
       "<text text-anchor=\"start\" x=\"5048\" y=\"-119.3\" font-family=\"Helvetica,sans-Serif\" font-size=\"14.00\" fill=\"#000000\">class = adopted</text>\n",
       "</g>\n",
       "<!-- 159&#45;&gt;160 -->\n",
       "<g id=\"edge160\" class=\"edge\">\n",
       "<title>159&#45;&gt;160</title>\n",
       "<path fill=\"none\" stroke=\"#000000\" d=\"M5109.005,-222.8796C5107.2123,-212.2134 5105.2777,-200.7021 5103.4624,-189.9015\"/>\n",
       "<polygon fill=\"#000000\" stroke=\"#000000\" points=\"5106.8763,-189.0965 5101.7672,-179.8149 5099.9731,-190.2568 5106.8763,-189.0965\"/>\n",
       "</g>\n",
       "<!-- 161 -->\n",
       "<g id=\"node162\" class=\"node\">\n",
       "<title>161</title>\n",
       "<path fill=\"#ffffff\" stroke=\"#000000\" d=\"M5310,-187C5310,-187 5182,-187 5182,-187 5176,-187 5170,-181 5170,-175 5170,-175 5170,-116 5170,-116 5170,-110 5176,-104 5182,-104 5182,-104 5310,-104 5310,-104 5316,-104 5322,-110 5322,-116 5322,-116 5322,-175 5322,-175 5322,-181 5316,-187 5310,-187\"/>\n",
       "<text text-anchor=\"start\" x=\"5178\" y=\"-171.8\" font-family=\"Helvetica,sans-Serif\" font-size=\"14.00\" fill=\"#000000\">creation_month ≤ 11.0</text>\n",
       "<text text-anchor=\"start\" x=\"5206\" y=\"-156.8\" font-family=\"Helvetica,sans-Serif\" font-size=\"14.00\" fill=\"#000000\">entropy = 1.0</text>\n",
       "<text text-anchor=\"start\" x=\"5208.5\" y=\"-141.8\" font-family=\"Helvetica,sans-Serif\" font-size=\"14.00\" fill=\"#000000\">samples = 2</text>\n",
       "<text text-anchor=\"start\" x=\"5206.5\" y=\"-126.8\" font-family=\"Helvetica,sans-Serif\" font-size=\"14.00\" fill=\"#000000\">value = [1, 1]</text>\n",
       "<text text-anchor=\"start\" x=\"5213\" y=\"-111.8\" font-family=\"Helvetica,sans-Serif\" font-size=\"14.00\" fill=\"#000000\">class = not</text>\n",
       "</g>\n",
       "<!-- 159&#45;&gt;161 -->\n",
       "<g id=\"edge161\" class=\"edge\">\n",
       "<title>159&#45;&gt;161</title>\n",
       "<path fill=\"none\" stroke=\"#000000\" d=\"M5161.4677,-222.8796C5171.6017,-213.6031 5182.434,-203.6874 5192.8465,-194.1559\"/>\n",
       "<polygon fill=\"#000000\" stroke=\"#000000\" points=\"5195.3252,-196.6319 5200.3382,-187.2981 5190.5987,-191.4685 5195.3252,-196.6319\"/>\n",
       "</g>\n",
       "<!-- 162 -->\n",
       "<g id=\"node163\" class=\"node\">\n",
       "<title>162</title>\n",
       "<path fill=\"#e58139\" stroke=\"#000000\" d=\"M5221,-68C5221,-68 5149,-68 5149,-68 5143,-68 5137,-62 5137,-56 5137,-56 5137,-12 5137,-12 5137,-6 5143,0 5149,0 5149,0 5221,0 5221,0 5227,0 5233,-6 5233,-12 5233,-12 5233,-56 5233,-56 5233,-62 5227,-68 5221,-68\"/>\n",
       "<text text-anchor=\"start\" x=\"5145\" y=\"-52.8\" font-family=\"Helvetica,sans-Serif\" font-size=\"14.00\" fill=\"#000000\">entropy = 0.0</text>\n",
       "<text text-anchor=\"start\" x=\"5147.5\" y=\"-37.8\" font-family=\"Helvetica,sans-Serif\" font-size=\"14.00\" fill=\"#000000\">samples = 1</text>\n",
       "<text text-anchor=\"start\" x=\"5145.5\" y=\"-22.8\" font-family=\"Helvetica,sans-Serif\" font-size=\"14.00\" fill=\"#000000\">value = [1, 0]</text>\n",
       "<text text-anchor=\"start\" x=\"5152\" y=\"-7.8\" font-family=\"Helvetica,sans-Serif\" font-size=\"14.00\" fill=\"#000000\">class = not</text>\n",
       "</g>\n",
       "<!-- 161&#45;&gt;162 -->\n",
       "<g id=\"edge162\" class=\"edge\">\n",
       "<title>161&#45;&gt;162</title>\n",
       "<path fill=\"none\" stroke=\"#000000\" d=\"M5223.2859,-103.9815C5218.5092,-95.2504 5213.4595,-86.0202 5208.6494,-77.2281\"/>\n",
       "<polygon fill=\"#000000\" stroke=\"#000000\" points=\"5211.6153,-75.3568 5203.7451,-68.2637 5205.4742,-78.7165 5211.6153,-75.3568\"/>\n",
       "</g>\n",
       "<!-- 163 -->\n",
       "<g id=\"node164\" class=\"node\">\n",
       "<title>163</title>\n",
       "<path fill=\"#399de5\" stroke=\"#000000\" d=\"M5351,-68C5351,-68 5263,-68 5263,-68 5257,-68 5251,-62 5251,-56 5251,-56 5251,-12 5251,-12 5251,-6 5257,0 5263,0 5263,0 5351,0 5351,0 5357,0 5363,-6 5363,-12 5363,-12 5363,-56 5363,-56 5363,-62 5357,-68 5351,-68\"/>\n",
       "<text text-anchor=\"start\" x=\"5267\" y=\"-52.8\" font-family=\"Helvetica,sans-Serif\" font-size=\"14.00\" fill=\"#000000\">entropy = 0.0</text>\n",
       "<text text-anchor=\"start\" x=\"5269.5\" y=\"-37.8\" font-family=\"Helvetica,sans-Serif\" font-size=\"14.00\" fill=\"#000000\">samples = 1</text>\n",
       "<text text-anchor=\"start\" x=\"5267.5\" y=\"-22.8\" font-family=\"Helvetica,sans-Serif\" font-size=\"14.00\" fill=\"#000000\">value = [0, 1]</text>\n",
       "<text text-anchor=\"start\" x=\"5259\" y=\"-7.8\" font-family=\"Helvetica,sans-Serif\" font-size=\"14.00\" fill=\"#000000\">class = adopted</text>\n",
       "</g>\n",
       "<!-- 161&#45;&gt;163 -->\n",
       "<g id=\"edge163\" class=\"edge\">\n",
       "<title>161&#45;&gt;163</title>\n",
       "<path fill=\"none\" stroke=\"#000000\" d=\"M5268.7141,-103.9815C5273.4908,-95.2504 5278.5405,-86.0202 5283.3506,-77.2281\"/>\n",
       "<polygon fill=\"#000000\" stroke=\"#000000\" points=\"5286.5258,-78.7165 5288.2549,-68.2637 5280.3847,-75.3568 5286.5258,-78.7165\"/>\n",
       "</g>\n",
       "<!-- 165 -->\n",
       "<g id=\"node166\" class=\"node\">\n",
       "<title>165</title>\n",
       "<path fill=\"#f2c09c\" stroke=\"#000000\" d=\"M5303.5,-425C5303.5,-425 5182.5,-425 5182.5,-425 5176.5,-425 5170.5,-419 5170.5,-413 5170.5,-413 5170.5,-354 5170.5,-354 5170.5,-348 5176.5,-342 5182.5,-342 5182.5,-342 5303.5,-342 5303.5,-342 5309.5,-342 5315.5,-348 5315.5,-354 5315.5,-354 5315.5,-413 5315.5,-413 5315.5,-419 5309.5,-425 5303.5,-425\"/>\n",
       "<text text-anchor=\"start\" x=\"5178.5\" y=\"-409.8\" font-family=\"Helvetica,sans-Serif\" font-size=\"14.00\" fill=\"#000000\">creation_month ≤ 8.5</text>\n",
       "<text text-anchor=\"start\" x=\"5195.5\" y=\"-394.8\" font-family=\"Helvetica,sans-Serif\" font-size=\"14.00\" fill=\"#000000\">entropy = 0.918</text>\n",
       "<text text-anchor=\"start\" x=\"5205.5\" y=\"-379.8\" font-family=\"Helvetica,sans-Serif\" font-size=\"14.00\" fill=\"#000000\">samples = 3</text>\n",
       "<text text-anchor=\"start\" x=\"5203.5\" y=\"-364.8\" font-family=\"Helvetica,sans-Serif\" font-size=\"14.00\" fill=\"#000000\">value = [2, 1]</text>\n",
       "<text text-anchor=\"start\" x=\"5210\" y=\"-349.8\" font-family=\"Helvetica,sans-Serif\" font-size=\"14.00\" fill=\"#000000\">class = not</text>\n",
       "</g>\n",
       "<!-- 164&#45;&gt;165 -->\n",
       "<g id=\"edge165\" class=\"edge\">\n",
       "<title>164&#45;&gt;165</title>\n",
       "<path fill=\"none\" stroke=\"#000000\" d=\"M5235.197,-460.8796C5236.0235,-452.6838 5236.9003,-443.9891 5237.7562,-435.5013\"/>\n",
       "<polygon fill=\"#000000\" stroke=\"#000000\" points=\"5241.264,-435.5988 5238.7851,-425.2981 5234.2993,-434.8964 5241.264,-435.5988\"/>\n",
       "</g>\n",
       "<!-- 168 -->\n",
       "<g id=\"node169\" class=\"node\">\n",
       "<title>168</title>\n",
       "<path fill=\"#399de5\" stroke=\"#000000\" d=\"M5434,-417.5C5434,-417.5 5346,-417.5 5346,-417.5 5340,-417.5 5334,-411.5 5334,-405.5 5334,-405.5 5334,-361.5 5334,-361.5 5334,-355.5 5340,-349.5 5346,-349.5 5346,-349.5 5434,-349.5 5434,-349.5 5440,-349.5 5446,-355.5 5446,-361.5 5446,-361.5 5446,-405.5 5446,-405.5 5446,-411.5 5440,-417.5 5434,-417.5\"/>\n",
       "<text text-anchor=\"start\" x=\"5350\" y=\"-402.3\" font-family=\"Helvetica,sans-Serif\" font-size=\"14.00\" fill=\"#000000\">entropy = 0.0</text>\n",
       "<text text-anchor=\"start\" x=\"5352.5\" y=\"-387.3\" font-family=\"Helvetica,sans-Serif\" font-size=\"14.00\" fill=\"#000000\">samples = 1</text>\n",
       "<text text-anchor=\"start\" x=\"5350.5\" y=\"-372.3\" font-family=\"Helvetica,sans-Serif\" font-size=\"14.00\" fill=\"#000000\">value = [0, 1]</text>\n",
       "<text text-anchor=\"start\" x=\"5342\" y=\"-357.3\" font-family=\"Helvetica,sans-Serif\" font-size=\"14.00\" fill=\"#000000\">class = adopted</text>\n",
       "</g>\n",
       "<!-- 164&#45;&gt;168 -->\n",
       "<g id=\"edge168\" class=\"edge\">\n",
       "<title>164&#45;&gt;168</title>\n",
       "<path fill=\"none\" stroke=\"#000000\" d=\"M5286.6105,-460.8796C5302.7013,-448.8368 5320.2315,-435.7167 5336.2091,-423.7586\"/>\n",
       "<polygon fill=\"#000000\" stroke=\"#000000\" points=\"5338.4982,-426.4171 5344.407,-417.623 5334.3038,-420.8129 5338.4982,-426.4171\"/>\n",
       "</g>\n",
       "<!-- 166 -->\n",
       "<g id=\"node167\" class=\"node\">\n",
       "<title>166</title>\n",
       "<path fill=\"#e58139\" stroke=\"#000000\" d=\"M5291,-298.5C5291,-298.5 5219,-298.5 5219,-298.5 5213,-298.5 5207,-292.5 5207,-286.5 5207,-286.5 5207,-242.5 5207,-242.5 5207,-236.5 5213,-230.5 5219,-230.5 5219,-230.5 5291,-230.5 5291,-230.5 5297,-230.5 5303,-236.5 5303,-242.5 5303,-242.5 5303,-286.5 5303,-286.5 5303,-292.5 5297,-298.5 5291,-298.5\"/>\n",
       "<text text-anchor=\"start\" x=\"5215\" y=\"-283.3\" font-family=\"Helvetica,sans-Serif\" font-size=\"14.00\" fill=\"#000000\">entropy = 0.0</text>\n",
       "<text text-anchor=\"start\" x=\"5217.5\" y=\"-268.3\" font-family=\"Helvetica,sans-Serif\" font-size=\"14.00\" fill=\"#000000\">samples = 1</text>\n",
       "<text text-anchor=\"start\" x=\"5215.5\" y=\"-253.3\" font-family=\"Helvetica,sans-Serif\" font-size=\"14.00\" fill=\"#000000\">value = [1, 0]</text>\n",
       "<text text-anchor=\"start\" x=\"5222\" y=\"-238.3\" font-family=\"Helvetica,sans-Serif\" font-size=\"14.00\" fill=\"#000000\">class = not</text>\n",
       "</g>\n",
       "<!-- 165&#45;&gt;166 -->\n",
       "<g id=\"edge166\" class=\"edge\">\n",
       "<title>165&#45;&gt;166</title>\n",
       "<path fill=\"none\" stroke=\"#000000\" d=\"M5247.197,-341.8796C5248.2726,-331.2134 5249.4334,-319.7021 5250.5225,-308.9015\"/>\n",
       "<polygon fill=\"#000000\" stroke=\"#000000\" points=\"5254.0186,-309.1157 5251.5397,-298.8149 5247.0539,-308.4133 5254.0186,-309.1157\"/>\n",
       "</g>\n",
       "<!-- 167 -->\n",
       "<g id=\"node168\" class=\"node\">\n",
       "<title>167</title>\n",
       "<path fill=\"#ffffff\" stroke=\"#000000\" d=\"M5405,-298.5C5405,-298.5 5333,-298.5 5333,-298.5 5327,-298.5 5321,-292.5 5321,-286.5 5321,-286.5 5321,-242.5 5321,-242.5 5321,-236.5 5327,-230.5 5333,-230.5 5333,-230.5 5405,-230.5 5405,-230.5 5411,-230.5 5417,-236.5 5417,-242.5 5417,-242.5 5417,-286.5 5417,-286.5 5417,-292.5 5411,-298.5 5405,-298.5\"/>\n",
       "<text text-anchor=\"start\" x=\"5329\" y=\"-283.3\" font-family=\"Helvetica,sans-Serif\" font-size=\"14.00\" fill=\"#000000\">entropy = 1.0</text>\n",
       "<text text-anchor=\"start\" x=\"5331.5\" y=\"-268.3\" font-family=\"Helvetica,sans-Serif\" font-size=\"14.00\" fill=\"#000000\">samples = 2</text>\n",
       "<text text-anchor=\"start\" x=\"5329.5\" y=\"-253.3\" font-family=\"Helvetica,sans-Serif\" font-size=\"14.00\" fill=\"#000000\">value = [1, 1]</text>\n",
       "<text text-anchor=\"start\" x=\"5336\" y=\"-238.3\" font-family=\"Helvetica,sans-Serif\" font-size=\"14.00\" fill=\"#000000\">class = not</text>\n",
       "</g>\n",
       "<!-- 165&#45;&gt;167 -->\n",
       "<g id=\"edge167\" class=\"edge\">\n",
       "<title>165&#45;&gt;167</title>\n",
       "<path fill=\"none\" stroke=\"#000000\" d=\"M5287.0687,-341.8796C5299.4102,-330.2237 5312.8202,-317.5587 5325.149,-305.9148\"/>\n",
       "<polygon fill=\"#000000\" stroke=\"#000000\" points=\"5327.7996,-308.2258 5332.6665,-298.8149 5322.9932,-303.1366 5327.7996,-308.2258\"/>\n",
       "</g>\n",
       "<!-- 170 -->\n",
       "<g id=\"node171\" class=\"node\">\n",
       "<title>170</title>\n",
       "<path fill=\"#ffffff\" stroke=\"#000000\" d=\"M5432,-536.5C5432,-536.5 5360,-536.5 5360,-536.5 5354,-536.5 5348,-530.5 5348,-524.5 5348,-524.5 5348,-480.5 5348,-480.5 5348,-474.5 5354,-468.5 5360,-468.5 5360,-468.5 5432,-468.5 5432,-468.5 5438,-468.5 5444,-474.5 5444,-480.5 5444,-480.5 5444,-524.5 5444,-524.5 5444,-530.5 5438,-536.5 5432,-536.5\"/>\n",
       "<text text-anchor=\"start\" x=\"5356\" y=\"-521.3\" font-family=\"Helvetica,sans-Serif\" font-size=\"14.00\" fill=\"#000000\">entropy = 1.0</text>\n",
       "<text text-anchor=\"start\" x=\"5358.5\" y=\"-506.3\" font-family=\"Helvetica,sans-Serif\" font-size=\"14.00\" fill=\"#000000\">samples = 2</text>\n",
       "<text text-anchor=\"start\" x=\"5356.5\" y=\"-491.3\" font-family=\"Helvetica,sans-Serif\" font-size=\"14.00\" fill=\"#000000\">value = [1, 1]</text>\n",
       "<text text-anchor=\"start\" x=\"5363\" y=\"-476.3\" font-family=\"Helvetica,sans-Serif\" font-size=\"14.00\" fill=\"#000000\">class = not</text>\n",
       "</g>\n",
       "<!-- 169&#45;&gt;170 -->\n",
       "<g id=\"edge170\" class=\"edge\">\n",
       "<title>169&#45;&gt;170</title>\n",
       "<path fill=\"none\" stroke=\"#000000\" d=\"M5393.399,-579.8796C5393.7575,-569.2134 5394.1445,-557.7021 5394.5075,-546.9015\"/>\n",
       "<polygon fill=\"#000000\" stroke=\"#000000\" points=\"5398.0085,-546.9269 5394.8466,-536.8149 5391.0125,-546.6917 5398.0085,-546.9269\"/>\n",
       "</g>\n",
       "<!-- 171 -->\n",
       "<g id=\"node172\" class=\"node\">\n",
       "<title>171</title>\n",
       "<path fill=\"#399de5\" stroke=\"#000000\" d=\"M5562,-536.5C5562,-536.5 5474,-536.5 5474,-536.5 5468,-536.5 5462,-530.5 5462,-524.5 5462,-524.5 5462,-480.5 5462,-480.5 5462,-474.5 5468,-468.5 5474,-468.5 5474,-468.5 5562,-468.5 5562,-468.5 5568,-468.5 5574,-474.5 5574,-480.5 5574,-480.5 5574,-524.5 5574,-524.5 5574,-530.5 5568,-536.5 5562,-536.5\"/>\n",
       "<text text-anchor=\"start\" x=\"5478\" y=\"-521.3\" font-family=\"Helvetica,sans-Serif\" font-size=\"14.00\" fill=\"#000000\">entropy = 0.0</text>\n",
       "<text text-anchor=\"start\" x=\"5480.5\" y=\"-506.3\" font-family=\"Helvetica,sans-Serif\" font-size=\"14.00\" fill=\"#000000\">samples = 1</text>\n",
       "<text text-anchor=\"start\" x=\"5478.5\" y=\"-491.3\" font-family=\"Helvetica,sans-Serif\" font-size=\"14.00\" fill=\"#000000\">value = [0, 1]</text>\n",
       "<text text-anchor=\"start\" x=\"5470\" y=\"-476.3\" font-family=\"Helvetica,sans-Serif\" font-size=\"14.00\" fill=\"#000000\">class = adopted</text>\n",
       "</g>\n",
       "<!-- 169&#45;&gt;171 -->\n",
       "<g id=\"edge171\" class=\"edge\">\n",
       "<title>169&#45;&gt;171</title>\n",
       "<path fill=\"none\" stroke=\"#000000\" d=\"M5436.0687,-579.8796C5448.4102,-568.2237 5461.8202,-555.5587 5474.149,-543.9148\"/>\n",
       "<polygon fill=\"#000000\" stroke=\"#000000\" points=\"5476.7996,-546.2258 5481.6665,-536.8149 5471.9932,-541.1366 5476.7996,-546.2258\"/>\n",
       "</g>\n",
       "<!-- 173 -->\n",
       "<g id=\"node174\" class=\"node\">\n",
       "<title>173</title>\n",
       "<path fill=\"#e58139\" stroke=\"#000000\" d=\"M5567,-655.5C5567,-655.5 5495,-655.5 5495,-655.5 5489,-655.5 5483,-649.5 5483,-643.5 5483,-643.5 5483,-599.5 5483,-599.5 5483,-593.5 5489,-587.5 5495,-587.5 5495,-587.5 5567,-587.5 5567,-587.5 5573,-587.5 5579,-593.5 5579,-599.5 5579,-599.5 5579,-643.5 5579,-643.5 5579,-649.5 5573,-655.5 5567,-655.5\"/>\n",
       "<text text-anchor=\"start\" x=\"5491\" y=\"-640.3\" font-family=\"Helvetica,sans-Serif\" font-size=\"14.00\" fill=\"#000000\">entropy = 0.0</text>\n",
       "<text text-anchor=\"start\" x=\"5493.5\" y=\"-625.3\" font-family=\"Helvetica,sans-Serif\" font-size=\"14.00\" fill=\"#000000\">samples = 1</text>\n",
       "<text text-anchor=\"start\" x=\"5491.5\" y=\"-610.3\" font-family=\"Helvetica,sans-Serif\" font-size=\"14.00\" fill=\"#000000\">value = [1, 0]</text>\n",
       "<text text-anchor=\"start\" x=\"5498\" y=\"-595.3\" font-family=\"Helvetica,sans-Serif\" font-size=\"14.00\" fill=\"#000000\">class = not</text>\n",
       "</g>\n",
       "<!-- 172&#45;&gt;173 -->\n",
       "<g id=\"edge173\" class=\"edge\">\n",
       "<title>172&#45;&gt;173</title>\n",
       "<path fill=\"none\" stroke=\"#000000\" d=\"M5551.1577,-698.8796C5548.3505,-688.1034 5545.3185,-676.4647 5542.4798,-665.5677\"/>\n",
       "<polygon fill=\"#000000\" stroke=\"#000000\" points=\"5545.8471,-664.6096 5539.9392,-655.8149 5539.0732,-666.3743 5545.8471,-664.6096\"/>\n",
       "</g>\n",
       "<!-- 174 -->\n",
       "<g id=\"node175\" class=\"node\">\n",
       "<title>174</title>\n",
       "<path fill=\"#399de5\" stroke=\"#000000\" d=\"M5697,-655.5C5697,-655.5 5609,-655.5 5609,-655.5 5603,-655.5 5597,-649.5 5597,-643.5 5597,-643.5 5597,-599.5 5597,-599.5 5597,-593.5 5603,-587.5 5609,-587.5 5609,-587.5 5697,-587.5 5697,-587.5 5703,-587.5 5709,-593.5 5709,-599.5 5709,-599.5 5709,-643.5 5709,-643.5 5709,-649.5 5703,-655.5 5697,-655.5\"/>\n",
       "<text text-anchor=\"start\" x=\"5613\" y=\"-640.3\" font-family=\"Helvetica,sans-Serif\" font-size=\"14.00\" fill=\"#000000\">entropy = 0.0</text>\n",
       "<text text-anchor=\"start\" x=\"5615.5\" y=\"-625.3\" font-family=\"Helvetica,sans-Serif\" font-size=\"14.00\" fill=\"#000000\">samples = 2</text>\n",
       "<text text-anchor=\"start\" x=\"5613.5\" y=\"-610.3\" font-family=\"Helvetica,sans-Serif\" font-size=\"14.00\" fill=\"#000000\">value = [0, 2]</text>\n",
       "<text text-anchor=\"start\" x=\"5605\" y=\"-595.3\" font-family=\"Helvetica,sans-Serif\" font-size=\"14.00\" fill=\"#000000\">class = adopted</text>\n",
       "</g>\n",
       "<!-- 172&#45;&gt;174 -->\n",
       "<g id=\"edge174\" class=\"edge\">\n",
       "<title>172&#45;&gt;174</title>\n",
       "<path fill=\"none\" stroke=\"#000000\" d=\"M5593.8274,-698.8796C5602.4884,-687.5536 5611.8781,-675.2748 5620.572,-663.9058\"/>\n",
       "<polygon fill=\"#000000\" stroke=\"#000000\" points=\"5623.4649,-665.8846 5626.7592,-655.8149 5617.9044,-661.6324 5623.4649,-665.8846\"/>\n",
       "</g>\n",
       "<!-- 176 -->\n",
       "<g id=\"node177\" class=\"node\">\n",
       "<title>176</title>\n",
       "<path fill=\"#7bbeee\" stroke=\"#000000\" d=\"M5834,-782C5834,-782 5706,-782 5706,-782 5700,-782 5694,-776 5694,-770 5694,-770 5694,-711 5694,-711 5694,-705 5700,-699 5706,-699 5706,-699 5834,-699 5834,-699 5840,-699 5846,-705 5846,-711 5846,-711 5846,-770 5846,-770 5846,-776 5840,-782 5834,-782\"/>\n",
       "<text text-anchor=\"start\" x=\"5702\" y=\"-766.8\" font-family=\"Helvetica,sans-Serif\" font-size=\"14.00\" fill=\"#000000\">creation_month ≤ 11.0</text>\n",
       "<text text-anchor=\"start\" x=\"5722.5\" y=\"-751.8\" font-family=\"Helvetica,sans-Serif\" font-size=\"14.00\" fill=\"#000000\">entropy = 0.811</text>\n",
       "<text text-anchor=\"start\" x=\"5732.5\" y=\"-736.8\" font-family=\"Helvetica,sans-Serif\" font-size=\"14.00\" fill=\"#000000\">samples = 4</text>\n",
       "<text text-anchor=\"start\" x=\"5730.5\" y=\"-721.8\" font-family=\"Helvetica,sans-Serif\" font-size=\"14.00\" fill=\"#000000\">value = [1, 3]</text>\n",
       "<text text-anchor=\"start\" x=\"5722\" y=\"-706.8\" font-family=\"Helvetica,sans-Serif\" font-size=\"14.00\" fill=\"#000000\">class = adopted</text>\n",
       "</g>\n",
       "<!-- 175&#45;&gt;176 -->\n",
       "<g id=\"edge176\" class=\"edge\">\n",
       "<title>175&#45;&gt;176</title>\n",
       "<path fill=\"none\" stroke=\"#000000\" d=\"M5770,-817.8796C5770,-809.6838 5770,-800.9891 5770,-792.5013\"/>\n",
       "<polygon fill=\"#000000\" stroke=\"#000000\" points=\"5773.5001,-792.298 5770,-782.2981 5766.5001,-792.2981 5773.5001,-792.298\"/>\n",
       "</g>\n",
       "<!-- 179 -->\n",
       "<g id=\"node180\" class=\"node\">\n",
       "<title>179</title>\n",
       "<path fill=\"#e58139\" stroke=\"#000000\" d=\"M5948,-774.5C5948,-774.5 5876,-774.5 5876,-774.5 5870,-774.5 5864,-768.5 5864,-762.5 5864,-762.5 5864,-718.5 5864,-718.5 5864,-712.5 5870,-706.5 5876,-706.5 5876,-706.5 5948,-706.5 5948,-706.5 5954,-706.5 5960,-712.5 5960,-718.5 5960,-718.5 5960,-762.5 5960,-762.5 5960,-768.5 5954,-774.5 5948,-774.5\"/>\n",
       "<text text-anchor=\"start\" x=\"5872\" y=\"-759.3\" font-family=\"Helvetica,sans-Serif\" font-size=\"14.00\" fill=\"#000000\">entropy = 0.0</text>\n",
       "<text text-anchor=\"start\" x=\"5874.5\" y=\"-744.3\" font-family=\"Helvetica,sans-Serif\" font-size=\"14.00\" fill=\"#000000\">samples = 1</text>\n",
       "<text text-anchor=\"start\" x=\"5872.5\" y=\"-729.3\" font-family=\"Helvetica,sans-Serif\" font-size=\"14.00\" fill=\"#000000\">value = [1, 0]</text>\n",
       "<text text-anchor=\"start\" x=\"5879\" y=\"-714.3\" font-family=\"Helvetica,sans-Serif\" font-size=\"14.00\" fill=\"#000000\">class = not</text>\n",
       "</g>\n",
       "<!-- 175&#45;&gt;179 -->\n",
       "<g id=\"edge179\" class=\"edge\">\n",
       "<title>175&#45;&gt;179</title>\n",
       "<path fill=\"none\" stroke=\"#000000\" d=\"M5819.6647,-817.8796C5833.8358,-806.0038 5849.257,-793.0804 5863.3658,-781.2568\"/>\n",
       "<polygon fill=\"#000000\" stroke=\"#000000\" points=\"5865.6363,-783.9206 5871.0528,-774.8149 5861.1402,-778.5554 5865.6363,-783.9206\"/>\n",
       "</g>\n",
       "<!-- 177 -->\n",
       "<g id=\"node178\" class=\"node\">\n",
       "<title>177</title>\n",
       "<path fill=\"#399de5\" stroke=\"#000000\" d=\"M5827,-655.5C5827,-655.5 5739,-655.5 5739,-655.5 5733,-655.5 5727,-649.5 5727,-643.5 5727,-643.5 5727,-599.5 5727,-599.5 5727,-593.5 5733,-587.5 5739,-587.5 5739,-587.5 5827,-587.5 5827,-587.5 5833,-587.5 5839,-593.5 5839,-599.5 5839,-599.5 5839,-643.5 5839,-643.5 5839,-649.5 5833,-655.5 5827,-655.5\"/>\n",
       "<text text-anchor=\"start\" x=\"5743\" y=\"-640.3\" font-family=\"Helvetica,sans-Serif\" font-size=\"14.00\" fill=\"#000000\">entropy = 0.0</text>\n",
       "<text text-anchor=\"start\" x=\"5745.5\" y=\"-625.3\" font-family=\"Helvetica,sans-Serif\" font-size=\"14.00\" fill=\"#000000\">samples = 3</text>\n",
       "<text text-anchor=\"start\" x=\"5743.5\" y=\"-610.3\" font-family=\"Helvetica,sans-Serif\" font-size=\"14.00\" fill=\"#000000\">value = [0, 3]</text>\n",
       "<text text-anchor=\"start\" x=\"5735\" y=\"-595.3\" font-family=\"Helvetica,sans-Serif\" font-size=\"14.00\" fill=\"#000000\">class = adopted</text>\n",
       "</g>\n",
       "<!-- 176&#45;&gt;177 -->\n",
       "<g id=\"edge177\" class=\"edge\">\n",
       "<title>176&#45;&gt;177</title>\n",
       "<path fill=\"none\" stroke=\"#000000\" d=\"M5774.5468,-698.8796C5775.712,-688.2134 5776.9695,-676.7021 5778.1494,-665.9015\"/>\n",
       "<polygon fill=\"#000000\" stroke=\"#000000\" points=\"5781.6445,-666.1359 5779.2513,-655.8149 5774.6859,-665.3757 5781.6445,-666.1359\"/>\n",
       "</g>\n",
       "<!-- 178 -->\n",
       "<g id=\"node179\" class=\"node\">\n",
       "<title>178</title>\n",
       "<path fill=\"#e58139\" stroke=\"#000000\" d=\"M5941,-655.5C5941,-655.5 5869,-655.5 5869,-655.5 5863,-655.5 5857,-649.5 5857,-643.5 5857,-643.5 5857,-599.5 5857,-599.5 5857,-593.5 5863,-587.5 5869,-587.5 5869,-587.5 5941,-587.5 5941,-587.5 5947,-587.5 5953,-593.5 5953,-599.5 5953,-599.5 5953,-643.5 5953,-643.5 5953,-649.5 5947,-655.5 5941,-655.5\"/>\n",
       "<text text-anchor=\"start\" x=\"5865\" y=\"-640.3\" font-family=\"Helvetica,sans-Serif\" font-size=\"14.00\" fill=\"#000000\">entropy = 0.0</text>\n",
       "<text text-anchor=\"start\" x=\"5867.5\" y=\"-625.3\" font-family=\"Helvetica,sans-Serif\" font-size=\"14.00\" fill=\"#000000\">samples = 1</text>\n",
       "<text text-anchor=\"start\" x=\"5865.5\" y=\"-610.3\" font-family=\"Helvetica,sans-Serif\" font-size=\"14.00\" fill=\"#000000\">value = [1, 0]</text>\n",
       "<text text-anchor=\"start\" x=\"5872\" y=\"-595.3\" font-family=\"Helvetica,sans-Serif\" font-size=\"14.00\" fill=\"#000000\">class = not</text>\n",
       "</g>\n",
       "<!-- 176&#45;&gt;178 -->\n",
       "<g id=\"edge178\" class=\"edge\">\n",
       "<title>176&#45;&gt;178</title>\n",
       "<path fill=\"none\" stroke=\"#000000\" d=\"M5817.2164,-698.8796C5830.5642,-687.1138 5845.0785,-674.3197 5858.3904,-662.5855\"/>\n",
       "<polygon fill=\"#000000\" stroke=\"#000000\" points=\"5860.884,-665.0531 5866.0713,-655.8149 5856.2552,-659.8019 5860.884,-665.0531\"/>\n",
       "</g>\n",
       "<!-- 181 -->\n",
       "<g id=\"node182\" class=\"node\">\n",
       "<title>181</title>\n",
       "<path fill=\"#ffffff\" stroke=\"#000000\" d=\"M6094.5,-901C6094.5,-901 5973.5,-901 5973.5,-901 5967.5,-901 5961.5,-895 5961.5,-889 5961.5,-889 5961.5,-830 5961.5,-830 5961.5,-824 5967.5,-818 5973.5,-818 5973.5,-818 6094.5,-818 6094.5,-818 6100.5,-818 6106.5,-824 6106.5,-830 6106.5,-830 6106.5,-889 6106.5,-889 6106.5,-895 6100.5,-901 6094.5,-901\"/>\n",
       "<text text-anchor=\"start\" x=\"5969.5\" y=\"-885.8\" font-family=\"Helvetica,sans-Serif\" font-size=\"14.00\" fill=\"#000000\">creation_month ≤ 4.5</text>\n",
       "<text text-anchor=\"start\" x=\"5994\" y=\"-870.8\" font-family=\"Helvetica,sans-Serif\" font-size=\"14.00\" fill=\"#000000\">entropy = 1.0</text>\n",
       "<text text-anchor=\"start\" x=\"5996.5\" y=\"-855.8\" font-family=\"Helvetica,sans-Serif\" font-size=\"14.00\" fill=\"#000000\">samples = 2</text>\n",
       "<text text-anchor=\"start\" x=\"5994.5\" y=\"-840.8\" font-family=\"Helvetica,sans-Serif\" font-size=\"14.00\" fill=\"#000000\">value = [1, 1]</text>\n",
       "<text text-anchor=\"start\" x=\"6001\" y=\"-825.8\" font-family=\"Helvetica,sans-Serif\" font-size=\"14.00\" fill=\"#000000\">class = not</text>\n",
       "</g>\n",
       "<!-- 180&#45;&gt;181 -->\n",
       "<g id=\"edge181\" class=\"edge\">\n",
       "<title>180&#45;&gt;181</title>\n",
       "<path fill=\"none\" stroke=\"#000000\" d=\"M6034,-936.8796C6034,-928.6838 6034,-919.9891 6034,-911.5013\"/>\n",
       "<polygon fill=\"#000000\" stroke=\"#000000\" points=\"6037.5001,-911.298 6034,-901.2981 6030.5001,-911.2981 6037.5001,-911.298\"/>\n",
       "</g>\n",
       "<!-- 184 -->\n",
       "<g id=\"node185\" class=\"node\">\n",
       "<title>184</title>\n",
       "<path fill=\"#399de5\" stroke=\"#000000\" d=\"M6225,-893.5C6225,-893.5 6137,-893.5 6137,-893.5 6131,-893.5 6125,-887.5 6125,-881.5 6125,-881.5 6125,-837.5 6125,-837.5 6125,-831.5 6131,-825.5 6137,-825.5 6137,-825.5 6225,-825.5 6225,-825.5 6231,-825.5 6237,-831.5 6237,-837.5 6237,-837.5 6237,-881.5 6237,-881.5 6237,-887.5 6231,-893.5 6225,-893.5\"/>\n",
       "<text text-anchor=\"start\" x=\"6141\" y=\"-878.3\" font-family=\"Helvetica,sans-Serif\" font-size=\"14.00\" fill=\"#000000\">entropy = 0.0</text>\n",
       "<text text-anchor=\"start\" x=\"6143.5\" y=\"-863.3\" font-family=\"Helvetica,sans-Serif\" font-size=\"14.00\" fill=\"#000000\">samples = 2</text>\n",
       "<text text-anchor=\"start\" x=\"6141.5\" y=\"-848.3\" font-family=\"Helvetica,sans-Serif\" font-size=\"14.00\" fill=\"#000000\">value = [0, 2]</text>\n",
       "<text text-anchor=\"start\" x=\"6133\" y=\"-833.3\" font-family=\"Helvetica,sans-Serif\" font-size=\"14.00\" fill=\"#000000\">class = adopted</text>\n",
       "</g>\n",
       "<!-- 180&#45;&gt;184 -->\n",
       "<g id=\"edge184\" class=\"edge\">\n",
       "<title>180&#45;&gt;184</title>\n",
       "<path fill=\"none\" stroke=\"#000000\" d=\"M6085.4135,-936.8796C6100.0835,-925.0038 6116.0477,-912.0804 6130.6533,-900.2568\"/>\n",
       "<polygon fill=\"#000000\" stroke=\"#000000\" points=\"6133.0407,-902.8273 6138.611,-893.8149 6128.6363,-897.3866 6133.0407,-902.8273\"/>\n",
       "</g>\n",
       "<!-- 182 -->\n",
       "<g id=\"node183\" class=\"node\">\n",
       "<title>182</title>\n",
       "<path fill=\"#399de5\" stroke=\"#000000\" d=\"M6078,-774.5C6078,-774.5 5990,-774.5 5990,-774.5 5984,-774.5 5978,-768.5 5978,-762.5 5978,-762.5 5978,-718.5 5978,-718.5 5978,-712.5 5984,-706.5 5990,-706.5 5990,-706.5 6078,-706.5 6078,-706.5 6084,-706.5 6090,-712.5 6090,-718.5 6090,-718.5 6090,-762.5 6090,-762.5 6090,-768.5 6084,-774.5 6078,-774.5\"/>\n",
       "<text text-anchor=\"start\" x=\"5994\" y=\"-759.3\" font-family=\"Helvetica,sans-Serif\" font-size=\"14.00\" fill=\"#000000\">entropy = 0.0</text>\n",
       "<text text-anchor=\"start\" x=\"5996.5\" y=\"-744.3\" font-family=\"Helvetica,sans-Serif\" font-size=\"14.00\" fill=\"#000000\">samples = 1</text>\n",
       "<text text-anchor=\"start\" x=\"5994.5\" y=\"-729.3\" font-family=\"Helvetica,sans-Serif\" font-size=\"14.00\" fill=\"#000000\">value = [0, 1]</text>\n",
       "<text text-anchor=\"start\" x=\"5986\" y=\"-714.3\" font-family=\"Helvetica,sans-Serif\" font-size=\"14.00\" fill=\"#000000\">class = adopted</text>\n",
       "</g>\n",
       "<!-- 181&#45;&gt;182 -->\n",
       "<g id=\"edge182\" class=\"edge\">\n",
       "<title>181&#45;&gt;182</title>\n",
       "<path fill=\"none\" stroke=\"#000000\" d=\"M6034,-817.8796C6034,-807.2134 6034,-795.7021 6034,-784.9015\"/>\n",
       "<polygon fill=\"#000000\" stroke=\"#000000\" points=\"6037.5001,-784.8149 6034,-774.8149 6030.5001,-784.815 6037.5001,-784.8149\"/>\n",
       "</g>\n",
       "<!-- 183 -->\n",
       "<g id=\"node184\" class=\"node\">\n",
       "<title>183</title>\n",
       "<path fill=\"#e58139\" stroke=\"#000000\" d=\"M6192,-774.5C6192,-774.5 6120,-774.5 6120,-774.5 6114,-774.5 6108,-768.5 6108,-762.5 6108,-762.5 6108,-718.5 6108,-718.5 6108,-712.5 6114,-706.5 6120,-706.5 6120,-706.5 6192,-706.5 6192,-706.5 6198,-706.5 6204,-712.5 6204,-718.5 6204,-718.5 6204,-762.5 6204,-762.5 6204,-768.5 6198,-774.5 6192,-774.5\"/>\n",
       "<text text-anchor=\"start\" x=\"6116\" y=\"-759.3\" font-family=\"Helvetica,sans-Serif\" font-size=\"14.00\" fill=\"#000000\">entropy = 0.0</text>\n",
       "<text text-anchor=\"start\" x=\"6118.5\" y=\"-744.3\" font-family=\"Helvetica,sans-Serif\" font-size=\"14.00\" fill=\"#000000\">samples = 1</text>\n",
       "<text text-anchor=\"start\" x=\"6116.5\" y=\"-729.3\" font-family=\"Helvetica,sans-Serif\" font-size=\"14.00\" fill=\"#000000\">value = [1, 0]</text>\n",
       "<text text-anchor=\"start\" x=\"6123\" y=\"-714.3\" font-family=\"Helvetica,sans-Serif\" font-size=\"14.00\" fill=\"#000000\">class = not</text>\n",
       "</g>\n",
       "<!-- 181&#45;&gt;183 -->\n",
       "<g id=\"edge183\" class=\"edge\">\n",
       "<title>181&#45;&gt;183</title>\n",
       "<path fill=\"none\" stroke=\"#000000\" d=\"M6076.6697,-817.8796C6088.6194,-806.2237 6101.6037,-793.5587 6113.5411,-781.9148\"/>\n",
       "<polygon fill=\"#000000\" stroke=\"#000000\" points=\"6116.1053,-784.303 6120.82,-774.8149 6111.2175,-779.292 6116.1053,-784.303\"/>\n",
       "</g>\n",
       "</g>\n",
       "</svg>\n"
      ],
      "text/plain": [
       "<graphviz.files.Source at 0x7f98069f3828>"
      ]
     },
     "execution_count": 10,
     "metadata": {},
     "output_type": "execute_result"
    }
   ],
   "source": [
    "dot_data = tree.export_graphviz(tree_model, out_file=None, feature_names=feature_names, class_names=['not', 'adopted'],\n",
    "                                filled=True, rounded=True, special_characters=True) \n",
    "graphviz.Source(dot_data)"
   ]
  },
  {
   "cell_type": "markdown",
   "metadata": {},
   "source": [
    "### Conclusions"
   ]
  },
  {
   "cell_type": "markdown",
   "metadata": {},
   "source": [
    "From the above graph yada yada yada..."
   ]
  },
  {
   "cell_type": "code",
   "execution_count": null,
   "metadata": {},
   "outputs": [],
   "source": []
  }
 ],
 "metadata": {
  "kernelspec": {
   "display_name": "Python 3",
   "language": "python",
   "name": "python3"
  },
  "language_info": {
   "codemirror_mode": {
    "name": "ipython",
    "version": 3
   },
   "file_extension": ".py",
   "mimetype": "text/x-python",
   "name": "python",
   "nbconvert_exporter": "python",
   "pygments_lexer": "ipython3",
   "version": "3.7.3"
  }
 },
 "nbformat": 4,
 "nbformat_minor": 2
}
