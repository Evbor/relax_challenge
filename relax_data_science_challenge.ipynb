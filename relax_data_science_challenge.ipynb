{
 "cells": [
  {
   "cell_type": "markdown",
   "metadata": {},
   "source": [
    "# Understanding User Adoption Trends"
   ]
  },
  {
   "cell_type": "markdown",
   "metadata": {},
   "source": [
    "The goal of this project is investigate what types of factors are help predict user adoption for Relax's software product. User adoption is defined as a user who as logged into the product on three seperate days in at least one seven-day period, and we are give all user login timestamps, as well as a some quantities that Relax records about their users to investigate."
   ]
  },
  {
   "cell_type": "markdown",
   "metadata": {},
   "source": [
    "## Exploratory Data Analysis"
   ]
  },
  {
   "cell_type": "code",
   "execution_count": 1,
   "metadata": {},
   "outputs": [],
   "source": [
    "import pickle\n",
    "import numpy as np\n",
    "import pandas as pd\n",
    "import matplotlib.pyplot as plt"
   ]
  },
  {
   "cell_type": "code",
   "execution_count": 2,
   "metadata": {},
   "outputs": [],
   "source": [
    "df = pd.read_csv('takehome_users.csv', encoding='cp1252', parse_dates=['creation_time'])"
   ]
  },
  {
   "cell_type": "code",
   "execution_count": 3,
   "metadata": {
    "scrolled": true
   },
   "outputs": [
    {
     "data": {
      "text/html": [
       "<div>\n",
       "<style scoped>\n",
       "    .dataframe tbody tr th:only-of-type {\n",
       "        vertical-align: middle;\n",
       "    }\n",
       "\n",
       "    .dataframe tbody tr th {\n",
       "        vertical-align: top;\n",
       "    }\n",
       "\n",
       "    .dataframe thead th {\n",
       "        text-align: right;\n",
       "    }\n",
       "</style>\n",
       "<table border=\"1\" class=\"dataframe\">\n",
       "  <thead>\n",
       "    <tr style=\"text-align: right;\">\n",
       "      <th></th>\n",
       "      <th>object_id</th>\n",
       "      <th>creation_time</th>\n",
       "      <th>name</th>\n",
       "      <th>email</th>\n",
       "      <th>creation_source</th>\n",
       "      <th>last_session_creation_time</th>\n",
       "      <th>opted_in_to_mailing_list</th>\n",
       "      <th>enabled_for_marketing_drip</th>\n",
       "      <th>org_id</th>\n",
       "      <th>invited_by_user_id</th>\n",
       "    </tr>\n",
       "  </thead>\n",
       "  <tbody>\n",
       "    <tr>\n",
       "      <th>0</th>\n",
       "      <td>1</td>\n",
       "      <td>2014-04-22 03:53:30</td>\n",
       "      <td>Clausen August</td>\n",
       "      <td>AugustCClausen@yahoo.com</td>\n",
       "      <td>GUEST_INVITE</td>\n",
       "      <td>1.398139e+09</td>\n",
       "      <td>1</td>\n",
       "      <td>0</td>\n",
       "      <td>11</td>\n",
       "      <td>10803.0</td>\n",
       "    </tr>\n",
       "    <tr>\n",
       "      <th>1</th>\n",
       "      <td>2</td>\n",
       "      <td>2013-11-15 03:45:04</td>\n",
       "      <td>Poole Matthew</td>\n",
       "      <td>MatthewPoole@gustr.com</td>\n",
       "      <td>ORG_INVITE</td>\n",
       "      <td>1.396238e+09</td>\n",
       "      <td>0</td>\n",
       "      <td>0</td>\n",
       "      <td>1</td>\n",
       "      <td>316.0</td>\n",
       "    </tr>\n",
       "    <tr>\n",
       "      <th>2</th>\n",
       "      <td>3</td>\n",
       "      <td>2013-03-19 23:14:52</td>\n",
       "      <td>Bottrill Mitchell</td>\n",
       "      <td>MitchellBottrill@gustr.com</td>\n",
       "      <td>ORG_INVITE</td>\n",
       "      <td>1.363735e+09</td>\n",
       "      <td>0</td>\n",
       "      <td>0</td>\n",
       "      <td>94</td>\n",
       "      <td>1525.0</td>\n",
       "    </tr>\n",
       "    <tr>\n",
       "      <th>3</th>\n",
       "      <td>4</td>\n",
       "      <td>2013-05-21 08:09:28</td>\n",
       "      <td>Clausen Nicklas</td>\n",
       "      <td>NicklasSClausen@yahoo.com</td>\n",
       "      <td>GUEST_INVITE</td>\n",
       "      <td>1.369210e+09</td>\n",
       "      <td>0</td>\n",
       "      <td>0</td>\n",
       "      <td>1</td>\n",
       "      <td>5151.0</td>\n",
       "    </tr>\n",
       "    <tr>\n",
       "      <th>4</th>\n",
       "      <td>5</td>\n",
       "      <td>2013-01-17 10:14:20</td>\n",
       "      <td>Raw Grace</td>\n",
       "      <td>GraceRaw@yahoo.com</td>\n",
       "      <td>GUEST_INVITE</td>\n",
       "      <td>1.358850e+09</td>\n",
       "      <td>0</td>\n",
       "      <td>0</td>\n",
       "      <td>193</td>\n",
       "      <td>5240.0</td>\n",
       "    </tr>\n",
       "  </tbody>\n",
       "</table>\n",
       "</div>"
      ],
      "text/plain": [
       "   object_id       creation_time               name  \\\n",
       "0          1 2014-04-22 03:53:30     Clausen August   \n",
       "1          2 2013-11-15 03:45:04      Poole Matthew   \n",
       "2          3 2013-03-19 23:14:52  Bottrill Mitchell   \n",
       "3          4 2013-05-21 08:09:28    Clausen Nicklas   \n",
       "4          5 2013-01-17 10:14:20          Raw Grace   \n",
       "\n",
       "                        email creation_source  last_session_creation_time  \\\n",
       "0    AugustCClausen@yahoo.com    GUEST_INVITE                1.398139e+09   \n",
       "1      MatthewPoole@gustr.com      ORG_INVITE                1.396238e+09   \n",
       "2  MitchellBottrill@gustr.com      ORG_INVITE                1.363735e+09   \n",
       "3   NicklasSClausen@yahoo.com    GUEST_INVITE                1.369210e+09   \n",
       "4          GraceRaw@yahoo.com    GUEST_INVITE                1.358850e+09   \n",
       "\n",
       "   opted_in_to_mailing_list  enabled_for_marketing_drip  org_id  \\\n",
       "0                         1                           0      11   \n",
       "1                         0                           0       1   \n",
       "2                         0                           0      94   \n",
       "3                         0                           0       1   \n",
       "4                         0                           0     193   \n",
       "\n",
       "   invited_by_user_id  \n",
       "0             10803.0  \n",
       "1               316.0  \n",
       "2              1525.0  \n",
       "3              5151.0  \n",
       "4              5240.0  "
      ]
     },
     "execution_count": 3,
     "metadata": {},
     "output_type": "execute_result"
    }
   ],
   "source": [
    "df.head()"
   ]
  },
  {
   "cell_type": "code",
   "execution_count": 4,
   "metadata": {
    "scrolled": false
   },
   "outputs": [
    {
     "name": "stdout",
     "output_type": "stream",
     "text": [
      "<class 'pandas.core.frame.DataFrame'>\n",
      "RangeIndex: 12000 entries, 0 to 11999\n",
      "Data columns (total 10 columns):\n",
      "object_id                     12000 non-null int64\n",
      "creation_time                 12000 non-null datetime64[ns]\n",
      "name                          12000 non-null object\n",
      "email                         12000 non-null object\n",
      "creation_source               12000 non-null object\n",
      "last_session_creation_time    8823 non-null float64\n",
      "opted_in_to_mailing_list      12000 non-null int64\n",
      "enabled_for_marketing_drip    12000 non-null int64\n",
      "org_id                        12000 non-null int64\n",
      "invited_by_user_id            6417 non-null float64\n",
      "dtypes: datetime64[ns](1), float64(2), int64(4), object(3)\n",
      "memory usage: 937.6+ KB\n"
     ]
    }
   ],
   "source": [
    "df.info()"
   ]
  },
  {
   "cell_type": "code",
   "execution_count": 5,
   "metadata": {},
   "outputs": [],
   "source": [
    "df_logins = pd.read_csv('takehome_user_engagement.csv', parse_dates=['time_stamp'])"
   ]
  },
  {
   "cell_type": "code",
   "execution_count": 6,
   "metadata": {
    "scrolled": true
   },
   "outputs": [
    {
     "data": {
      "text/html": [
       "<div>\n",
       "<style scoped>\n",
       "    .dataframe tbody tr th:only-of-type {\n",
       "        vertical-align: middle;\n",
       "    }\n",
       "\n",
       "    .dataframe tbody tr th {\n",
       "        vertical-align: top;\n",
       "    }\n",
       "\n",
       "    .dataframe thead th {\n",
       "        text-align: right;\n",
       "    }\n",
       "</style>\n",
       "<table border=\"1\" class=\"dataframe\">\n",
       "  <thead>\n",
       "    <tr style=\"text-align: right;\">\n",
       "      <th></th>\n",
       "      <th>time_stamp</th>\n",
       "      <th>user_id</th>\n",
       "      <th>visited</th>\n",
       "    </tr>\n",
       "  </thead>\n",
       "  <tbody>\n",
       "    <tr>\n",
       "      <th>0</th>\n",
       "      <td>2014-04-22 03:53:30</td>\n",
       "      <td>1</td>\n",
       "      <td>1</td>\n",
       "    </tr>\n",
       "    <tr>\n",
       "      <th>1</th>\n",
       "      <td>2013-11-15 03:45:04</td>\n",
       "      <td>2</td>\n",
       "      <td>1</td>\n",
       "    </tr>\n",
       "    <tr>\n",
       "      <th>2</th>\n",
       "      <td>2013-11-29 03:45:04</td>\n",
       "      <td>2</td>\n",
       "      <td>1</td>\n",
       "    </tr>\n",
       "    <tr>\n",
       "      <th>3</th>\n",
       "      <td>2013-12-09 03:45:04</td>\n",
       "      <td>2</td>\n",
       "      <td>1</td>\n",
       "    </tr>\n",
       "    <tr>\n",
       "      <th>4</th>\n",
       "      <td>2013-12-25 03:45:04</td>\n",
       "      <td>2</td>\n",
       "      <td>1</td>\n",
       "    </tr>\n",
       "  </tbody>\n",
       "</table>\n",
       "</div>"
      ],
      "text/plain": [
       "           time_stamp  user_id  visited\n",
       "0 2014-04-22 03:53:30        1        1\n",
       "1 2013-11-15 03:45:04        2        1\n",
       "2 2013-11-29 03:45:04        2        1\n",
       "3 2013-12-09 03:45:04        2        1\n",
       "4 2013-12-25 03:45:04        2        1"
      ]
     },
     "execution_count": 6,
     "metadata": {},
     "output_type": "execute_result"
    }
   ],
   "source": [
    "df_logins.head()"
   ]
  },
  {
   "cell_type": "code",
   "execution_count": 7,
   "metadata": {
    "scrolled": true
   },
   "outputs": [
    {
     "name": "stdout",
     "output_type": "stream",
     "text": [
      "<class 'pandas.core.frame.DataFrame'>\n",
      "RangeIndex: 207917 entries, 0 to 207916\n",
      "Data columns (total 3 columns):\n",
      "time_stamp    207917 non-null datetime64[ns]\n",
      "user_id       207917 non-null int64\n",
      "visited       207917 non-null int64\n",
      "dtypes: datetime64[ns](1), int64(2)\n",
      "memory usage: 4.8 MB\n"
     ]
    }
   ],
   "source": [
    "df_logins.info()"
   ]
  },
  {
   "cell_type": "markdown",
   "metadata": {},
   "source": [
    "### Labeling Data"
   ]
  },
  {
   "cell_type": "markdown",
   "metadata": {},
   "source": [
    "A user is considered to be labeled as adopted if the user with the specifc user id has logged into the product on three seperate days in at least one seven-day period. Adopted users have have a value of 1 for the variable  \"adopted_user\" and 0 otherwise."
   ]
  },
  {
   "cell_type": "code",
   "execution_count": 8,
   "metadata": {},
   "outputs": [],
   "source": [
    "def label_user(user_logins):\n",
    "    \n",
    "    label = 0\n",
    "    \n",
    "    for login_ts in user_logins:\n",
    "        cutoff_ts = login_ts + pd.DateOffset(days=7)\n",
    "        week_slice = user_logins[(login_ts <= user_logins) & (user_logins <= cutoff_ts)]\n",
    "        # Dropping duplicate days\n",
    "        week_slice = week_slice.dt.date.drop_duplicates()\n",
    "        if 3 <= week_slice.count():\n",
    "            label = 1\n",
    "            break\n",
    "            \n",
    "    return label\n",
    "\n",
    "def label_df(df, df_logins):\n",
    "    \n",
    "    df_labeled = df.copy(deep=True)\n",
    "    \n",
    "    def label_user_id(user_id):\n",
    "        user_logins = df_logins[df_logins.user_id == user_id].time_stamp\n",
    "        return label_user(user_logins)\n",
    "    \n",
    "    df_labeled['adopted_user'] = df['object_id'].map(label_user_id)\n",
    "    \n",
    "    return df_labeled"
   ]
  },
  {
   "cell_type": "code",
   "execution_count": 9,
   "metadata": {},
   "outputs": [],
   "source": [
    "df = label_df(df, df_logins)"
   ]
  },
  {
   "cell_type": "markdown",
   "metadata": {},
   "source": [
    "### Analysis"
   ]
  },
  {
   "cell_type": "markdown",
   "metadata": {},
   "source": [
    "Plotting sampling distribution for Adopted User"
   ]
  },
  {
   "cell_type": "code",
   "execution_count": 10,
   "metadata": {},
   "outputs": [
    {
     "data": {
      "image/png": "[encoded data removed]",
      "text/plain": [
       "<Figure size 432x288 with 1 Axes>"
      ]
     },
     "metadata": {
      "needs_background": "light"
     },
     "output_type": "display_data"
    },
    {
     "name": "stdout",
     "output_type": "stream",
     "text": [
      "Number of Users Adopted: 1656\n",
      "Probability of Adopting a User: 0.138\n",
      "Number of Users Not Adopted: 10344\n",
      "Probability of Not Adopting a User: 0.862\n"
     ]
    }
   ],
   "source": [
    "counts = df['adopted_user'].value_counts()\n",
    "distr = df['adopted_user'].value_counts(normalize=True)\n",
    "\n",
    "fig, ax = plt.subplots()\n",
    "ax.bar(distr.index.map(lambda l: 'adopted' if l == 1 else 'not_adopted'), distr)\n",
    "ax.set_title('Sample Distribution for Adopted User')\n",
    "ax.set_ylabel('Probability')\n",
    "plt.show()\n",
    "\n",
    "print('Number of Users Adopted: {}'.format(counts[1]))\n",
    "print('Probability of Adopting a User: {}'.format(distr[1]))\n",
    "print('Number of Users Not Adopted: {}'.format(counts[0]))\n",
    "print('Probability of Not Adopting a User: {}'.format(distr[0]))"
   ]
  },
  {
   "cell_type": "markdown",
   "metadata": {},
   "source": [
    "Exploring time like variables."
   ]
  },
  {
   "cell_type": "code",
   "execution_count": 11,
   "metadata": {},
   "outputs": [
    {
     "name": "stdout",
     "output_type": "stream",
     "text": [
      "Number of unique end session times: 8822\n",
      "\n",
      "Value Counts:\n",
      "1.401917e+09    2\n",
      "1.401868e+09    2\n",
      "1.354310e+09    1\n",
      "1.380393e+09    1\n",
      "1.354303e+09    1\n",
      "               ..\n",
      "1.365709e+09    1\n",
      "1.399264e+09    1\n",
      "1.399266e+09    1\n",
      "1.399271e+09    1\n",
      "1.393658e+09    1\n",
      "Name: last_session_creation_time, Length: 8821, dtype: int64\n"
     ]
    }
   ],
   "source": [
    "print('Number of unique end session times: {}'.format(len(df.last_session_creation_time.unique())))\n",
    "print()\n",
    "print('Value Counts:')\n",
    "print(df.last_session_creation_time.value_counts())"
   ]
  },
  {
   "cell_type": "code",
   "execution_count": 12,
   "metadata": {},
   "outputs": [
    {
     "name": "stdout",
     "output_type": "stream",
     "text": [
      "Number of unique account start dates: 11996\n",
      "\n",
      "Value Counts:\n",
      "2014-02-11 17:57:53    2\n",
      "2012-09-14 21:35:03    2\n",
      "2012-09-01 07:22:09    2\n",
      "2013-05-25 04:35:52    2\n",
      "2013-09-13 08:15:45    1\n",
      "                      ..\n",
      "2014-03-16 13:52:40    1\n",
      "2013-10-01 17:38:38    1\n",
      "2013-06-08 20:18:35    1\n",
      "2013-04-11 00:02:39    1\n",
      "2013-06-25 00:29:04    1\n",
      "Name: creation_time, Length: 11996, dtype: int64\n"
     ]
    }
   ],
   "source": [
    "print('Number of unique account start dates: {}'.format(len(df.creation_time.unique())))\n",
    "print()\n",
    "print('Value Counts:')\n",
    "print(df.creation_time.value_counts())"
   ]
  },
  {
   "cell_type": "code",
   "execution_count": 13,
   "metadata": {},
   "outputs": [
    {
     "name": "stdout",
     "output_type": "stream",
     "text": [
      "Value Counts for start date months:\n",
      "5     1455\n",
      "3     1177\n",
      "4     1169\n",
      "1     1029\n",
      "11     936\n",
      "2      934\n",
      "12     930\n",
      "10     924\n",
      "9      901\n",
      "7      852\n",
      "8      852\n",
      "6      841\n",
      "Name: creation_time, dtype: int64\n"
     ]
    }
   ],
   "source": [
    "print('Value Counts for start date months:')\n",
    "print(df.creation_time.dt.month.value_counts())"
   ]
  },
  {
   "cell_type": "markdown",
   "metadata": {},
   "source": [
    "Plotting sampling distributions for Adopted Users given a specific starting month."
   ]
  },
  {
   "cell_type": "code",
   "execution_count": 14,
   "metadata": {
    "scrolled": true
   },
   "outputs": [
    {
     "data": {
      "image/png": "[encoded data removed]",
      "text/plain": [
       "<Figure size 432x288 with 1 Axes>"
      ]
     },
     "metadata": {
      "needs_background": "light"
     },
     "output_type": "display_data"
    },
    {
     "name": "stdout",
     "output_type": "stream",
     "text": [
      "Number of Users Adopted: 150\n",
      "Probability of Adopting a User: 0.1457725947521866\n",
      "Number of Users Not Adopted: 879\n",
      "Probability of Not Adopting a User: 0.8542274052478134\n"
     ]
    },
    {
     "data": {
      "image/png": "[encoded data removed]",
      "text/plain": [
       "<Figure size 432x288 with 1 Axes>"
      ]
     },
     "metadata": {
      "needs_background": "light"
     },
     "output_type": "display_data"
    },
    {
     "name": "stdout",
     "output_type": "stream",
     "text": [
      "Number of Users Adopted: 137\n",
      "Probability of Adopting a User: 0.14668094218415417\n",
      "Number of Users Not Adopted: 797\n",
      "Probability of Not Adopting a User: 0.8533190578158458\n"
     ]
    },
    {
     "data": {
      "image/png": "[encoded data removed]",
      "text/plain": [
       "<Figure size 432x288 with 1 Axes>"
      ]
     },
     "metadata": {
      "needs_background": "light"
     },
     "output_type": "display_data"
    },
    {
     "name": "stdout",
     "output_type": "stream",
     "text": [
      "Number of Users Adopted: 164\n",
      "Probability of Adopting a User: 0.1393372982158029\n",
      "Number of Users Not Adopted: 1013\n",
      "Probability of Not Adopting a User: 0.8606627017841971\n"
     ]
    },
    {
     "data": {
      "image/png": "[encoded data removed]",
      "text/plain": [
       "<Figure size 432x288 with 1 Axes>"
      ]
     },
     "metadata": {
      "needs_background": "light"
     },
     "output_type": "display_data"
    },
    {
     "name": "stdout",
     "output_type": "stream",
     "text": [
      "Number of Users Adopted: 115\n",
      "Probability of Adopting a User: 0.09837467921300257\n",
      "Number of Users Not Adopted: 1054\n",
      "Probability of Not Adopting a User: 0.9016253207869974\n"
     ]
    },
    {
     "data": {
      "image/png": "[encoded data removed]",
      "text/plain": [
       "<Figure size 432x288 with 1 Axes>"
      ]
     },
     "metadata": {
      "needs_background": "light"
     },
     "output_type": "display_data"
    },
    {
     "name": "stdout",
     "output_type": "stream",
     "text": [
      "Number of Users Adopted: 78\n",
      "Probability of Adopting a User: 0.05360824742268041\n",
      "Number of Users Not Adopted: 1377\n",
      "Probability of Not Adopting a User: 0.9463917525773196\n"
     ]
    },
    {
     "data": {
      "image/png": "[encoded data removed]",
      "text/plain": [
       "<Figure size 432x288 with 1 Axes>"
      ]
     },
     "metadata": {
      "needs_background": "light"
     },
     "output_type": "display_data"
    },
    {
     "name": "stdout",
     "output_type": "stream",
     "text": [
      "Number of Users Adopted: 153\n",
      "Probability of Adopting a User: 0.18192627824019025\n",
      "Number of Users Not Adopted: 688\n",
      "Probability of Not Adopting a User: 0.8180737217598097\n"
     ]
    },
    {
     "data": {
      "image/png": "[encoded data removed]",
      "text/plain": [
       "<Figure size 432x288 with 1 Axes>"
      ]
     },
     "metadata": {
      "needs_background": "light"
     },
     "output_type": "display_data"
    },
    {
     "name": "stdout",
     "output_type": "stream",
     "text": [
      "Number of Users Adopted: 123\n",
      "Probability of Adopting a User: 0.1443661971830986\n",
      "Number of Users Not Adopted: 729\n",
      "Probability of Not Adopting a User: 0.8556338028169014\n"
     ]
    },
    {
     "data": {
      "image/png": "[encoded data removed]",
      "text/plain": [
       "<Figure size 432x288 with 1 Axes>"
      ]
     },
     "metadata": {
      "needs_background": "light"
     },
     "output_type": "display_data"
    },
    {
     "name": "stdout",
     "output_type": "stream",
     "text": [
      "Number of Users Adopted: 145\n",
      "Probability of Adopting a User: 0.17018779342723006\n",
      "Number of Users Not Adopted: 707\n",
      "Probability of Not Adopting a User: 0.82981220657277\n"
     ]
    },
    {
     "data": {
      "image/png": "[encoded data removed]",
      "text/plain": [
       "<Figure size 432x288 with 1 Axes>"
      ]
     },
     "metadata": {
      "needs_background": "light"
     },
     "output_type": "display_data"
    },
    {
     "name": "stdout",
     "output_type": "stream",
     "text": [
      "Number of Users Adopted: 142\n",
      "Probability of Adopting a User: 0.15760266370699222\n",
      "Number of Users Not Adopted: 759\n",
      "Probability of Not Adopting a User: 0.8423973362930077\n"
     ]
    },
    {
     "data": {
      "image/png": "[encoded data removed]",
      "text/plain": [
       "<Figure size 432x288 with 1 Axes>"
      ]
     },
     "metadata": {
      "needs_background": "light"
     },
     "output_type": "display_data"
    },
    {
     "name": "stdout",
     "output_type": "stream",
     "text": [
      "Number of Users Adopted: 162\n",
      "Probability of Adopting a User: 0.17532467532467533\n",
      "Number of Users Not Adopted: 762\n",
      "Probability of Not Adopting a User: 0.8246753246753247\n"
     ]
    },
    {
     "data": {
      "image/png": "[encoded data removed]",
      "text/plain": [
       "<Figure size 432x288 with 1 Axes>"
      ]
     },
     "metadata": {
      "needs_background": "light"
     },
     "output_type": "display_data"
    },
    {
     "name": "stdout",
     "output_type": "stream",
     "text": [
      "Number of Users Adopted: 151\n",
      "Probability of Adopting a User: 0.16132478632478633\n",
      "Number of Users Not Adopted: 785\n",
      "Probability of Not Adopting a User: 0.8386752136752137\n"
     ]
    },
    {
     "data": {
      "image/png": "[encoded data removed]",
      "text/plain": [
       "<Figure size 432x288 with 1 Axes>"
      ]
     },
     "metadata": {
      "needs_background": "light"
     },
     "output_type": "display_data"
    },
    {
     "name": "stdout",
     "output_type": "stream",
     "text": [
      "Number of Users Adopted: 136\n",
      "Probability of Adopting a User: 0.14623655913978495\n",
      "Number of Users Not Adopted: 794\n",
      "Probability of Not Adopting a User: 0.853763440860215\n"
     ]
    }
   ],
   "source": [
    "for i in df.creation_time.dt.month.sort_values().unique():\n",
    "    counts = df[df.creation_time.dt.month == i]['adopted_user'].value_counts()\n",
    "    distr = df[df.creation_time.dt.month == i]['adopted_user'].value_counts(normalize=True)\n",
    "\n",
    "    fig, ax = plt.subplots()\n",
    "    ax.bar(distr.index.map(lambda l: 'adopted' if l == 1 else 'not_adopted'), distr)\n",
    "    ax.set_title('Sample Distribution for Adopted Users with start month: {}'.format(i))\n",
    "    ax.set_ylabel('Probability')\n",
    "    plt.show()\n",
    "\n",
    "    print('Number of Users Adopted: {}'.format(counts[1]))\n",
    "    print('Probability of Adopting a User: {}'.format(distr[1]))\n",
    "    print('Number of Users Not Adopted: {}'.format(counts[0]))\n",
    "    print('Probability of Not Adopting a User: {}'.format(distr[0]))"
   ]
  },
  {
   "cell_type": "markdown",
   "metadata": {},
   "source": [
    "It appears there is some seasonal variance of the Adopted User distribution throughout the months."
   ]
  },
  {
   "cell_type": "markdown",
   "metadata": {},
   "source": [
    "Exploring email variable."
   ]
  },
  {
   "cell_type": "code",
   "execution_count": 15,
   "metadata": {},
   "outputs": [
    {
     "name": "stdout",
     "output_type": "stream",
     "text": [
      "Number of unique emails: 1184\n",
      "\n",
      "Value Counts:\n",
      "gmail.com         3562\n",
      "yahoo.com         2447\n",
      "jourrapide.com    1259\n",
      "cuvox.de          1202\n",
      "gustr.com         1179\n",
      "                  ... \n",
      "yeyhm.com            1\n",
      "mrxqj.com            1\n",
      "skuvv.com            1\n",
      "swhrr.com            1\n",
      "fwtem.com            1\n",
      "Name: email, Length: 1184, dtype: int64\n"
     ]
    }
   ],
   "source": [
    "emails = df.email.map(lambda email: email.split('@', 1)[1])\n",
    "print('Number of unique emails: {}'.format(len(emails.unique())))\n",
    "print()\n",
    "print('Value Counts:')\n",
    "print(emails.value_counts())"
   ]
  },
  {
   "cell_type": "code",
   "execution_count": 16,
   "metadata": {},
   "outputs": [
    {
     "name": "stdout",
     "output_type": "stream",
     "text": [
      "Number of unique emails with more than 1000 samples: 6\n",
      "\n",
      "Value Counts for emails with more than 1000 samples:\n",
      "gmail.com         3562\n",
      "yahoo.com         2447\n",
      "jourrapide.com    1259\n",
      "cuvox.de          1202\n",
      "gustr.com         1179\n",
      "hotmail.com       1165\n",
      "Name: email, dtype: int64\n"
     ]
    }
   ],
   "source": [
    "print('Number of unique emails with more than 1000 samples: {}'.format(emails.value_counts()[(emails.value_counts() >= 1000)].count()))\n",
    "print()\n",
    "print('Value Counts for emails with more than 1000 samples:')\n",
    "print(emails.value_counts()[(emails.value_counts() > 1000)])"
   ]
  },
  {
   "cell_type": "code",
   "execution_count": 17,
   "metadata": {},
   "outputs": [
    {
     "name": "stdout",
     "output_type": "stream",
     "text": [
      "Number of unique emails with more than 1000 samples: 1178\n",
      "\n",
      "Value Counts for emails with more than 1000 samples:\n",
      "dqwln.com    2\n",
      "oqpze.com    2\n",
      "qgjbc.com    2\n",
      "mumdc.com    2\n",
      "xybhi.com    2\n",
      "            ..\n",
      "yeyhm.com    1\n",
      "mrxqj.com    1\n",
      "skuvv.com    1\n",
      "swhrr.com    1\n",
      "fwtem.com    1\n",
      "Name: email, Length: 1178, dtype: int64\n"
     ]
    }
   ],
   "source": [
    "print('Number of unique emails with more than 1000 samples: {}'.format(emails.value_counts()[(emails.value_counts() < 1000)].count()))\n",
    "print()\n",
    "print('Value Counts for emails with more than 1000 samples:')\n",
    "print(emails.value_counts()[(emails.value_counts() < 1000)])"
   ]
  },
  {
   "cell_type": "markdown",
   "metadata": {},
   "source": [
    "It appears most of the users belong to the big 6 emails: gmail.com, yahoo.com, jourrapide.com, cuvox.com, gustr.com, and hotmail, and any email outside the big six either contains 2 users or 1 user which is not enough samples to generate a faithful representation of our Adopted User Distribution."
   ]
  },
  {
   "cell_type": "markdown",
   "metadata": {},
   "source": [
    "Plotting sampling distributions for Adopted Users across the big six emails: gmail.com, yahoo.com, jourrapide.com, cuvox.com, gustr.com, and hotmail.com."
   ]
  },
  {
   "cell_type": "code",
   "execution_count": 18,
   "metadata": {
    "scrolled": true
   },
   "outputs": [
    {
     "data": {
      "image/png": "[encoded data removed]",
      "text/plain": [
       "<Figure size 432x288 with 1 Axes>"
      ]
     },
     "metadata": {
      "needs_background": "light"
     },
     "output_type": "display_data"
    },
    {
     "name": "stdout",
     "output_type": "stream",
     "text": [
      "Number of Users Adopted: 557\n",
      "Probability of Adopting a User: 0.15637282425603594\n",
      "Number of Users Not Adopted: 3005\n",
      "Probability of Not Adopting a User: 0.8436271757439641\n"
     ]
    },
    {
     "data": {
      "image/png": "[encoded data removed]",
      "text/plain": [
       "<Figure size 432x288 with 1 Axes>"
      ]
     },
     "metadata": {
      "needs_background": "light"
     },
     "output_type": "display_data"
    },
    {
     "name": "stdout",
     "output_type": "stream",
     "text": [
      "Number of Users Adopted: 267\n",
      "Probability of Adopting a User: 0.10911319983653453\n",
      "Number of Users Not Adopted: 2180\n",
      "Probability of Not Adopting a User: 0.8908868001634654\n"
     ]
    },
    {
     "data": {
      "image/png": "[encoded data removed]",
      "text/plain": [
       "<Figure size 432x288 with 1 Axes>"
      ]
     },
     "metadata": {
      "needs_background": "light"
     },
     "output_type": "display_data"
    },
    {
     "name": "stdout",
     "output_type": "stream",
     "text": [
      "Number of Users Adopted: 170\n",
      "Probability of Adopting a User: 0.13502779984114377\n",
      "Number of Users Not Adopted: 1089\n",
      "Probability of Not Adopting a User: 0.8649722001588562\n"
     ]
    },
    {
     "data": {
      "image/png": "[encoded data removed]",
      "text/plain": [
       "<Figure size 432x288 with 1 Axes>"
      ]
     },
     "metadata": {
      "needs_background": "light"
     },
     "output_type": "display_data"
    },
    {
     "name": "stdout",
     "output_type": "stream",
     "text": [
      "Number of Users Adopted: 144\n",
      "Probability of Adopting a User: 0.11980033277870217\n",
      "Number of Users Not Adopted: 1058\n",
      "Probability of Not Adopting a User: 0.8801996672212978\n"
     ]
    },
    {
     "data": {
      "image/png": "[encoded data removed]",
      "text/plain": [
       "<Figure size 432x288 with 1 Axes>"
      ]
     },
     "metadata": {
      "needs_background": "light"
     },
     "output_type": "display_data"
    },
    {
     "name": "stdout",
     "output_type": "stream",
     "text": [
      "Number of Users Adopted: 150\n",
      "Probability of Adopting a User: 0.1272264631043257\n",
      "Number of Users Not Adopted: 1029\n",
      "Probability of Not Adopting a User: 0.8727735368956743\n"
     ]
    },
    {
     "data": {
      "image/png": "[encoded data removed]",
      "text/plain": [
       "<Figure size 432x288 with 1 Axes>"
      ]
     },
     "metadata": {
      "needs_background": "light"
     },
     "output_type": "display_data"
    },
    {
     "name": "stdout",
     "output_type": "stream",
     "text": [
      "Number of Users Adopted: 205\n",
      "Probability of Adopting a User: 0.1759656652360515\n",
      "Number of Users Not Adopted: 960\n",
      "Probability of Not Adopting a User: 0.8240343347639485\n"
     ]
    }
   ],
   "source": [
    "for i in emails.value_counts()[(emails.value_counts() > 100)].index:\n",
    "    counts = df[emails == i]['adopted_user'].value_counts()\n",
    "    distr = df[emails == i]['adopted_user'].value_counts(normalize=True)\n",
    "\n",
    "    fig, ax = plt.subplots()\n",
    "    ax.bar(distr.index.map(lambda l: 'adopted' if l == 1 else 'not_adopted'), distr)\n",
    "    ax.set_title('Sample Distribution for Adopted Users with email provider: {}'.format(i))\n",
    "    ax.set_ylabel('Probability')\n",
    "    plt.show()\n",
    "\n",
    "    print('Number of Users Adopted: {}'.format(counts[1]))\n",
    "    print('Probability of Adopting a User: {}'.format(distr[1]))\n",
    "    print('Number of Users Not Adopted: {}'.format(counts[0]))\n",
    "    print('Probability of Not Adopting a User: {}'.format(distr[0]))"
   ]
  },
  {
   "cell_type": "markdown",
   "metadata": {},
   "source": [
    "Plotting the sampling distribution for Adopted Users which do not belong to the big six email providers."
   ]
  },
  {
   "cell_type": "code",
   "execution_count": 19,
   "metadata": {},
   "outputs": [
    {
     "data": {
      "image/png": "[encoded data removed]",
      "text/plain": [
       "<Figure size 432x288 with 1 Axes>"
      ]
     },
     "metadata": {
      "needs_background": "light"
     },
     "output_type": "display_data"
    },
    {
     "name": "stdout",
     "output_type": "stream",
     "text": [
      "Number of Users Adopted: 163\n",
      "Probability of Adopting a User: 0.13743676222596965\n",
      "Number of Users Not Adopted: 1023\n",
      "Probability of Not Adopting a User: 0.8625632377740303\n"
     ]
    }
   ],
   "source": [
    "idxs = (emails != 'gmail.com') & (emails != 'yahoo.com') & (emails != 'jourrapide.com') & (emails != 'cuvox.de') & (emails != 'gustr.com') & (emails != 'hotmail.com')\n",
    "counts = df[idxs]['adopted_user'].value_counts()\n",
    "distr = df[idxs]['adopted_user'].value_counts(normalize=True)\n",
    "\n",
    "fig, ax = plt.subplots()\n",
    "ax.bar(distr.index.map(lambda l: 'adopted' if l == 1 else 'not_adopted'), distr)\n",
    "ax.set_title('Sample Distribution for Adopted Users with email providers not of the big six')\n",
    "ax.set_ylabel('Probability')\n",
    "plt.show()\n",
    "\n",
    "print('Number of Users Adopted: {}'.format(counts[1]))\n",
    "print('Probability of Adopting a User: {}'.format(distr[1]))\n",
    "print('Number of Users Not Adopted: {}'.format(counts[0]))\n",
    "print('Probability of Not Adopting a User: {}'.format(distr[0]))"
   ]
  },
  {
   "cell_type": "markdown",
   "metadata": {},
   "source": [
    "Plotting the sampling distribution for Adopted Users which do belong to the big six email providers."
   ]
  },
  {
   "cell_type": "code",
   "execution_count": 20,
   "metadata": {},
   "outputs": [
    {
     "data": {
      "image/png": "[encoded data removed]",
      "text/plain": [
       "<Figure size 432x288 with 1 Axes>"
      ]
     },
     "metadata": {
      "needs_background": "light"
     },
     "output_type": "display_data"
    },
    {
     "name": "stdout",
     "output_type": "stream",
     "text": [
      "Number of Users Adopted: 1493\n",
      "Probability of Adopting a User: 0.13806177177732568\n",
      "Number of Users Not Adopted: 9321\n",
      "Probability of Not Adopting a User: 0.8619382282226743\n"
     ]
    }
   ],
   "source": [
    "idxs = ~((emails != 'gmail.com') & (emails != 'yahoo.com') & (emails != 'jourrapide.com') & (emails != 'cuvox.de') & (emails != 'gustr.com') & (emails != 'hotmail.com'))\n",
    "counts = df[idxs]['adopted_user'].value_counts()\n",
    "distr = df[idxs]['adopted_user'].value_counts(normalize=True)\n",
    "\n",
    "fig, ax = plt.subplots()\n",
    "ax.bar(distr.index.map(lambda l: 'adopted' if l == 1 else 'not_adopted'), distr)\n",
    "ax.set_title('Sample Distribution for Adopted Users with email providers of the big six')\n",
    "ax.set_ylabel('Probability')\n",
    "plt.show()\n",
    "\n",
    "print('Number of Users Adopted: {}'.format(counts[1]))\n",
    "print('Probability of Adopting a User: {}'.format(distr[1]))\n",
    "print('Number of Users Not Adopted: {}'.format(counts[0]))\n",
    "print('Probability of Not Adopting a User: {}'.format(distr[0]))"
   ]
  },
  {
   "cell_type": "markdown",
   "metadata": {},
   "source": [
    "From the above plots it appears the distribution for adopted users does not change much if at all, when varying if the users belonged to one of the big 6 email providers or not. It also did not seem to change much when varying if the users belonged to any of the big 6 email providers. This implies that the email provider does not seem to effect if a user is adopted or not."
   ]
  },
  {
   "cell_type": "markdown",
   "metadata": {},
   "source": [
    "Exploring the invited by user id variable."
   ]
  },
  {
   "cell_type": "code",
   "execution_count": 21,
   "metadata": {},
   "outputs": [
    {
     "name": "stdout",
     "output_type": "stream",
     "text": [
      "Number of unique users who invited other users: 2565\n",
      "\n",
      "Value Counts:\n",
      "10741.0    13\n",
      "2527.0     12\n",
      "2308.0     11\n",
      "1525.0     11\n",
      "11770.0    11\n",
      "           ..\n",
      "2746.0      1\n",
      "10456.0     1\n",
      "8371.0      1\n",
      "6266.0      1\n",
      "3572.0      1\n",
      "Name: invited_by_user_id, Length: 2564, dtype: int64\n"
     ]
    }
   ],
   "source": [
    "print('Number of unique users who invited other users: {}'.format(len(df.invited_by_user_id.unique())))\n",
    "print()\n",
    "print('Value Counts:')\n",
    "print(df.invited_by_user_id.value_counts())"
   ]
  },
  {
   "cell_type": "markdown",
   "metadata": {},
   "source": [
    "It appears no one user has invited enough users to generate a sample size that is big enough to faithfully represent the Adopted User Distribution. Therefore if we continue our investigation, into whether if being invited by **a specific user** seems to effect Adoption status or not, our conclusions will be dubious at best."
   ]
  },
  {
   "cell_type": "code",
   "execution_count": 22,
   "metadata": {
    "scrolled": true
   },
   "outputs": [
    {
     "name": "stdout",
     "output_type": "stream",
     "text": [
      "Value Counts for Users Invited:\n",
      "1    6417\n",
      "0    5583\n",
      "Name: invited_by_user_id, dtype: int64\n"
     ]
    }
   ],
   "source": [
    "users_invited = df.invited_by_user_id.astype('Int64').fillna(0).map(lambda x: 1 if x > 0 else 0)\n",
    "print('Value Counts for Users Invited:')\n",
    "print(users_invited.value_counts())"
   ]
  },
  {
   "cell_type": "code",
   "execution_count": 23,
   "metadata": {},
   "outputs": [
    {
     "data": {
      "image/png": "[encoded data removed]",
      "text/plain": [
       "<Figure size 432x288 with 1 Axes>"
      ]
     },
     "metadata": {
      "needs_background": "light"
     },
     "output_type": "display_data"
    },
    {
     "name": "stdout",
     "output_type": "stream",
     "text": [
      "Number of Users Adopted: 943\n",
      "Probability of Adopting a User: 0.14695340501792115\n",
      "Number of Users Not Adopted: 5474\n",
      "Probability of Not Adopting a User: 0.8530465949820788\n"
     ]
    },
    {
     "data": {
      "image/png": "[encoded data removed]",
      "text/plain": [
       "<Figure size 432x288 with 1 Axes>"
      ]
     },
     "metadata": {
      "needs_background": "light"
     },
     "output_type": "display_data"
    },
    {
     "name": "stdout",
     "output_type": "stream",
     "text": [
      "Number of Users Adopted: 713\n",
      "Probability of Adopting a User: 0.1277091169622067\n",
      "Number of Users Not Adopted: 4870\n",
      "Probability of Not Adopting a User: 0.8722908830377933\n"
     ]
    }
   ],
   "source": [
    "for i in users_invited.unique():\n",
    "    counts = df[users_invited == i]['adopted_user'].value_counts()\n",
    "    distr = df[users_invited == i]['adopted_user'].value_counts(normalize=True)\n",
    "\n",
    "    fig, ax = plt.subplots()\n",
    "    ax.bar(distr.index.map(lambda l: 'adopted' if l == 1 else 'not_adopted'), distr)\n",
    "    if i == 1:\n",
    "        ax.set_title('Sample Distribution for Adopted User for invited users')\n",
    "    else: \n",
    "        ax.set_title('Sample Distribution for Adopted User for users that were not invited')\n",
    "    ax.set_ylabel('Probability')\n",
    "    plt.show()\n",
    "\n",
    "    print('Number of Users Adopted: {}'.format(counts[1]))\n",
    "    print('Probability of Adopting a User: {}'.format(distr[1]))\n",
    "    print('Number of Users Not Adopted: {}'.format(counts[0]))\n",
    "    print('Probability of Not Adopting a User: {}'.format(distr[0]))"
   ]
  },
  {
   "cell_type": "markdown",
   "metadata": {},
   "source": [
    "Although we have not determined whether being invited by **a specific user** effects the probabilities of being an adopted user or not, we can determine whether being invited by **a user** effects the probability distribution of Adopted status. It appears from the above plots that varying the invited status seems to slightly effect the distribution of Adopted status."
   ]
  },
  {
   "cell_type": "markdown",
   "metadata": {},
   "source": [
    "Investigating organization id variable."
   ]
  },
  {
   "cell_type": "code",
   "execution_count": 24,
   "metadata": {},
   "outputs": [
    {
     "name": "stdout",
     "output_type": "stream",
     "text": [
      "Number of unique organizations: 417\n",
      "\n",
      "Value Counts:\n",
      "0      319\n",
      "1      233\n",
      "2      201\n",
      "3      168\n",
      "4      159\n",
      "      ... \n",
      "396      9\n",
      "400      8\n",
      "397      8\n",
      "386      7\n",
      "416      2\n",
      "Name: org_id, Length: 417, dtype: int64\n"
     ]
    }
   ],
   "source": [
    "print('Number of unique organizations: {}'.format(len(df.org_id.unique())))\n",
    "print()\n",
    "print('Value Counts:')\n",
    "print(df.org_id.value_counts())"
   ]
  },
  {
   "cell_type": "markdown",
   "metadata": {},
   "source": [
    "Most of the unique organizations do not contain enough user samples to faithfully represent the Adopted status distribution, also there appears to be alot unique of classes to one hot encode. "
   ]
  },
  {
   "cell_type": "markdown",
   "metadata": {},
   "source": [
    "#### Conclusions:"
   ]
  },
  {
   "cell_type": "markdown",
   "metadata": {},
   "source": [
    "The approach to this analysis was to first investigate the generally distribution of our target variable, then investigate all the variables that will most likely be dropped from further analysis based on either not containing enough samples, the specific format of the variable, etcetera. We attempt to show if any of these variables could still provide some valuable information to be included in the model. \n",
    "\n",
    "Firstly, we checked the distribution of adopted user status. From the distribution of adopted user status we can tell that our dataset is unbalanced with the minority class being adopted. This implies that the metrics that will be the most useful in measuring the success of a model design to give us a better understanding of the factors that predict user adoption would probably be Precision and Recall of the minority class. \n",
    "\n",
    "Secondly we investigated the temporal variables of our dataset, creation date, the date the user created their account, and last session creation time, the timestamp of the users most recent usage. Since the creation date's and the last session creation time's most populous class contains only two users (with most classes containing only one user), there can be no way that we can correlate these variables with our target variable adopted status because each class contains too few samples. Also, it doesn't make sense that the exact date a user makes an account should have any bearing over whether they use the account 3 or more times in some future week. Likewise, the same applies with the variable last session creation time. If what drives adoption status is some sort of seasonal phenomena then the month attribute of creation date could still have some use. In order to check this we plotted the distributions for adopted status while varying account creation month. From these plots, it appears that there could be a correlation between the month the account is created in and the future adoption status of the user. Thus from this analysis, I feel we are safe to drop variables creation date, and last session creation time from further analysis, and create a new variable to represent the month the users account was created in. \n",
    "\n",
    "Thirdly, we explored the email variable of our users. We found that most of our users belonged to six email providers: gmail.com, yahoo.com, jourrapide.com, cuvox.de, gustr.com, and hotmail.com, with the rest of the users being evenly distributed across many less popular email service providers, most containing only one or two users. From this initial analysis, it is easy to dismiss the email variable because it contains too many unique classes to one hot encode. To alleviate this we tried two partitioning schemes: 1) splitting the email variable into 7 partitions for each one of the big six email providers plus not belonging to one of the big six, and 2) splitting the email variable into 2 partitions one for belonging to a big six email provider and another for not. When varying through both partitioning schemes it became apparent that the distribution for Adopted status did not change much at all, thus I feel we are safe to assume that the email variable does not contribute much to adopted user status and can be dropped from further analysis.\n",
    "\n",
    "Fourthly we investigated the invited by user id variable. None of the unique classes (user id's that invited other current users) contained enough samples to faithfully represent the adopted users distribution, as well as there being too many unique classes to one hot encode. In order to fix these issues we converted the variable into a binary one that represented if the user was invited to the service by any other previous user or not. When plotting the distribution of Adopted status across this new variable it was clear that this variable had a small effect in changing the distribution. Although the effect of this new variable is small we think it will still be useful to include in further analysis because it would be interesting to see the specific effect it has on the target variable if any at all. From this investigation we can conclude that although the invited by user id variable is not fit for further analysis, the new variable, invited by a user, will be interesting to include in further analysis.\n",
    "\n",
    "Finally we checked the org id variable. There appeared to be alot of unique classes a few of which contianed a small amount of samples. Although the above reasons are strong enough to not include this variable in further analysis, it still is an interesting question to ask: whether a specific organization correlates more with adopted users. Thus I feel there is reason enough to include this variable in the modeling phase.\n",
    "\n",
    "From the above analysis we can conclude that variables that will be used as features in our modeling phase will be: the month the user created their account, creation source, opted in to mailing list, enabled for marketing drip, org id, and if they were invited by a user. "
   ]
  },
  {
   "cell_type": "markdown",
   "metadata": {},
   "source": [
    "### Preprocessing Data"
   ]
  },
  {
   "cell_type": "markdown",
   "metadata": {},
   "source": [
    "To preprocess the data we will first create new variables creation month to represent the month the user created their account, and invited to represent if they were invited by another user or not. Since the only NaN values exist in the invited by user id variable, these NaN values will be filled with zeros in the process of creating the invited variable, thus none of our features will contain any missing values to be dealt with. The data we will then be encoded. We will numerically encode the creation month variable, since months are ordinal in nature. We will one hot encode the categorical variables: creation source, and org id, and binary encode the binary variables: opted in to mailing list, enabled for marketing drip, and invited. Finally we will write the dataset to disk."
   ]
  },
  {
   "cell_type": "code",
   "execution_count": 25,
   "metadata": {},
   "outputs": [],
   "source": [
    "def preprocess(df):\n",
    "    df_p = df.copy(deep=True)\n",
    "    df_p['creation_month'] = df_p.creation_time.dt.month\n",
    "    df_p['invited'] = df_p.invited_by_user_id.astype('Int64').fillna(0).map(lambda x: 1 if x > 0 else 0)\n",
    "    one_hot_creation_source = pd.get_dummies(df_p['creation_source'], prefix='cs', drop_first=True)\n",
    "    df_p = pd.concat([df_p, one_hot_creation_source], axis=1)\n",
    "    one_hot_org_id = pd.get_dummies(df_p['org_id'], prefix='org_id', drop_first=True)\n",
    "    df_p = pd.concat([df_p, one_hot_org_id], axis=1)\n",
    "    df_p = df_p.drop(columns=['object_id', 'creation_time', 'name', 'email',\n",
    "                              'creation_source', 'last_session_creation_time',\n",
    "                              'org_id', 'invited_by_user_id'])\n",
    "    label_name = 'adopted_user'\n",
    "    labels = df_p[label_name].values\n",
    "    df_features = df_p.drop(columns=['adopted_user'])\n",
    "    features = df_features.values\n",
    "    feature_names = list(df_features.columns)\n",
    "    return features, labels, feature_names, label_name"
   ]
  },
  {
   "cell_type": "code",
   "execution_count": 26,
   "metadata": {},
   "outputs": [],
   "source": [
    "X, y, feature_names, label_name = preprocess(df)"
   ]
  },
  {
   "cell_type": "markdown",
   "metadata": {},
   "source": [
    "Writing train and test datasets to disk."
   ]
  },
  {
   "cell_type": "code",
   "execution_count": 27,
   "metadata": {},
   "outputs": [],
   "source": [
    "with open('dataset.pickle', 'wb') as f:\n",
    "    dataset = (X, y, feature_names, label_name)\n",
    "    pickle.dump(dataset, f)"
   ]
  },
  {
   "cell_type": "markdown",
   "metadata": {},
   "source": [
    "### Analysis on Preprocessed Data"
   ]
  },
  {
   "cell_type": "markdown",
   "metadata": {},
   "source": [
    "Plotting sampling distribution for Adopted User"
   ]
  },
  {
   "cell_type": "code",
   "execution_count": 28,
   "metadata": {},
   "outputs": [
    {
     "data": {
      "image/png": "[encoded data removed]",
      "text/plain": [
       "<Figure size 432x288 with 1 Axes>"
      ]
     },
     "metadata": {
      "needs_background": "light"
     },
     "output_type": "display_data"
    },
    {
     "name": "stdout",
     "output_type": "stream",
     "text": [
      "Number of Users Adopted: 1656\n",
      "Probability of Adopting a User: 0.138\n",
      "Number of Users Not Adopted: 10344\n",
      "Probability of Not Adopting a User: 0.862\n"
     ]
    }
   ],
   "source": [
    "data = pd.Series(y)\n",
    "counts = data.value_counts()\n",
    "distr = data.value_counts(normalize=True)\n",
    "\n",
    "fig, ax = plt.subplots()\n",
    "ax.bar(distr.index.map(lambda l: 'adopted' if l == 1 else 'not_adopted'), distr)\n",
    "ax.set_title('Sample Distribution for Adopted User')\n",
    "ax.set_ylabel('Probability')\n",
    "plt.show()\n",
    "\n",
    "print('Number of Users Adopted: {}'.format(counts[1]))\n",
    "print('Probability of Adopting a User: {}'.format(distr[1]))\n",
    "print('Number of Users Not Adopted: {}'.format(counts[0]))\n",
    "print('Probability of Not Adopting a User: {}'.format(distr[0]))"
   ]
  },
  {
   "cell_type": "markdown",
   "metadata": {},
   "source": [
    "Our target variable distribution has been unchanged throughout the preprocessing. This is no surprise because we did not drop any samples in our dataset throughout the preprocessing."
   ]
  },
  {
   "cell_type": "markdown",
   "metadata": {},
   "source": [
    "## Modeling"
   ]
  },
  {
   "cell_type": "markdown",
   "metadata": {},
   "source": [
    "After exploring our dataset and selecting the features we will build our models on, we now begin to attempt to model our dataset. Within this section will be multiple subsections one of which will be dedicated to evaluating our baseline model for the dataset, with the others being dedicated to the analysis of alternative models for our dataset. Since the ultimate use of our model is to gain a greater understand of the mechanisms behind the generation of adopted users for Relax's software platform, we require that the models we select to be easily interpretable. Some examples of models that fit this requirement are decision trees and logistic regression models."
   ]
  },
  {
   "cell_type": "markdown",
   "metadata": {},
   "source": [
    "### Baseline Model"
   ]
  },
  {
   "cell_type": "markdown",
   "metadata": {},
   "source": [
    "The baseline model is the bare minimum model we can manually construct from just our Exploratory Data Analysis. This model will give us a baseline that hopefully our trained models will beat. From our exploratory data analysis we have determined the probability of a random user being adopted is about 0.138. From this we can describe our baseline model as a model that predicts a 0.138 chance that the user will be adopted for any user sample that is fed to it."
   ]
  },
  {
   "cell_type": "markdown",
   "metadata": {},
   "source": [
    "Thus we can represent our baseline model as: \n",
    "$$P(adopted|X)= 0.138$$\n",
    "for all $X$"
   ]
  },
  {
   "cell_type": "code",
   "execution_count": 29,
   "metadata": {},
   "outputs": [],
   "source": [
    "import pickle\n",
    "import sklearn\n",
    "import numpy as np\n",
    "import matplotlib.pyplot as plt\n",
    "from sklearn.dummy import DummyClassifier\n",
    "from sklearn.model_selection import cross_validate\n",
    "from sklearn.model_selection import train_test_split\n",
    "\n",
    "# Random Seed\n",
    "seed = 42\n",
    "# Number of folds to use in k-fold cross-validation\n",
    "k_folds = 10"
   ]
  },
  {
   "cell_type": "code",
   "execution_count": 31,
   "metadata": {},
   "outputs": [],
   "source": [
    "with open('dataset.pickle', 'rb') as f:\n",
    "    X, y, _, _ = pickle.load(f)"
   ]
  },
  {
   "cell_type": "code",
   "execution_count": 32,
   "metadata": {},
   "outputs": [],
   "source": [
    "def display_results(results, hist_bins=None):\n",
    "    \n",
    "    metric_names = [name for name in results.keys() if 'test' in name]\n",
    "    \n",
    "    for metric_name in metric_names:\n",
    "        \n",
    "        metric_values = results[metric_name]\n",
    "        name = metric_name.split('test_', 1)[1]\n",
    "        \n",
    "        fig, ax = plt.subplots()\n",
    "        ax.hist(metric_values, bins=hist_bins)\n",
    "        ax.set_ylabel('Counts')\n",
    "        ax.set_xlabel(name)\n",
    "        ax.set_title('Histogram for metric {}'.format(name))\n",
    "        plt.show()\n",
    "        \n",
    "        print('Mean of {}: {}'.format(name, metric_values.mean()))\n",
    "        print('Variance of {}: {}'.format(name, metric_values.var()))\n",
    "        print('Standard Deviation of {}: {}'.format(name, metric_values.std()))\n",
    "        \n",
    "    return None"
   ]
  },
  {
   "cell_type": "markdown",
   "metadata": {},
   "source": [
    "Splitting train dataset into train and test datasets."
   ]
  },
  {
   "cell_type": "code",
   "execution_count": 33,
   "metadata": {},
   "outputs": [
    {
     "name": "stdout",
     "output_type": "stream",
     "text": [
      "Train dataset size: 10800\n",
      "Test dataset size: 1200\n"
     ]
    }
   ],
   "source": [
    "X_train, X_test, y_train, y_test = train_test_split(X, y, train_size=0.9, stratify=y, random_state=seed)\n",
    "print('Train dataset size: {}'.format(len(y_train)))\n",
    "print('Test dataset size: {}'.format(len(y_test)))"
   ]
  },
  {
   "cell_type": "markdown",
   "metadata": {},
   "source": [
    "Building baseline model."
   ]
  },
  {
   "cell_type": "code",
   "execution_count": 34,
   "metadata": {},
   "outputs": [],
   "source": [
    "# Defining Hyperparameters\n",
    "hyperparameters = {'strategy': 'prior', 'random_state': seed}\n",
    "\n",
    "# Defining Metrics\n",
    "def tn(y_true, y_pred):\n",
    "    return sklearn.metrics.confusion_matrix(y_true, y_pred)[0, 0]\n",
    "def fp(y_true, y_pred):\n",
    "    return sklearn.metrics.confusion_matrix(y_true, y_pred)[0, 1]\n",
    "def fn(y_true, y_pred):\n",
    "    return sklearn.metrics.confusion_matrix(y_true, y_pred)[1, 0]\n",
    "def tp(y_true, y_pred):\n",
    "    return sklearn.metrics.confusion_matrix(y_true, y_pred)[1, 1]\n",
    "\n",
    "metrics = {'Accuracy': 'accuracy', 'Precision': 'precision', 'Recall': 'recall',\n",
    "           'PR_AUC': 'average_precision', 'F1-score': 'f1',\n",
    "           'TN': sklearn.metrics.make_scorer(tn), 'TP': sklearn.metrics.make_scorer(tp),\n",
    "           'FN': sklearn.metrics.make_scorer(fn), 'FP': sklearn.metrics.make_scorer(fp)}"
   ]
  },
  {
   "cell_type": "code",
   "execution_count": 35,
   "metadata": {},
   "outputs": [],
   "source": [
    "baseline_model = DummyClassifier(**hyperparameters)"
   ]
  },
  {
   "cell_type": "markdown",
   "metadata": {},
   "source": [
    "Training and evaluating model, estimating metrics using k-fold cross-validation."
   ]
  },
  {
   "cell_type": "code",
   "execution_count": 37,
   "metadata": {},
   "outputs": [
    {
     "name": "stderr",
     "output_type": "stream",
     "text": [
      "/media/Data/Programs/relax_challenge/env/lib/python3.7/site-packages/sklearn/metrics/_classification.py:1268: UndefinedMetricWarning: Precision is ill-defined and being set to 0.0 due to no predicted samples. Use `zero_division` parameter to control this behavior.\n",
      "  _warn_prf(average, modifier, msg_start, len(result))\n"
     ]
    }
   ],
   "source": [
    "baseline_cv_results = cross_validate(baseline_model, X_train, y_train, cv=k_folds, scoring=metrics)"
   ]
  },
  {
   "cell_type": "code",
   "execution_count": 38,
   "metadata": {},
   "outputs": [
    {
     "data": {
      "image/png": "[encoded data removed]",
      "text/plain": [
       "<Figure size 432x288 with 1 Axes>"
      ]
     },
     "metadata": {
      "needs_background": "light"
     },
     "output_type": "display_data"
    },
    {
     "name": "stdout",
     "output_type": "stream",
     "text": [
      "Mean of Accuracy: 0.862037037037037\n",
      "Variance of Accuracy: 0.0\n",
      "Standard Deviation of Accuracy: 0.0\n"
     ]
    },
    {
     "data": {
      "image/png": "[encoded data removed]",
      "text/plain": [
       "<Figure size 432x288 with 1 Axes>"
      ]
     },
     "metadata": {
      "needs_background": "light"
     },
     "output_type": "display_data"
    },
    {
     "name": "stdout",
     "output_type": "stream",
     "text": [
      "Mean of Precision: 0.0\n",
      "Variance of Precision: 0.0\n",
      "Standard Deviation of Precision: 0.0\n"
     ]
    },
    {
     "data": {
      "image/png": "[encoded data removed]",
      "text/plain": [
       "<Figure size 432x288 with 1 Axes>"
      ]
     },
     "metadata": {
      "needs_background": "light"
     },
     "output_type": "display_data"
    },
    {
     "name": "stdout",
     "output_type": "stream",
     "text": [
      "Mean of Recall: 0.0\n",
      "Variance of Recall: 0.0\n",
      "Standard Deviation of Recall: 0.0\n"
     ]
    },
    {
     "data": {
      "image/png": "[encoded data removed]",
      "text/plain": [
       "<Figure size 432x288 with 1 Axes>"
      ]
     },
     "metadata": {
      "needs_background": "light"
     },
     "output_type": "display_data"
    },
    {
     "name": "stdout",
     "output_type": "stream",
     "text": [
      "Mean of PR_AUC: 0.13796296296296298\n",
      "Variance of PR_AUC: 7.703719777548943e-34\n",
      "Standard Deviation of PR_AUC: 2.7755575615628914e-17\n"
     ]
    },
    {
     "data": {
      "image/png": "[encoded data removed]",
      "text/plain": [
       "<Figure size 432x288 with 1 Axes>"
      ]
     },
     "metadata": {
      "needs_background": "light"
     },
     "output_type": "display_data"
    },
    {
     "name": "stdout",
     "output_type": "stream",
     "text": [
      "Mean of F1-score: 0.0\n",
      "Variance of F1-score: 0.0\n",
      "Standard Deviation of F1-score: 0.0\n"
     ]
    },
    {
     "data": {
      "image/png": "[encoded data removed]",
      "text/plain": [
       "<Figure size 432x288 with 1 Axes>"
      ]
     },
     "metadata": {
      "needs_background": "light"
     },
     "output_type": "display_data"
    },
    {
     "name": "stdout",
     "output_type": "stream",
     "text": [
      "Mean of TN: 931.0\n",
      "Variance of TN: 0.0\n",
      "Standard Deviation of TN: 0.0\n"
     ]
    },
    {
     "data": {
      "image/png": "[encoded data removed]",
      "text/plain": [
       "<Figure size 432x288 with 1 Axes>"
      ]
     },
     "metadata": {
      "needs_background": "light"
     },
     "output_type": "display_data"
    },
    {
     "name": "stdout",
     "output_type": "stream",
     "text": [
      "Mean of TP: 0.0\n",
      "Variance of TP: 0.0\n",
      "Standard Deviation of TP: 0.0\n"
     ]
    },
    {
     "data": {
      "image/png": "[encoded data removed]",
      "text/plain": [
       "<Figure size 432x288 with 1 Axes>"
      ]
     },
     "metadata": {
      "needs_background": "light"
     },
     "output_type": "display_data"
    },
    {
     "name": "stdout",
     "output_type": "stream",
     "text": [
      "Mean of FN: 149.0\n",
      "Variance of FN: 0.0\n",
      "Standard Deviation of FN: 0.0\n"
     ]
    },
    {
     "data": {
      "image/png": "[encoded data removed]",
      "text/plain": [
       "<Figure size 432x288 with 1 Axes>"
      ]
     },
     "metadata": {
      "needs_background": "light"
     },
     "output_type": "display_data"
    },
    {
     "name": "stdout",
     "output_type": "stream",
     "text": [
      "Mean of FP: 0.0\n",
      "Variance of FP: 0.0\n",
      "Standard Deviation of FP: 0.0\n"
     ]
    }
   ],
   "source": [
    "display_results(baseline_cv_results, 10)"
   ]
  },
  {
   "cell_type": "markdown",
   "metadata": {},
   "source": [
    "### Decision Tree Model"
   ]
  },
  {
   "cell_type": "markdown",
   "metadata": {},
   "source": [
    "The decision tree was chosen as a model to use because it is part of a class of ML models that tend to be more interpretable to humans than others. The decision tree is a model that classifies samples using a set of decision rules that act upon the features of each sample. This set of rules can be organized into a binary tree of decision rules where each sample traces a path from root to leaf where it is assigned a probability for classification. This characteristic of decision trees makes them much easier to interpret than other machine learning models."
   ]
  },
  {
   "cell_type": "code",
   "execution_count": 1,
   "metadata": {},
   "outputs": [],
   "source": [
    "import pickle\n",
    "import sklearn\n",
    "import matplotlib.pyplot as plt\n",
    "from sklearn.tree import DecisionTreeClassifier\n",
    "from sklearn.model_selection import cross_validate\n",
    "from sklearn.model_selection import train_test_split\n",
    "\n",
    "# Random Seed\n",
    "seed = None\n",
    "# Number of folds to use in k-fold cross-validation\n",
    "k_folds = 10"
   ]
  },
  {
   "cell_type": "code",
   "execution_count": 2,
   "metadata": {},
   "outputs": [],
   "source": [
    "with open('dataset.pickle', 'rb') as f:\n",
    "    X, y, _, _ = pickle.load(f)"
   ]
  },
  {
   "cell_type": "code",
   "execution_count": 3,
   "metadata": {},
   "outputs": [],
   "source": [
    "def display_results(results, hist_bins=None):\n",
    "    \n",
    "    metric_names = [name for name in results.keys() if 'test' in name]\n",
    "    \n",
    "    for metric_name in metric_names:\n",
    "        \n",
    "        metric_values = results[metric_name]\n",
    "        name = metric_name.split('test_', 1)[1]\n",
    "        \n",
    "        fig, ax = plt.subplots()\n",
    "        ax.hist(metric_values, bins=hist_bins)\n",
    "        ax.set_ylabel('Counts')\n",
    "        ax.set_xlabel(name)\n",
    "        ax.set_title('Histogram for metric {}'.format(name))\n",
    "        plt.show()\n",
    "        \n",
    "        print('Mean of {}: {}'.format(name, metric_values.mean()))\n",
    "        print('Variance of {}: {}'.format(name, metric_values.var()))\n",
    "        print('Standard Deviation of {}: {}'.format(name, metric_values.std()))\n",
    "        \n",
    "    return None"
   ]
  },
  {
   "cell_type": "markdown",
   "metadata": {},
   "source": [
    "Splitting train dataset into train and test datasets."
   ]
  },
  {
   "cell_type": "code",
   "execution_count": 4,
   "metadata": {},
   "outputs": [
    {
     "name": "stdout",
     "output_type": "stream",
     "text": [
      "Train dataset size: 10800\n",
      "Test dataset size: 1200\n"
     ]
    }
   ],
   "source": [
    "X_train, X_test, y_train, y_test = train_test_split(X, y, train_size=0.9, stratify=y, random_state=seed)\n",
    "print('Train dataset size: {}'.format(len(y_train)))\n",
    "print('Test dataset size: {}'.format(len(y_test)))"
   ]
  },
  {
   "cell_type": "markdown",
   "metadata": {},
   "source": [
    "Building model. "
   ]
  },
  {
   "cell_type": "code",
   "execution_count": 5,
   "metadata": {},
   "outputs": [],
   "source": [
    "# Defining Hyperparameters\n",
    "hyperparameters = {'random_state': seed}\n",
    "\n",
    "# Defining Metrics\n",
    "def tn(y_true, y_pred):\n",
    "    return sklearn.metrics.confusion_matrix(y_true, y_pred)[0, 0]\n",
    "def fp(y_true, y_pred):\n",
    "    return sklearn.metrics.confusion_matrix(y_true, y_pred)[0, 1]\n",
    "def fn(y_true, y_pred):\n",
    "    return sklearn.metrics.confusion_matrix(y_true, y_pred)[1, 0]\n",
    "def tp(y_true, y_pred):\n",
    "    return sklearn.metrics.confusion_matrix(y_true, y_pred)[1, 1]\n",
    "\n",
    "metrics = {'Accuracy': 'accuracy', 'Precision': 'precision', 'Recall': 'recall',\n",
    "           'PR_AUC': 'average_precision', 'F1-score': 'f1',\n",
    "           'TN': sklearn.metrics.make_scorer(tn), 'TP': sklearn.metrics.make_scorer(tp),\n",
    "           'FN': sklearn.metrics.make_scorer(fn), 'FP': sklearn.metrics.make_scorer(fp)}"
   ]
  },
  {
   "cell_type": "code",
   "execution_count": 6,
   "metadata": {},
   "outputs": [],
   "source": [
    "tree_model = DecisionTreeClassifier(**hyperparameters)"
   ]
  },
  {
   "cell_type": "markdown",
   "metadata": {},
   "source": [
    "Training and evaluating model, estimating metrics using k-fold cross-validation."
   ]
  },
  {
   "cell_type": "code",
   "execution_count": 7,
   "metadata": {},
   "outputs": [],
   "source": [
    "tree_cv_results = cross_validate(tree_model, X_train, y_train, cv=k_folds, scoring=metrics)"
   ]
  },
  {
   "cell_type": "code",
   "execution_count": 8,
   "metadata": {},
   "outputs": [
    {
     "data": {
      "image/png": "[encoded data removed]",
      "text/plain": [
       "<Figure size 432x288 with 1 Axes>"
      ]
     },
     "metadata": {
      "needs_background": "light"
     },
     "output_type": "display_data"
    },
    {
     "name": "stdout",
     "output_type": "stream",
     "text": [
      "Mean of Accuracy: 0.7826851851851852\n",
      "Variance of Accuracy: 6.156550068587112e-05\n",
      "Standard Deviation of Accuracy: 0.007846368630511259\n"
     ]
    },
    {
     "data": {
      "image/png": "[encoded data removed]",
      "text/plain": [
       "<Figure size 432x288 with 1 Axes>"
      ]
     },
     "metadata": {
      "needs_background": "light"
     },
     "output_type": "display_data"
    },
    {
     "name": "stdout",
     "output_type": "stream",
     "text": [
      "Mean of Precision: 0.15682908498021764\n",
      "Variance of Precision: 0.0009124900022346351\n",
      "Standard Deviation of Precision: 0.03020744944934337\n"
     ]
    },
    {
     "data": {
      "image/png": "[encoded data removed]",
      "text/plain": [
       "<Figure size 432x288 with 1 Axes>"
      ]
     },
     "metadata": {
      "needs_background": "light"
     },
     "output_type": "display_data"
    },
    {
     "name": "stdout",
     "output_type": "stream",
     "text": [
      "Mean of Recall: 0.13221476510067115\n",
      "Variance of Recall: 0.0008832935453357959\n",
      "Standard Deviation of Recall: 0.029720254799308097\n"
     ]
    },
    {
     "data": {
      "image/png": "[encoded data removed]",
      "text/plain": [
       "<Figure size 432x288 with 1 Axes>"
      ]
     },
     "metadata": {
      "needs_background": "light"
     },
     "output_type": "display_data"
    },
    {
     "name": "stdout",
     "output_type": "stream",
     "text": [
      "Mean of PR_AUC: 0.14268429716397588\n",
      "Variance of PR_AUC: 2.902133273155647e-05\n",
      "Standard Deviation of PR_AUC: 0.005387145137413366\n"
     ]
    },
    {
     "data": {
      "image/png": "[encoded data removed]",
      "text/plain": [
       "<Figure size 432x288 with 1 Axes>"
      ]
     },
     "metadata": {
      "needs_background": "light"
     },
     "output_type": "display_data"
    },
    {
     "name": "stdout",
     "output_type": "stream",
     "text": [
      "Mean of F1-score: 0.14325095878101174\n",
      "Variance of F1-score: 0.0008756213303679709\n",
      "Standard Deviation of F1-score: 0.029590899451824217\n"
     ]
    },
    {
     "data": {
      "image/png": "[encoded data removed]",
      "text/plain": [
       "<Figure size 432x288 with 1 Axes>"
      ]
     },
     "metadata": {
      "needs_background": "light"
     },
     "output_type": "display_data"
    },
    {
     "name": "stdout",
     "output_type": "stream",
     "text": [
      "Mean of TN: 825.6\n",
      "Variance of TN: 64.43999999999998\n",
      "Standard Deviation of TN: 8.02745289615579\n"
     ]
    },
    {
     "data": {
      "image/png": "[encoded data removed]",
      "text/plain": [
       "<Figure size 432x288 with 1 Axes>"
      ]
     },
     "metadata": {
      "needs_background": "light"
     },
     "output_type": "display_data"
    },
    {
     "name": "stdout",
     "output_type": "stream",
     "text": [
      "Mean of TP: 19.7\n",
      "Variance of TP: 19.61\n",
      "Standard Deviation of TP: 4.428317965096905\n"
     ]
    },
    {
     "data": {
      "image/png": "[encoded data removed]",
      "text/plain": [
       "<Figure size 432x288 with 1 Axes>"
      ]
     },
     "metadata": {
      "needs_background": "light"
     },
     "output_type": "display_data"
    },
    {
     "name": "stdout",
     "output_type": "stream",
     "text": [
      "Mean of FN: 129.3\n",
      "Variance of FN: 19.609999999999996\n",
      "Standard Deviation of FN: 4.428317965096905\n"
     ]
    },
    {
     "data": {
      "image/png": "[encoded data removed]",
      "text/plain": [
       "<Figure size 432x288 with 1 Axes>"
      ]
     },
     "metadata": {
      "needs_background": "light"
     },
     "output_type": "display_data"
    },
    {
     "name": "stdout",
     "output_type": "stream",
     "text": [
      "Mean of FP: 105.4\n",
      "Variance of FP: 64.43999999999998\n",
      "Standard Deviation of FP: 8.02745289615579\n"
     ]
    }
   ],
   "source": [
    "display_results(tree_cv_results, 10)"
   ]
  },
  {
   "cell_type": "markdown",
   "metadata": {},
   "source": [
    "From the above results it appears our basic decision tree model is performing better than the baseline on all metrics except accuracy, this is a good sign. From our exploratory data analysis we know our dataset is unbalanced with a minority class of adopted (represented as 1). We also are more interested in understanding what factors lead to a user being labeled as adopted as opposed to not adopted. Therefore accuracy is not the best metric to judge our model, and we should be focusing on maximizing precision, recall, F1-score, or PR_AUC (area under precision recall curve). Since PR_AUC can be interpretted as the precision averaged over all values of recall, and all values of recall can be spanned by varying the classification threshold, PR_AUC gives a good summarization of the models precision and recall capabilities irrespective of the models current classification threshold. Therefore the metric we will choose to maximize is PR_AUC."
   ]
  },
  {
   "cell_type": "markdown",
   "metadata": {},
   "source": [
    "#### Hyperparameter Tuning "
   ]
  },
  {
   "cell_type": "code",
   "execution_count": 9,
   "metadata": {},
   "outputs": [],
   "source": [
    "import pickle\n",
    "from sklearn.tree import DecisionTreeClassifier\n",
    "from sklearn.model_selection import GridSearchCV\n",
    "from sklearn.model_selection import train_test_split\n",
    "\n",
    "# Random Seed\n",
    "seed = None\n",
    "# Number of folds to use in k-fold cross-validation\n",
    "k_folds = 10"
   ]
  },
  {
   "cell_type": "code",
   "execution_count": 10,
   "metadata": {},
   "outputs": [],
   "source": [
    "with open('dataset.pickle', 'rb') as f:\n",
    "    X, y, _, _ = pickle.load(f)"
   ]
  },
  {
   "cell_type": "markdown",
   "metadata": {},
   "source": [
    "Splitting train dataset into train and test datasets."
   ]
  },
  {
   "cell_type": "code",
   "execution_count": 11,
   "metadata": {},
   "outputs": [
    {
     "name": "stdout",
     "output_type": "stream",
     "text": [
      "Train dataset size: 10800\n",
      "Test dataset size: 1200\n"
     ]
    }
   ],
   "source": [
    "X_train, X_test, y_train, y_test = train_test_split(X, y, train_size=0.9, stratify=y, random_state=seed)\n",
    "print('Train dataset size: {}'.format(len(y_train)))\n",
    "print('Test dataset size: {}'.format(len(y_test)))"
   ]
  },
  {
   "cell_type": "markdown",
   "metadata": {},
   "source": [
    "Building grid search model."
   ]
  },
  {
   "cell_type": "code",
   "execution_count": 12,
   "metadata": {},
   "outputs": [],
   "source": [
    "param_grid = {'criterion': ['entropy'], 'max_depth': [i for i in range(2, 10)] + [None], 'splitter': ['best'], \n",
    "              'min_samples_split': [i for i in range(2, 4)], 'min_samples_leaf': [i for i in range(1, 4)],\n",
    "              'max_features': ['sqrt', 'log2', None], 'class_weight': ['balanced', {0: (1/0.99), 1: (1/0.01)}, None], 'random_state': [seed]}\n",
    "metric = 'average_precision'"
   ]
  },
  {
   "cell_type": "code",
   "execution_count": 13,
   "metadata": {},
   "outputs": [],
   "source": [
    "gs_model = GridSearchCV(DecisionTreeClassifier(), param_grid=param_grid,\n",
    "                        scoring=metric, n_jobs=-1, cv=k_folds, refit=False, verbose=2)"
   ]
  },
  {
   "cell_type": "markdown",
   "metadata": {},
   "source": [
    "Training and evaluating grid search model using k-fold cross validation."
   ]
  },
  {
   "cell_type": "code",
   "execution_count": 14,
   "metadata": {},
   "outputs": [
    {
     "name": "stdout",
     "output_type": "stream",
     "text": [
      "Fitting 10 folds for each of 486 candidates, totalling 4860 fits\n"
     ]
    },
    {
     "name": "stderr",
     "output_type": "stream",
     "text": [
      "[Parallel(n_jobs=-1)]: Using backend LokyBackend with 12 concurrent workers.\n",
      "[Parallel(n_jobs=-1)]: Done  17 tasks      | elapsed:    1.0s\n",
      "[Parallel(n_jobs=-1)]: Done 180 tasks      | elapsed:    3.4s\n",
      "[Parallel(n_jobs=-1)]: Done 578 tasks      | elapsed:   10.9s\n",
      "[Parallel(n_jobs=-1)]: Done 912 tasks      | elapsed:   19.5s\n",
      "[Parallel(n_jobs=-1)]: Done 1277 tasks      | elapsed:   30.1s\n",
      "[Parallel(n_jobs=-1)]: Done 1722 tasks      | elapsed:  1.0min\n",
      "[Parallel(n_jobs=-1)]: Done 2537 tasks      | elapsed:  1.3min\n",
      "[Parallel(n_jobs=-1)]: Done 3144 tasks      | elapsed:  1.7min\n",
      "[Parallel(n_jobs=-1)]: Done 4102 tasks      | elapsed:  2.5min\n",
      "[Parallel(n_jobs=-1)]: Done 4860 out of 4860 | elapsed:  3.1min finished\n"
     ]
    }
   ],
   "source": [
    "gs_model = gs_model.fit(X_train, y_train)"
   ]
  },
  {
   "cell_type": "code",
   "execution_count": 15,
   "metadata": {},
   "outputs": [
    {
     "name": "stdout",
     "output_type": "stream",
     "text": [
      "Best PR_AUC: 0.18152517981109234\n",
      "Best Hyperparameters: {'class_weight': 'balanced', 'criterion': 'entropy', 'max_depth': 6, 'max_features': None, 'min_samples_leaf': 3, 'min_samples_split': 3, 'random_state': None, 'splitter': 'best'}\n"
     ]
    }
   ],
   "source": [
    "print('Best PR_AUC: {}'.format(gs_model.best_score_))\n",
    "print('Best Hyperparameters: {}'.format(gs_model.best_params_))"
   ]
  },
  {
   "cell_type": "markdown",
   "metadata": {},
   "source": [
    "Writing tuned hyperparameters to disk."
   ]
  },
  {
   "cell_type": "code",
   "execution_count": 16,
   "metadata": {},
   "outputs": [],
   "source": [
    "with open('hyperparameters_tree.pickle', 'wb') as f:\n",
    "    pickle.dump(gs_model.best_params_, f)"
   ]
  },
  {
   "cell_type": "markdown",
   "metadata": {},
   "source": [
    "#### Evaluating Model"
   ]
  },
  {
   "cell_type": "code",
   "execution_count": 17,
   "metadata": {},
   "outputs": [],
   "source": [
    "import pickle\n",
    "import sklearn\n",
    "import matplotlib.pyplot as plt\n",
    "from sklearn.tree import DecisionTreeClassifier\n",
    "from sklearn.model_selection import cross_validate\n",
    "from sklearn.model_selection import train_test_split\n",
    "\n",
    "# Random Seed\n",
    "seed = None\n",
    "# Number of folds to use in k-fold cross-validation\n",
    "k_folds = 10"
   ]
  },
  {
   "cell_type": "code",
   "execution_count": 18,
   "metadata": {},
   "outputs": [],
   "source": [
    "with open('dataset.pickle', 'rb') as f:\n",
    "    X, y, _, _ = pickle.load(f)"
   ]
  },
  {
   "cell_type": "code",
   "execution_count": 19,
   "metadata": {},
   "outputs": [],
   "source": [
    "def display_results(results, hist_bins=None):\n",
    "    \n",
    "    metric_names = [name for name in results.keys() if 'test' in name]\n",
    "    \n",
    "    for metric_name in metric_names:\n",
    "        \n",
    "        metric_values = results[metric_name]\n",
    "        name = metric_name.split('test_', 1)[1]\n",
    "        \n",
    "        fig, ax = plt.subplots()\n",
    "        ax.hist(metric_values, bins=hist_bins)\n",
    "        ax.set_ylabel('Counts')\n",
    "        ax.set_xlabel(name)\n",
    "        ax.set_title('Histogram for metric {}'.format(name))\n",
    "        plt.show()\n",
    "        \n",
    "        print('Mean of {}: {}'.format(name, metric_values.mean()))\n",
    "        print('Variance of {}: {}'.format(name, metric_values.var()))\n",
    "        print('Standard Deviation of {}: {}'.format(name, metric_values.std()))\n",
    "        \n",
    "    return None"
   ]
  },
  {
   "cell_type": "markdown",
   "metadata": {},
   "source": [
    "Splitting train dataset into train and test datasets."
   ]
  },
  {
   "cell_type": "code",
   "execution_count": 20,
   "metadata": {},
   "outputs": [
    {
     "name": "stdout",
     "output_type": "stream",
     "text": [
      "Train dataset size: 10800\n",
      "Test dataset size: 1200\n"
     ]
    }
   ],
   "source": [
    "X_train, X_test, y_train, y_test = train_test_split(X, y, train_size=0.9, stratify=y, random_state=seed)\n",
    "print('Train dataset size: {}'.format(len(y_train)))\n",
    "print('Test dataset size: {}'.format(len(y_test)))"
   ]
  },
  {
   "cell_type": "markdown",
   "metadata": {},
   "source": [
    "Building model. "
   ]
  },
  {
   "cell_type": "code",
   "execution_count": 21,
   "metadata": {},
   "outputs": [],
   "source": [
    "# Defining Hyperparameters\n",
    "with open('hyperparameters_tree.pickle', 'rb') as f:\n",
    "    hyperparameters = pickle.load(f)\n",
    "\n",
    "# Defining Metrics\n",
    "def tn(y_true, y_pred):\n",
    "    return sklearn.metrics.confusion_matrix(y_true, y_pred)[0, 0]\n",
    "def fp(y_true, y_pred):\n",
    "    return sklearn.metrics.confusion_matrix(y_true, y_pred)[0, 1]\n",
    "def fn(y_true, y_pred):\n",
    "    return sklearn.metrics.confusion_matrix(y_true, y_pred)[1, 0]\n",
    "def tp(y_true, y_pred):\n",
    "    return sklearn.metrics.confusion_matrix(y_true, y_pred)[1, 1]\n",
    "\n",
    "metrics = {'Accuracy': 'accuracy', 'Precision': 'precision', 'Recall': 'recall',\n",
    "           'PR_AUC': 'average_precision', 'F1-score': 'f1',\n",
    "           'TN': sklearn.metrics.make_scorer(tn), 'TP': sklearn.metrics.make_scorer(tp),\n",
    "           'FN': sklearn.metrics.make_scorer(fn), 'FP': sklearn.metrics.make_scorer(fp)}"
   ]
  },
  {
   "cell_type": "code",
   "execution_count": 22,
   "metadata": {},
   "outputs": [],
   "source": [
    "tree_model = DecisionTreeClassifier(**hyperparameters)"
   ]
  },
  {
   "cell_type": "markdown",
   "metadata": {},
   "source": [
    "Training and evaluating model, estimating metrics using k-fold cross-validation."
   ]
  },
  {
   "cell_type": "code",
   "execution_count": 23,
   "metadata": {},
   "outputs": [],
   "source": [
    "tree_cv_results = cross_validate(tree_model, X_train, y_train, cv=k_folds, scoring=metrics)"
   ]
  },
  {
   "cell_type": "code",
   "execution_count": 24,
   "metadata": {},
   "outputs": [
    {
     "data": {
      "image/png": "[encoded data removed]",
      "text/plain": [
       "<Figure size 432x288 with 1 Axes>"
      ]
     },
     "metadata": {
      "needs_background": "light"
     },
     "output_type": "display_data"
    },
    {
     "name": "stdout",
     "output_type": "stream",
     "text": [
      "Mean of Accuracy: 0.4458333333333333\n",
      "Variance of Accuracy: 0.0004096793552812074\n",
      "Standard Deviation of Accuracy: 0.020240537425701113\n"
     ]
    },
    {
     "data": {
      "image/png": "[encoded data removed]",
      "text/plain": [
       "<Figure size 432x288 with 1 Axes>"
      ]
     },
     "metadata": {
      "needs_background": "light"
     },
     "output_type": "display_data"
    },
    {
     "name": "stdout",
     "output_type": "stream",
     "text": [
      "Mean of Precision: 0.17047049885126336\n",
      "Variance of Precision: 7.415473576467168e-05\n",
      "Standard Deviation of Precision: 0.008611314404007768\n"
     ]
    },
    {
     "data": {
      "image/png": "[encoded data removed]",
      "text/plain": [
       "<Figure size 432x288 with 1 Axes>"
      ]
     },
     "metadata": {
      "needs_background": "light"
     },
     "output_type": "display_data"
    },
    {
     "name": "stdout",
     "output_type": "stream",
     "text": [
      "Mean of Recall: 0.7798657718120805\n",
      "Variance of Recall: 0.0018269447322192696\n",
      "Standard Deviation of Recall: 0.042742774035142705\n"
     ]
    },
    {
     "data": {
      "image/png": "[encoded data removed]",
      "text/plain": [
       "<Figure size 432x288 with 1 Axes>"
      ]
     },
     "metadata": {
      "needs_background": "light"
     },
     "output_type": "display_data"
    },
    {
     "name": "stdout",
     "output_type": "stream",
     "text": [
      "Mean of PR_AUC: 0.17078698939733167\n",
      "Variance of PR_AUC: 0.00011193922037099152\n",
      "Standard Deviation of PR_AUC: 0.010580133287014465\n"
     ]
    },
    {
     "data": {
      "image/png": "[encoded data removed]",
      "text/plain": [
       "<Figure size 432x288 with 1 Axes>"
      ]
     },
     "metadata": {
      "needs_background": "light"
     },
     "output_type": "display_data"
    },
    {
     "name": "stdout",
     "output_type": "stream",
     "text": [
      "Mean of F1-score: 0.2797322328324931\n",
      "Variance of F1-score: 0.0001926180047591883\n",
      "Standard Deviation of F1-score: 0.013878688870321588\n"
     ]
    },
    {
     "data": {
      "image/png": "[encoded data removed]",
      "text/plain": [
       "<Figure size 432x288 with 1 Axes>"
      ]
     },
     "metadata": {
      "needs_background": "light"
     },
     "output_type": "display_data"
    },
    {
     "name": "stdout",
     "output_type": "stream",
     "text": [
      "Mean of TN: 365.3\n",
      "Variance of TN: 493.2099999999999\n",
      "Standard Deviation of TN: 22.208331769856102\n"
     ]
    },
    {
     "data": {
      "image/png": "[encoded data removed]",
      "text/plain": [
       "<Figure size 432x288 with 1 Axes>"
      ]
     },
     "metadata": {
      "needs_background": "light"
     },
     "output_type": "display_data"
    },
    {
     "name": "stdout",
     "output_type": "stream",
     "text": [
      "Mean of TP: 116.2\n",
      "Variance of TP: 40.559999999999995\n",
      "Standard Deviation of TP: 6.368673331236263\n"
     ]
    },
    {
     "data": {
      "image/png": "[encoded data removed]",
      "text/plain": [
       "<Figure size 432x288 with 1 Axes>"
      ]
     },
     "metadata": {
      "needs_background": "light"
     },
     "output_type": "display_data"
    },
    {
     "name": "stdout",
     "output_type": "stream",
     "text": [
      "Mean of FN: 32.8\n",
      "Variance of FN: 40.559999999999995\n",
      "Standard Deviation of FN: 6.368673331236263\n"
     ]
    },
    {
     "data": {
      "image/png": "[encoded data removed]",
      "text/plain": [
       "<Figure size 432x288 with 1 Axes>"
      ]
     },
     "metadata": {
      "needs_background": "light"
     },
     "output_type": "display_data"
    },
    {
     "name": "stdout",
     "output_type": "stream",
     "text": [
      "Mean of FP: 565.7\n",
      "Variance of FP: 493.2099999999999\n",
      "Standard Deviation of FP: 22.208331769856102\n"
     ]
    }
   ],
   "source": [
    "display_results(tree_cv_results, 10)"
   ]
  },
  {
   "cell_type": "markdown",
   "metadata": {},
   "source": [
    "### Conclusions"
   ]
  },
  {
   "cell_type": "markdown",
   "metadata": {},
   "source": [
    "Initially the goal was to identify which factors predict future user adoption. This implies that prediction of the positive class is more valuable which means we should be focusing on the PR_AUC, precision, recall, and F1-score metrics of the models we are considering. It is clear from the above analysis that the model that performs best on our metrics is the best performing Decision Tree model, thus we will k-fold evaluate this model on our test dataset to get a better gauge on this model's true performance."
   ]
  },
  {
   "cell_type": "markdown",
   "metadata": {},
   "source": [
    "#### Evaluating Model"
   ]
  },
  {
   "cell_type": "code",
   "execution_count": 25,
   "metadata": {},
   "outputs": [],
   "source": [
    "import pickle\n",
    "import sklearn\n",
    "import matplotlib.pyplot as plt\n",
    "from sklearn.tree import DecisionTreeClassifier\n",
    "from sklearn.model_selection import cross_validate\n",
    "\n",
    "# Random Seed\n",
    "seed = None\n",
    "# Number of folds to use in k-fold cross-validation\n",
    "k_folds = 10"
   ]
  },
  {
   "cell_type": "code",
   "execution_count": 26,
   "metadata": {},
   "outputs": [],
   "source": [
    "with open('dataset.pickle', 'rb') as f:\n",
    "    X, y, _, _ = pickle.load(f)"
   ]
  },
  {
   "cell_type": "code",
   "execution_count": 27,
   "metadata": {},
   "outputs": [],
   "source": [
    "def display_results(results, hist_bins=None):\n",
    "    \n",
    "    metric_names = [name for name in results.keys() if 'test' in name]\n",
    "    \n",
    "    for metric_name in metric_names:\n",
    "        \n",
    "        metric_values = results[metric_name]\n",
    "        name = metric_name.split('test_', 1)[1]\n",
    "        \n",
    "        fig, ax = plt.subplots()\n",
    "        ax.hist(metric_values, bins=hist_bins)\n",
    "        ax.set_ylabel('Counts')\n",
    "        ax.set_xlabel(name)\n",
    "        ax.set_title('Histogram for metric {}'.format(name))\n",
    "        plt.show()\n",
    "        \n",
    "        print('Mean of {}: {}'.format(name, metric_values.mean()))\n",
    "        print('Variance of {}: {}'.format(name, metric_values.var()))\n",
    "        print('Standard Deviation of {}: {}'.format(name, metric_values.std()))\n",
    "        \n",
    "    return None"
   ]
  },
  {
   "cell_type": "markdown",
   "metadata": {},
   "source": [
    "Building model. "
   ]
  },
  {
   "cell_type": "code",
   "execution_count": 28,
   "metadata": {},
   "outputs": [],
   "source": [
    "# Defining Hyperparameters\n",
    "with open('hyperparameters_tree.pickle', 'rb') as f:\n",
    "    hyperparameters = pickle.load(f)\n",
    "\n",
    "# Defining Metrics\n",
    "def tn(y_true, y_pred):\n",
    "    return sklearn.metrics.confusion_matrix(y_true, y_pred)[0, 0]\n",
    "def fp(y_true, y_pred):\n",
    "    return sklearn.metrics.confusion_matrix(y_true, y_pred)[0, 1]\n",
    "def fn(y_true, y_pred):\n",
    "    return sklearn.metrics.confusion_matrix(y_true, y_pred)[1, 0]\n",
    "def tp(y_true, y_pred):\n",
    "    return sklearn.metrics.confusion_matrix(y_true, y_pred)[1, 1]\n",
    "\n",
    "metrics = {'Accuracy': 'accuracy', 'Precision': 'precision', 'Recall': 'recall',\n",
    "           'PR_AUC': 'average_precision', 'F1-score': 'f1',\n",
    "           'TN': sklearn.metrics.make_scorer(tn), 'TP': sklearn.metrics.make_scorer(tp),\n",
    "           'FN': sklearn.metrics.make_scorer(fn), 'FP': sklearn.metrics.make_scorer(fp)}"
   ]
  },
  {
   "cell_type": "code",
   "execution_count": 29,
   "metadata": {},
   "outputs": [],
   "source": [
    "tree_model = DecisionTreeClassifier(**hyperparameters)"
   ]
  },
  {
   "cell_type": "markdown",
   "metadata": {},
   "source": [
    "Training and evaluating model using k-fold cross-validation."
   ]
  },
  {
   "cell_type": "code",
   "execution_count": 30,
   "metadata": {},
   "outputs": [],
   "source": [
    "tree_cv_results = cross_validate(tree_model, X, y, cv=k_folds, scoring=metrics)"
   ]
  },
  {
   "cell_type": "code",
   "execution_count": 31,
   "metadata": {},
   "outputs": [
    {
     "data": {
      "image/png": "[encoded data removed]",
      "text/plain": [
       "<Figure size 432x288 with 1 Axes>"
      ]
     },
     "metadata": {
      "needs_background": "light"
     },
     "output_type": "display_data"
    },
    {
     "name": "stdout",
     "output_type": "stream",
     "text": [
      "Mean of Accuracy: 0.4409166666666667\n",
      "Variance of Accuracy: 0.00014117361111111096\n",
      "Standard Deviation of Accuracy: 0.011881650184680197\n"
     ]
    },
    {
     "data": {
      "image/png": "[encoded data removed]",
      "text/plain": [
       "<Figure size 432x288 with 1 Axes>"
      ]
     },
     "metadata": {
      "needs_background": "light"
     },
     "output_type": "display_data"
    },
    {
     "name": "stdout",
     "output_type": "stream",
     "text": [
      "Mean of Precision: 0.1705722969667579\n",
      "Variance of Precision: 1.0703537735130647e-05\n",
      "Standard Deviation of Precision: 0.0032716261606624076\n"
     ]
    },
    {
     "data": {
      "image/png": "[encoded data removed]",
      "text/plain": [
       "<Figure size 432x288 with 1 Axes>"
      ]
     },
     "metadata": {
      "needs_background": "light"
     },
     "output_type": "display_data"
    },
    {
     "name": "stdout",
     "output_type": "stream",
     "text": [
      "Mean of Recall: 0.7898539612997444\n",
      "Variance of Recall: 0.000471046374751886\n",
      "Standard Deviation of Recall: 0.021703602805798996\n"
     ]
    },
    {
     "data": {
      "image/png": "[encoded data removed]",
      "text/plain": [
       "<Figure size 432x288 with 1 Axes>"
      ]
     },
     "metadata": {
      "needs_background": "light"
     },
     "output_type": "display_data"
    },
    {
     "name": "stdout",
     "output_type": "stream",
     "text": [
      "Mean of PR_AUC: 0.17838774098020846\n",
      "Variance of PR_AUC: 0.00015196193910271138\n",
      "Standard Deviation of PR_AUC: 0.012327284336086005\n"
     ]
    },
    {
     "data": {
      "image/png": "[encoded data removed]",
      "text/plain": [
       "<Figure size 432x288 with 1 Axes>"
      ]
     },
     "metadata": {
      "needs_background": "light"
     },
     "output_type": "display_data"
    },
    {
     "name": "stdout",
     "output_type": "stream",
     "text": [
      "Mean of F1-score: 0.2805358594150145\n",
      "Variance of F1-score: 2.8341502311213788e-05\n",
      "Standard Deviation of F1-score: 0.005323673760779655\n"
     ]
    },
    {
     "data": {
      "image/png": "[encoded data removed]",
      "text/plain": [
       "<Figure size 432x288 with 1 Axes>"
      ]
     },
     "metadata": {
      "needs_background": "light"
     },
     "output_type": "display_data"
    },
    {
     "name": "stdout",
     "output_type": "stream",
     "text": [
      "Mean of TN: 398.3\n",
      "Variance of TN: 261.81\n",
      "Standard Deviation of TN: 16.18054387219416\n"
     ]
    },
    {
     "data": {
      "image/png": "[encoded data removed]",
      "text/plain": [
       "<Figure size 432x288 with 1 Axes>"
      ]
     },
     "metadata": {
      "needs_background": "light"
     },
     "output_type": "display_data"
    },
    {
     "name": "stdout",
     "output_type": "stream",
     "text": [
      "Mean of TP: 130.8\n",
      "Variance of TP: 13.159999999999997\n",
      "Standard Deviation of TP: 3.6276714294434105\n"
     ]
    },
    {
     "data": {
      "image/png": "[encoded data removed]",
      "text/plain": [
       "<Figure size 432x288 with 1 Axes>"
      ]
     },
     "metadata": {
      "needs_background": "light"
     },
     "output_type": "display_data"
    },
    {
     "name": "stdout",
     "output_type": "stream",
     "text": [
      "Mean of FN: 34.8\n",
      "Variance of FN: 12.959999999999997\n",
      "Standard Deviation of FN: 3.5999999999999996\n"
     ]
    },
    {
     "data": {
      "image/png": "[encoded data removed]",
      "text/plain": [
       "<Figure size 432x288 with 1 Axes>"
      ]
     },
     "metadata": {
      "needs_background": "light"
     },
     "output_type": "display_data"
    },
    {
     "name": "stdout",
     "output_type": "stream",
     "text": [
      "Mean of FP: 636.1\n",
      "Variance of FP: 253.68999999999997\n",
      "Standard Deviation of FP: 15.927648916271352\n"
     ]
    }
   ],
   "source": [
    "display_results(tree_cv_results, 10)"
   ]
  },
  {
   "cell_type": "markdown",
   "metadata": {},
   "source": [
    "## Analyzing Model"
   ]
  },
  {
   "cell_type": "markdown",
   "metadata": {},
   "source": [
    "In order to gain a better understand of what factors influence future user adoption trends we have to gain a better understanding of how our selected model is making decisions. To do so we will plot our models graph which in the case of a decision tree, are the selection rules it uses to make a decision."
   ]
  },
  {
   "cell_type": "code",
   "execution_count": 32,
   "metadata": {},
   "outputs": [],
   "source": [
    "import pickle\n",
    "import graphviz\n",
    "from sklearn import tree\n",
    "from sklearn.tree import DecisionTreeClassifier\n",
    "\n",
    "# Random Seed\n",
    "seed = None\n",
    "# Number of folds to use in k-fold cross-validation\n",
    "k_folds = 10"
   ]
  },
  {
   "cell_type": "code",
   "execution_count": 33,
   "metadata": {},
   "outputs": [],
   "source": [
    "with open('dataset.pickle', 'rb') as f:\n",
    "    X, y, feature_names, label_name = pickle.load(f)"
   ]
  },
  {
   "cell_type": "markdown",
   "metadata": {},
   "source": [
    "Building model."
   ]
  },
  {
   "cell_type": "code",
   "execution_count": 34,
   "metadata": {},
   "outputs": [],
   "source": [
    "# Defining Hyperparameters\n",
    "with open('hyperparameters_tree.pickle', 'rb') as f:\n",
    "    hyperparameters = pickle.load(f)"
   ]
  },
  {
   "cell_type": "code",
   "execution_count": 35,
   "metadata": {},
   "outputs": [],
   "source": [
    "tree_model = DecisionTreeClassifier(**hyperparameters)"
   ]
  },
  {
   "cell_type": "markdown",
   "metadata": {},
   "source": [
    "Training model on full dataset."
   ]
  },
  {
   "cell_type": "code",
   "execution_count": 36,
   "metadata": {},
   "outputs": [],
   "source": [
    "tree_model = tree_model.fit(X, y)"
   ]
  },
  {
   "cell_type": "markdown",
   "metadata": {},
   "source": [
    "Plotting the Decision Tree."
   ]
  },
  {
   "cell_type": "code",
   "execution_count": 37,
   "metadata": {
    "scrolled": true
   },
   "outputs": [
    {
     "data": {
      "image/svg+xml": [
       "<?xml version=\"1.0\" encoding=\"UTF-8\" standalone=\"no\"?>\n",
       "<!DOCTYPE svg PUBLIC \"-//W3C//DTD SVG 1.1//EN\"\n",
       " \"http://www.w3.org/Graphics/SVG/1.1/DTD/svg11.dtd\">\n",
       "<!-- Generated by graphviz version 2.40.1 (20161225.0304)\n",
       " -->\n",
       "<!-- Title: Tree Pages: 1 -->\n",
       "<svg width=\"3521pt\" height=\"790pt\"\n",
       " viewBox=\"0.00 0.00 3521.00 790.00\" xmlns=\"http://www.w3.org/2000/svg\" xmlns:xlink=\"http://www.w3.org/1999/xlink\">\n",
       "<g id=\"graph0\" class=\"graph\" transform=\"scale(1 1) rotate(0) translate(4 786)\">\n",
       "<title>Tree</title>\n",
       "<polygon fill=\"#ffffff\" stroke=\"transparent\" points=\"-4,4 -4,-786 3517,-786 3517,4 -4,4\"/>\n",
       "<!-- 0 -->\n",
       "<g id=\"node1\" class=\"node\">\n",
       "<title>0</title>\n",
       "<path fill=\"#ffffff\" stroke=\"#000000\" d=\"M2726.5,-782C2726.5,-782 2523.5,-782 2523.5,-782 2517.5,-782 2511.5,-776 2511.5,-770 2511.5,-770 2511.5,-711 2511.5,-711 2511.5,-705 2517.5,-699 2523.5,-699 2523.5,-699 2726.5,-699 2726.5,-699 2732.5,-699 2738.5,-705 2738.5,-711 2738.5,-711 2738.5,-770 2738.5,-770 2738.5,-776 2732.5,-782 2726.5,-782\"/>\n",
       "<text text-anchor=\"start\" x=\"2519.5\" y=\"-766.8\" font-family=\"Helvetica,sans-Serif\" font-size=\"14.00\" fill=\"#000000\">cs_PERSONAL_PROJECTS ≤ 0.5</text>\n",
       "<text text-anchor=\"start\" x=\"2585\" y=\"-751.8\" font-family=\"Helvetica,sans-Serif\" font-size=\"14.00\" fill=\"#000000\">entropy = 1.0</text>\n",
       "<text text-anchor=\"start\" x=\"2572.5\" y=\"-736.8\" font-family=\"Helvetica,sans-Serif\" font-size=\"14.00\" fill=\"#000000\">samples = 12000</text>\n",
       "<text text-anchor=\"start\" x=\"2552\" y=\"-721.8\" font-family=\"Helvetica,sans-Serif\" font-size=\"14.00\" fill=\"#000000\">value = [6000.0, 6000.0]</text>\n",
       "<text text-anchor=\"start\" x=\"2577\" y=\"-706.8\" font-family=\"Helvetica,sans-Serif\" font-size=\"14.00\" fill=\"#000000\">class = adopted</text>\n",
       "</g>\n",
       "<!-- 1 -->\n",
       "<g id=\"node2\" class=\"node\">\n",
       "<title>1</title>\n",
       "<path fill=\"#edf6fd\" stroke=\"#000000\" d=\"M2306.5,-663C2306.5,-663 2145.5,-663 2145.5,-663 2139.5,-663 2133.5,-657 2133.5,-651 2133.5,-651 2133.5,-592 2133.5,-592 2133.5,-586 2139.5,-580 2145.5,-580 2145.5,-580 2306.5,-580 2306.5,-580 2312.5,-580 2318.5,-586 2318.5,-592 2318.5,-592 2318.5,-651 2318.5,-651 2318.5,-657 2312.5,-663 2306.5,-663\"/>\n",
       "<text text-anchor=\"start\" x=\"2161.5\" y=\"-647.8\" font-family=\"Helvetica,sans-Serif\" font-size=\"14.00\" fill=\"#000000\">creation_month ≤ 5.5</text>\n",
       "<text text-anchor=\"start\" x=\"2178.5\" y=\"-632.8\" font-family=\"Helvetica,sans-Serif\" font-size=\"14.00\" fill=\"#000000\">entropy = 0.998</text>\n",
       "<text text-anchor=\"start\" x=\"2177.5\" y=\"-617.8\" font-family=\"Helvetica,sans-Serif\" font-size=\"14.00\" fill=\"#000000\">samples = 9889</text>\n",
       "<text text-anchor=\"start\" x=\"2141.5\" y=\"-602.8\" font-family=\"Helvetica,sans-Serif\" font-size=\"14.00\" fill=\"#000000\">value = [4875.29, 5376.812]</text>\n",
       "<text text-anchor=\"start\" x=\"2178\" y=\"-587.8\" font-family=\"Helvetica,sans-Serif\" font-size=\"14.00\" fill=\"#000000\">class = adopted</text>\n",
       "</g>\n",
       "<!-- 0&#45;&gt;1 -->\n",
       "<g id=\"edge1\" class=\"edge\">\n",
       "<title>0&#45;&gt;1</title>\n",
       "<path fill=\"none\" stroke=\"#000000\" d=\"M2511.4633,-706.6382C2453.8738,-689.4624 2384.4674,-668.7622 2328.513,-652.074\"/>\n",
       "<polygon fill=\"#000000\" stroke=\"#000000\" points=\"2329.1684,-648.6172 2318.5852,-649.1131 2327.1677,-655.3252 2329.1684,-648.6172\"/>\n",
       "<text text-anchor=\"middle\" x=\"2330.4731\" y=\"-667.4058\" font-family=\"Helvetica,sans-Serif\" font-size=\"14.00\" fill=\"#000000\">True</text>\n",
       "</g>\n",
       "<!-- 44 -->\n",
       "<g id=\"node45\" class=\"node\">\n",
       "<title>44</title>\n",
       "<path fill=\"#f3c7a7\" stroke=\"#000000\" d=\"M3045.5,-663C3045.5,-663 2892.5,-663 2892.5,-663 2886.5,-663 2880.5,-657 2880.5,-651 2880.5,-651 2880.5,-592 2880.5,-592 2880.5,-586 2886.5,-580 2892.5,-580 2892.5,-580 3045.5,-580 3045.5,-580 3051.5,-580 3057.5,-586 3057.5,-592 3057.5,-592 3057.5,-651 3057.5,-651 3057.5,-657 3051.5,-663 3045.5,-663\"/>\n",
       "<text text-anchor=\"start\" x=\"2917.5\" y=\"-647.8\" font-family=\"Helvetica,sans-Serif\" font-size=\"14.00\" fill=\"#000000\">org_id_217 ≤ 0.5</text>\n",
       "<text text-anchor=\"start\" x=\"2925\" y=\"-632.8\" font-family=\"Helvetica,sans-Serif\" font-size=\"14.00\" fill=\"#000000\">entropy = 0.94</text>\n",
       "<text text-anchor=\"start\" x=\"2920.5\" y=\"-617.8\" font-family=\"Helvetica,sans-Serif\" font-size=\"14.00\" fill=\"#000000\">samples = 2111</text>\n",
       "<text text-anchor=\"start\" x=\"2888.5\" y=\"-602.8\" font-family=\"Helvetica,sans-Serif\" font-size=\"14.00\" fill=\"#000000\">value = [1124.71, 623.188]</text>\n",
       "<text text-anchor=\"start\" x=\"2936\" y=\"-587.8\" font-family=\"Helvetica,sans-Serif\" font-size=\"14.00\" fill=\"#000000\">class = not</text>\n",
       "</g>\n",
       "<!-- 0&#45;&gt;44 -->\n",
       "<g id=\"edge44\" class=\"edge\">\n",
       "<title>0&#45;&gt;44</title>\n",
       "<path fill=\"none\" stroke=\"#000000\" d=\"M2738.5918,-701.2052C2781.3492,-686.4141 2829.5709,-669.7328 2870.8077,-655.4677\"/>\n",
       "<polygon fill=\"#000000\" stroke=\"#000000\" points=\"2872.0048,-658.7572 2880.311,-652.1802 2869.7163,-652.1418 2872.0048,-658.7572\"/>\n",
       "<text text-anchor=\"middle\" x=\"2869.3839\" y=\"-670.9657\" font-family=\"Helvetica,sans-Serif\" font-size=\"14.00\" fill=\"#000000\">False</text>\n",
       "</g>\n",
       "<!-- 2 -->\n",
       "<g id=\"node3\" class=\"node\">\n",
       "<title>2</title>\n",
       "<path fill=\"#fbede3\" stroke=\"#000000\" d=\"M1321,-544C1321,-544 1153,-544 1153,-544 1147,-544 1141,-538 1141,-532 1141,-532 1141,-473 1141,-473 1141,-467 1147,-461 1153,-461 1153,-461 1321,-461 1321,-461 1327,-461 1333,-467 1333,-473 1333,-473 1333,-532 1333,-532 1333,-538 1327,-544 1321,-544\"/>\n",
       "<text text-anchor=\"start\" x=\"1172.5\" y=\"-528.8\" font-family=\"Helvetica,sans-Serif\" font-size=\"14.00\" fill=\"#000000\">creation_month ≤ 4.5</text>\n",
       "<text text-anchor=\"start\" x=\"1189.5\" y=\"-513.8\" font-family=\"Helvetica,sans-Serif\" font-size=\"14.00\" fill=\"#000000\">entropy = 0.996</text>\n",
       "<text text-anchor=\"start\" x=\"1188.5\" y=\"-498.8\" font-family=\"Helvetica,sans-Serif\" font-size=\"14.00\" fill=\"#000000\">samples = 4797</text>\n",
       "<text text-anchor=\"start\" x=\"1149\" y=\"-483.8\" font-family=\"Helvetica,sans-Serif\" font-size=\"14.00\" fill=\"#000000\">value = [2446.636, 2097.826]</text>\n",
       "<text text-anchor=\"start\" x=\"1204\" y=\"-468.8\" font-family=\"Helvetica,sans-Serif\" font-size=\"14.00\" fill=\"#000000\">class = not</text>\n",
       "</g>\n",
       "<!-- 1&#45;&gt;2 -->\n",
       "<g id=\"edge2\" class=\"edge\">\n",
       "<title>1&#45;&gt;2</title>\n",
       "<path fill=\"none\" stroke=\"#000000\" d=\"M2133.4018,-610.3583C1949.2086,-588.1955 1537.8781,-538.7027 1343.1267,-515.2695\"/>\n",
       "<polygon fill=\"#000000\" stroke=\"#000000\" points=\"1343.5136,-511.7909 1333.167,-514.0712 1342.6773,-518.7408 1343.5136,-511.7909\"/>\n",
       "</g>\n",
       "<!-- 25 -->\n",
       "<g id=\"node26\" class=\"node\">\n",
       "<title>25</title>\n",
       "<path fill=\"#cce6f8\" stroke=\"#000000\" d=\"M2310,-544C2310,-544 2142,-544 2142,-544 2136,-544 2130,-538 2130,-532 2130,-532 2130,-473 2130,-473 2130,-467 2136,-461 2142,-461 2142,-461 2310,-461 2310,-461 2316,-461 2322,-467 2322,-473 2322,-473 2322,-532 2322,-532 2322,-538 2316,-544 2310,-544\"/>\n",
       "<text text-anchor=\"start\" x=\"2182\" y=\"-528.8\" font-family=\"Helvetica,sans-Serif\" font-size=\"14.00\" fill=\"#000000\">org_id_1 ≤ 0.5</text>\n",
       "<text text-anchor=\"start\" x=\"2178.5\" y=\"-513.8\" font-family=\"Helvetica,sans-Serif\" font-size=\"14.00\" fill=\"#000000\">entropy = 0.984</text>\n",
       "<text text-anchor=\"start\" x=\"2177.5\" y=\"-498.8\" font-family=\"Helvetica,sans-Serif\" font-size=\"14.00\" fill=\"#000000\">samples = 5092</text>\n",
       "<text text-anchor=\"start\" x=\"2138\" y=\"-483.8\" font-family=\"Helvetica,sans-Serif\" font-size=\"14.00\" fill=\"#000000\">value = [2428.654, 3278.986]</text>\n",
       "<text text-anchor=\"start\" x=\"2178\" y=\"-468.8\" font-family=\"Helvetica,sans-Serif\" font-size=\"14.00\" fill=\"#000000\">class = adopted</text>\n",
       "</g>\n",
       "<!-- 1&#45;&gt;25 -->\n",
       "<g id=\"edge25\" class=\"edge\">\n",
       "<title>1&#45;&gt;25</title>\n",
       "<path fill=\"none\" stroke=\"#000000\" d=\"M2226,-579.8796C2226,-571.6838 2226,-562.9891 2226,-554.5013\"/>\n",
       "<polygon fill=\"#000000\" stroke=\"#000000\" points=\"2229.5001,-554.298 2226,-544.2981 2222.5001,-554.2981 2229.5001,-554.298\"/>\n",
       "</g>\n",
       "<!-- 3 -->\n",
       "<g id=\"node4\" class=\"node\">\n",
       "<title>3</title>\n",
       "<path fill=\"#f9fcfe\" stroke=\"#000000\" d=\"M807,-425C807,-425 639,-425 639,-425 633,-425 627,-419 627,-413 627,-413 627,-354 627,-354 627,-348 633,-342 639,-342 639,-342 807,-342 807,-342 813,-342 819,-348 819,-354 819,-354 819,-413 819,-413 819,-419 813,-425 807,-425\"/>\n",
       "<text text-anchor=\"start\" x=\"658.5\" y=\"-409.8\" font-family=\"Helvetica,sans-Serif\" font-size=\"14.00\" fill=\"#000000\">creation_month ≤ 3.5</text>\n",
       "<text text-anchor=\"start\" x=\"683\" y=\"-394.8\" font-family=\"Helvetica,sans-Serif\" font-size=\"14.00\" fill=\"#000000\">entropy = 1.0</text>\n",
       "<text text-anchor=\"start\" x=\"674.5\" y=\"-379.8\" font-family=\"Helvetica,sans-Serif\" font-size=\"14.00\" fill=\"#000000\">samples = 3592</text>\n",
       "<text text-anchor=\"start\" x=\"635\" y=\"-364.8\" font-family=\"Helvetica,sans-Serif\" font-size=\"14.00\" fill=\"#000000\">value = [1788.283, 1844.203]</text>\n",
       "<text text-anchor=\"start\" x=\"675\" y=\"-349.8\" font-family=\"Helvetica,sans-Serif\" font-size=\"14.00\" fill=\"#000000\">class = adopted</text>\n",
       "</g>\n",
       "<!-- 2&#45;&gt;3 -->\n",
       "<g id=\"edge3\" class=\"edge\">\n",
       "<title>2&#45;&gt;3</title>\n",
       "<path fill=\"none\" stroke=\"#000000\" d=\"M1140.9235,-480.2566C1052.1922,-459.7138 920.637,-429.2564 828.9054,-408.0189\"/>\n",
       "<polygon fill=\"#000000\" stroke=\"#000000\" points=\"829.5724,-404.5809 819.0406,-405.7351 827.9935,-411.4005 829.5724,-404.5809\"/>\n",
       "</g>\n",
       "<!-- 14 -->\n",
       "<g id=\"node15\" class=\"node\">\n",
       "<title>14</title>\n",
       "<path fill=\"#efb285\" stroke=\"#000000\" d=\"M1344,-425C1344,-425 1130,-425 1130,-425 1124,-425 1118,-419 1118,-413 1118,-413 1118,-354 1118,-354 1118,-348 1124,-342 1130,-342 1130,-342 1344,-342 1344,-342 1350,-342 1356,-348 1356,-354 1356,-354 1356,-413 1356,-413 1356,-419 1350,-425 1344,-425\"/>\n",
       "<text text-anchor=\"start\" x=\"1126\" y=\"-409.8\" font-family=\"Helvetica,sans-Serif\" font-size=\"14.00\" fill=\"#000000\">cs_SIGNUP_GOOGLE_AUTH ≤ 0.5</text>\n",
       "<text text-anchor=\"start\" x=\"1189.5\" y=\"-394.8\" font-family=\"Helvetica,sans-Serif\" font-size=\"14.00\" fill=\"#000000\">entropy = 0.853</text>\n",
       "<text text-anchor=\"start\" x=\"1188.5\" y=\"-379.8\" font-family=\"Helvetica,sans-Serif\" font-size=\"14.00\" fill=\"#000000\">samples = 1205</text>\n",
       "<text text-anchor=\"start\" x=\"1156.5\" y=\"-364.8\" font-family=\"Helvetica,sans-Serif\" font-size=\"14.00\" fill=\"#000000\">value = [658.353, 253.623]</text>\n",
       "<text text-anchor=\"start\" x=\"1204\" y=\"-349.8\" font-family=\"Helvetica,sans-Serif\" font-size=\"14.00\" fill=\"#000000\">class = not</text>\n",
       "</g>\n",
       "<!-- 2&#45;&gt;14 -->\n",
       "<g id=\"edge14\" class=\"edge\">\n",
       "<title>2&#45;&gt;14</title>\n",
       "<path fill=\"none\" stroke=\"#000000\" d=\"M1237,-460.8796C1237,-452.6838 1237,-443.9891 1237,-435.5013\"/>\n",
       "<polygon fill=\"#000000\" stroke=\"#000000\" points=\"1240.5001,-435.298 1237,-425.2981 1233.5001,-435.2981 1240.5001,-435.298\"/>\n",
       "</g>\n",
       "<!-- 4 -->\n",
       "<g id=\"node5\" class=\"node\">\n",
       "<title>4</title>\n",
       "<path fill=\"#e4f2fc\" stroke=\"#000000\" d=\"M528,-306C528,-306 360,-306 360,-306 354,-306 348,-300 348,-294 348,-294 348,-235 348,-235 348,-229 354,-223 360,-223 360,-223 528,-223 528,-223 534,-223 540,-229 540,-235 540,-235 540,-294 540,-294 540,-300 534,-306 528,-306\"/>\n",
       "<text text-anchor=\"start\" x=\"396.5\" y=\"-290.8\" font-family=\"Helvetica,sans-Serif\" font-size=\"14.00\" fill=\"#000000\">org_id_14 ≤ 0.5</text>\n",
       "<text text-anchor=\"start\" x=\"396.5\" y=\"-275.8\" font-family=\"Helvetica,sans-Serif\" font-size=\"14.00\" fill=\"#000000\">entropy = 0.996</text>\n",
       "<text text-anchor=\"start\" x=\"395.5\" y=\"-260.8\" font-family=\"Helvetica,sans-Serif\" font-size=\"14.00\" fill=\"#000000\">samples = 2615</text>\n",
       "<text text-anchor=\"start\" x=\"356\" y=\"-245.8\" font-family=\"Helvetica,sans-Serif\" font-size=\"14.00\" fill=\"#000000\">value = [1280.162, 1478.261]</text>\n",
       "<text text-anchor=\"start\" x=\"396\" y=\"-230.8\" font-family=\"Helvetica,sans-Serif\" font-size=\"14.00\" fill=\"#000000\">class = adopted</text>\n",
       "</g>\n",
       "<!-- 3&#45;&gt;4 -->\n",
       "<g id=\"edge4\" class=\"edge\">\n",
       "<title>3&#45;&gt;4</title>\n",
       "<path fill=\"none\" stroke=\"#000000\" d=\"M626.984,-342.547C601.9953,-331.8887 574.9382,-320.3482 549.4893,-309.4936\"/>\n",
       "<polygon fill=\"#000000\" stroke=\"#000000\" points=\"550.7644,-306.2325 540.193,-305.5285 548.0181,-312.6713 550.7644,-306.2325\"/>\n",
       "</g>\n",
       "<!-- 9 -->\n",
       "<g id=\"node10\" class=\"node\">\n",
       "<title>9</title>\n",
       "<path fill=\"#f8dcc8\" stroke=\"#000000\" d=\"M799.5,-306C799.5,-306 646.5,-306 646.5,-306 640.5,-306 634.5,-300 634.5,-294 634.5,-294 634.5,-235 634.5,-235 634.5,-229 640.5,-223 646.5,-223 646.5,-223 799.5,-223 799.5,-223 805.5,-223 811.5,-229 811.5,-235 811.5,-235 811.5,-294 811.5,-294 811.5,-300 805.5,-306 799.5,-306\"/>\n",
       "<text text-anchor=\"start\" x=\"675.5\" y=\"-290.8\" font-family=\"Helvetica,sans-Serif\" font-size=\"14.00\" fill=\"#000000\">org_id_52 ≤ 0.5</text>\n",
       "<text text-anchor=\"start\" x=\"675.5\" y=\"-275.8\" font-family=\"Helvetica,sans-Serif\" font-size=\"14.00\" fill=\"#000000\">entropy = 0.981</text>\n",
       "<text text-anchor=\"start\" x=\"678\" y=\"-260.8\" font-family=\"Helvetica,sans-Serif\" font-size=\"14.00\" fill=\"#000000\">samples = 977</text>\n",
       "<text text-anchor=\"start\" x=\"642.5\" y=\"-245.8\" font-family=\"Helvetica,sans-Serif\" font-size=\"14.00\" fill=\"#000000\">value = [508.121, 365.942]</text>\n",
       "<text text-anchor=\"start\" x=\"690\" y=\"-230.8\" font-family=\"Helvetica,sans-Serif\" font-size=\"14.00\" fill=\"#000000\">class = not</text>\n",
       "</g>\n",
       "<!-- 3&#45;&gt;9 -->\n",
       "<g id=\"edge9\" class=\"edge\">\n",
       "<title>3&#45;&gt;9</title>\n",
       "<path fill=\"none\" stroke=\"#000000\" d=\"M723,-341.8796C723,-333.6838 723,-324.9891 723,-316.5013\"/>\n",
       "<polygon fill=\"#000000\" stroke=\"#000000\" points=\"726.5001,-316.298 723,-306.2981 719.5001,-316.2981 726.5001,-316.298\"/>\n",
       "</g>\n",
       "<!-- 5 -->\n",
       "<g id=\"node6\" class=\"node\">\n",
       "<title>5</title>\n",
       "<path fill=\"#e3f1fb\" stroke=\"#000000\" d=\"M344,-187C344,-187 176,-187 176,-187 170,-187 164,-181 164,-175 164,-175 164,-116 164,-116 164,-110 170,-104 176,-104 176,-104 344,-104 344,-104 350,-104 356,-110 356,-116 356,-116 356,-175 356,-175 356,-181 350,-187 344,-187\"/>\n",
       "<text text-anchor=\"start\" x=\"212.5\" y=\"-171.8\" font-family=\"Helvetica,sans-Serif\" font-size=\"14.00\" fill=\"#000000\">org_id_21 ≤ 0.5</text>\n",
       "<text text-anchor=\"start\" x=\"212.5\" y=\"-156.8\" font-family=\"Helvetica,sans-Serif\" font-size=\"14.00\" fill=\"#000000\">entropy = 0.996</text>\n",
       "<text text-anchor=\"start\" x=\"211.5\" y=\"-141.8\" font-family=\"Helvetica,sans-Serif\" font-size=\"14.00\" fill=\"#000000\">samples = 2596</text>\n",
       "<text text-anchor=\"start\" x=\"172\" y=\"-126.8\" font-family=\"Helvetica,sans-Serif\" font-size=\"14.00\" fill=\"#000000\">value = [1269.142, 1478.261]</text>\n",
       "<text text-anchor=\"start\" x=\"212\" y=\"-111.8\" font-family=\"Helvetica,sans-Serif\" font-size=\"14.00\" fill=\"#000000\">class = adopted</text>\n",
       "</g>\n",
       "<!-- 4&#45;&gt;5 -->\n",
       "<g id=\"edge5\" class=\"edge\">\n",
       "<title>4&#45;&gt;5</title>\n",
       "<path fill=\"none\" stroke=\"#000000\" d=\"M379.6457,-222.8796C364.5185,-213.0962 348.2919,-202.6019 332.8224,-192.5971\"/>\n",
       "<polygon fill=\"#000000\" stroke=\"#000000\" points=\"334.6156,-189.5887 324.3179,-187.0969 330.8141,-195.4665 334.6156,-189.5887\"/>\n",
       "</g>\n",
       "<!-- 8 -->\n",
       "<g id=\"node9\" class=\"node\">\n",
       "<title>8</title>\n",
       "<path fill=\"#e58139\" stroke=\"#000000\" d=\"M502,-179.5C502,-179.5 386,-179.5 386,-179.5 380,-179.5 374,-173.5 374,-167.5 374,-167.5 374,-123.5 374,-123.5 374,-117.5 380,-111.5 386,-111.5 386,-111.5 502,-111.5 502,-111.5 508,-111.5 514,-117.5 514,-123.5 514,-123.5 514,-167.5 514,-167.5 514,-173.5 508,-179.5 502,-179.5\"/>\n",
       "<text text-anchor=\"start\" x=\"404\" y=\"-164.3\" font-family=\"Helvetica,sans-Serif\" font-size=\"14.00\" fill=\"#000000\">entropy = 0.0</text>\n",
       "<text text-anchor=\"start\" x=\"403\" y=\"-149.3\" font-family=\"Helvetica,sans-Serif\" font-size=\"14.00\" fill=\"#000000\">samples = 19</text>\n",
       "<text text-anchor=\"start\" x=\"382\" y=\"-134.3\" font-family=\"Helvetica,sans-Serif\" font-size=\"14.00\" fill=\"#000000\">value = [11.021, 0.0]</text>\n",
       "<text text-anchor=\"start\" x=\"411\" y=\"-119.3\" font-family=\"Helvetica,sans-Serif\" font-size=\"14.00\" fill=\"#000000\">class = not</text>\n",
       "</g>\n",
       "<!-- 4&#45;&gt;8 -->\n",
       "<g id=\"edge8\" class=\"edge\">\n",
       "<title>4&#45;&gt;8</title>\n",
       "<path fill=\"none\" stroke=\"#000000\" d=\"M444,-222.8796C444,-212.2134 444,-200.7021 444,-189.9015\"/>\n",
       "<polygon fill=\"#000000\" stroke=\"#000000\" points=\"447.5001,-189.8149 444,-179.8149 440.5001,-189.815 447.5001,-189.8149\"/>\n",
       "</g>\n",
       "<!-- 6 -->\n",
       "<g id=\"node7\" class=\"node\">\n",
       "<title>6</title>\n",
       "<path fill=\"#e2f1fb\" stroke=\"#000000\" d=\"M180,-68C180,-68 12,-68 12,-68 6,-68 0,-62 0,-56 0,-56 0,-12 0,-12 0,-6 6,0 12,0 12,0 180,0 180,0 186,0 192,-6 192,-12 192,-12 192,-56 192,-56 192,-62 186,-68 180,-68\"/>\n",
       "<text text-anchor=\"start\" x=\"48.5\" y=\"-52.8\" font-family=\"Helvetica,sans-Serif\" font-size=\"14.00\" fill=\"#000000\">entropy = 0.995</text>\n",
       "<text text-anchor=\"start\" x=\"47.5\" y=\"-37.8\" font-family=\"Helvetica,sans-Serif\" font-size=\"14.00\" fill=\"#000000\">samples = 2583</text>\n",
       "<text text-anchor=\"start\" x=\"8\" y=\"-22.8\" font-family=\"Helvetica,sans-Serif\" font-size=\"14.00\" fill=\"#000000\">value = [1261.601, 1478.261]</text>\n",
       "<text text-anchor=\"start\" x=\"48\" y=\"-7.8\" font-family=\"Helvetica,sans-Serif\" font-size=\"14.00\" fill=\"#000000\">class = adopted</text>\n",
       "</g>\n",
       "<!-- 5&#45;&gt;6 -->\n",
       "<g id=\"edge6\" class=\"edge\">\n",
       "<title>5&#45;&gt;6</title>\n",
       "<path fill=\"none\" stroke=\"#000000\" d=\"M198.9325,-103.9815C184.3919,-94.0957 168.9103,-83.5701 154.4886,-73.7651\"/>\n",
       "<polygon fill=\"#000000\" stroke=\"#000000\" points=\"156.3725,-70.8137 146.1349,-68.0856 152.4368,-76.6025 156.3725,-70.8137\"/>\n",
       "</g>\n",
       "<!-- 7 -->\n",
       "<g id=\"node8\" class=\"node\">\n",
       "<title>7</title>\n",
       "<path fill=\"#e58139\" stroke=\"#000000\" d=\"M330,-68C330,-68 222,-68 222,-68 216,-68 210,-62 210,-56 210,-56 210,-12 210,-12 210,-6 216,0 222,0 222,0 330,0 330,0 336,0 342,-6 342,-12 342,-12 342,-56 342,-56 342,-62 336,-68 330,-68\"/>\n",
       "<text text-anchor=\"start\" x=\"236\" y=\"-52.8\" font-family=\"Helvetica,sans-Serif\" font-size=\"14.00\" fill=\"#000000\">entropy = 0.0</text>\n",
       "<text text-anchor=\"start\" x=\"235\" y=\"-37.8\" font-family=\"Helvetica,sans-Serif\" font-size=\"14.00\" fill=\"#000000\">samples = 13</text>\n",
       "<text text-anchor=\"start\" x=\"218\" y=\"-22.8\" font-family=\"Helvetica,sans-Serif\" font-size=\"14.00\" fill=\"#000000\">value = [7.541, 0.0]</text>\n",
       "<text text-anchor=\"start\" x=\"243\" y=\"-7.8\" font-family=\"Helvetica,sans-Serif\" font-size=\"14.00\" fill=\"#000000\">class = not</text>\n",
       "</g>\n",
       "<!-- 5&#45;&gt;7 -->\n",
       "<g id=\"edge7\" class=\"edge\">\n",
       "<title>5&#45;&gt;7</title>\n",
       "<path fill=\"none\" stroke=\"#000000\" d=\"M265.9578,-103.9815C267.158,-95.618 268.4238,-86.7965 269.6372,-78.3409\"/>\n",
       "<polygon fill=\"#000000\" stroke=\"#000000\" points=\"273.1272,-78.6595 271.0832,-68.2637 266.1982,-77.6651 273.1272,-78.6595\"/>\n",
       "</g>\n",
       "<!-- 10 -->\n",
       "<g id=\"node11\" class=\"node\">\n",
       "<title>10</title>\n",
       "<path fill=\"#f7d9c4\" stroke=\"#000000\" d=\"M697.5,-187C697.5,-187 544.5,-187 544.5,-187 538.5,-187 532.5,-181 532.5,-175 532.5,-175 532.5,-116 532.5,-116 532.5,-110 538.5,-104 544.5,-104 544.5,-104 697.5,-104 697.5,-104 703.5,-104 709.5,-110 709.5,-116 709.5,-116 709.5,-175 709.5,-175 709.5,-181 703.5,-187 697.5,-187\"/>\n",
       "<text text-anchor=\"start\" x=\"573.5\" y=\"-171.8\" font-family=\"Helvetica,sans-Serif\" font-size=\"14.00\" fill=\"#000000\">org_id_59 ≤ 0.5</text>\n",
       "<text text-anchor=\"start\" x=\"573.5\" y=\"-156.8\" font-family=\"Helvetica,sans-Serif\" font-size=\"14.00\" fill=\"#000000\">entropy = 0.978</text>\n",
       "<text text-anchor=\"start\" x=\"576\" y=\"-141.8\" font-family=\"Helvetica,sans-Serif\" font-size=\"14.00\" fill=\"#000000\">samples = 971</text>\n",
       "<text text-anchor=\"start\" x=\"540.5\" y=\"-126.8\" font-family=\"Helvetica,sans-Serif\" font-size=\"14.00\" fill=\"#000000\">value = [506.381, 355.072]</text>\n",
       "<text text-anchor=\"start\" x=\"588\" y=\"-111.8\" font-family=\"Helvetica,sans-Serif\" font-size=\"14.00\" fill=\"#000000\">class = not</text>\n",
       "</g>\n",
       "<!-- 9&#45;&gt;10 -->\n",
       "<g id=\"edge10\" class=\"edge\">\n",
       "<title>9&#45;&gt;10</title>\n",
       "<path fill=\"none\" stroke=\"#000000\" d=\"M687.3253,-222.8796C679.6057,-213.8733 671.3695,-204.2644 663.4197,-194.9897\"/>\n",
       "<polygon fill=\"#000000\" stroke=\"#000000\" points=\"665.9923,-192.6129 656.8269,-187.2981 660.6775,-197.1684 665.9923,-192.6129\"/>\n",
       "</g>\n",
       "<!-- 13 -->\n",
       "<g id=\"node14\" class=\"node\">\n",
       "<title>13</title>\n",
       "<path fill=\"#59ade9\" stroke=\"#000000\" d=\"M856,-179.5C856,-179.5 740,-179.5 740,-179.5 734,-179.5 728,-173.5 728,-167.5 728,-167.5 728,-123.5 728,-123.5 728,-117.5 734,-111.5 740,-111.5 740,-111.5 856,-111.5 856,-111.5 862,-111.5 868,-117.5 868,-123.5 868,-123.5 868,-167.5 868,-167.5 868,-173.5 862,-179.5 856,-179.5\"/>\n",
       "<text text-anchor=\"start\" x=\"750.5\" y=\"-164.3\" font-family=\"Helvetica,sans-Serif\" font-size=\"14.00\" fill=\"#000000\">entropy = 0.579</text>\n",
       "<text text-anchor=\"start\" x=\"760.5\" y=\"-149.3\" font-family=\"Helvetica,sans-Serif\" font-size=\"14.00\" fill=\"#000000\">samples = 6</text>\n",
       "<text text-anchor=\"start\" x=\"736\" y=\"-134.3\" font-family=\"Helvetica,sans-Serif\" font-size=\"14.00\" fill=\"#000000\">value = [1.74, 10.87]</text>\n",
       "<text text-anchor=\"start\" x=\"750\" y=\"-119.3\" font-family=\"Helvetica,sans-Serif\" font-size=\"14.00\" fill=\"#000000\">class = adopted</text>\n",
       "</g>\n",
       "<!-- 9&#45;&gt;13 -->\n",
       "<g id=\"edge13\" class=\"edge\">\n",
       "<title>9&#45;&gt;13</title>\n",
       "<path fill=\"none\" stroke=\"#000000\" d=\"M749.2314,-222.8796C756.231,-211.7735 763.808,-199.7513 770.8556,-188.5691\"/>\n",
       "<polygon fill=\"#000000\" stroke=\"#000000\" points=\"774.002,-190.1411 776.3729,-179.8149 768.08,-186.4087 774.002,-190.1411\"/>\n",
       "</g>\n",
       "<!-- 11 -->\n",
       "<g id=\"node12\" class=\"node\">\n",
       "<title>11</title>\n",
       "<path fill=\"#f7d8c1\" stroke=\"#000000\" d=\"M523,-68C523,-68 385,-68 385,-68 379,-68 373,-62 373,-56 373,-56 373,-12 373,-12 373,-6 379,0 385,0 385,0 523,0 523,0 529,0 535,-6 535,-12 535,-12 535,-56 535,-56 535,-62 529,-68 523,-68\"/>\n",
       "<text text-anchor=\"start\" x=\"406.5\" y=\"-52.8\" font-family=\"Helvetica,sans-Serif\" font-size=\"14.00\" fill=\"#000000\">entropy = 0.975</text>\n",
       "<text text-anchor=\"start\" x=\"409\" y=\"-37.8\" font-family=\"Helvetica,sans-Serif\" font-size=\"14.00\" fill=\"#000000\">samples = 968</text>\n",
       "<text text-anchor=\"start\" x=\"381\" y=\"-22.8\" font-family=\"Helvetica,sans-Serif\" font-size=\"14.00\" fill=\"#000000\">value = [505.8, 347.826]</text>\n",
       "<text text-anchor=\"start\" x=\"421\" y=\"-7.8\" font-family=\"Helvetica,sans-Serif\" font-size=\"14.00\" fill=\"#000000\">class = not</text>\n",
       "</g>\n",
       "<!-- 10&#45;&gt;11 -->\n",
       "<g id=\"edge11\" class=\"edge\">\n",
       "<title>10&#45;&gt;11</title>\n",
       "<path fill=\"none\" stroke=\"#000000\" d=\"M558.8154,-103.9815C544.0089,-94.0957 528.2441,-83.5701 513.5585,-73.7651\"/>\n",
       "<polygon fill=\"#000000\" stroke=\"#000000\" points=\"515.3122,-70.7276 505.052,-68.0856 511.4252,-76.5493 515.3122,-70.7276\"/>\n",
       "</g>\n",
       "<!-- 12 -->\n",
       "<g id=\"node13\" class=\"node\">\n",
       "<title>12</title>\n",
       "<path fill=\"#49a5e7\" stroke=\"#000000\" d=\"M681,-68C681,-68 565,-68 565,-68 559,-68 553,-62 553,-56 553,-56 553,-12 553,-12 553,-6 559,0 565,0 565,0 681,0 681,0 687,0 693,-6 693,-12 693,-12 693,-56 693,-56 693,-62 687,-68 681,-68\"/>\n",
       "<text text-anchor=\"start\" x=\"575.5\" y=\"-52.8\" font-family=\"Helvetica,sans-Serif\" font-size=\"14.00\" fill=\"#000000\">entropy = 0.381</text>\n",
       "<text text-anchor=\"start\" x=\"585.5\" y=\"-37.8\" font-family=\"Helvetica,sans-Serif\" font-size=\"14.00\" fill=\"#000000\">samples = 3</text>\n",
       "<text text-anchor=\"start\" x=\"561\" y=\"-22.8\" font-family=\"Helvetica,sans-Serif\" font-size=\"14.00\" fill=\"#000000\">value = [0.58, 7.246]</text>\n",
       "<text text-anchor=\"start\" x=\"575\" y=\"-7.8\" font-family=\"Helvetica,sans-Serif\" font-size=\"14.00\" fill=\"#000000\">class = adopted</text>\n",
       "</g>\n",
       "<!-- 10&#45;&gt;12 -->\n",
       "<g id=\"edge12\" class=\"edge\">\n",
       "<title>10&#45;&gt;12</title>\n",
       "<path fill=\"none\" stroke=\"#000000\" d=\"M621.7447,-103.9815C621.8947,-95.618 622.053,-86.7965 622.2046,-78.3409\"/>\n",
       "<polygon fill=\"#000000\" stroke=\"#000000\" points=\"625.7054,-78.3249 622.3854,-68.2637 618.7065,-78.1993 625.7054,-78.3249\"/>\n",
       "</g>\n",
       "<!-- 15 -->\n",
       "<g id=\"node16\" class=\"node\">\n",
       "<title>15</title>\n",
       "<path fill=\"#eeab7c\" stroke=\"#000000\" d=\"M1219.5,-306C1219.5,-306 1066.5,-306 1066.5,-306 1060.5,-306 1054.5,-300 1054.5,-294 1054.5,-294 1054.5,-235 1054.5,-235 1054.5,-229 1060.5,-223 1066.5,-223 1066.5,-223 1219.5,-223 1219.5,-223 1225.5,-223 1231.5,-229 1231.5,-235 1231.5,-235 1231.5,-294 1231.5,-294 1231.5,-300 1225.5,-306 1219.5,-306\"/>\n",
       "<text text-anchor=\"start\" x=\"1095.5\" y=\"-290.8\" font-family=\"Helvetica,sans-Serif\" font-size=\"14.00\" fill=\"#000000\">org_id_94 ≤ 0.5</text>\n",
       "<text text-anchor=\"start\" x=\"1095.5\" y=\"-275.8\" font-family=\"Helvetica,sans-Serif\" font-size=\"14.00\" fill=\"#000000\">entropy = 0.814</text>\n",
       "<text text-anchor=\"start\" x=\"1094.5\" y=\"-260.8\" font-family=\"Helvetica,sans-Serif\" font-size=\"14.00\" fill=\"#000000\">samples = 1037</text>\n",
       "<text text-anchor=\"start\" x=\"1062.5\" y=\"-245.8\" font-family=\"Helvetica,sans-Serif\" font-size=\"14.00\" fill=\"#000000\">value = [570.766, 192.029]</text>\n",
       "<text text-anchor=\"start\" x=\"1110\" y=\"-230.8\" font-family=\"Helvetica,sans-Serif\" font-size=\"14.00\" fill=\"#000000\">class = not</text>\n",
       "</g>\n",
       "<!-- 14&#45;&gt;15 -->\n",
       "<g id=\"edge15\" class=\"edge\">\n",
       "<title>14&#45;&gt;15</title>\n",
       "<path fill=\"none\" stroke=\"#000000\" d=\"M1204.1234,-341.8796C1197.0803,-332.9633 1189.5707,-323.4565 1182.3126,-314.268\"/>\n",
       "<polygon fill=\"#000000\" stroke=\"#000000\" points=\"1184.9621,-311.9757 1176.017,-306.2981 1179.4691,-316.3147 1184.9621,-311.9757\"/>\n",
       "</g>\n",
       "<!-- 20 -->\n",
       "<g id=\"node21\" class=\"node\">\n",
       "<title>20</title>\n",
       "<path fill=\"#f7dac4\" stroke=\"#000000\" d=\"M1400,-306C1400,-306 1262,-306 1262,-306 1256,-306 1250,-300 1250,-294 1250,-294 1250,-235 1250,-235 1250,-229 1256,-223 1262,-223 1262,-223 1400,-223 1400,-223 1406,-223 1412,-229 1412,-235 1412,-235 1412,-294 1412,-294 1412,-300 1406,-306 1400,-306\"/>\n",
       "<text text-anchor=\"start\" x=\"1287\" y=\"-290.8\" font-family=\"Helvetica,sans-Serif\" font-size=\"14.00\" fill=\"#000000\">org_id_1 ≤ 0.5</text>\n",
       "<text text-anchor=\"start\" x=\"1283.5\" y=\"-275.8\" font-family=\"Helvetica,sans-Serif\" font-size=\"14.00\" fill=\"#000000\">entropy = 0.978</text>\n",
       "<text text-anchor=\"start\" x=\"1286\" y=\"-260.8\" font-family=\"Helvetica,sans-Serif\" font-size=\"14.00\" fill=\"#000000\">samples = 168</text>\n",
       "<text text-anchor=\"start\" x=\"1258\" y=\"-245.8\" font-family=\"Helvetica,sans-Serif\" font-size=\"14.00\" fill=\"#000000\">value = [87.587, 61.594]</text>\n",
       "<text text-anchor=\"start\" x=\"1298\" y=\"-230.8\" font-family=\"Helvetica,sans-Serif\" font-size=\"14.00\" fill=\"#000000\">class = not</text>\n",
       "</g>\n",
       "<!-- 14&#45;&gt;20 -->\n",
       "<g id=\"edge20\" class=\"edge\">\n",
       "<title>14&#45;&gt;20</title>\n",
       "<path fill=\"none\" stroke=\"#000000\" d=\"M1269.8766,-341.8796C1276.9197,-332.9633 1284.4293,-323.4565 1291.6874,-314.268\"/>\n",
       "<polygon fill=\"#000000\" stroke=\"#000000\" points=\"1294.5309,-316.3147 1297.983,-306.2981 1289.0379,-311.9757 1294.5309,-316.3147\"/>\n",
       "</g>\n",
       "<!-- 16 -->\n",
       "<g id=\"node17\" class=\"node\">\n",
       "<title>16</title>\n",
       "<path fill=\"#edaa79\" stroke=\"#000000\" d=\"M1051.5,-187C1051.5,-187 898.5,-187 898.5,-187 892.5,-187 886.5,-181 886.5,-175 886.5,-175 886.5,-116 886.5,-116 886.5,-110 892.5,-104 898.5,-104 898.5,-104 1051.5,-104 1051.5,-104 1057.5,-104 1063.5,-110 1063.5,-116 1063.5,-116 1063.5,-175 1063.5,-175 1063.5,-181 1057.5,-187 1051.5,-187\"/>\n",
       "<text text-anchor=\"start\" x=\"931\" y=\"-171.8\" font-family=\"Helvetica,sans-Serif\" font-size=\"14.00\" fill=\"#000000\">org_id_2 ≤ 0.5</text>\n",
       "<text text-anchor=\"start\" x=\"927.5\" y=\"-156.8\" font-family=\"Helvetica,sans-Serif\" font-size=\"14.00\" fill=\"#000000\">entropy = 0.803</text>\n",
       "<text text-anchor=\"start\" x=\"926.5\" y=\"-141.8\" font-family=\"Helvetica,sans-Serif\" font-size=\"14.00\" fill=\"#000000\">samples = 1034</text>\n",
       "<text text-anchor=\"start\" x=\"894.5\" y=\"-126.8\" font-family=\"Helvetica,sans-Serif\" font-size=\"14.00\" fill=\"#000000\">value = [570.186, 184.783]</text>\n",
       "<text text-anchor=\"start\" x=\"942\" y=\"-111.8\" font-family=\"Helvetica,sans-Serif\" font-size=\"14.00\" fill=\"#000000\">class = not</text>\n",
       "</g>\n",
       "<!-- 15&#45;&gt;16 -->\n",
       "<g id=\"edge16\" class=\"edge\">\n",
       "<title>15&#45;&gt;16</title>\n",
       "<path fill=\"none\" stroke=\"#000000\" d=\"M1084.2418,-222.8796C1070.6857,-213.2774 1056.1628,-202.9903 1042.2754,-193.1534\"/>\n",
       "<polygon fill=\"#000000\" stroke=\"#000000\" points=\"1043.9084,-190.021 1033.7251,-187.0969 1039.8623,-195.7332 1043.9084,-190.021\"/>\n",
       "</g>\n",
       "<!-- 19 -->\n",
       "<g id=\"node20\" class=\"node\">\n",
       "<title>19</title>\n",
       "<path fill=\"#49a5e7\" stroke=\"#000000\" d=\"M1210,-179.5C1210,-179.5 1094,-179.5 1094,-179.5 1088,-179.5 1082,-173.5 1082,-167.5 1082,-167.5 1082,-123.5 1082,-123.5 1082,-117.5 1088,-111.5 1094,-111.5 1094,-111.5 1210,-111.5 1210,-111.5 1216,-111.5 1222,-117.5 1222,-123.5 1222,-123.5 1222,-167.5 1222,-167.5 1222,-173.5 1216,-179.5 1210,-179.5\"/>\n",
       "<text text-anchor=\"start\" x=\"1104.5\" y=\"-164.3\" font-family=\"Helvetica,sans-Serif\" font-size=\"14.00\" fill=\"#000000\">entropy = 0.381</text>\n",
       "<text text-anchor=\"start\" x=\"1114.5\" y=\"-149.3\" font-family=\"Helvetica,sans-Serif\" font-size=\"14.00\" fill=\"#000000\">samples = 3</text>\n",
       "<text text-anchor=\"start\" x=\"1090\" y=\"-134.3\" font-family=\"Helvetica,sans-Serif\" font-size=\"14.00\" fill=\"#000000\">value = [0.58, 7.246]</text>\n",
       "<text text-anchor=\"start\" x=\"1104\" y=\"-119.3\" font-family=\"Helvetica,sans-Serif\" font-size=\"14.00\" fill=\"#000000\">class = adopted</text>\n",
       "</g>\n",
       "<!-- 15&#45;&gt;19 -->\n",
       "<g id=\"edge19\" class=\"edge\">\n",
       "<title>15&#45;&gt;19</title>\n",
       "<path fill=\"none\" stroke=\"#000000\" d=\"M1146.1478,-222.8796C1146.9545,-212.2134 1147.8251,-200.7021 1148.6419,-189.9015\"/>\n",
       "<polygon fill=\"#000000\" stroke=\"#000000\" points=\"1152.1405,-190.0504 1149.4048,-179.8149 1145.1605,-189.5225 1152.1405,-190.0504\"/>\n",
       "</g>\n",
       "<!-- 17 -->\n",
       "<g id=\"node18\" class=\"node\">\n",
       "<title>17</title>\n",
       "<path fill=\"#eeab7b\" stroke=\"#000000\" d=\"M878.5,-68C878.5,-68 725.5,-68 725.5,-68 719.5,-68 713.5,-62 713.5,-56 713.5,-56 713.5,-12 713.5,-12 713.5,-6 719.5,0 725.5,0 725.5,0 878.5,0 878.5,0 884.5,0 890.5,-6 890.5,-12 890.5,-12 890.5,-56 890.5,-56 890.5,-62 884.5,-68 878.5,-68\"/>\n",
       "<text text-anchor=\"start\" x=\"758\" y=\"-52.8\" font-family=\"Helvetica,sans-Serif\" font-size=\"14.00\" fill=\"#000000\">entropy = 0.81</text>\n",
       "<text text-anchor=\"start\" x=\"753.5\" y=\"-37.8\" font-family=\"Helvetica,sans-Serif\" font-size=\"14.00\" fill=\"#000000\">samples = 1012</text>\n",
       "<text text-anchor=\"start\" x=\"721.5\" y=\"-22.8\" font-family=\"Helvetica,sans-Serif\" font-size=\"14.00\" fill=\"#000000\">value = [557.425, 184.783]</text>\n",
       "<text text-anchor=\"start\" x=\"769\" y=\"-7.8\" font-family=\"Helvetica,sans-Serif\" font-size=\"14.00\" fill=\"#000000\">class = not</text>\n",
       "</g>\n",
       "<!-- 16&#45;&gt;17 -->\n",
       "<g id=\"edge17\" class=\"edge\">\n",
       "<title>16&#45;&gt;17</title>\n",
       "<path fill=\"none\" stroke=\"#000000\" d=\"M910.5812,-103.9815C895.2427,-94.0957 878.9115,-83.5701 863.6984,-73.7651\"/>\n",
       "<polygon fill=\"#000000\" stroke=\"#000000\" points=\"865.1878,-70.5611 854.8862,-68.0856 861.3956,-76.445 865.1878,-70.5611\"/>\n",
       "</g>\n",
       "<!-- 18 -->\n",
       "<g id=\"node19\" class=\"node\">\n",
       "<title>18</title>\n",
       "<path fill=\"#e58139\" stroke=\"#000000\" d=\"M1037,-68C1037,-68 921,-68 921,-68 915,-68 909,-62 909,-56 909,-56 909,-12 909,-12 909,-6 915,0 921,0 921,0 1037,0 1037,0 1043,0 1049,-6 1049,-12 1049,-12 1049,-56 1049,-56 1049,-62 1043,-68 1037,-68\"/>\n",
       "<text text-anchor=\"start\" x=\"939\" y=\"-52.8\" font-family=\"Helvetica,sans-Serif\" font-size=\"14.00\" fill=\"#000000\">entropy = 0.0</text>\n",
       "<text text-anchor=\"start\" x=\"938\" y=\"-37.8\" font-family=\"Helvetica,sans-Serif\" font-size=\"14.00\" fill=\"#000000\">samples = 22</text>\n",
       "<text text-anchor=\"start\" x=\"917\" y=\"-22.8\" font-family=\"Helvetica,sans-Serif\" font-size=\"14.00\" fill=\"#000000\">value = [12.761, 0.0]</text>\n",
       "<text text-anchor=\"start\" x=\"946\" y=\"-7.8\" font-family=\"Helvetica,sans-Serif\" font-size=\"14.00\" fill=\"#000000\">class = not</text>\n",
       "</g>\n",
       "<!-- 16&#45;&gt;18 -->\n",
       "<g id=\"edge18\" class=\"edge\">\n",
       "<title>16&#45;&gt;18</title>\n",
       "<path fill=\"none\" stroke=\"#000000\" d=\"M976.4895,-103.9815C976.7895,-95.618 977.106,-86.7965 977.4093,-78.3409\"/>\n",
       "<polygon fill=\"#000000\" stroke=\"#000000\" points=\"980.91,-78.3828 977.7708,-68.2637 973.9145,-78.1317 980.91,-78.3828\"/>\n",
       "</g>\n",
       "<!-- 21 -->\n",
       "<g id=\"node22\" class=\"node\">\n",
       "<title>21</title>\n",
       "<path fill=\"#f8ddc9\" stroke=\"#000000\" d=\"M1390,-187C1390,-187 1252,-187 1252,-187 1246,-187 1240,-181 1240,-175 1240,-175 1240,-116 1240,-116 1240,-110 1246,-104 1252,-104 1252,-104 1390,-104 1390,-104 1396,-104 1402,-110 1402,-116 1402,-116 1402,-175 1402,-175 1402,-181 1396,-187 1390,-187\"/>\n",
       "<text text-anchor=\"start\" x=\"1277\" y=\"-171.8\" font-family=\"Helvetica,sans-Serif\" font-size=\"14.00\" fill=\"#000000\">org_id_6 ≤ 0.5</text>\n",
       "<text text-anchor=\"start\" x=\"1273.5\" y=\"-156.8\" font-family=\"Helvetica,sans-Serif\" font-size=\"14.00\" fill=\"#000000\">entropy = 0.982</text>\n",
       "<text text-anchor=\"start\" x=\"1276\" y=\"-141.8\" font-family=\"Helvetica,sans-Serif\" font-size=\"14.00\" fill=\"#000000\">samples = 163</text>\n",
       "<text text-anchor=\"start\" x=\"1248\" y=\"-126.8\" font-family=\"Helvetica,sans-Serif\" font-size=\"14.00\" fill=\"#000000\">value = [84.687, 61.594]</text>\n",
       "<text text-anchor=\"start\" x=\"1288\" y=\"-111.8\" font-family=\"Helvetica,sans-Serif\" font-size=\"14.00\" fill=\"#000000\">class = not</text>\n",
       "</g>\n",
       "<!-- 20&#45;&gt;21 -->\n",
       "<g id=\"edge21\" class=\"edge\">\n",
       "<title>20&#45;&gt;21</title>\n",
       "<path fill=\"none\" stroke=\"#000000\" d=\"M1327.5025,-222.8796C1326.8138,-214.6838 1326.0831,-205.9891 1325.3699,-197.5013\"/>\n",
       "<polygon fill=\"#000000\" stroke=\"#000000\" points=\"1328.8376,-196.9698 1324.5124,-187.2981 1321.8622,-197.5561 1328.8376,-196.9698\"/>\n",
       "</g>\n",
       "<!-- 24 -->\n",
       "<g id=\"node25\" class=\"node\">\n",
       "<title>24</title>\n",
       "<path fill=\"#e58139\" stroke=\"#000000\" d=\"M1525.5,-179.5C1525.5,-179.5 1432.5,-179.5 1432.5,-179.5 1426.5,-179.5 1420.5,-173.5 1420.5,-167.5 1420.5,-167.5 1420.5,-123.5 1420.5,-123.5 1420.5,-117.5 1426.5,-111.5 1432.5,-111.5 1432.5,-111.5 1525.5,-111.5 1525.5,-111.5 1531.5,-111.5 1537.5,-117.5 1537.5,-123.5 1537.5,-123.5 1537.5,-167.5 1537.5,-167.5 1537.5,-173.5 1531.5,-179.5 1525.5,-179.5\"/>\n",
       "<text text-anchor=\"start\" x=\"1436.5\" y=\"-164.3\" font-family=\"Helvetica,sans-Serif\" font-size=\"14.00\" fill=\"#000000\">entropy = &#45;0.0</text>\n",
       "<text text-anchor=\"start\" x=\"1441.5\" y=\"-149.3\" font-family=\"Helvetica,sans-Serif\" font-size=\"14.00\" fill=\"#000000\">samples = 5</text>\n",
       "<text text-anchor=\"start\" x=\"1428.5\" y=\"-134.3\" font-family=\"Helvetica,sans-Serif\" font-size=\"14.00\" fill=\"#000000\">value = [2.9, 0.0]</text>\n",
       "<text text-anchor=\"start\" x=\"1446\" y=\"-119.3\" font-family=\"Helvetica,sans-Serif\" font-size=\"14.00\" fill=\"#000000\">class = not</text>\n",
       "</g>\n",
       "<!-- 20&#45;&gt;24 -->\n",
       "<g id=\"edge24\" class=\"edge\">\n",
       "<title>20&#45;&gt;24</title>\n",
       "<path fill=\"none\" stroke=\"#000000\" d=\"M1382.7632,-222.8796C1397.5331,-211.0038 1413.6059,-198.0804 1428.3108,-186.2568\"/>\n",
       "<polygon fill=\"#000000\" stroke=\"#000000\" points=\"1430.7225,-188.8088 1436.3226,-179.8149 1426.3361,-183.3535 1430.7225,-188.8088\"/>\n",
       "</g>\n",
       "<!-- 22 -->\n",
       "<g id=\"node23\" class=\"node\">\n",
       "<title>22</title>\n",
       "<path fill=\"#f7d8c2\" stroke=\"#000000\" d=\"M1221,-68C1221,-68 1083,-68 1083,-68 1077,-68 1071,-62 1071,-56 1071,-56 1071,-12 1071,-12 1071,-6 1077,0 1083,0 1083,0 1221,0 1221,0 1227,0 1233,-6 1233,-12 1233,-12 1233,-56 1233,-56 1233,-62 1227,-68 1221,-68\"/>\n",
       "<text text-anchor=\"start\" x=\"1104.5\" y=\"-52.8\" font-family=\"Helvetica,sans-Serif\" font-size=\"14.00\" fill=\"#000000\">entropy = 0.976</text>\n",
       "<text text-anchor=\"start\" x=\"1107\" y=\"-37.8\" font-family=\"Helvetica,sans-Serif\" font-size=\"14.00\" fill=\"#000000\">samples = 160</text>\n",
       "<text text-anchor=\"start\" x=\"1079\" y=\"-22.8\" font-family=\"Helvetica,sans-Serif\" font-size=\"14.00\" fill=\"#000000\">value = [83.527, 57.971]</text>\n",
       "<text text-anchor=\"start\" x=\"1119\" y=\"-7.8\" font-family=\"Helvetica,sans-Serif\" font-size=\"14.00\" fill=\"#000000\">class = not</text>\n",
       "</g>\n",
       "<!-- 21&#45;&gt;22 -->\n",
       "<g id=\"edge22\" class=\"edge\">\n",
       "<title>21&#45;&gt;22</title>\n",
       "<path fill=\"none\" stroke=\"#000000\" d=\"M1258.0706,-103.9815C1243.0868,-94.0957 1227.1332,-83.5701 1212.2718,-73.7651\"/>\n",
       "<polygon fill=\"#000000\" stroke=\"#000000\" points=\"1213.9379,-70.6713 1203.6634,-68.0856 1210.083,-76.5142 1213.9379,-70.6713\"/>\n",
       "</g>\n",
       "<!-- 23 -->\n",
       "<g id=\"node24\" class=\"node\">\n",
       "<title>23</title>\n",
       "<path fill=\"#78bced\" stroke=\"#000000\" d=\"M1379,-68C1379,-68 1263,-68 1263,-68 1257,-68 1251,-62 1251,-56 1251,-56 1251,-12 1251,-12 1251,-6 1257,0 1263,0 1263,0 1379,0 1379,0 1385,0 1391,-6 1391,-12 1391,-12 1391,-56 1391,-56 1391,-62 1385,-68 1379,-68\"/>\n",
       "<text text-anchor=\"start\" x=\"1273.5\" y=\"-52.8\" font-family=\"Helvetica,sans-Serif\" font-size=\"14.00\" fill=\"#000000\">entropy = 0.799</text>\n",
       "<text text-anchor=\"start\" x=\"1283.5\" y=\"-37.8\" font-family=\"Helvetica,sans-Serif\" font-size=\"14.00\" fill=\"#000000\">samples = 3</text>\n",
       "<text text-anchor=\"start\" x=\"1259\" y=\"-22.8\" font-family=\"Helvetica,sans-Serif\" font-size=\"14.00\" fill=\"#000000\">value = [1.16, 3.623]</text>\n",
       "<text text-anchor=\"start\" x=\"1273\" y=\"-7.8\" font-family=\"Helvetica,sans-Serif\" font-size=\"14.00\" fill=\"#000000\">class = adopted</text>\n",
       "</g>\n",
       "<!-- 21&#45;&gt;23 -->\n",
       "<g id=\"edge23\" class=\"edge\">\n",
       "<title>21&#45;&gt;23</title>\n",
       "<path fill=\"none\" stroke=\"#000000\" d=\"M1321,-103.9815C1321,-95.618 1321,-86.7965 1321,-78.3409\"/>\n",
       "<polygon fill=\"#000000\" stroke=\"#000000\" points=\"1324.5001,-78.2636 1321,-68.2637 1317.5001,-78.2637 1324.5001,-78.2636\"/>\n",
       "</g>\n",
       "<!-- 26 -->\n",
       "<g id=\"node27\" class=\"node\">\n",
       "<title>26</title>\n",
       "<path fill=\"#cae5f8\" stroke=\"#000000\" d=\"M2202.5,-425C2202.5,-425 2049.5,-425 2049.5,-425 2043.5,-425 2037.5,-419 2037.5,-413 2037.5,-413 2037.5,-354 2037.5,-354 2037.5,-348 2043.5,-342 2049.5,-342 2049.5,-342 2202.5,-342 2202.5,-342 2208.5,-342 2214.5,-348 2214.5,-354 2214.5,-354 2214.5,-413 2214.5,-413 2214.5,-419 2208.5,-425 2202.5,-425\"/>\n",
       "<text text-anchor=\"start\" x=\"2078.5\" y=\"-409.8\" font-family=\"Helvetica,sans-Serif\" font-size=\"14.00\" fill=\"#000000\">org_id_29 ≤ 0.5</text>\n",
       "<text text-anchor=\"start\" x=\"2078.5\" y=\"-394.8\" font-family=\"Helvetica,sans-Serif\" font-size=\"14.00\" fill=\"#000000\">entropy = 0.982</text>\n",
       "<text text-anchor=\"start\" x=\"2077.5\" y=\"-379.8\" font-family=\"Helvetica,sans-Serif\" font-size=\"14.00\" fill=\"#000000\">samples = 5003</text>\n",
       "<text text-anchor=\"start\" x=\"2045.5\" y=\"-364.8\" font-family=\"Helvetica,sans-Serif\" font-size=\"14.00\" fill=\"#000000\">value = [2379.93, 3260.87]</text>\n",
       "<text text-anchor=\"start\" x=\"2078\" y=\"-349.8\" font-family=\"Helvetica,sans-Serif\" font-size=\"14.00\" fill=\"#000000\">class = adopted</text>\n",
       "</g>\n",
       "<!-- 25&#45;&gt;26 -->\n",
       "<g id=\"edge26\" class=\"edge\">\n",
       "<title>25&#45;&gt;26</title>\n",
       "<path fill=\"none\" stroke=\"#000000\" d=\"M2191.0249,-460.8796C2183.4565,-451.8733 2175.3819,-442.2644 2167.588,-432.9897\"/>\n",
       "<polygon fill=\"#000000\" stroke=\"#000000\" points=\"2170.2374,-430.7022 2161.1244,-425.2981 2164.8784,-435.2056 2170.2374,-430.7022\"/>\n",
       "</g>\n",
       "<!-- 35 -->\n",
       "<g id=\"node36\" class=\"node\">\n",
       "<title>35</title>\n",
       "<path fill=\"#efb083\" stroke=\"#000000\" d=\"M2395,-425C2395,-425 2257,-425 2257,-425 2251,-425 2245,-419 2245,-413 2245,-413 2245,-354 2245,-354 2245,-348 2251,-342 2257,-342 2257,-342 2395,-342 2395,-342 2401,-342 2407,-348 2407,-354 2407,-354 2407,-413 2407,-413 2407,-419 2401,-425 2395,-425\"/>\n",
       "<text text-anchor=\"start\" x=\"2258\" y=\"-409.8\" font-family=\"Helvetica,sans-Serif\" font-size=\"14.00\" fill=\"#000000\">creation_month ≤ 11.5</text>\n",
       "<text text-anchor=\"start\" x=\"2278.5\" y=\"-394.8\" font-family=\"Helvetica,sans-Serif\" font-size=\"14.00\" fill=\"#000000\">entropy = 0.843</text>\n",
       "<text text-anchor=\"start\" x=\"2285\" y=\"-379.8\" font-family=\"Helvetica,sans-Serif\" font-size=\"14.00\" fill=\"#000000\">samples = 89</text>\n",
       "<text text-anchor=\"start\" x=\"2253\" y=\"-364.8\" font-family=\"Helvetica,sans-Serif\" font-size=\"14.00\" fill=\"#000000\">value = [48.724, 18.116]</text>\n",
       "<text text-anchor=\"start\" x=\"2293\" y=\"-349.8\" font-family=\"Helvetica,sans-Serif\" font-size=\"14.00\" fill=\"#000000\">class = not</text>\n",
       "</g>\n",
       "<!-- 25&#45;&gt;35 -->\n",
       "<g id=\"edge35\" class=\"edge\">\n",
       "<title>25&#45;&gt;35</title>\n",
       "<path fill=\"none\" stroke=\"#000000\" d=\"M2260.9751,-460.8796C2268.5435,-451.8733 2276.6181,-442.2644 2284.412,-432.9897\"/>\n",
       "<polygon fill=\"#000000\" stroke=\"#000000\" points=\"2287.1216,-435.2056 2290.8756,-425.2981 2281.7626,-430.7022 2287.1216,-435.2056\"/>\n",
       "</g>\n",
       "<!-- 27 -->\n",
       "<g id=\"node28\" class=\"node\">\n",
       "<title>27</title>\n",
       "<path fill=\"#c9e4f8\" stroke=\"#000000\" d=\"M2002.5,-306C2002.5,-306 1841.5,-306 1841.5,-306 1835.5,-306 1829.5,-300 1829.5,-294 1829.5,-294 1829.5,-235 1829.5,-235 1829.5,-229 1835.5,-223 1841.5,-223 1841.5,-223 2002.5,-223 2002.5,-223 2008.5,-223 2014.5,-229 2014.5,-235 2014.5,-235 2014.5,-294 2014.5,-294 2014.5,-300 2008.5,-306 2002.5,-306\"/>\n",
       "<text text-anchor=\"start\" x=\"1852.5\" y=\"-290.8\" font-family=\"Helvetica,sans-Serif\" font-size=\"14.00\" fill=\"#000000\">cs_ORG_INVITE ≤ 0.5</text>\n",
       "<text text-anchor=\"start\" x=\"1874.5\" y=\"-275.8\" font-family=\"Helvetica,sans-Serif\" font-size=\"14.00\" fill=\"#000000\">entropy = 0.982</text>\n",
       "<text text-anchor=\"start\" x=\"1873.5\" y=\"-260.8\" font-family=\"Helvetica,sans-Serif\" font-size=\"14.00\" fill=\"#000000\">samples = 4981</text>\n",
       "<text text-anchor=\"start\" x=\"1837.5\" y=\"-245.8\" font-family=\"Helvetica,sans-Serif\" font-size=\"14.00\" fill=\"#000000\">value = [2367.169, 3260.87]</text>\n",
       "<text text-anchor=\"start\" x=\"1874\" y=\"-230.8\" font-family=\"Helvetica,sans-Serif\" font-size=\"14.00\" fill=\"#000000\">class = adopted</text>\n",
       "</g>\n",
       "<!-- 26&#45;&gt;27 -->\n",
       "<g id=\"edge27\" class=\"edge\">\n",
       "<title>26&#45;&gt;27</title>\n",
       "<path fill=\"none\" stroke=\"#000000\" d=\"M2054.6507,-341.8796C2037.7239,-332.0056 2019.5556,-321.4075 2002.2617,-311.3193\"/>\n",
       "<polygon fill=\"#000000\" stroke=\"#000000\" points=\"2003.7104,-308.1125 1993.309,-306.0969 2000.1833,-314.1589 2003.7104,-308.1125\"/>\n",
       "</g>\n",
       "<!-- 34 -->\n",
       "<g id=\"node35\" class=\"node\">\n",
       "<title>34</title>\n",
       "<path fill=\"#e58139\" stroke=\"#000000\" d=\"M2184,-298.5C2184,-298.5 2068,-298.5 2068,-298.5 2062,-298.5 2056,-292.5 2056,-286.5 2056,-286.5 2056,-242.5 2056,-242.5 2056,-236.5 2062,-230.5 2068,-230.5 2068,-230.5 2184,-230.5 2184,-230.5 2190,-230.5 2196,-236.5 2196,-242.5 2196,-242.5 2196,-286.5 2196,-286.5 2196,-292.5 2190,-298.5 2184,-298.5\"/>\n",
       "<text text-anchor=\"start\" x=\"2083.5\" y=\"-283.3\" font-family=\"Helvetica,sans-Serif\" font-size=\"14.00\" fill=\"#000000\">entropy = &#45;0.0</text>\n",
       "<text text-anchor=\"start\" x=\"2085\" y=\"-268.3\" font-family=\"Helvetica,sans-Serif\" font-size=\"14.00\" fill=\"#000000\">samples = 22</text>\n",
       "<text text-anchor=\"start\" x=\"2064\" y=\"-253.3\" font-family=\"Helvetica,sans-Serif\" font-size=\"14.00\" fill=\"#000000\">value = [12.761, 0.0]</text>\n",
       "<text text-anchor=\"start\" x=\"2093\" y=\"-238.3\" font-family=\"Helvetica,sans-Serif\" font-size=\"14.00\" fill=\"#000000\">class = not</text>\n",
       "</g>\n",
       "<!-- 26&#45;&gt;34 -->\n",
       "<g id=\"edge34\" class=\"edge\">\n",
       "<title>26&#45;&gt;34</title>\n",
       "<path fill=\"none\" stroke=\"#000000\" d=\"M2126,-341.8796C2126,-331.2134 2126,-319.7021 2126,-308.9015\"/>\n",
       "<polygon fill=\"#000000\" stroke=\"#000000\" points=\"2129.5001,-308.8149 2126,-298.8149 2122.5001,-308.815 2129.5001,-308.8149\"/>\n",
       "</g>\n",
       "<!-- 28 -->\n",
       "<g id=\"node29\" class=\"node\">\n",
       "<title>28</title>\n",
       "<path fill=\"#bbddf6\" stroke=\"#000000\" d=\"M1785,-187C1785,-187 1617,-187 1617,-187 1611,-187 1605,-181 1605,-175 1605,-175 1605,-116 1605,-116 1605,-110 1611,-104 1617,-104 1617,-104 1785,-104 1785,-104 1791,-104 1797,-110 1797,-116 1797,-116 1797,-175 1797,-175 1797,-181 1791,-187 1785,-187\"/>\n",
       "<text text-anchor=\"start\" x=\"1646.5\" y=\"-171.8\" font-family=\"Helvetica,sans-Serif\" font-size=\"14.00\" fill=\"#000000\">cs_SIGNUP ≤ 0.5</text>\n",
       "<text text-anchor=\"start\" x=\"1653.5\" y=\"-156.8\" font-family=\"Helvetica,sans-Serif\" font-size=\"14.00\" fill=\"#000000\">entropy = 0.969</text>\n",
       "<text text-anchor=\"start\" x=\"1652.5\" y=\"-141.8\" font-family=\"Helvetica,sans-Serif\" font-size=\"14.00\" fill=\"#000000\">samples = 2890</text>\n",
       "<text text-anchor=\"start\" x=\"1613\" y=\"-126.8\" font-family=\"Helvetica,sans-Serif\" font-size=\"14.00\" fill=\"#000000\">value = [1347.448, 2054.348]</text>\n",
       "<text text-anchor=\"start\" x=\"1653\" y=\"-111.8\" font-family=\"Helvetica,sans-Serif\" font-size=\"14.00\" fill=\"#000000\">class = adopted</text>\n",
       "</g>\n",
       "<!-- 27&#45;&gt;28 -->\n",
       "<g id=\"edge28\" class=\"edge\">\n",
       "<title>27&#45;&gt;28</title>\n",
       "<path fill=\"none\" stroke=\"#000000\" d=\"M1844.7049,-222.8796C1826.1152,-212.8697 1806.1433,-202.1156 1787.1773,-191.9031\"/>\n",
       "<polygon fill=\"#000000\" stroke=\"#000000\" points=\"1788.7155,-188.7563 1778.2514,-187.0969 1785.3968,-194.9196 1788.7155,-188.7563\"/>\n",
       "</g>\n",
       "<!-- 31 -->\n",
       "<g id=\"node32\" class=\"node\">\n",
       "<title>31</title>\n",
       "<path fill=\"#e0f0fb\" stroke=\"#000000\" d=\"M2006,-187C2006,-187 1838,-187 1838,-187 1832,-187 1826,-181 1826,-175 1826,-175 1826,-116 1826,-116 1826,-110 1832,-104 1838,-104 1838,-104 2006,-104 2006,-104 2012,-104 2018,-110 2018,-116 2018,-116 2018,-175 2018,-175 2018,-181 2012,-187 2006,-187\"/>\n",
       "<text text-anchor=\"start\" x=\"1878\" y=\"-171.8\" font-family=\"Helvetica,sans-Serif\" font-size=\"14.00\" fill=\"#000000\">org_id_2 ≤ 0.5</text>\n",
       "<text text-anchor=\"start\" x=\"1874.5\" y=\"-156.8\" font-family=\"Helvetica,sans-Serif\" font-size=\"14.00\" fill=\"#000000\">entropy = 0.995</text>\n",
       "<text text-anchor=\"start\" x=\"1873.5\" y=\"-141.8\" font-family=\"Helvetica,sans-Serif\" font-size=\"14.00\" fill=\"#000000\">samples = 2091</text>\n",
       "<text text-anchor=\"start\" x=\"1834\" y=\"-126.8\" font-family=\"Helvetica,sans-Serif\" font-size=\"14.00\" fill=\"#000000\">value = [1019.722, 1206.522]</text>\n",
       "<text text-anchor=\"start\" x=\"1874\" y=\"-111.8\" font-family=\"Helvetica,sans-Serif\" font-size=\"14.00\" fill=\"#000000\">class = adopted</text>\n",
       "</g>\n",
       "<!-- 27&#45;&gt;31 -->\n",
       "<g id=\"edge31\" class=\"edge\">\n",
       "<title>27&#45;&gt;31</title>\n",
       "<path fill=\"none\" stroke=\"#000000\" d=\"M1922,-222.8796C1922,-214.6838 1922,-205.9891 1922,-197.5013\"/>\n",
       "<polygon fill=\"#000000\" stroke=\"#000000\" points=\"1925.5001,-197.298 1922,-187.2981 1918.5001,-197.2981 1925.5001,-197.298\"/>\n",
       "</g>\n",
       "<!-- 29 -->\n",
       "<g id=\"node30\" class=\"node\">\n",
       "<title>29</title>\n",
       "<path fill=\"#acd6f4\" stroke=\"#000000\" d=\"M1582.5,-68C1582.5,-68 1421.5,-68 1421.5,-68 1415.5,-68 1409.5,-62 1409.5,-56 1409.5,-56 1409.5,-12 1409.5,-12 1409.5,-6 1415.5,0 1421.5,0 1421.5,0 1582.5,0 1582.5,0 1588.5,0 1594.5,-6 1594.5,-12 1594.5,-12 1594.5,-56 1594.5,-56 1594.5,-62 1588.5,-68 1582.5,-68\"/>\n",
       "<text text-anchor=\"start\" x=\"1454.5\" y=\"-52.8\" font-family=\"Helvetica,sans-Serif\" font-size=\"14.00\" fill=\"#000000\">entropy = 0.948</text>\n",
       "<text text-anchor=\"start\" x=\"1453.5\" y=\"-37.8\" font-family=\"Helvetica,sans-Serif\" font-size=\"14.00\" fill=\"#000000\">samples = 1801</text>\n",
       "<text text-anchor=\"start\" x=\"1417.5\" y=\"-22.8\" font-family=\"Helvetica,sans-Serif\" font-size=\"14.00\" fill=\"#000000\">value = [818.445, 1413.043]</text>\n",
       "<text text-anchor=\"start\" x=\"1454\" y=\"-7.8\" font-family=\"Helvetica,sans-Serif\" font-size=\"14.00\" fill=\"#000000\">class = adopted</text>\n",
       "</g>\n",
       "<!-- 28&#45;&gt;29 -->\n",
       "<g id=\"edge29\" class=\"edge\">\n",
       "<title>28&#45;&gt;29</title>\n",
       "<path fill=\"none\" stroke=\"#000000\" d=\"M1626.8997,-103.9815C1608.9263,-93.911 1589.7678,-83.1764 1571.991,-73.2161\"/>\n",
       "<polygon fill=\"#000000\" stroke=\"#000000\" points=\"1573.2692,-69.9203 1562.8344,-68.0856 1569.8476,-76.0271 1573.2692,-69.9203\"/>\n",
       "</g>\n",
       "<!-- 30 -->\n",
       "<g id=\"node31\" class=\"node\">\n",
       "<title>30</title>\n",
       "<path fill=\"#dceefa\" stroke=\"#000000\" d=\"M1777.5,-68C1777.5,-68 1624.5,-68 1624.5,-68 1618.5,-68 1612.5,-62 1612.5,-56 1612.5,-56 1612.5,-12 1612.5,-12 1612.5,-6 1618.5,0 1624.5,0 1624.5,0 1777.5,0 1777.5,0 1783.5,0 1789.5,-6 1789.5,-12 1789.5,-12 1789.5,-56 1789.5,-56 1789.5,-62 1783.5,-68 1777.5,-68\"/>\n",
       "<text text-anchor=\"start\" x=\"1653.5\" y=\"-52.8\" font-family=\"Helvetica,sans-Serif\" font-size=\"14.00\" fill=\"#000000\">entropy = 0.993</text>\n",
       "<text text-anchor=\"start\" x=\"1652.5\" y=\"-37.8\" font-family=\"Helvetica,sans-Serif\" font-size=\"14.00\" fill=\"#000000\">samples = 1089</text>\n",
       "<text text-anchor=\"start\" x=\"1620.5\" y=\"-22.8\" font-family=\"Helvetica,sans-Serif\" font-size=\"14.00\" fill=\"#000000\">value = [529.002, 641.304]</text>\n",
       "<text text-anchor=\"start\" x=\"1653\" y=\"-7.8\" font-family=\"Helvetica,sans-Serif\" font-size=\"14.00\" fill=\"#000000\">class = adopted</text>\n",
       "</g>\n",
       "<!-- 28&#45;&gt;30 -->\n",
       "<g id=\"edge30\" class=\"edge\">\n",
       "<title>28&#45;&gt;30</title>\n",
       "<path fill=\"none\" stroke=\"#000000\" d=\"M1701,-103.9815C1701,-95.618 1701,-86.7965 1701,-78.3409\"/>\n",
       "<polygon fill=\"#000000\" stroke=\"#000000\" points=\"1704.5001,-78.2636 1701,-68.2637 1697.5001,-78.2637 1704.5001,-78.2636\"/>\n",
       "</g>\n",
       "<!-- 32 -->\n",
       "<g id=\"node33\" class=\"node\">\n",
       "<title>32</title>\n",
       "<path fill=\"#ddeefb\" stroke=\"#000000\" d=\"M1966,-68C1966,-68 1820,-68 1820,-68 1814,-68 1808,-62 1808,-56 1808,-56 1808,-12 1808,-12 1808,-6 1814,0 1820,0 1820,0 1966,0 1966,0 1972,0 1978,-6 1978,-12 1978,-12 1978,-56 1978,-56 1978,-62 1972,-68 1966,-68\"/>\n",
       "<text text-anchor=\"start\" x=\"1845.5\" y=\"-52.8\" font-family=\"Helvetica,sans-Serif\" font-size=\"14.00\" fill=\"#000000\">entropy = 0.994</text>\n",
       "<text text-anchor=\"start\" x=\"1844.5\" y=\"-37.8\" font-family=\"Helvetica,sans-Serif\" font-size=\"14.00\" fill=\"#000000\">samples = 2051</text>\n",
       "<text text-anchor=\"start\" x=\"1816\" y=\"-22.8\" font-family=\"Helvetica,sans-Serif\" font-size=\"14.00\" fill=\"#000000\">value = [997.1, 1202.899]</text>\n",
       "<text text-anchor=\"start\" x=\"1845\" y=\"-7.8\" font-family=\"Helvetica,sans-Serif\" font-size=\"14.00\" fill=\"#000000\">class = adopted</text>\n",
       "</g>\n",
       "<!-- 31&#45;&gt;32 -->\n",
       "<g id=\"edge32\" class=\"edge\">\n",
       "<title>31&#45;&gt;32</title>\n",
       "<path fill=\"none\" stroke=\"#000000\" d=\"M1911.2015,-103.9815C1909.0023,-95.5261 1906.6814,-86.6026 1904.4601,-78.0623\"/>\n",
       "<polygon fill=\"#000000\" stroke=\"#000000\" points=\"1907.8162,-77.0607 1901.9116,-68.2637 1901.0415,-78.8227 1907.8162,-77.0607\"/>\n",
       "</g>\n",
       "<!-- 33 -->\n",
       "<g id=\"node34\" class=\"node\">\n",
       "<title>33</title>\n",
       "<path fill=\"#e99559\" stroke=\"#000000\" d=\"M2139.5,-68C2139.5,-68 2008.5,-68 2008.5,-68 2002.5,-68 1996.5,-62 1996.5,-56 1996.5,-56 1996.5,-12 1996.5,-12 1996.5,-6 2002.5,0 2008.5,0 2008.5,0 2139.5,0 2139.5,0 2145.5,0 2151.5,-6 2151.5,-12 2151.5,-12 2151.5,-56 2151.5,-56 2151.5,-62 2145.5,-68 2139.5,-68\"/>\n",
       "<text text-anchor=\"start\" x=\"2026.5\" y=\"-52.8\" font-family=\"Helvetica,sans-Serif\" font-size=\"14.00\" fill=\"#000000\">entropy = 0.579</text>\n",
       "<text text-anchor=\"start\" x=\"2033\" y=\"-37.8\" font-family=\"Helvetica,sans-Serif\" font-size=\"14.00\" fill=\"#000000\">samples = 40</text>\n",
       "<text text-anchor=\"start\" x=\"2004.5\" y=\"-22.8\" font-family=\"Helvetica,sans-Serif\" font-size=\"14.00\" fill=\"#000000\">value = [22.622, 3.623]</text>\n",
       "<text text-anchor=\"start\" x=\"2041\" y=\"-7.8\" font-family=\"Helvetica,sans-Serif\" font-size=\"14.00\" fill=\"#000000\">class = not</text>\n",
       "</g>\n",
       "<!-- 31&#45;&gt;33 -->\n",
       "<g id=\"edge33\" class=\"edge\">\n",
       "<title>31&#45;&gt;33</title>\n",
       "<path fill=\"none\" stroke=\"#000000\" d=\"M1978.5992,-103.9815C1991.8799,-94.2394 2006.0077,-83.8759 2019.2077,-74.193\"/>\n",
       "<polygon fill=\"#000000\" stroke=\"#000000\" points=\"2021.2977,-77.0006 2027.2908,-68.2637 2017.1574,-71.3564 2021.2977,-77.0006\"/>\n",
       "</g>\n",
       "<!-- 36 -->\n",
       "<g id=\"node37\" class=\"node\">\n",
       "<title>36</title>\n",
       "<path fill=\"#f1bd97\" stroke=\"#000000\" d=\"M2395,-306C2395,-306 2257,-306 2257,-306 2251,-306 2245,-300 2245,-294 2245,-294 2245,-235 2245,-235 2245,-229 2251,-223 2257,-223 2257,-223 2395,-223 2395,-223 2401,-223 2407,-229 2407,-235 2407,-235 2407,-294 2407,-294 2407,-300 2401,-306 2395,-306\"/>\n",
       "<text text-anchor=\"start\" x=\"2289\" y=\"-290.8\" font-family=\"Helvetica,sans-Serif\" font-size=\"14.00\" fill=\"#000000\">invited ≤ 0.5</text>\n",
       "<text text-anchor=\"start\" x=\"2278.5\" y=\"-275.8\" font-family=\"Helvetica,sans-Serif\" font-size=\"14.00\" fill=\"#000000\">entropy = 0.906</text>\n",
       "<text text-anchor=\"start\" x=\"2285\" y=\"-260.8\" font-family=\"Helvetica,sans-Serif\" font-size=\"14.00\" fill=\"#000000\">samples = 71</text>\n",
       "<text text-anchor=\"start\" x=\"2253\" y=\"-245.8\" font-family=\"Helvetica,sans-Serif\" font-size=\"14.00\" fill=\"#000000\">value = [38.283, 18.116]</text>\n",
       "<text text-anchor=\"start\" x=\"2293\" y=\"-230.8\" font-family=\"Helvetica,sans-Serif\" font-size=\"14.00\" fill=\"#000000\">class = not</text>\n",
       "</g>\n",
       "<!-- 35&#45;&gt;36 -->\n",
       "<g id=\"edge36\" class=\"edge\">\n",
       "<title>35&#45;&gt;36</title>\n",
       "<path fill=\"none\" stroke=\"#000000\" d=\"M2326,-341.8796C2326,-333.6838 2326,-324.9891 2326,-316.5013\"/>\n",
       "<polygon fill=\"#000000\" stroke=\"#000000\" points=\"2329.5001,-316.298 2326,-306.2981 2322.5001,-316.2981 2329.5001,-316.298\"/>\n",
       "</g>\n",
       "<!-- 43 -->\n",
       "<g id=\"node44\" class=\"node\">\n",
       "<title>43</title>\n",
       "<path fill=\"#e58139\" stroke=\"#000000\" d=\"M2553,-298.5C2553,-298.5 2437,-298.5 2437,-298.5 2431,-298.5 2425,-292.5 2425,-286.5 2425,-286.5 2425,-242.5 2425,-242.5 2425,-236.5 2431,-230.5 2437,-230.5 2437,-230.5 2553,-230.5 2553,-230.5 2559,-230.5 2565,-236.5 2565,-242.5 2565,-242.5 2565,-286.5 2565,-286.5 2565,-292.5 2559,-298.5 2553,-298.5\"/>\n",
       "<text text-anchor=\"start\" x=\"2455\" y=\"-283.3\" font-family=\"Helvetica,sans-Serif\" font-size=\"14.00\" fill=\"#000000\">entropy = 0.0</text>\n",
       "<text text-anchor=\"start\" x=\"2454\" y=\"-268.3\" font-family=\"Helvetica,sans-Serif\" font-size=\"14.00\" fill=\"#000000\">samples = 18</text>\n",
       "<text text-anchor=\"start\" x=\"2433\" y=\"-253.3\" font-family=\"Helvetica,sans-Serif\" font-size=\"14.00\" fill=\"#000000\">value = [10.441, 0.0]</text>\n",
       "<text text-anchor=\"start\" x=\"2462\" y=\"-238.3\" font-family=\"Helvetica,sans-Serif\" font-size=\"14.00\" fill=\"#000000\">class = not</text>\n",
       "</g>\n",
       "<!-- 35&#45;&gt;43 -->\n",
       "<g id=\"edge43\" class=\"edge\">\n",
       "<title>35&#45;&gt;43</title>\n",
       "<path fill=\"none\" stroke=\"#000000\" d=\"M2385.108,-341.8796C2402.3677,-329.7263 2421.1856,-316.4759 2438.293,-304.4297\"/>\n",
       "<polygon fill=\"#000000\" stroke=\"#000000\" points=\"2440.3782,-307.2421 2446.5396,-298.623 2436.3481,-301.5187 2440.3782,-307.2421\"/>\n",
       "</g>\n",
       "<!-- 37 -->\n",
       "<g id=\"node38\" class=\"node\">\n",
       "<title>37</title>\n",
       "<path fill=\"#fae8da\" stroke=\"#000000\" d=\"M2391.5,-187C2391.5,-187 2260.5,-187 2260.5,-187 2254.5,-187 2248.5,-181 2248.5,-175 2248.5,-175 2248.5,-116 2248.5,-116 2248.5,-110 2254.5,-104 2260.5,-104 2260.5,-104 2391.5,-104 2391.5,-104 2397.5,-104 2403.5,-110 2403.5,-116 2403.5,-116 2403.5,-175 2403.5,-175 2403.5,-181 2397.5,-187 2391.5,-187\"/>\n",
       "<text text-anchor=\"start\" x=\"2261.5\" y=\"-171.8\" font-family=\"Helvetica,sans-Serif\" font-size=\"14.00\" fill=\"#000000\">creation_month ≤ 9.5</text>\n",
       "<text text-anchor=\"start\" x=\"2278.5\" y=\"-156.8\" font-family=\"Helvetica,sans-Serif\" font-size=\"14.00\" fill=\"#000000\">entropy = 0.992</text>\n",
       "<text text-anchor=\"start\" x=\"2285\" y=\"-141.8\" font-family=\"Helvetica,sans-Serif\" font-size=\"14.00\" fill=\"#000000\">samples = 26</text>\n",
       "<text text-anchor=\"start\" x=\"2256.5\" y=\"-126.8\" font-family=\"Helvetica,sans-Serif\" font-size=\"14.00\" fill=\"#000000\">value = [13.341, 10.87]</text>\n",
       "<text text-anchor=\"start\" x=\"2293\" y=\"-111.8\" font-family=\"Helvetica,sans-Serif\" font-size=\"14.00\" fill=\"#000000\">class = not</text>\n",
       "</g>\n",
       "<!-- 36&#45;&gt;37 -->\n",
       "<g id=\"edge37\" class=\"edge\">\n",
       "<title>36&#45;&gt;37</title>\n",
       "<path fill=\"none\" stroke=\"#000000\" d=\"M2326,-222.8796C2326,-214.6838 2326,-205.9891 2326,-197.5013\"/>\n",
       "<polygon fill=\"#000000\" stroke=\"#000000\" points=\"2329.5001,-197.298 2326,-187.2981 2322.5001,-197.2981 2329.5001,-197.298\"/>\n",
       "</g>\n",
       "<!-- 40 -->\n",
       "<g id=\"node41\" class=\"node\">\n",
       "<title>40</title>\n",
       "<path fill=\"#eda673\" stroke=\"#000000\" d=\"M2609.5,-187C2609.5,-187 2478.5,-187 2478.5,-187 2472.5,-187 2466.5,-181 2466.5,-175 2466.5,-175 2466.5,-116 2466.5,-116 2466.5,-110 2472.5,-104 2478.5,-104 2478.5,-104 2609.5,-104 2609.5,-104 2615.5,-104 2621.5,-110 2621.5,-116 2621.5,-116 2621.5,-175 2621.5,-175 2621.5,-181 2615.5,-187 2609.5,-187\"/>\n",
       "<text text-anchor=\"start\" x=\"2474.5\" y=\"-171.8\" font-family=\"Helvetica,sans-Serif\" font-size=\"14.00\" fill=\"#000000\">cs_ORG_INVITE ≤ 0.5</text>\n",
       "<text text-anchor=\"start\" x=\"2496.5\" y=\"-156.8\" font-family=\"Helvetica,sans-Serif\" font-size=\"14.00\" fill=\"#000000\">entropy = 0.769</text>\n",
       "<text text-anchor=\"start\" x=\"2503\" y=\"-141.8\" font-family=\"Helvetica,sans-Serif\" font-size=\"14.00\" fill=\"#000000\">samples = 45</text>\n",
       "<text text-anchor=\"start\" x=\"2474.5\" y=\"-126.8\" font-family=\"Helvetica,sans-Serif\" font-size=\"14.00\" fill=\"#000000\">value = [24.942, 7.246]</text>\n",
       "<text text-anchor=\"start\" x=\"2511\" y=\"-111.8\" font-family=\"Helvetica,sans-Serif\" font-size=\"14.00\" fill=\"#000000\">class = not</text>\n",
       "</g>\n",
       "<!-- 36&#45;&gt;40 -->\n",
       "<g id=\"edge40\" class=\"edge\">\n",
       "<title>36&#45;&gt;40</title>\n",
       "<path fill=\"none\" stroke=\"#000000\" d=\"M2402.2458,-222.8796C2420.5832,-212.8697 2440.284,-202.1156 2458.9926,-191.9031\"/>\n",
       "<polygon fill=\"#000000\" stroke=\"#000000\" points=\"2460.6968,-194.9604 2467.7972,-187.0969 2457.3428,-188.8162 2460.6968,-194.9604\"/>\n",
       "</g>\n",
       "<!-- 38 -->\n",
       "<g id=\"node39\" class=\"node\">\n",
       "<title>38</title>\n",
       "<path fill=\"#f7fbfe\" stroke=\"#000000\" d=\"M2312.5,-68C2312.5,-68 2181.5,-68 2181.5,-68 2175.5,-68 2169.5,-62 2169.5,-56 2169.5,-56 2169.5,-12 2169.5,-12 2169.5,-6 2175.5,0 2181.5,0 2181.5,0 2312.5,0 2312.5,0 2318.5,0 2324.5,-6 2324.5,-12 2324.5,-12 2324.5,-56 2324.5,-56 2324.5,-62 2318.5,-68 2312.5,-68\"/>\n",
       "<text text-anchor=\"start\" x=\"2207\" y=\"-52.8\" font-family=\"Helvetica,sans-Serif\" font-size=\"14.00\" fill=\"#000000\">entropy = 1.0</text>\n",
       "<text text-anchor=\"start\" x=\"2206\" y=\"-37.8\" font-family=\"Helvetica,sans-Serif\" font-size=\"14.00\" fill=\"#000000\">samples = 21</text>\n",
       "<text text-anchor=\"start\" x=\"2177.5\" y=\"-22.8\" font-family=\"Helvetica,sans-Serif\" font-size=\"14.00\" fill=\"#000000\">value = [10.441, 10.87]</text>\n",
       "<text text-anchor=\"start\" x=\"2199\" y=\"-7.8\" font-family=\"Helvetica,sans-Serif\" font-size=\"14.00\" fill=\"#000000\">class = adopted</text>\n",
       "</g>\n",
       "<!-- 37&#45;&gt;38 -->\n",
       "<g id=\"edge38\" class=\"edge\">\n",
       "<title>37&#45;&gt;38</title>\n",
       "<path fill=\"none\" stroke=\"#000000\" d=\"M2296.5833,-103.9815C2290.2669,-95.0666 2283.5818,-85.6313 2277.2349,-76.6734\"/>\n",
       "<polygon fill=\"#000000\" stroke=\"#000000\" points=\"2279.9136,-74.3998 2271.2765,-68.2637 2274.2019,-78.4466 2279.9136,-74.3998\"/>\n",
       "</g>\n",
       "<!-- 39 -->\n",
       "<g id=\"node40\" class=\"node\">\n",
       "<title>39</title>\n",
       "<path fill=\"#e58139\" stroke=\"#000000\" d=\"M2447.5,-68C2447.5,-68 2354.5,-68 2354.5,-68 2348.5,-68 2342.5,-62 2342.5,-56 2342.5,-56 2342.5,-12 2342.5,-12 2342.5,-6 2348.5,0 2354.5,0 2354.5,0 2447.5,0 2447.5,0 2453.5,0 2459.5,-6 2459.5,-12 2459.5,-12 2459.5,-56 2459.5,-56 2459.5,-62 2453.5,-68 2447.5,-68\"/>\n",
       "<text text-anchor=\"start\" x=\"2361\" y=\"-52.8\" font-family=\"Helvetica,sans-Serif\" font-size=\"14.00\" fill=\"#000000\">entropy = 0.0</text>\n",
       "<text text-anchor=\"start\" x=\"2363.5\" y=\"-37.8\" font-family=\"Helvetica,sans-Serif\" font-size=\"14.00\" fill=\"#000000\">samples = 5</text>\n",
       "<text text-anchor=\"start\" x=\"2350.5\" y=\"-22.8\" font-family=\"Helvetica,sans-Serif\" font-size=\"14.00\" fill=\"#000000\">value = [2.9, 0.0]</text>\n",
       "<text text-anchor=\"start\" x=\"2368\" y=\"-7.8\" font-family=\"Helvetica,sans-Serif\" font-size=\"14.00\" fill=\"#000000\">class = not</text>\n",
       "</g>\n",
       "<!-- 37&#45;&gt;39 -->\n",
       "<g id=\"edge39\" class=\"edge\">\n",
       "<title>37&#45;&gt;39</title>\n",
       "<path fill=\"none\" stroke=\"#000000\" d=\"M2353.9272,-103.9815C2359.9238,-95.0666 2366.2704,-85.6313 2372.2959,-76.6734\"/>\n",
       "<polygon fill=\"#000000\" stroke=\"#000000\" points=\"2375.2755,-78.5147 2377.9527,-68.2637 2369.4672,-74.6078 2375.2755,-78.5147\"/>\n",
       "</g>\n",
       "<!-- 41 -->\n",
       "<g id=\"node42\" class=\"node\">\n",
       "<title>41</title>\n",
       "<path fill=\"#e58139\" stroke=\"#000000\" d=\"M2598,-68C2598,-68 2490,-68 2490,-68 2484,-68 2478,-62 2478,-56 2478,-56 2478,-12 2478,-12 2478,-6 2484,0 2490,0 2490,0 2598,0 2598,0 2604,0 2610,-6 2610,-12 2610,-12 2610,-56 2610,-56 2610,-62 2604,-68 2598,-68\"/>\n",
       "<text text-anchor=\"start\" x=\"2504\" y=\"-52.8\" font-family=\"Helvetica,sans-Serif\" font-size=\"14.00\" fill=\"#000000\">entropy = 0.0</text>\n",
       "<text text-anchor=\"start\" x=\"2503\" y=\"-37.8\" font-family=\"Helvetica,sans-Serif\" font-size=\"14.00\" fill=\"#000000\">samples = 12</text>\n",
       "<text text-anchor=\"start\" x=\"2486\" y=\"-22.8\" font-family=\"Helvetica,sans-Serif\" font-size=\"14.00\" fill=\"#000000\">value = [6.961, 0.0]</text>\n",
       "<text text-anchor=\"start\" x=\"2511\" y=\"-7.8\" font-family=\"Helvetica,sans-Serif\" font-size=\"14.00\" fill=\"#000000\">class = not</text>\n",
       "</g>\n",
       "<!-- 40&#45;&gt;41 -->\n",
       "<g id=\"edge41\" class=\"edge\">\n",
       "<title>40&#45;&gt;41</title>\n",
       "<path fill=\"none\" stroke=\"#000000\" d=\"M2544,-103.9815C2544,-95.618 2544,-86.7965 2544,-78.3409\"/>\n",
       "<polygon fill=\"#000000\" stroke=\"#000000\" points=\"2547.5001,-78.2636 2544,-68.2637 2540.5001,-78.2637 2547.5001,-78.2636\"/>\n",
       "</g>\n",
       "<!-- 42 -->\n",
       "<g id=\"node43\" class=\"node\">\n",
       "<title>42</title>\n",
       "<path fill=\"#efb489\" stroke=\"#000000\" d=\"M2771.5,-68C2771.5,-68 2640.5,-68 2640.5,-68 2634.5,-68 2628.5,-62 2628.5,-56 2628.5,-56 2628.5,-12 2628.5,-12 2628.5,-6 2634.5,0 2640.5,0 2640.5,0 2771.5,0 2771.5,0 2777.5,0 2783.5,-6 2783.5,-12 2783.5,-12 2783.5,-56 2783.5,-56 2783.5,-62 2777.5,-68 2771.5,-68\"/>\n",
       "<text text-anchor=\"start\" x=\"2658.5\" y=\"-52.8\" font-family=\"Helvetica,sans-Serif\" font-size=\"14.00\" fill=\"#000000\">entropy = 0.865</text>\n",
       "<text text-anchor=\"start\" x=\"2665\" y=\"-37.8\" font-family=\"Helvetica,sans-Serif\" font-size=\"14.00\" fill=\"#000000\">samples = 33</text>\n",
       "<text text-anchor=\"start\" x=\"2636.5\" y=\"-22.8\" font-family=\"Helvetica,sans-Serif\" font-size=\"14.00\" fill=\"#000000\">value = [17.981, 7.246]</text>\n",
       "<text text-anchor=\"start\" x=\"2673\" y=\"-7.8\" font-family=\"Helvetica,sans-Serif\" font-size=\"14.00\" fill=\"#000000\">class = not</text>\n",
       "</g>\n",
       "<!-- 40&#45;&gt;42 -->\n",
       "<g id=\"edge42\" class=\"edge\">\n",
       "<title>40&#45;&gt;42</title>\n",
       "<path fill=\"none\" stroke=\"#000000\" d=\"M2604.3228,-103.9815C2618.686,-94.0957 2633.9788,-83.5701 2648.2247,-73.7651\"/>\n",
       "<polygon fill=\"#000000\" stroke=\"#000000\" points=\"2650.2234,-76.6384 2656.4765,-68.0856 2646.2546,-70.8722 2650.2234,-76.6384\"/>\n",
       "</g>\n",
       "<!-- 45 -->\n",
       "<g id=\"node46\" class=\"node\">\n",
       "<title>45</title>\n",
       "<path fill=\"#f3c6a5\" stroke=\"#000000\" d=\"M3045.5,-544C3045.5,-544 2892.5,-544 2892.5,-544 2886.5,-544 2880.5,-538 2880.5,-532 2880.5,-532 2880.5,-473 2880.5,-473 2880.5,-467 2886.5,-461 2892.5,-461 2892.5,-461 3045.5,-461 3045.5,-461 3051.5,-461 3057.5,-467 3057.5,-473 3057.5,-473 3057.5,-532 3057.5,-532 3057.5,-538 3051.5,-544 3045.5,-544\"/>\n",
       "<text text-anchor=\"start\" x=\"2917.5\" y=\"-528.8\" font-family=\"Helvetica,sans-Serif\" font-size=\"14.00\" fill=\"#000000\">org_id_124 ≤ 0.5</text>\n",
       "<text text-anchor=\"start\" x=\"2921.5\" y=\"-513.8\" font-family=\"Helvetica,sans-Serif\" font-size=\"14.00\" fill=\"#000000\">entropy = 0.936</text>\n",
       "<text text-anchor=\"start\" x=\"2920.5\" y=\"-498.8\" font-family=\"Helvetica,sans-Serif\" font-size=\"14.00\" fill=\"#000000\">samples = 2107</text>\n",
       "<text text-anchor=\"start\" x=\"2888.5\" y=\"-483.8\" font-family=\"Helvetica,sans-Serif\" font-size=\"14.00\" fill=\"#000000\">value = [1124.13, 612.319]</text>\n",
       "<text text-anchor=\"start\" x=\"2936\" y=\"-468.8\" font-family=\"Helvetica,sans-Serif\" font-size=\"14.00\" fill=\"#000000\">class = not</text>\n",
       "</g>\n",
       "<!-- 44&#45;&gt;45 -->\n",
       "<g id=\"edge45\" class=\"edge\">\n",
       "<title>44&#45;&gt;45</title>\n",
       "<path fill=\"none\" stroke=\"#000000\" d=\"M2969,-579.8796C2969,-571.6838 2969,-562.9891 2969,-554.5013\"/>\n",
       "<polygon fill=\"#000000\" stroke=\"#000000\" points=\"2972.5001,-554.298 2969,-544.2981 2965.5001,-554.2981 2972.5001,-554.298\"/>\n",
       "</g>\n",
       "<!-- 56 -->\n",
       "<g id=\"node57\" class=\"node\">\n",
       "<title>56</title>\n",
       "<path fill=\"#44a2e6\" stroke=\"#000000\" d=\"M3204,-536.5C3204,-536.5 3088,-536.5 3088,-536.5 3082,-536.5 3076,-530.5 3076,-524.5 3076,-524.5 3076,-480.5 3076,-480.5 3076,-474.5 3082,-468.5 3088,-468.5 3088,-468.5 3204,-468.5 3204,-468.5 3210,-468.5 3216,-474.5 3216,-480.5 3216,-480.5 3216,-524.5 3216,-524.5 3216,-530.5 3210,-536.5 3204,-536.5\"/>\n",
       "<text text-anchor=\"start\" x=\"3098.5\" y=\"-521.3\" font-family=\"Helvetica,sans-Serif\" font-size=\"14.00\" fill=\"#000000\">entropy = 0.289</text>\n",
       "<text text-anchor=\"start\" x=\"3108.5\" y=\"-506.3\" font-family=\"Helvetica,sans-Serif\" font-size=\"14.00\" fill=\"#000000\">samples = 4</text>\n",
       "<text text-anchor=\"start\" x=\"3084\" y=\"-491.3\" font-family=\"Helvetica,sans-Serif\" font-size=\"14.00\" fill=\"#000000\">value = [0.58, 10.87]</text>\n",
       "<text text-anchor=\"start\" x=\"3098\" y=\"-476.3\" font-family=\"Helvetica,sans-Serif\" font-size=\"14.00\" fill=\"#000000\">class = adopted</text>\n",
       "</g>\n",
       "<!-- 44&#45;&gt;56 -->\n",
       "<g id=\"edge56\" class=\"edge\">\n",
       "<title>44&#45;&gt;56</title>\n",
       "<path fill=\"none\" stroke=\"#000000\" d=\"M3030.906,-579.8796C3048.9828,-567.7263 3068.6914,-554.4759 3086.6087,-542.4297\"/>\n",
       "<polygon fill=\"#000000\" stroke=\"#000000\" points=\"3088.8996,-545.1071 3095.2456,-536.623 3084.9939,-539.2979 3088.8996,-545.1071\"/>\n",
       "</g>\n",
       "<!-- 46 -->\n",
       "<g id=\"node47\" class=\"node\">\n",
       "<title>46</title>\n",
       "<path fill=\"#f3c4a3\" stroke=\"#000000\" d=\"M3045.5,-425C3045.5,-425 2892.5,-425 2892.5,-425 2886.5,-425 2880.5,-419 2880.5,-413 2880.5,-413 2880.5,-354 2880.5,-354 2880.5,-348 2886.5,-342 2892.5,-342 2892.5,-342 3045.5,-342 3045.5,-342 3051.5,-342 3057.5,-348 3057.5,-354 3057.5,-354 3057.5,-413 3057.5,-413 3057.5,-419 3051.5,-425 3045.5,-425\"/>\n",
       "<text text-anchor=\"start\" x=\"2925\" y=\"-409.8\" font-family=\"Helvetica,sans-Serif\" font-size=\"14.00\" fill=\"#000000\">org_id_2 ≤ 0.5</text>\n",
       "<text text-anchor=\"start\" x=\"2921.5\" y=\"-394.8\" font-family=\"Helvetica,sans-Serif\" font-size=\"14.00\" fill=\"#000000\">entropy = 0.933</text>\n",
       "<text text-anchor=\"start\" x=\"2920.5\" y=\"-379.8\" font-family=\"Helvetica,sans-Serif\" font-size=\"14.00\" fill=\"#000000\">samples = 2102</text>\n",
       "<text text-anchor=\"start\" x=\"2888.5\" y=\"-364.8\" font-family=\"Helvetica,sans-Serif\" font-size=\"14.00\" fill=\"#000000\">value = [1122.97, 601.449]</text>\n",
       "<text text-anchor=\"start\" x=\"2936\" y=\"-349.8\" font-family=\"Helvetica,sans-Serif\" font-size=\"14.00\" fill=\"#000000\">class = not</text>\n",
       "</g>\n",
       "<!-- 45&#45;&gt;46 -->\n",
       "<g id=\"edge46\" class=\"edge\">\n",
       "<title>45&#45;&gt;46</title>\n",
       "<path fill=\"none\" stroke=\"#000000\" d=\"M2969,-460.8796C2969,-452.6838 2969,-443.9891 2969,-435.5013\"/>\n",
       "<polygon fill=\"#000000\" stroke=\"#000000\" points=\"2972.5001,-435.298 2969,-425.2981 2965.5001,-435.2981 2972.5001,-435.298\"/>\n",
       "</g>\n",
       "<!-- 55 -->\n",
       "<g id=\"node56\" class=\"node\">\n",
       "<title>55</title>\n",
       "<path fill=\"#4ea7e8\" stroke=\"#000000\" d=\"M3204,-417.5C3204,-417.5 3088,-417.5 3088,-417.5 3082,-417.5 3076,-411.5 3076,-405.5 3076,-405.5 3076,-361.5 3076,-361.5 3076,-355.5 3082,-349.5 3088,-349.5 3088,-349.5 3204,-349.5 3204,-349.5 3210,-349.5 3216,-355.5 3216,-361.5 3216,-361.5 3216,-405.5 3216,-405.5 3216,-411.5 3210,-417.5 3204,-417.5\"/>\n",
       "<text text-anchor=\"start\" x=\"3098.5\" y=\"-402.3\" font-family=\"Helvetica,sans-Serif\" font-size=\"14.00\" fill=\"#000000\">entropy = 0.458</text>\n",
       "<text text-anchor=\"start\" x=\"3108.5\" y=\"-387.3\" font-family=\"Helvetica,sans-Serif\" font-size=\"14.00\" fill=\"#000000\">samples = 5</text>\n",
       "<text text-anchor=\"start\" x=\"3084\" y=\"-372.3\" font-family=\"Helvetica,sans-Serif\" font-size=\"14.00\" fill=\"#000000\">value = [1.16, 10.87]</text>\n",
       "<text text-anchor=\"start\" x=\"3098\" y=\"-357.3\" font-family=\"Helvetica,sans-Serif\" font-size=\"14.00\" fill=\"#000000\">class = adopted</text>\n",
       "</g>\n",
       "<!-- 45&#45;&gt;55 -->\n",
       "<g id=\"edge55\" class=\"edge\">\n",
       "<title>45&#45;&gt;55</title>\n",
       "<path fill=\"none\" stroke=\"#000000\" d=\"M3030.906,-460.8796C3048.9828,-448.7263 3068.6914,-435.4759 3086.6087,-423.4297\"/>\n",
       "<polygon fill=\"#000000\" stroke=\"#000000\" points=\"3088.8996,-426.1071 3095.2456,-417.623 3084.9939,-420.2979 3088.8996,-426.1071\"/>\n",
       "</g>\n",
       "<!-- 47 -->\n",
       "<g id=\"node48\" class=\"node\">\n",
       "<title>47</title>\n",
       "<path fill=\"#f3c6a5\" stroke=\"#000000\" d=\"M3049.5,-306C3049.5,-306 2888.5,-306 2888.5,-306 2882.5,-306 2876.5,-300 2876.5,-294 2876.5,-294 2876.5,-235 2876.5,-235 2876.5,-229 2882.5,-223 2888.5,-223 2888.5,-223 3049.5,-223 3049.5,-223 3055.5,-223 3061.5,-229 3061.5,-235 3061.5,-235 3061.5,-294 3061.5,-294 3061.5,-300 3055.5,-306 3049.5,-306\"/>\n",
       "<text text-anchor=\"start\" x=\"2904.5\" y=\"-290.8\" font-family=\"Helvetica,sans-Serif\" font-size=\"14.00\" fill=\"#000000\">creation_month ≤ 7.5</text>\n",
       "<text text-anchor=\"start\" x=\"2921.5\" y=\"-275.8\" font-family=\"Helvetica,sans-Serif\" font-size=\"14.00\" fill=\"#000000\">entropy = 0.936</text>\n",
       "<text text-anchor=\"start\" x=\"2920.5\" y=\"-260.8\" font-family=\"Helvetica,sans-Serif\" font-size=\"14.00\" fill=\"#000000\">samples = 2071</text>\n",
       "<text text-anchor=\"start\" x=\"2884.5\" y=\"-245.8\" font-family=\"Helvetica,sans-Serif\" font-size=\"14.00\" fill=\"#000000\">value = [1104.988, 601.449]</text>\n",
       "<text text-anchor=\"start\" x=\"2936\" y=\"-230.8\" font-family=\"Helvetica,sans-Serif\" font-size=\"14.00\" fill=\"#000000\">class = not</text>\n",
       "</g>\n",
       "<!-- 46&#45;&gt;47 -->\n",
       "<g id=\"edge47\" class=\"edge\">\n",
       "<title>46&#45;&gt;47</title>\n",
       "<path fill=\"none\" stroke=\"#000000\" d=\"M2969,-341.8796C2969,-333.6838 2969,-324.9891 2969,-316.5013\"/>\n",
       "<polygon fill=\"#000000\" stroke=\"#000000\" points=\"2972.5001,-316.298 2969,-306.2981 2965.5001,-316.2981 2972.5001,-316.298\"/>\n",
       "</g>\n",
       "<!-- 54 -->\n",
       "<g id=\"node55\" class=\"node\">\n",
       "<title>54</title>\n",
       "<path fill=\"#e58139\" stroke=\"#000000\" d=\"M3208,-298.5C3208,-298.5 3092,-298.5 3092,-298.5 3086,-298.5 3080,-292.5 3080,-286.5 3080,-286.5 3080,-242.5 3080,-242.5 3080,-236.5 3086,-230.5 3092,-230.5 3092,-230.5 3208,-230.5 3208,-230.5 3214,-230.5 3220,-236.5 3220,-242.5 3220,-242.5 3220,-286.5 3220,-286.5 3220,-292.5 3214,-298.5 3208,-298.5\"/>\n",
       "<text text-anchor=\"start\" x=\"3110\" y=\"-283.3\" font-family=\"Helvetica,sans-Serif\" font-size=\"14.00\" fill=\"#000000\">entropy = 0.0</text>\n",
       "<text text-anchor=\"start\" x=\"3109\" y=\"-268.3\" font-family=\"Helvetica,sans-Serif\" font-size=\"14.00\" fill=\"#000000\">samples = 31</text>\n",
       "<text text-anchor=\"start\" x=\"3088\" y=\"-253.3\" font-family=\"Helvetica,sans-Serif\" font-size=\"14.00\" fill=\"#000000\">value = [17.981, 0.0]</text>\n",
       "<text text-anchor=\"start\" x=\"3117\" y=\"-238.3\" font-family=\"Helvetica,sans-Serif\" font-size=\"14.00\" fill=\"#000000\">class = not</text>\n",
       "</g>\n",
       "<!-- 46&#45;&gt;54 -->\n",
       "<g id=\"edge54\" class=\"edge\">\n",
       "<title>46&#45;&gt;54</title>\n",
       "<path fill=\"none\" stroke=\"#000000\" d=\"M3032.305,-341.8796C3050.7903,-329.7263 3070.9443,-316.4759 3089.2665,-304.4297\"/>\n",
       "<polygon fill=\"#000000\" stroke=\"#000000\" points=\"3091.6655,-307.0412 3098.0986,-298.623 3087.8199,-301.1921 3091.6655,-307.0412\"/>\n",
       "</g>\n",
       "<!-- 48 -->\n",
       "<g id=\"node49\" class=\"node\">\n",
       "<title>48</title>\n",
       "<path fill=\"#f1bc95\" stroke=\"#000000\" d=\"M3045.5,-187C3045.5,-187 2892.5,-187 2892.5,-187 2886.5,-187 2880.5,-181 2880.5,-175 2880.5,-175 2880.5,-116 2880.5,-116 2880.5,-110 2886.5,-104 2892.5,-104 2892.5,-104 3045.5,-104 3045.5,-104 3051.5,-104 3057.5,-110 3057.5,-116 3057.5,-116 3057.5,-175 3057.5,-175 3057.5,-181 3051.5,-187 3045.5,-187\"/>\n",
       "<text text-anchor=\"start\" x=\"2917.5\" y=\"-171.8\" font-family=\"Helvetica,sans-Serif\" font-size=\"14.00\" fill=\"#000000\">org_id_213 ≤ 0.5</text>\n",
       "<text text-anchor=\"start\" x=\"2921.5\" y=\"-156.8\" font-family=\"Helvetica,sans-Serif\" font-size=\"14.00\" fill=\"#000000\">entropy = 0.902</text>\n",
       "<text text-anchor=\"start\" x=\"2920.5\" y=\"-141.8\" font-family=\"Helvetica,sans-Serif\" font-size=\"14.00\" fill=\"#000000\">samples = 1280</text>\n",
       "<text text-anchor=\"start\" x=\"2888.5\" y=\"-126.8\" font-family=\"Helvetica,sans-Serif\" font-size=\"14.00\" fill=\"#000000\">value = [690.835, 322.464]</text>\n",
       "<text text-anchor=\"start\" x=\"2936\" y=\"-111.8\" font-family=\"Helvetica,sans-Serif\" font-size=\"14.00\" fill=\"#000000\">class = not</text>\n",
       "</g>\n",
       "<!-- 47&#45;&gt;48 -->\n",
       "<g id=\"edge48\" class=\"edge\">\n",
       "<title>47&#45;&gt;48</title>\n",
       "<path fill=\"none\" stroke=\"#000000\" d=\"M2969,-222.8796C2969,-214.6838 2969,-205.9891 2969,-197.5013\"/>\n",
       "<polygon fill=\"#000000\" stroke=\"#000000\" points=\"2972.5001,-197.298 2969,-187.2981 2965.5001,-197.2981 2972.5001,-197.298\"/>\n",
       "</g>\n",
       "<!-- 51 -->\n",
       "<g id=\"node52\" class=\"node\">\n",
       "<title>51</title>\n",
       "<path fill=\"#f7d6be\" stroke=\"#000000\" d=\"M3320.5,-187C3320.5,-187 3167.5,-187 3167.5,-187 3161.5,-187 3155.5,-181 3155.5,-175 3155.5,-175 3155.5,-116 3155.5,-116 3155.5,-110 3161.5,-104 3167.5,-104 3167.5,-104 3320.5,-104 3320.5,-104 3326.5,-104 3332.5,-110 3332.5,-116 3332.5,-116 3332.5,-175 3332.5,-175 3332.5,-181 3326.5,-187 3320.5,-187\"/>\n",
       "<text text-anchor=\"start\" x=\"3176\" y=\"-171.8\" font-family=\"Helvetica,sans-Serif\" font-size=\"14.00\" fill=\"#000000\">creation_month ≤ 10.5</text>\n",
       "<text text-anchor=\"start\" x=\"3196.5\" y=\"-156.8\" font-family=\"Helvetica,sans-Serif\" font-size=\"14.00\" fill=\"#000000\">entropy = 0.972</text>\n",
       "<text text-anchor=\"start\" x=\"3199\" y=\"-141.8\" font-family=\"Helvetica,sans-Serif\" font-size=\"14.00\" fill=\"#000000\">samples = 791</text>\n",
       "<text text-anchor=\"start\" x=\"3163.5\" y=\"-126.8\" font-family=\"Helvetica,sans-Serif\" font-size=\"14.00\" fill=\"#000000\">value = [414.153, 278.986]</text>\n",
       "<text text-anchor=\"start\" x=\"3211\" y=\"-111.8\" font-family=\"Helvetica,sans-Serif\" font-size=\"14.00\" fill=\"#000000\">class = not</text>\n",
       "</g>\n",
       "<!-- 47&#45;&gt;51 -->\n",
       "<g id=\"edge51\" class=\"edge\">\n",
       "<title>47&#45;&gt;51</title>\n",
       "<path fill=\"none\" stroke=\"#000000\" d=\"M3061.7191,-224.3779C3088.8969,-212.6173 3118.695,-199.7229 3146.1798,-187.8295\"/>\n",
       "<polygon fill=\"#000000\" stroke=\"#000000\" points=\"3147.6173,-191.0211 3155.4049,-183.8375 3144.8373,-184.5968 3147.6173,-191.0211\"/>\n",
       "</g>\n",
       "<!-- 49 -->\n",
       "<g id=\"node50\" class=\"node\">\n",
       "<title>49</title>\n",
       "<path fill=\"#f1bb94\" stroke=\"#000000\" d=\"M2966.5,-68C2966.5,-68 2813.5,-68 2813.5,-68 2807.5,-68 2801.5,-62 2801.5,-56 2801.5,-56 2801.5,-12 2801.5,-12 2801.5,-6 2807.5,0 2813.5,0 2813.5,0 2966.5,0 2966.5,0 2972.5,0 2978.5,-6 2978.5,-12 2978.5,-12 2978.5,-56 2978.5,-56 2978.5,-62 2972.5,-68 2966.5,-68\"/>\n",
       "<text text-anchor=\"start\" x=\"2842.5\" y=\"-52.8\" font-family=\"Helvetica,sans-Serif\" font-size=\"14.00\" fill=\"#000000\">entropy = 0.898</text>\n",
       "<text text-anchor=\"start\" x=\"2841.5\" y=\"-37.8\" font-family=\"Helvetica,sans-Serif\" font-size=\"14.00\" fill=\"#000000\">samples = 1275</text>\n",
       "<text text-anchor=\"start\" x=\"2809.5\" y=\"-22.8\" font-family=\"Helvetica,sans-Serif\" font-size=\"14.00\" fill=\"#000000\">value = [689.095, 315.217]</text>\n",
       "<text text-anchor=\"start\" x=\"2857\" y=\"-7.8\" font-family=\"Helvetica,sans-Serif\" font-size=\"14.00\" fill=\"#000000\">class = not</text>\n",
       "</g>\n",
       "<!-- 48&#45;&gt;49 -->\n",
       "<g id=\"edge49\" class=\"edge\">\n",
       "<title>48&#45;&gt;49</title>\n",
       "<path fill=\"none\" stroke=\"#000000\" d=\"M2939.5833,-103.9815C2933.2669,-95.0666 2926.5818,-85.6313 2920.2349,-76.6734\"/>\n",
       "<polygon fill=\"#000000\" stroke=\"#000000\" points=\"2922.9136,-74.3998 2914.2765,-68.2637 2917.2019,-78.4466 2922.9136,-74.3998\"/>\n",
       "</g>\n",
       "<!-- 50 -->\n",
       "<g id=\"node51\" class=\"node\">\n",
       "<title>50</title>\n",
       "<path fill=\"#69b5eb\" stroke=\"#000000\" d=\"M3125,-68C3125,-68 3009,-68 3009,-68 3003,-68 2997,-62 2997,-56 2997,-56 2997,-12 2997,-12 2997,-6 3003,0 3009,0 3009,0 3125,0 3125,0 3131,0 3137,-6 3137,-12 3137,-12 3137,-56 3137,-56 3137,-62 3131,-68 3125,-68\"/>\n",
       "<text text-anchor=\"start\" x=\"3019.5\" y=\"-52.8\" font-family=\"Helvetica,sans-Serif\" font-size=\"14.00\" fill=\"#000000\">entropy = 0.709</text>\n",
       "<text text-anchor=\"start\" x=\"3029.5\" y=\"-37.8\" font-family=\"Helvetica,sans-Serif\" font-size=\"14.00\" fill=\"#000000\">samples = 5</text>\n",
       "<text text-anchor=\"start\" x=\"3005\" y=\"-22.8\" font-family=\"Helvetica,sans-Serif\" font-size=\"14.00\" fill=\"#000000\">value = [1.74, 7.246]</text>\n",
       "<text text-anchor=\"start\" x=\"3019\" y=\"-7.8\" font-family=\"Helvetica,sans-Serif\" font-size=\"14.00\" fill=\"#000000\">class = adopted</text>\n",
       "</g>\n",
       "<!-- 48&#45;&gt;50 -->\n",
       "<g id=\"edge50\" class=\"edge\">\n",
       "<title>48&#45;&gt;50</title>\n",
       "<path fill=\"none\" stroke=\"#000000\" d=\"M3005.4916,-103.9815C3013.5695,-94.7908 3022.1334,-85.0472 3030.2226,-75.8436\"/>\n",
       "<polygon fill=\"#000000\" stroke=\"#000000\" points=\"3032.912,-78.0855 3036.8848,-68.2637 3027.6542,-73.4642 3032.912,-78.0855\"/>\n",
       "</g>\n",
       "<!-- 52 -->\n",
       "<g id=\"node53\" class=\"node\">\n",
       "<title>52</title>\n",
       "<path fill=\"#fae8db\" stroke=\"#000000\" d=\"M3320.5,-68C3320.5,-68 3167.5,-68 3167.5,-68 3161.5,-68 3155.5,-62 3155.5,-56 3155.5,-56 3155.5,-12 3155.5,-12 3155.5,-6 3161.5,0 3167.5,0 3167.5,0 3320.5,0 3320.5,0 3326.5,0 3332.5,-6 3332.5,-12 3332.5,-12 3332.5,-56 3332.5,-56 3332.5,-62 3326.5,-68 3320.5,-68\"/>\n",
       "<text text-anchor=\"start\" x=\"3196.5\" y=\"-52.8\" font-family=\"Helvetica,sans-Serif\" font-size=\"14.00\" fill=\"#000000\">entropy = 0.993</text>\n",
       "<text text-anchor=\"start\" x=\"3199\" y=\"-37.8\" font-family=\"Helvetica,sans-Serif\" font-size=\"14.00\" fill=\"#000000\">samples = 449</text>\n",
       "<text text-anchor=\"start\" x=\"3163.5\" y=\"-22.8\" font-family=\"Helvetica,sans-Serif\" font-size=\"14.00\" fill=\"#000000\">value = [230.278, 188.406]</text>\n",
       "<text text-anchor=\"start\" x=\"3211\" y=\"-7.8\" font-family=\"Helvetica,sans-Serif\" font-size=\"14.00\" fill=\"#000000\">class = not</text>\n",
       "</g>\n",
       "<!-- 51&#45;&gt;52 -->\n",
       "<g id=\"edge52\" class=\"edge\">\n",
       "<title>51&#45;&gt;52</title>\n",
       "<path fill=\"none\" stroke=\"#000000\" d=\"M3244,-103.9815C3244,-95.618 3244,-86.7965 3244,-78.3409\"/>\n",
       "<polygon fill=\"#000000\" stroke=\"#000000\" points=\"3247.5001,-78.2636 3244,-68.2637 3240.5001,-78.2637 3247.5001,-78.2636\"/>\n",
       "</g>\n",
       "<!-- 53 -->\n",
       "<g id=\"node54\" class=\"node\">\n",
       "<title>53</title>\n",
       "<path fill=\"#f2bf9b\" stroke=\"#000000\" d=\"M3501,-68C3501,-68 3363,-68 3363,-68 3357,-68 3351,-62 3351,-56 3351,-56 3351,-12 3351,-12 3351,-6 3357,0 3363,0 3363,0 3501,0 3501,0 3507,0 3513,-6 3513,-12 3513,-12 3513,-56 3513,-56 3513,-62 3507,-68 3501,-68\"/>\n",
       "<text text-anchor=\"start\" x=\"3384.5\" y=\"-52.8\" font-family=\"Helvetica,sans-Serif\" font-size=\"14.00\" fill=\"#000000\">entropy = 0.915</text>\n",
       "<text text-anchor=\"start\" x=\"3387\" y=\"-37.8\" font-family=\"Helvetica,sans-Serif\" font-size=\"14.00\" fill=\"#000000\">samples = 342</text>\n",
       "<text text-anchor=\"start\" x=\"3359\" y=\"-22.8\" font-family=\"Helvetica,sans-Serif\" font-size=\"14.00\" fill=\"#000000\">value = [183.875, 90.58]</text>\n",
       "<text text-anchor=\"start\" x=\"3399\" y=\"-7.8\" font-family=\"Helvetica,sans-Serif\" font-size=\"14.00\" fill=\"#000000\">class = not</text>\n",
       "</g>\n",
       "<!-- 51&#45;&gt;53 -->\n",
       "<g id=\"edge53\" class=\"edge\">\n",
       "<title>51&#45;&gt;53</title>\n",
       "<path fill=\"none\" stroke=\"#000000\" d=\"M3314.0043,-103.9815C3330.9842,-93.911 3349.0837,-83.1764 3365.8778,-73.2161\"/>\n",
       "<polygon fill=\"#000000\" stroke=\"#000000\" points=\"3367.7126,-76.1972 3374.5283,-68.0856 3364.1418,-70.1765 3367.7126,-76.1972\"/>\n",
       "</g>\n",
       "</g>\n",
       "</svg>\n"
      ],
      "text/plain": [
       "<graphviz.files.Source at 0x7f7d792c08d0>"
      ]
     },
     "execution_count": 37,
     "metadata": {},
     "output_type": "execute_result"
    }
   ],
   "source": [
    "dot_data = tree.export_graphviz(tree_model, out_file=None, feature_names=feature_names, class_names=['not', 'adopted'],\n",
    "                                filled=True, rounded=True, special_characters=True) \n",
    "graphviz.Source(dot_data)"
   ]
  },
  {
   "cell_type": "markdown",
   "metadata": {},
   "source": [
    "### Conclusions"
   ]
  },
  {
   "cell_type": "markdown",
   "metadata": {},
   "source": [
    "From the above graph of our tree, it appears that the two most import variables that effect adopted user status are if the user was invited to join because of a personal project, and the month they created their account. The models recall on average is about 0.78, with an F1-score of 0.28, precision score of 0.17, and an area under the precison recall curve of about 0.17. Although this model does perform better than our baseline model, it can still be much better. Some future suggestions for improvement include: trying out a logistic regression model, further hyperparameter tuning, or trying out a model with less interpretability such as a neural network or random forest."
   ]
  }
 ],
 "metadata": {
  "kernelspec": {
   "display_name": "Python 3",
   "language": "python",
   "name": "python3"
  },
  "language_info": {
   "codemirror_mode": {
    "name": "ipython",
    "version": 3
   },
   "file_extension": ".py",
   "mimetype": "text/x-python",
   "name": "python",
   "nbconvert_exporter": "python",
   "pygments_lexer": "ipython3",
   "version": "3.7.3"
  }
 },
 "nbformat": 4,
 "nbformat_minor": 2
}
